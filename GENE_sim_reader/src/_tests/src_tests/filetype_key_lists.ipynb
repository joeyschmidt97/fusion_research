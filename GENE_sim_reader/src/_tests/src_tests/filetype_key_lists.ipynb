{
 "cells": [
  {
   "cell_type": "code",
   "execution_count": 1,
   "metadata": {},
   "outputs": [
    {
     "ename": "ImportError",
     "evalue": "cannot import name 'criteria_list_to_dict_list' from 'src.criteria_code.criteria_parser' (/global/homes/j/joeschm/fusion_research/GENE_sim_reader/src/criteria_code/criteria_parser.py)",
     "output_type": "error",
     "traceback": [
      "\u001b[0;31m---------------------------------------------------------------------------\u001b[0m",
      "\u001b[0;31mImportError\u001b[0m                               Traceback (most recent call last)",
      "\u001b[1;32m/global/homes/j/joeschm/fusion_research/GENE_sim_reader/src/_tests/src_tests/filetype_key_lists.ipynb Cell 1\u001b[0m line \u001b[0;36m3\n\u001b[1;32m      <a href='vscode-notebook-cell://ssh-remote%2Bperlmutter-p1.nersc.gov/global/homes/j/joeschm/fusion_research/GENE_sim_reader/src/_tests/src_tests/filetype_key_lists.ipynb#W0sdnNjb2RlLXJlbW90ZQ%3D%3D?line=0'>1</a>\u001b[0m \u001b[39mfrom\u001b[39;00m \u001b[39msrc\u001b[39;00m\u001b[39m.\u001b[39;00m\u001b[39mfiletype_key_lists\u001b[39;00m \u001b[39mimport\u001b[39;00m load_criteria_per_dict, time_quantities_from_criteria_list\n\u001b[0;32m----> <a href='vscode-notebook-cell://ssh-remote%2Bperlmutter-p1.nersc.gov/global/homes/j/joeschm/fusion_research/GENE_sim_reader/src/_tests/src_tests/filetype_key_lists.ipynb#W0sdnNjb2RlLXJlbW90ZQ%3D%3D?line=2'>3</a>\u001b[0m \u001b[39mfrom\u001b[39;00m \u001b[39msrc\u001b[39;00m\u001b[39m.\u001b[39;00m\u001b[39mcriteria_code\u001b[39;00m\u001b[39m.\u001b[39;00m\u001b[39mcriteria_parser\u001b[39;00m \u001b[39mimport\u001b[39;00m criteria_list_to_dict_list\n",
      "\u001b[0;31mImportError\u001b[0m: cannot import name 'criteria_list_to_dict_list' from 'src.criteria_code.criteria_parser' (/global/homes/j/joeschm/fusion_research/GENE_sim_reader/src/criteria_code/criteria_parser.py)"
     ]
    }
   ],
   "source": [
    "from src.filetype_key_lists import load_criteria_per_dict, time_quantities_from_criteria_list\n",
    "\n",
    "from src.criteria_code.criteria_parser import criteria_list_to_dict_list"
   ]
  },
  {
   "cell_type": "code",
   "execution_count": null,
   "metadata": {},
   "outputs": [
    {
     "name": "stdout",
     "output_type": "stream",
     "text": [
      "[{'variable_key': 'time', 'criteria': 'time<0.2', 'units': None, 'analysis': 'numerical'}, {'variable_key': 'Q_ES', 'criteria': 'Q_ES<4', 'units': 'abc', 'analysis': 'numerical'}, {'variable_key': 'Q_EM', 'criteria': 'Q_EM>1', 'units': None, 'analysis': 'numerical'}, {'variable_key': 'Q_EM', 'criteria': 'Q_EM<4', 'units': None, 'analysis': 'numerical'}, {'variable_key': 'apar', 'criteria': 'apar', 'units': None, 'analysis': None}, {'variable_key': 'gamma', 'criteria': 'gamma<10', 'units': None, 'analysis': 'numerical'}, {'variable_key': 'suffix', 'criteria': 'suffix==0001', 'units': None, 'analysis': 'numerical'}, {'variable_key': 'nx0', 'criteria': 'nx0 > 131', 'units': None, 'analysis': 'numerical'}, {'variable_key': 'status', 'criteria': 'status', 'units': None, 'analysis': None}]\n",
      "nrg [-inf, 0.2] ['Q_ES', 'Q_EM', 'Q_EM']\n",
      "field [-inf, 0.2] ['apar']\n",
      "omega [-inf, 0.2] ['gamma']\n",
      "parameters [-inf, 0.2] ['suffix', 'nx0']\n",
      "simulation [-inf, 0.2] ['status']\n"
     ]
    }
   ],
   "source": [
    "crit_list = ['time<0.2', 'Q_ES(abc)<4', '1<Q_EM< 4', 'apar', 'gamma<10', 'suffix==0001', 'nx0 > 131', 'status']\n",
    "# crit_list = ['0.1<=time<0.2']\n",
    "\n",
    "criteria_dict_list = criteria_list_to_dict_list(crit_list)\n",
    "\n",
    "print(criteria_dict_list)\n",
    "\n",
    "param_dict = {'nx0': 24, 'suffix': '0001'}\n",
    "\n",
    "dict_crit = load_criteria_per_dict(criteria_dict_list, param_dict)\n",
    "\n",
    "\n",
    "\n",
    "\n",
    "\n",
    "for key in dict_crit.keys():\n",
    "    choose_time, qunatities = time_quantities_from_criteria_list(criteria_dict_list, param_dict, key)\n",
    "    # choose_time = time_from_criteria_list(dict_crit['nrg'])\n",
    "    print(key, choose_time, qunatities)\n",
    "\n",
    "\n"
   ]
  },
  {
   "cell_type": "code",
   "execution_count": null,
   "metadata": {},
   "outputs": [],
   "source": []
  }
 ],
 "metadata": {
  "kernelspec": {
   "display_name": "jupyter_env",
   "language": "python",
   "name": "python3"
  },
  "language_info": {
   "codemirror_mode": {
    "name": "ipython",
    "version": 3
   },
   "file_extension": ".py",
   "mimetype": "text/x-python",
   "name": "python",
   "nbconvert_exporter": "python",
   "pygments_lexer": "ipython3",
   "version": "3.11.4"
  }
 },
 "nbformat": 4,
 "nbformat_minor": 2
}
