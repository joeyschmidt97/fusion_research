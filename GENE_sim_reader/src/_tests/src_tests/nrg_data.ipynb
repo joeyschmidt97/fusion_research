{
 "cells": [
  {
   "cell_type": "code",
   "execution_count": 1,
   "metadata": {},
   "outputs": [],
   "source": [
    "import os\n",
    "from src.dict_nrg_data import nrg_filepath_to_dict\n",
    "\n",
    "from src.utils.find_buried_filetypes import find_buried_filetypes\n",
    "from src._tests.sim_filepaths import all_MTM_paths, all_MTM_129015, all_MTM_129038, MTM_12038_PE\n",
    "\n",
    "from src.criteria_code.criteria_parser import criteria_parser"
   ]
  },
  {
   "cell_type": "code",
   "execution_count": 2,
   "metadata": {},
   "outputs": [],
   "source": [
    "test_dir = '/pscratch/sd/j/joeschm/NSXTU_discharges/X_TEST/'"
   ]
  },
  {
   "cell_type": "markdown",
   "metadata": {},
   "source": [
    "# Working examples"
   ]
  },
  {
   "cell_type": "code",
   "execution_count": 3,
   "metadata": {},
   "outputs": [
    {
     "name": "stdout",
     "output_type": "stream",
     "text": [
      "9\n",
      "Q_ES2 [0.        0.0010691 0.0017031 0.0020024 0.002149  0.0022431]\n",
      "Q_EM2 [ 0.0000e+00 -1.2315e-05  6.4574e-06  5.0712e-05  1.0048e-04  1.4423e-04]\n",
      "Pi_EM2 [ 0.0000e+00  1.4232e-07 -2.8311e-07 -9.9886e-07 -1.8788e-06 -2.8850e-06]\n",
      "Q_ES3 [0.0000e+00 1.7074e-06 2.5221e-06 2.4059e-06 1.6044e-06 2.5750e-07]\n",
      "Q_EM3 [0.0000e+00 4.9471e-08 9.2081e-08 1.2576e-07 1.4796e-07 1.5592e-07]\n",
      "Pi_EM3 [ 0.0000e+00 -2.4999e-08 -3.9644e-08 -5.4703e-08 -7.5075e-08 -1.0129e-07]\n",
      "time [0.      0.00646 0.01292 0.01938 0.02584 0.0323 ]\n",
      "filepath /pscratch/sd/j/joeschm/NSXTU_discharges/X_TEST/TEST_3spec_k1/nrg.dat\n",
      "key_list ['time', 'n_mag', 'u_par_mag', 'T_par_mag', 'T_perp_mag', 'Gamma_ES', 'Gamma_EM', 'Q_ES', 'Q_EM', 'Pi_ES', 'Pi_EM']\n"
     ]
    }
   ],
   "source": [
    "filepath = os.path.join(test_dir, 'TEST_3spec_k1')\n",
    "nrg_path = os.path.join(filepath, 'nrg.dat')\n",
    "\n",
    "\n",
    "nrg_spec = ['e', 'c']\n",
    "nrg_quant = ['Pi_EM','Q_ES','Q_EM']\n",
    "\n",
    "crit_str = 'time<0.038'\n",
    "time_crit = criteria_parser(crit_str)\n",
    "\n",
    "nrg_dict = nrg_filepath_to_dict(nrg_path, time_crit, nrg_spec, nrg_quant)\n",
    "print(len(nrg_dict))\n",
    "\n",
    "for key, val in nrg_dict.items():\n",
    "    print(key, val)\n"
   ]
  },
  {
   "cell_type": "code",
   "execution_count": 4,
   "metadata": {},
   "outputs": [
    {
     "name": "stdout",
     "output_type": "stream",
     "text": [
      "12\n",
      "n_mag1 [8.9598e-05]\n",
      "Q_ES1 [1.5588e-06]\n",
      "Q_EM1 [-1.3752e-08]\n",
      "n_mag2 [1.22e-06]\n",
      "Q_ES2 [4.4109e-07]\n",
      "Q_EM2 [-1.9842e-07]\n",
      "n_mag3 [0.0016529]\n",
      "Q_ES3 [-5.9983e-07]\n",
      "Q_EM3 [1.6704e-09]\n",
      "time [41.36338]\n",
      "filepath /pscratch/sd/j/joeschm/NSXTU_discharges/X_TEST/TEST_3spec_k1/nrg.dat\n",
      "key_list ['time', 'n_mag', 'u_par_mag', 'T_par_mag', 'T_perp_mag', 'Gamma_ES', 'Gamma_EM', 'Q_ES', 'Q_EM', 'Pi_ES', 'Pi_EM']\n"
     ]
    }
   ],
   "source": [
    "nrg_quant = ['n_mag','Q_ES','Q_EM']\n",
    "\n",
    "crit_str = 'time==last'\n",
    "time_crit = criteria_parser(crit_str)\n",
    "\n",
    "nrg_dict = nrg_filepath_to_dict(nrg_path, time_crit, nrg_quantities=nrg_quant)\n",
    "print(len(nrg_dict))\n",
    "\n",
    "for key, val in nrg_dict.items():\n",
    "    print(key, val)\n"
   ]
  },
  {
   "cell_type": "code",
   "execution_count": 5,
   "metadata": {},
   "outputs": [
    {
     "name": "stdout",
     "output_type": "stream",
     "text": [
      "33\n",
      "n_mag1 [0.031353 0.030231 0.028001 0.025692]\n",
      "u_par_mag1 [4.7507e-35 7.3172e-08 2.9166e-07 6.4726e-07]\n",
      "T_par_mag1 [1.9468e-09 2.0196e-05 5.3556e-05 8.1768e-05]\n",
      "T_perp_mag1 [0.00064557 0.00063634 0.00062213 0.00060761]\n",
      "Gamma_ES1 [ 0.0000e+00 -1.3062e-05 -5.3072e-05 -1.0864e-04]\n",
      "Gamma_EM1 [ 0.0000e+00 -6.4210e-07 -1.3337e-06 -2.1145e-06]\n",
      "Q_ES1 [ 0.0000e+00  3.8436e-05  3.0897e-05 -3.4671e-06]\n",
      "Q_EM1 [ 0.0000e+00 -4.6140e-07 -1.0325e-06 -1.7804e-06]\n",
      "Pi_ES1 [0.0000e+00 7.3241e-08 1.2748e-07 1.4752e-07]\n",
      "Pi_EM1 [ 0.0000e+00 -1.2081e-07 -1.9105e-07 -2.5804e-07]\n",
      "n_mag2 [0.080458 0.075774 0.066757 0.057605]\n",
      "u_par_mag2 [3.8647e-34 6.6039e-04 1.5020e-03 2.3647e-03]\n",
      "T_par_mag2 [1.4966e-08 7.1768e-03 1.5116e-02 1.7838e-02]\n",
      "T_perp_mag2 [0.0030292 0.0039233 0.0062641 0.0085627]\n",
      "Gamma_ES2 [ 0.0000e+00 -1.6902e-05 -6.1422e-05 -1.2162e-04]\n",
      "Gamma_EM2 [ 0.0000e+00 -5.0727e-07 -1.0741e-06 -1.7466e-06]\n",
      "Q_ES2 [0.        0.0010691 0.0017031 0.0020024]\n",
      "Q_EM2 [ 0.0000e+00 -1.2315e-05  6.4574e-06  5.0712e-05]\n",
      "Pi_ES2 [0.0000e+00 4.6893e-06 7.9644e-06 1.0378e-05]\n",
      "Pi_EM2 [ 0.0000e+00  1.4232e-07 -2.8311e-07 -9.9886e-07]\n",
      "n_mag3 [0.5565  0.51597 0.43888 0.3615 ]\n",
      "u_par_mag3 [9.8509e-35 2.3374e-07 9.3145e-07 2.0869e-06]\n",
      "T_par_mag3 [3.0533e-09 4.8844e-05 1.8930e-04 4.1077e-04]\n",
      "T_perp_mag3 [0.0052764 0.0056238 0.0059331 0.0062462]\n",
      "Gamma_ES3 [ 0.0000e+00 -6.4015e-07 -1.3916e-06 -2.1629e-06]\n",
      "Gamma_EM3 [0.0000e+00 2.2471e-08 4.3272e-08 6.1311e-08]\n",
      "Q_ES3 [0.0000e+00 1.7074e-06 2.5221e-06 2.4059e-06]\n",
      "Q_EM3 [0.0000e+00 4.9471e-08 9.2081e-08 1.2576e-07]\n",
      "Pi_ES3 [ 0.0000e+00 -1.5455e-08 -2.0880e-08 -2.2631e-08]\n",
      "Pi_EM3 [ 0.0000e+00 -2.4999e-08 -3.9644e-08 -5.4703e-08]\n",
      "time [0.      0.00646 0.01292 0.01938]\n",
      "filepath /pscratch/sd/j/joeschm/NSXTU_discharges/X_TEST/TEST_3spec_k1/nrg.dat\n",
      "key_list ['time', 'n_mag', 'u_par_mag', 'T_par_mag', 'T_perp_mag', 'Gamma_ES', 'Gamma_EM', 'Q_ES', 'Q_EM', 'Pi_ES', 'Pi_EM']\n"
     ]
    }
   ],
   "source": [
    "crit_str = 'time<0.02'\n",
    "time_crit = criteria_parser(crit_str)\n",
    "\n",
    "nrg_dict = nrg_filepath_to_dict(nrg_path, time_crit)\n",
    "print(len(nrg_dict))\n",
    "\n",
    "for key, val in nrg_dict.items():\n",
    "    print(key, val)\n"
   ]
  },
  {
   "cell_type": "code",
   "execution_count": 12,
   "metadata": {},
   "outputs": [
    {
     "name": "stdout",
     "output_type": "stream",
     "text": [
      "n_mag2 [3.3087e-05]\n",
      "Q_EM2 [-2.8274e-05]\n",
      "time [2.993188]\n",
      "filepath /pscratch/sd/j/joeschm/NSXTU_discharges/X_TEST/scanfiles0002/nrg_0002\n",
      "key_list ['time', 'n_mag', 'u_par_mag', 'T_par_mag', 'T_perp_mag', 'Gamma_ES', 'Gamma_EM', 'Q_ES', 'Q_EM', 'Pi_ES', 'Pi_EM']\n",
      "{}\n"
     ]
    }
   ],
   "source": [
    "filepath = os.path.join(test_dir, 'scanfiles0002')\n",
    "\n",
    "crit_str = 'time==2.993188'\n",
    "time_crit = criteria_parser(crit_str)\n",
    "\n",
    "nrg_path = os.path.join(filepath, 'nrg_0002')\n",
    "nrg_dict = nrg_filepath_to_dict(nrg_path, time_crit, nrg_spec=['e'], nrg_quantities=['n_mag', 'Q_EM'])\n",
    "\n",
    "for key, val in nrg_dict.items():\n",
    "    print(key, val)\n",
    "\n",
    "\n",
    "\n",
    "crit_str = 'time==2'\n",
    "time_crit = criteria_parser(crit_str)\n",
    "\n",
    "nrg_path = os.path.join(filepath, 'nrg_0002')\n",
    "nrg_dict = nrg_filepath_to_dict(nrg_path, time_crit, nrg_spec=['e'], nrg_quantities=['n_mag', 'Q_EM'])\n",
    "print(nrg_dict)\n"
   ]
  },
  {
   "cell_type": "code",
   "execution_count": 7,
   "metadata": {},
   "outputs": [
    {
     "name": "stdout",
     "output_type": "stream",
     "text": [
      "n_mag2 [1.3497e-06]\n",
      "Q_EM2 [-1.5816e-07]\n",
      "n_mag1 [0.00010324]\n",
      "Q_EM1 [3.0345e-09]\n",
      "time [38.29488]\n",
      "filepath /pscratch/sd/j/joeschm/NSXTU_discharges/X_TEST/scanfiles0002/nrg_0001\n",
      "key_list ['time', 'n_mag', 'u_par_mag', 'T_par_mag', 'T_perp_mag', 'Gamma_ES', 'Gamma_EM', 'Q_ES', 'Q_EM', 'Pi_ES', 'Pi_EM']\n"
     ]
    }
   ],
   "source": [
    "filepath = os.path.join(test_dir, 'scanfiles0002')\n",
    "\n",
    "crit_str = 'time==last'\n",
    "time_crit = criteria_parser(crit_str)\n",
    "\n",
    "\n",
    "nrg_path = os.path.join(filepath, 'nrg_0001')\n",
    "nrg_dict = nrg_filepath_to_dict(nrg_path, time_crit, nrg_spec=['e', 'i'], nrg_quantities=['n_mag', 'Q_EM'])\n",
    "\n",
    "for key, val in nrg_dict.items():\n",
    "    print(key, val)\n"
   ]
  },
  {
   "cell_type": "markdown",
   "metadata": {},
   "source": [
    "# Filepath is directory or does not exist"
   ]
  },
  {
   "cell_type": "code",
   "execution_count": 8,
   "metadata": {},
   "outputs": [
    {
     "name": "stdout",
     "output_type": "stream",
     "text": [
      "The file path does not exist or is not a file: /pscratch/sd/j/joeschm/NSXTU_discharges/X_TEST/TEST_3spec_k1\n",
      "The file path does not exist or is not a file: /pscratch/sd/j/joeschm/NSXTU_discharges/X_TEST/TEST_3spec_k1/nrg_1001\n"
     ]
    }
   ],
   "source": [
    "filepath = os.path.join(test_dir, 'TEST_3spec_k1')\n",
    "\n",
    "nrg_dict = nrg_filepath_to_dict(filepath)\n",
    "\n",
    "nrg_path = os.path.join(filepath, 'nrg_1001')\n",
    "nrg_dict = nrg_filepath_to_dict(nrg_path)"
   ]
  },
  {
   "cell_type": "code",
   "execution_count": 9,
   "metadata": {},
   "outputs": [
    {
     "name": "stdout",
     "output_type": "stream",
     "text": [
      "The filename does not start with 'nrg': /pscratch/sd/j/joeschm/NSXTU_discharges/X_TEST/TEST_3spec_k1/parameters.dat\n"
     ]
    }
   ],
   "source": [
    "parameters_path = os.path.join(filepath, 'parameters.dat')\n",
    "nrg_dict = nrg_filepath_to_dict(parameters_path)"
   ]
  },
  {
   "cell_type": "markdown",
   "metadata": {},
   "source": [
    "# Incorrect species or nrg quantities given"
   ]
  },
  {
   "cell_type": "code",
   "execution_count": 10,
   "metadata": {},
   "outputs": [],
   "source": [
    "filepath = os.path.join(test_dir, 'scanfiles0002')\n",
    "\n",
    "crit_str = 'time==last'\n",
    "time_crit = criteria_parser(crit_str)\n",
    "\n",
    "nrg_path = os.path.join(filepath, 'nrg_0001')\n",
    "\n",
    "try:\n",
    "    nrg_dict = nrg_filepath_to_dict(nrg_path, time_crit, nrg_spec=['e', 'd'], nrg_quantities=['n_mag', 'Q_EM'])\n",
    "    assert False, \"Function did not raise ValueError as expected\"\n",
    "except ValueError as e:\n",
    "    expected_error_message = 'Species \"d\" is not a valid species. Please choose from: [\\'i\\', \\'e\\', \\'c\\']'\n",
    "    assert expected_error_message in str(e)"
   ]
  },
  {
   "cell_type": "code",
   "execution_count": 11,
   "metadata": {},
   "outputs": [
    {
     "ename": "ValueError",
     "evalue": "The following nrg quantities are not valid: ['Q_EsM', 'Pi_ESSSS']. Please choose from the following: \n ['n_mag', 'u_par_mag', 'T_par_mag', 'T_perp_mag', 'Gamma_ES', 'Gamma_EM', 'Q_ES', 'Q_EM', 'Pi_ES', 'Pi_EM']",
     "output_type": "error",
     "traceback": [
      "\u001b[0;31m---------------------------------------------------------------------------\u001b[0m",
      "\u001b[0;31mValueError\u001b[0m                                Traceback (most recent call last)",
      "\u001b[1;32m/global/homes/j/joeschm/fusion_research/GENE_sim_reader/src/_tests/src_tests/nrg_data.ipynb Cell 14\u001b[0m line \u001b[0;36m8\n\u001b[1;32m      <a href='vscode-notebook-cell://ssh-remote%2Bperlmutter-p1.nersc.gov/global/homes/j/joeschm/fusion_research/GENE_sim_reader/src/_tests/src_tests/nrg_data.ipynb#X16sdnNjb2RlLXJlbW90ZQ%3D%3D?line=3'>4</a>\u001b[0m time_crit \u001b[39m=\u001b[39m criteria_parser(crit_str)\n\u001b[1;32m      <a href='vscode-notebook-cell://ssh-remote%2Bperlmutter-p1.nersc.gov/global/homes/j/joeschm/fusion_research/GENE_sim_reader/src/_tests/src_tests/nrg_data.ipynb#X16sdnNjb2RlLXJlbW90ZQ%3D%3D?line=5'>6</a>\u001b[0m nrg_path \u001b[39m=\u001b[39m os\u001b[39m.\u001b[39mpath\u001b[39m.\u001b[39mjoin(filepath, \u001b[39m'\u001b[39m\u001b[39mnrg_0001\u001b[39m\u001b[39m'\u001b[39m)\n\u001b[0;32m----> <a href='vscode-notebook-cell://ssh-remote%2Bperlmutter-p1.nersc.gov/global/homes/j/joeschm/fusion_research/GENE_sim_reader/src/_tests/src_tests/nrg_data.ipynb#X16sdnNjb2RlLXJlbW90ZQ%3D%3D?line=7'>8</a>\u001b[0m nrg_dict \u001b[39m=\u001b[39m nrg_filepath_to_dict(nrg_path, time_crit, nrg_spec\u001b[39m=\u001b[39m[\u001b[39m'\u001b[39m\u001b[39me\u001b[39m\u001b[39m'\u001b[39m, \u001b[39m'\u001b[39m\u001b[39mc\u001b[39m\u001b[39m'\u001b[39m], nrg_quantities\u001b[39m=\u001b[39m[\u001b[39m'\u001b[39m\u001b[39mn_mag\u001b[39m\u001b[39m'\u001b[39m, \u001b[39m'\u001b[39m\u001b[39mQ_EsM\u001b[39m\u001b[39m'\u001b[39m, \u001b[39m'\u001b[39m\u001b[39mPi_EM\u001b[39m\u001b[39m'\u001b[39m, \u001b[39m'\u001b[39m\u001b[39mPi_ESSSS\u001b[39m\u001b[39m'\u001b[39m])\n",
      "File \u001b[0;32m~/fusion_research/GENE_sim_reader/src/dict_nrg_data.py:19\u001b[0m, in \u001b[0;36mnrg_filepath_to_dict\u001b[0;34m(nrg_filepath, time_criteria, nrg_spec, nrg_quantities)\u001b[0m\n\u001b[1;32m     17\u001b[0m \u001b[39mtry\u001b[39;00m:\n\u001b[1;32m     18\u001b[0m     file_checks(nrg_filepath, filetype\u001b[39m=\u001b[39m\u001b[39m'\u001b[39m\u001b[39mnrg\u001b[39m\u001b[39m'\u001b[39m)\n\u001b[0;32m---> 19\u001b[0m     nrg_dict \u001b[39m=\u001b[39m create_nrg_dict(nrg_filepath, time_criteria, nrg_spec, nrg_quantities)\n\u001b[1;32m     21\u001b[0m     \u001b[39mreturn\u001b[39;00m nrg_dict\n\u001b[1;32m     22\u001b[0m \u001b[39mexcept\u001b[39;00m FileError \u001b[39mas\u001b[39;00m e:\n",
      "File \u001b[0;32m~/fusion_research/GENE_sim_reader/src/dict_nrg_data.py:39\u001b[0m, in \u001b[0;36mcreate_nrg_dict\u001b[0;34m(nrg_filepath, time_criteria, nrg_spec, nrg_quantities)\u001b[0m\n\u001b[1;32m     36\u001b[0m parameter_filepath \u001b[39m=\u001b[39m switch_suffix_file(nrg_filepath, \u001b[39m'\u001b[39m\u001b[39mparameters\u001b[39m\u001b[39m'\u001b[39m)\n\u001b[1;32m     37\u001b[0m nrg_spec_ind, n_spec \u001b[39m=\u001b[39m create_species_tuple(parameter_filepath, nrg_spec)\n\u001b[0;32m---> 39\u001b[0m nrg_quant_ind \u001b[39m=\u001b[39m nrg_quantity_indices(nrg_quantities)\n\u001b[1;32m     42\u001b[0m \u001b[39mfor\u001b[39;00m (_ , spec_num) \u001b[39min\u001b[39;00m nrg_spec_ind:\n\u001b[1;32m     43\u001b[0m     \u001b[39mfor\u001b[39;00m (nrg_quantity, _) \u001b[39min\u001b[39;00m nrg_quant_ind:\n",
      "File \u001b[0;32m~/fusion_research/GENE_sim_reader/src/dict_nrg_data.py:138\u001b[0m, in \u001b[0;36mnrg_quantity_indices\u001b[0;34m(nrg_quantities)\u001b[0m\n\u001b[1;32m    136\u001b[0m     invalid_quantities \u001b[39m=\u001b[39m [q \u001b[39mfor\u001b[39;00m q \u001b[39min\u001b[39;00m nrg_quantities \u001b[39mif\u001b[39;00m q \u001b[39mnot\u001b[39;00m \u001b[39min\u001b[39;00m nrg_column_keys]\n\u001b[1;32m    137\u001b[0m     \u001b[39mif\u001b[39;00m invalid_quantities:\n\u001b[0;32m--> 138\u001b[0m         \u001b[39mraise\u001b[39;00m \u001b[39mValueError\u001b[39;00m(\u001b[39mf\u001b[39m\u001b[39m'\u001b[39m\u001b[39mThe following nrg quantities are not valid: \u001b[39m\u001b[39m{\u001b[39;00minvalid_quantities\u001b[39m}\u001b[39;00m\u001b[39m. Please choose from the following: \u001b[39m\u001b[39m\\n\u001b[39;00m\u001b[39m \u001b[39m\u001b[39m{\u001b[39;00mnrg_column_keys\u001b[39m}\u001b[39;00m\u001b[39m'\u001b[39m)\n\u001b[1;32m    140\u001b[0m     nrg_quant_ind \u001b[39m=\u001b[39m \u001b[39mtuple\u001b[39m((nrg_quant, nrg_ind) \u001b[39mfor\u001b[39;00m nrg_ind, nrg_quant \u001b[39min\u001b[39;00m \u001b[39menumerate\u001b[39m(nrg_column_keys) \u001b[39mif\u001b[39;00m nrg_quant \u001b[39min\u001b[39;00m nrg_quantities)\n\u001b[1;32m    142\u001b[0m \u001b[39mreturn\u001b[39;00m nrg_quant_ind\n",
      "\u001b[0;31mValueError\u001b[0m: The following nrg quantities are not valid: ['Q_EsM', 'Pi_ESSSS']. Please choose from the following: \n ['n_mag', 'u_par_mag', 'T_par_mag', 'T_perp_mag', 'Gamma_ES', 'Gamma_EM', 'Q_ES', 'Q_EM', 'Pi_ES', 'Pi_EM']"
     ]
    }
   ],
   "source": [
    "filepath = os.path.join(test_dir, 'scanfiles0002')\n",
    "\n",
    "crit_str = 'time==last'\n",
    "time_crit = criteria_parser(crit_str)\n",
    "\n",
    "nrg_path = os.path.join(filepath, 'nrg_0001')\n",
    "\n",
    "nrg_dict = nrg_filepath_to_dict(nrg_path, time_crit, nrg_spec=['e', 'c'], nrg_quantities=['n_mag', 'Q_EsM', 'Pi_EM', 'Pi_ESSSS'])\n",
    "    "
   ]
  },
  {
   "cell_type": "code",
   "execution_count": null,
   "metadata": {},
   "outputs": [],
   "source": []
  }
 ],
 "metadata": {
  "kernelspec": {
   "display_name": "jupyter_env",
   "language": "python",
   "name": "python3"
  },
  "language_info": {
   "codemirror_mode": {
    "name": "ipython",
    "version": 3
   },
   "file_extension": ".py",
   "mimetype": "text/x-python",
   "name": "python",
   "nbconvert_exporter": "python",
   "pygments_lexer": "ipython3",
   "version": "3.11.4"
  },
  "orig_nbformat": 4
 },
 "nbformat": 4,
 "nbformat_minor": 2
}
