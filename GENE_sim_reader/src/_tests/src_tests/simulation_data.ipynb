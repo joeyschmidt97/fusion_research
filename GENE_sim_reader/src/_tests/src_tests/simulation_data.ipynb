{
 "cells": [
  {
   "cell_type": "code",
   "execution_count": 1,
   "metadata": {},
   "outputs": [],
   "source": [
    "import os\n",
    "from src.dict_simulation_data import filepath_to_simulation_dict_list, sim_filepath_to_df\n",
    "from src.utils.find_buried_filetypes import find_buried_filetypes"
   ]
  },
  {
   "cell_type": "code",
   "execution_count": 2,
   "metadata": {},
   "outputs": [
    {
     "name": "stdout",
     "output_type": "stream",
     "text": [
      "NOT_CONVERGED\n",
      "NOT_CONVERGED\n",
      "CONVERGED\n",
      "CONVERGED\n",
      "CONVERGED\n",
      "CONVERGED\n",
      "NOT_CONVERGED\n",
      "NOT_CONVERGED\n",
      "CONVERGED\n",
      "NOT_CONVERGED\n",
      "NOT_CONVERGED\n",
      "CONVERGED\n",
      "NOT_CONVERGED\n",
      "CONVERGED\n",
      "CONVERGED\n",
      "CONVERGED\n",
      "CONVERGED\n",
      "CONVERGED\n",
      "CONVERGED\n",
      "CONVERGED\n",
      "CONVERGED\n",
      "CONVERGED\n",
      "CONVERGED\n",
      "\n",
      "CONVERGED: 16\n",
      "NOT_CONVERGED 7\n"
     ]
    }
   ],
   "source": [
    "filepath = '/pscratch/sd/j/joeschm/NSXTU_discharges/X_TEST'\n",
    "\n",
    "sim_list, _ = filepath_to_simulation_dict_list(filepath, [], 'e')\n",
    "\n",
    "param_paths = find_buried_filetypes(filepath, 'parameters')\n",
    "assert (len(sim_list) == len(param_paths))\n",
    "\n",
    "\n",
    "# Check convergence of simulations\n",
    "\n",
    "conv = 0\n",
    "nonconv = 0\n",
    "\n",
    "for sim in sim_list:\n",
    "    sim_key_list = ['directory', 'suffix', 'status', 'simulation_filepaths', 'key_list', 'parameters_dict']\n",
    "    assert list(sim.keys()) == sim_key_list\n",
    "\n",
    "    print(sim['status'])\n",
    "    if sim['status'] == 'CONVERGED':\n",
    "        conv += 1\n",
    "    elif sim['status'] == 'NOT_CONVERGED':\n",
    "        nonconv += 1\n",
    "\n",
    "print('')\n",
    "print('CONVERGED:', conv)\n",
    "print('NOT_CONVERGED', nonconv)\n",
    "\n"
   ]
  },
  {
   "cell_type": "code",
   "execution_count": 3,
   "metadata": {},
   "outputs": [
    {
     "name": "stdout",
     "output_type": "stream",
     "text": [
      "16\n",
      "joeschm/NSXTU_discharges/X_TEST/TEST_3spec_k100\n",
      "joeschm/NSXTU_discharges/X_TEST/pyro_test/scanfiles0003\n",
      "joeschm/NSXTU_discharges/X_TEST/pyro_test/scanfiles0003\n",
      "joeschm/NSXTU_discharges/X_TEST/pyro_test/scanfiles0003\n",
      "joeschm/NSXTU_discharges/X_TEST/scanfiles0002\n",
      "joeschm/NSXTU_discharges/X_TEST/scanfiles0003\n",
      "joeschm/NSXTU_discharges/X_TEST/scanfiles0004\n",
      "joeschm/NSXTU_discharges/X_TEST/scanfiles0004\n",
      "joeschm/NSXTU_discharges/X_TEST/scanfiles0004\n",
      "joeschm/NSXTU_discharges/X_TEST/scanfiles0004\n",
      "joeschm/NSXTU_discharges/X_TEST/scanfiles0005\n",
      "joeschm/NSXTU_discharges/X_TEST/scanfiles0005\n",
      "joeschm/NSXTU_discharges/X_TEST/scanfiles0005\n",
      "joeschm/NSXTU_discharges/X_TEST/scanfiles0005\n",
      "joeschm/NSXTU_discharges/X_TEST/scanfiles0005\n",
      "joeschm/NSXTU_discharges/X_TEST/scanfiles0005\n"
     ]
    }
   ],
   "source": [
    "filepath = '/pscratch/sd/j/joeschm/NSXTU_discharges/X_TEST'\n",
    "\n",
    "crit1 = ['status==CONVERGED', 'n_mag', 'time<0.05']\n",
    "sim_list1, crit_per_dict = filepath_to_simulation_dict_list(filepath, crit1, ['e', 'i'])\n",
    "\n",
    "print(len(sim_list1))\n",
    "\n",
    "for sim in sim_list1:\n",
    "\n",
    "    sim_key_list = ['directory', 'suffix', 'status', 'simulation_filepaths', 'key_list', 'parameters_dict', 'nrg_dict']\n",
    "    assert list(sim.keys()) == sim_key_list\n",
    "\n",
    "    # check that all the time values match the given criteria\n",
    "    assert all(sim['nrg_dict']['time']) < 0.05\n",
    "\n",
    "    assert 'n_mag1' in list(sim['nrg_dict'].keys())\n",
    "    assert 'n_mag2' in list(sim['nrg_dict'].keys())\n",
    "\n",
    "    # print(sim['nrg_dict']['n_mag1'])\n",
    "\n",
    "    print(sim['directory'])"
   ]
  },
  {
   "cell_type": "code",
   "execution_count": 4,
   "metadata": {},
   "outputs": [
    {
     "name": "stdout",
     "output_type": "stream",
     "text": [
      "joeschm/NSXTU_discharges/X_TEST/scanfiles0004\n",
      "joeschm/NSXTU_discharges/X_TEST/scanfiles0004\n",
      "joeschm/NSXTU_discharges/X_TEST/scanfiles0004\n",
      "joeschm/NSXTU_discharges/X_TEST/scanfiles0004\n",
      "joeschm/NSXTU_discharges/X_TEST/scanfiles0005\n",
      "joeschm/NSXTU_discharges/X_TEST/scanfiles0005\n",
      "joeschm/NSXTU_discharges/X_TEST/scanfiles0005\n",
      "joeschm/NSXTU_discharges/X_TEST/scanfiles0005\n"
     ]
    }
   ],
   "source": [
    "filepath = '/pscratch/sd/j/joeschm/NSXTU_discharges/X_TEST'\n",
    "\n",
    "crit2 = ['status==CONVERGED', 'n_mag>0.002', 'time<0.05']\n",
    "\n",
    "sim_list2, _ = filepath_to_simulation_dict_list(filepath, crit2, ['e', 'i'])\n",
    "\n",
    "for sim in sim_list2:\n",
    "    sim_key_list = ['directory', 'suffix', 'status', 'simulation_filepaths', 'key_list', 'parameters_dict', 'nrg_dict']\n",
    "    assert list(sim.keys()) == sim_key_list\n",
    "\n",
    "    # check that all the time and density values match the given criteria\n",
    "    assert all(sim['nrg_dict']['time'] < 0.05)\n",
    "    assert all(sim['nrg_dict']['n_mag1'] > 0.002)\n",
    "    assert all(sim['nrg_dict']['n_mag2'] > 0.002)\n",
    "\n",
    "    print(sim['directory'])\n",
    "\n",
    "\n"
   ]
  },
  {
   "cell_type": "code",
   "execution_count": 5,
   "metadata": {},
   "outputs": [
    {
     "name": "stdout",
     "output_type": "stream",
     "text": [
      "11\n",
      "joeschm/NSXTU_discharges/X_TEST/TEST_3spec_k100\n",
      "joeschm/NSXTU_discharges/X_TEST/scanfiles0002\n",
      "joeschm/NSXTU_discharges/X_TEST/scanfiles0003\n",
      "joeschm/NSXTU_discharges/X_TEST/scanfiles0004\n",
      "joeschm/NSXTU_discharges/X_TEST/scanfiles0004\n",
      "joeschm/NSXTU_discharges/X_TEST/scanfiles0004\n",
      "joeschm/NSXTU_discharges/X_TEST/scanfiles0005\n",
      "joeschm/NSXTU_discharges/X_TEST/scanfiles0005\n",
      "joeschm/NSXTU_discharges/X_TEST/scanfiles0005\n",
      "joeschm/NSXTU_discharges/X_TEST/scanfiles0005\n",
      "joeschm/NSXTU_discharges/X_TEST/scanfiles0005\n"
     ]
    }
   ],
   "source": [
    "filepath = '/pscratch/sd/j/joeschm/NSXTU_discharges/X_TEST'\n",
    "\n",
    "crit3 = ['time<0.05', 'gamma>0', 'Q_ES < 3e-2', 'Q_EM', 'Gamma_ES']\n",
    "\n",
    "sim_list3, _ = filepath_to_simulation_dict_list(filepath, crit3, ['e', 'i'])\n",
    "\n",
    "print(len(sim_list3))\n",
    "\n",
    "for sim in sim_list3:\n",
    "\n",
    "    sim_key_list = ['directory', 'suffix', 'status', 'simulation_filepaths', 'key_list', 'parameters_dict', 'omega_dict', 'nrg_dict']\n",
    "    assert list(sim.keys()) == sim_key_list\n",
    "\n",
    "    # check that all the time and density values match the given criteria\n",
    "    assert all(sim['nrg_dict']['time'] < 0.05)\n",
    "    assert sim['omega_dict']['gamma'] > 0\n",
    "    assert all(sim['nrg_dict']['Q_ES1'] < 3e-2)\n",
    "    assert all(sim['nrg_dict']['Q_ES2'] < 3e-2)\n",
    "\n",
    "    print(sim['directory'])\n",
    "\n"
   ]
  },
  {
   "cell_type": "code",
   "execution_count": 6,
   "metadata": {},
   "outputs": [
    {
     "name": "stdout",
     "output_type": "stream",
     "text": [
      "number of simulations fetched: 1 \n",
      "\n",
      "Q_ES1 [359.79]\n",
      "Q_EM1 [-13.626]\n",
      "Q_ES2 [185.64]\n",
      "Q_EM2 [33.435]\n",
      "Q_ES3 [49.465]\n",
      "Q_EM3 [-0.74485]\n",
      "time [334.86892]\n",
      "nrg dict keys: ['Q_ES1', 'Q_EM1', 'Q_ES2', 'Q_EM2', 'Q_ES3', 'Q_EM3', 'time', 'filepath', 'key_list'] \n",
      "\n"
     ]
    }
   ],
   "source": [
    "single_filepath = '/pscratch/sd/j/joeschm/NSXTU_discharges/129015/r_0.936008_OM_top/MTM_limit/kymin_0.1/scanfiles0000/parameters_0007'\n",
    "# scanfile_filepath = '/pscratch/sd/j/joeschm/NSXTU_discharges/129015/r_0.936008_OM_top/MTM_limit/kymin_0.1/scanfiles0000'\n",
    "\n",
    "# crit4 = ['status==CONVERGED','time==last', 'Q_ES', 'Q_EM', \"collision_op=='landau'\"]\n",
    "\n",
    "crit4 = ['status==CONVERGED','time==last', 'Q_ES', 'Q_EM', 'collision_op==landau']\n",
    "sim_list4, crit_list = filepath_to_simulation_dict_list(single_filepath, criteria_list=crit4)\n",
    "# sim_list4, crit_list = filepath_to_simulation_dict_list(scanfile_filepath, criteria_list=crit4)\n",
    "\n",
    "print('number of simulations fetched:', len(sim_list4), '\\n')\n",
    "\n",
    "for sim in sim_list4:\n",
    "\n",
    "    for nrg_key in sim['nrg_dict'].keys():\n",
    "        if ('Q_ES' in nrg_key) or ('Q_EM' in nrg_key) or ('time'==nrg_key):\n",
    "\n",
    "            print(nrg_key, sim['nrg_dict'][nrg_key])\n",
    "            assert len(sim['nrg_dict'][nrg_key]) == 1\n",
    "\n",
    "    print('nrg dict keys:', list(sim['nrg_dict'].keys()), '\\n')\n"
   ]
  },
  {
   "cell_type": "code",
   "execution_count": 13,
   "metadata": {},
   "outputs": [
    {
     "name": "stdout",
     "output_type": "stream",
     "text": [
      "<class 'numpy.ndarray'> \n",
      "\n",
      "0    [0.0, 0.002979, 0.0026178, 0.0027996, 0.002321...\n",
      "1    [0.0, 0.0029127, 0.0025548, 0.0027068, 0.00222...\n",
      "2    [0.0, 0.003037, 0.0026891, 0.0028743, 0.002397...\n",
      "Name: Q_ES1, dtype: object \n",
      "\n",
      "0    [0.0, 0.04415, 0.0883, 0.13245, 0.1766, 0.2207...\n",
      "1    [0.0, 0.04415, 0.0883, 0.13245, 0.1766, 0.2207...\n",
      "2    [0.0, 0.04415, 0.0883, 0.13245, 0.1766, 0.2207...\n",
      "Name: time, dtype: object \n",
      "\n",
      "5555 2190 7586\n"
     ]
    }
   ],
   "source": [
    "path1 = '/pscratch/sd/j/joeschm/NSXTU_discharges/129015/r_0.936008_OM_top/MTM_limit/kymin_0.1/scanfiles0000/parameters_0007'\n",
    "path2 = '/pscratch/sd/j/joeschm/NSXTU_discharges/129015/r_0.936008_OM_top/MTM_limit/kymin_0.1/scanfiles0000/parameters_0005'\n",
    "path3 = '/pscratch/sd/j/joeschm/NSXTU_discharges/129015/r_0.936008_OM_top/MTM_limit/kymin_0.1/scanfiles0000/parameters_0006'\n",
    "\n",
    "path_list = [path1, path2, path3]\n",
    "\n",
    "crit4 = ['status==CONVERGED', 'Q_ES', 'Q_EM']\n",
    "\n",
    "sim_df = sim_filepath_to_df(path_list, crit4)\n",
    "\n",
    "print(type(sim_df['Q_ES1'][0]), '\\n')\n",
    "print(sim_df['Q_ES1'], '\\n')\n",
    "print(sim_df['time'], '\\n')\n",
    "\n",
    "print(len(sim_df['time'][0]), len(sim_df['time'][1]), len(sim_df['time'][2]))"
   ]
  },
  {
   "cell_type": "code",
   "execution_count": null,
   "metadata": {},
   "outputs": [],
   "source": []
  }
 ],
 "metadata": {
  "kernelspec": {
   "display_name": "jupyter_env",
   "language": "python",
   "name": "python3"
  },
  "language_info": {
   "codemirror_mode": {
    "name": "ipython",
    "version": 3
   },
   "file_extension": ".py",
   "mimetype": "text/x-python",
   "name": "python",
   "nbconvert_exporter": "python",
   "pygments_lexer": "ipython3",
   "version": "3.11.4"
  },
  "orig_nbformat": 4
 },
 "nbformat": 4,
 "nbformat_minor": 2
}
