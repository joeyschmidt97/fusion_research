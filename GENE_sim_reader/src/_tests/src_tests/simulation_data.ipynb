{
 "cells": [
  {
   "cell_type": "code",
   "execution_count": 1,
   "metadata": {},
   "outputs": [],
   "source": [
    "import os\n",
    "from src.dict_simulation_data import filepath_to_simulation_dict_list\n",
    "from src.utils.find_buried_filetypes import find_buried_filetypes\n",
    "\n"
   ]
  },
  {
   "cell_type": "code",
   "execution_count": 2,
   "metadata": {},
   "outputs": [],
   "source": [
    "# test_dir = '/pscratch/sd/j/joeschm/NSXTU_discharges/X_TEST'\n",
    "# filepath = os.path.join(test_dir, 'TEST_3spec_k1')\n",
    "\n",
    "# filepath = '/pscratch/sd/j/joeschm/NSXTU_discharges/X_TEST/scanfiles0002'\n",
    "\n",
    "# # test_dir = '/pscratch/sd/j/joeschm/NSXTU_discharges/X_TEST'\n",
    "# # filepath = os.path.join(test_dir, 'scanfiles0002')"
   ]
  },
  {
   "cell_type": "code",
   "execution_count": 3,
   "metadata": {},
   "outputs": [
    {
     "name": "stdout",
     "output_type": "stream",
     "text": [
      "['/pscratch/sd/j/joeschm/NSXTU_discharges/X_TEST/scanfiles0004/parameters_0001', '/pscratch/sd/j/joeschm/NSXTU_discharges/X_TEST/scanfiles0004/parameters_0002', '/pscratch/sd/j/joeschm/NSXTU_discharges/X_TEST/scanfiles0004/parameters_0003', '/pscratch/sd/j/joeschm/NSXTU_discharges/X_TEST/scanfiles0004/parameters_0004', '/pscratch/sd/j/joeschm/NSXTU_discharges/X_TEST/scanfiles0004/parameters_0005']\n",
      "['parameters', 'nrg', 'field', 'omega']\n",
      "kymin 0.1\n",
      "['parameters', 'nrg', 'field', 'omega']\n",
      "kymin 0.3\n",
      "gamma 0.154\n",
      "['parameters', 'nrg', 'field', 'omega']\n",
      "kymin 0.5\n",
      "gamma 0.171\n",
      "['parameters', 'nrg', 'field', 'omega']\n",
      "kymin 0.7\n",
      "gamma 0.05\n",
      "['parameters', 'nrg', 'field', 'omega']\n",
      "kymin 1.0\n",
      "gamma -0.021\n",
      "3\n",
      "dict_keys(['input_directory', 'status', 'simulation_filepaths', 'key_list', 'parameters_dict', 'omega_dict'])\n",
      "0.154\n",
      "dict_keys(['input_directory', 'status', 'simulation_filepaths', 'key_list', 'parameters_dict', 'omega_dict'])\n",
      "0.171\n",
      "dict_keys(['input_directory', 'status', 'simulation_filepaths', 'key_list', 'parameters_dict', 'omega_dict'])\n",
      "0.05\n"
     ]
    }
   ],
   "source": [
    "filepath = '/pscratch/sd/j/joeschm/NSXTU_discharges/X_TEST/scanfiles0004'\n",
    "\n",
    "paths = find_buried_filetypes(filepath, 'parameters')\n",
    "print(paths)\n",
    "\n",
    "sim_list = filepath_to_simulation_dict_list(filepath, [], 'e')\n",
    "# sim_list = filepath_to_simulation_dict_list(filepath, ['nonlinear==True'], 'e')\n",
    "sim_list = filepath_to_simulation_dict_list(filepath, ['kymin>=0.30', 'time==last', 'gamma>0.02'], 'e')\n",
    "\n",
    "\n",
    "print(len(sim_list))\n",
    "\n",
    "for sim in sim_list:\n",
    "    print(sim.keys())\n",
    "\n",
    "    if sim.get('omega_dict', False):\n",
    "        print(sim['omega_dict']['gamma'])\n",
    "    pass"
   ]
  },
  {
   "cell_type": "code",
   "execution_count": 4,
   "metadata": {},
   "outputs": [
    {
     "name": "stdout",
     "output_type": "stream",
     "text": [
      "3\n",
      "CONVERGED 0.3 0.154\n",
      "CONVERGED 0.5 0.171\n",
      "CONVERGED 0.7 0.05\n"
     ]
    }
   ],
   "source": [
    "print(len(sim_list))\n",
    "\n",
    "for sim in sim_list:\n",
    "    print(sim['status'], sim['parameters_dict']['kymin'], sim['omega_dict']['gamma'])"
   ]
  },
  {
   "cell_type": "code",
   "execution_count": 5,
   "metadata": {},
   "outputs": [
    {
     "ename": "NameError",
     "evalue": "name 'criteria_list_to_dict_list' is not defined",
     "output_type": "error",
     "traceback": [
      "\u001b[0;31m---------------------------------------------------------------------------\u001b[0m",
      "\u001b[0;31mNameError\u001b[0m                                 Traceback (most recent call last)",
      "\u001b[1;32m/global/homes/j/joeschm/fusion_research/GENE_sim_reader/src/_tests/src_tests/simulation_data.ipynb Cell 5\u001b[0m line \u001b[0;36m2\n\u001b[1;32m      <a href='vscode-notebook-cell://ssh-remote%2Bperlmutter-p1.nersc.gov/global/homes/j/joeschm/fusion_research/GENE_sim_reader/src/_tests/src_tests/simulation_data.ipynb#W4sdnNjb2RlLXJlbW90ZQ%3D%3D?line=0'>1</a>\u001b[0m crit_list \u001b[39m=\u001b[39m [\u001b[39m'\u001b[39m\u001b[39mtime<0.05\u001b[39m\u001b[39m'\u001b[39m, \u001b[39m'\u001b[39m\u001b[39mgamma\u001b[39m\u001b[39m'\u001b[39m, \u001b[39m'\u001b[39m\u001b[39mQ_ES\u001b[39m\u001b[39m'\u001b[39m, \u001b[39m'\u001b[39m\u001b[39mQ_EM>10\u001b[39m\u001b[39m'\u001b[39m, \u001b[39m'\u001b[39m\u001b[39mGamma_ES\u001b[39m\u001b[39m'\u001b[39m]\n\u001b[0;32m----> <a href='vscode-notebook-cell://ssh-remote%2Bperlmutter-p1.nersc.gov/global/homes/j/joeschm/fusion_research/GENE_sim_reader/src/_tests/src_tests/simulation_data.ipynb#W4sdnNjb2RlLXJlbW90ZQ%3D%3D?line=1'>2</a>\u001b[0m criteria_dict_list \u001b[39m=\u001b[39m criteria_list_to_dict_list(crit_list)\n\u001b[1;32m      <a href='vscode-notebook-cell://ssh-remote%2Bperlmutter-p1.nersc.gov/global/homes/j/joeschm/fusion_research/GENE_sim_reader/src/_tests/src_tests/simulation_data.ipynb#W4sdnNjb2RlLXJlbW90ZQ%3D%3D?line=3'>4</a>\u001b[0m sim_filepath \u001b[39m=\u001b[39m filepath\n\u001b[1;32m      <a href='vscode-notebook-cell://ssh-remote%2Bperlmutter-p1.nersc.gov/global/homes/j/joeschm/fusion_research/GENE_sim_reader/src/_tests/src_tests/simulation_data.ipynb#W4sdnNjb2RlLXJlbW90ZQ%3D%3D?line=4'>5</a>\u001b[0m suffix \u001b[39m=\u001b[39m \u001b[39m'\u001b[39m\u001b[39m0001\u001b[39m\u001b[39m'\u001b[39m\n",
      "\u001b[0;31mNameError\u001b[0m: name 'criteria_list_to_dict_list' is not defined"
     ]
    }
   ],
   "source": [
    "\n",
    "crit_list = ['time<0.05', 'gamma', 'Q_ES', 'Q_EM>10', 'Gamma_ES']\n",
    "criteria_dict_list = criteria_list_to_dict_list(crit_list)\n",
    "\n",
    "sim_filepath = filepath\n",
    "suffix = '0001'\n",
    "load_spec = ['i', 'e']\n",
    "\n",
    "sim_dict = simulation_filepath_to_dict(sim_filepath, suffix, load_spec, criteria_dict_list)\n",
    "\n",
    "# print(sim_dict.keys())\n",
    "print(sim_dict['omega_dict'])\n",
    "\n",
    "for key in sim_dict['nrg_dict'].keys():\n",
    "\n",
    "    if len(sim_dict['nrg_dict'][key])>0:\n",
    "        print(key, sim_dict['nrg_dict'][key])\n",
    "        pass"
   ]
  },
  {
   "cell_type": "code",
   "execution_count": null,
   "metadata": {},
   "outputs": [],
   "source": [
    "filepath = '/pscratch/sd/j/joeschm/NSXTU_discharges/129015/r_0.936008_OM_top/MTM_limit/kymin_0.1'\n",
    "crit_list = ['gamma>.5']\n",
    "\n",
    "sim_dict_list = filepath_to_simulation_dict_list(filepath, criteria_list=crit_list)\n",
    "print(len(sim_dict_list))\n",
    "\n",
    "for sim_dict in sim_dict_list:\n",
    "    print(sim_dict['omega_dict']['gamma'])"
   ]
  },
  {
   "cell_type": "code",
   "execution_count": null,
   "metadata": {},
   "outputs": [],
   "source": [
    "filepath = '/pscratch/sd/j/joeschm/NSXTU_discharges/129015/r_0.936008_OM_top/MTM_limit/kymin_0.1'\n",
    "# filepath = '/pscratch/sd/j/joeschm/NSXTU_discharges/X_TEST/scanfiles0002'\n",
    "\n",
    "\n",
    "\n",
    "# crit_list = ['1<time<4']\n",
    "# crit_list = ['time==last']\n",
    "# crit_list = ['time==last', 'Q_ES', 'Q_EM']\n",
    "crit_list = ['time==last', 'Q_ES', 'Q_EM']\n",
    "# crit_list = ['gamma > .3']\n",
    "\n",
    "sim_dict_list = filepath_to_simulation_dict_list(filepath, criteria_list=crit_list, load_files=['nrg'], load_spec=['e'])\n",
    "# sim_dict_list = filepath_to_simulation_dict_list(filepath, criteria_list=crit_list, load_files=['nrg', 'omega'], load_spec='e')\n",
    "\n",
    "print(len(sim_dict_list))\n",
    "# sim_dict_list = filepath_to_simulation_dict_list(filepath, criteria_list=crit_list, load_files=['omega'], load_spec='e')\n",
    "for sim_dict in sim_dict_list:\n",
    "    nrg_dict = sim_dict['nrg_dict']\n",
    "    print(sim_dict['suffix'], '/// filepath: ', nrg_dict['filepath'])\n",
    "    # for nrg_key in nrg_dict.keys():\n",
    "    #     if (len(nrg_dict[nrg_key]) > 0) and (nrg_key not in ['key_list', 'suffix', 'directory']):\n",
    "    #         print(nrg_key, nrg_dict[nrg_key])\n",
    "\n",
    "print(sim_dict_list[0]['nrg_dict'])"
   ]
  },
  {
   "cell_type": "code",
   "execution_count": null,
   "metadata": {},
   "outputs": [],
   "source": [
    "filepath = '/pscratch/sd/j/joeschm/NSXTU_discharges/129015/r_0.936008_OM_top/MTM_limit/kymin_0.1/scanfiles0000/parameters_0007'\n",
    "# filepath = '/pscratch/sd/j/joeschm/NSXTU_discharges/X_TEST/scanfiles0002'\n",
    "\n",
    "\n",
    "\n",
    "# crit_list = ['1<time<4']\n",
    "# crit_list = ['time==last']\n",
    "# crit_list = ['time==last', 'Q_ES', 'Q_EM']\n",
    "# crit_list = []\n",
    "crit_list = ['time==last', 'Q_ES', 'Q_EM']\n",
    "# crit_list = ['gamma > .3']\n",
    "\n",
    "sim_dict_list = filepath_to_simulation_dict_list(filepath, criteria_list=crit_list, load_files=['nrg'])\n",
    "# sim_dict_list = filepath_to_simulation_dict_list(filepath, criteria_list=crit_list, load_files=['nrg', 'omega'], load_spec='e')\n",
    "\n",
    "print(len(sim_dict_list))\n",
    "# sim_dict_list = filepath_to_simulation_dict_list(filepath, criteria_list=crit_list, load_files=['omega'], load_spec='e')\n",
    "for sim_dict in sim_dict_list:\n",
    "    nrg_dict = sim_dict['nrg_dict']\n",
    "    print(sim_dict['suffix'], '/// filepath: ', nrg_dict['filepath'])\n",
    "    # for nrg_key in nrg_dict.keys():\n",
    "    #     if (len(nrg_dict[nrg_key]) > 0) and (nrg_key not in ['key_list', 'suffix', 'directory']):\n",
    "    #         print(nrg_key, nrg_dict[nrg_key])\n",
    "\n",
    "print(sim_dict_list[0]['nrg_dict'])"
   ]
  },
  {
   "cell_type": "code",
   "execution_count": null,
   "metadata": {},
   "outputs": [],
   "source": [
    "\n",
    "# print(sim_dict_list)\n",
    "for sim_dict in sim_dict_list:\n",
    "    omega_dict = sim_dict['omega_dict']\n",
    "\n",
    "    # print(omega_dict)\n",
    "\n",
    "    for key in omega_dict.keys():\n",
    "        if (key == 'kymin') or (key == 'suffix') or (key == 'gamma'):\n",
    "            print(key,':', omega_dict[key])\n",
    "    \n",
    "    print('\\n')\n",
    "\n",
    "\n",
    "print('-----------------------------')\n",
    "\n",
    "for sim_dict in sim_dict_list:\n",
    "    print(sim_dict['suffix'])\n",
    "    \n",
    "    nrg_dict = sim_dict['nrg_dict']\n",
    "    for key in nrg_dict.keys():\n",
    "        # if len(nrg_dict[key]) > 0:\n",
    "        if (key == 'time') or (key == 'Q_ES2') or (key == 'Q_EM2'):\n",
    "            print(key, nrg_dict[key])"
   ]
  },
  {
   "cell_type": "code",
   "execution_count": null,
   "metadata": {},
   "outputs": [],
   "source": [
    "crit_list = ['time > 10']\n",
    "\n",
    "sim_dict = filepath_to_simulation_dict_list(filepath, criteria_list=crit_list, load_files=['nrg', 'omega'], load_spec='c')"
   ]
  }
 ],
 "metadata": {
  "kernelspec": {
   "display_name": "jupyter_env",
   "language": "python",
   "name": "python3"
  },
  "language_info": {
   "codemirror_mode": {
    "name": "ipython",
    "version": 3
   },
   "file_extension": ".py",
   "mimetype": "text/x-python",
   "name": "python",
   "nbconvert_exporter": "python",
   "pygments_lexer": "ipython3",
   "version": "3.11.4"
  },
  "orig_nbformat": 4
 },
 "nbformat": 4,
 "nbformat_minor": 2
}
