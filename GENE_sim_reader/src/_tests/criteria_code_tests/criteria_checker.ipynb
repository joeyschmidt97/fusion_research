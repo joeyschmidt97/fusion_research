{
 "cells": [
  {
   "cell_type": "code",
   "execution_count": 1,
   "metadata": {},
   "outputs": [],
   "source": [
    "from src.criteria_code.criteria_checker import dict_criteria_check\n",
    "from src.criteria_code.criteria_parser import criteria_parser, multi_criteria_to_list\n",
    "\n",
    "\n",
    "from src.utils.find_buried_filetypes import find_buried_filetypes\n",
    "\n",
    "\n",
    "from src.dict_parameters_data import parameters_filepath_to_dict\n",
    "from src.dict_omega_data import omega_filepath_to_dict\n",
    "\n",
    "import numpy as np\n",
    "import os"
   ]
  },
  {
   "cell_type": "code",
   "execution_count": 9,
   "metadata": {},
   "outputs": [
    {
     "name": "stdout",
     "output_type": "stream",
     "text": [
      "{'filepath': '/pscratch/sd/j/joeschm/NSXTU_discharges/X_TEST/scanfiles0004/omega_0002', 'gamma': 0.154, 'omega': -3.277}\n",
      "-3.277\n",
      "None\n",
      "0.154\n",
      "True\n"
     ]
    }
   ],
   "source": [
    "# crit_list = ['gamma>0.02', 'omega']\n",
    "\n",
    "crit_list = ['omega==-3.277', 'foot==2', 'gamma>0.02']\n",
    "criteria_dict_list = multi_criteria_to_list(crit_list)\n",
    "\n",
    "filepath = '/pscratch/sd/j/joeschm/NSXTU_discharges/X_TEST/scanfiles0004/omega_0002'\n",
    "omega_path = find_buried_filetypes(filepath, 'omega')\n",
    "# print(omega_path)\n",
    "omega_dict = omega_filepath_to_dict(omega_path[0])\n",
    "\n",
    "\n",
    "\n",
    "print(omega_dict)\n",
    "\n",
    "\n",
    "add_simulation = dict_criteria_check(criteria_dict_list, omega_dict, '')\n",
    "\n",
    "print(add_simulation)\n",
    "\n",
    "# for criteria_dict in criteria_dict_list:\n",
    "\n",
    "#     crit_type = type(criteria_dict['bounds'])\n",
    "\n",
    "#     print(crit_type)\n",
    "\n",
    "        "
   ]
  },
  {
   "cell_type": "code",
   "execution_count": 3,
   "metadata": {},
   "outputs": [],
   "source": [
    "# input_value = 2.4\n",
    "\n",
    "\n",
    "\n",
    "# crit2 = '3<=time <=6'\n",
    "# crit2_dict = criteria_parser(crit2)\n",
    "\n",
    "# print(criteria_checker(input_value, crit2_dict))\n",
    "\n",
    "# np_array = np.arange(1,10,1)\n",
    "\n",
    "# print(np_array)\n",
    "\n",
    "# remove_ind = criteria_checker(np_array, crit2_dict)\n",
    "\n",
    "\n",
    "# print(criteria_checker(np_array, crit2_dict))\n",
    "\n",
    "# np_array = np.delete(np_array, remove_ind)\n",
    "\n",
    "# print(np_array)\n",
    "\n",
    "\n",
    "# lister = [1,2,3,4]\n",
    "# lister2 = ['fd', 'ds']\n",
    "\n",
    "# try:\n",
    "#     lister = np.array(lister)\n",
    "# except:\n",
    "#     pass\n",
    "\n",
    "# print(type(lister))\n",
    "# # for ind, i in enumerate(np_array):\n",
    "# #     print(ind, i)\n",
    "\n",
    "# # print(type(np_array))\n",
    "# # print(isinstance(np_array, np.ndarray))\n",
    "\n"
   ]
  },
  {
   "cell_type": "code",
   "execution_count": null,
   "metadata": {},
   "outputs": [],
   "source": []
  }
 ],
 "metadata": {
  "kernelspec": {
   "display_name": "jupyter_env",
   "language": "python",
   "name": "python3"
  },
  "language_info": {
   "codemirror_mode": {
    "name": "ipython",
    "version": 3
   },
   "file_extension": ".py",
   "mimetype": "text/x-python",
   "name": "python",
   "nbconvert_exporter": "python",
   "pygments_lexer": "ipython3",
   "version": "3.11.4"
  },
  "orig_nbformat": 4
 },
 "nbformat": 4,
 "nbformat_minor": 2
}
