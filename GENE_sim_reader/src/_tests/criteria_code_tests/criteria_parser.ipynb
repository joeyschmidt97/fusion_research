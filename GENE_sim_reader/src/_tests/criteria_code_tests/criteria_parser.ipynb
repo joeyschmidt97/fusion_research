{
 "cells": [
  {
   "cell_type": "code",
   "execution_count": 1,
   "metadata": {},
   "outputs": [],
   "source": [
    "from src.criteria_code.criteria_parser import criteria_parser, multi_criteria_to_list"
   ]
  },
  {
   "cell_type": "markdown",
   "metadata": {},
   "source": [
    "# Individual Criteria parser"
   ]
  },
  {
   "cell_type": "code",
   "execution_count": 6,
   "metadata": {},
   "outputs": [
    {
     "name": "stdout",
     "output_type": "stream",
     "text": [
      "{'criteria': 'comp_type==IV', 'variable_name': 'comp_type', 'units': None, 'bounds': 'IV', 'logic_op_list': None}\n"
     ]
    }
   ],
   "source": [
    "crit1 = '.1< time (s) < 2'\n",
    "output1 = {'criteria': '.1<time<2', \n",
    "           'variable_name': 'time', \n",
    "           'units': 's', \n",
    "           'bounds': [0.1, 2.0], \n",
    "           'logic_op_list': ['>', '<']}\n",
    "assert criteria_parser(crit1) == output1 \n",
    "\n",
    "crit2 = 'time >=3'\n",
    "output2 = {'criteria': 'time>=3', \n",
    "           'variable_name': 'time', \n",
    "           'units': None, \n",
    "           'bounds': [3.0, float('inf')], \n",
    "           'logic_op_list': ['>=', '<']}\n",
    "assert criteria_parser(crit2) == output2 \n",
    "\n",
    "crit3 = '1<= omega(MHz)<=2'\n",
    "output3 = {'criteria': '1<=omega<=2', \n",
    "           'variable_name': 'omega', \n",
    "           'units': 'MHz', \n",
    "           'bounds': [1.0, 2.0], \n",
    "           'logic_op_list': ['>=', '<=']}\n",
    "assert criteria_parser(crit3) == output3 \n",
    "\n",
    "\n",
    "crit4 = 'time==last'\n",
    "output4 = {'criteria': 'time==last', \n",
    "           'variable_name': 'time', \n",
    "           'units': None, \n",
    "           'bounds': 'last', \n",
    "           'logic_op_list': None}\n",
    "assert criteria_parser(crit4) == output4\n",
    "\n",
    "crit5 = 'gamma (MHz) < 1.3'\n",
    "output5 = {'criteria': 'gamma<1.3', \n",
    "           'variable_name': 'gamma', \n",
    "           'units': 'MHz', \n",
    "           'bounds': [float('-inf'), 1.3], \n",
    "           'logic_op_list': ['>', '<']}\n",
    "assert criteria_parser(crit5) == output5\n",
    "\n",
    "crit6 = 'suffix==0012'\n",
    "output6 = {'criteria': 'suffix==0012', \n",
    "           'variable_name': 'suffix', \n",
    "           'units': None, \n",
    "           'bounds': '0012', \n",
    "           'logic_op_list': None}\n",
    "assert criteria_parser(crit6) == output6\n",
    "\n",
    "\n",
    "crit7 = 'comp_type==IV'\n",
    "output7 = {'criteria': 'comp_type==IV', \n",
    "           'variable_name': 'comp_type', \n",
    "           'units': None, \n",
    "           'bounds': 'IV', \n",
    "           'logic_op_list': None}\n",
    "assert criteria_parser(crit7) == output7 "
   ]
  },
  {
   "cell_type": "code",
   "execution_count": 3,
   "metadata": {},
   "outputs": [],
   "source": [
    "crit_list = ['time(s)==last', 'Q_ES(abc)<4', '1<Q_EM< 4', 'n_mag', 'gamma<10']\n",
    "output = [\n",
    "    {'criteria': 'time==last', 'variable_name': 'time', 'units': 's', 'bounds': 'last', 'logic_op_list': None}, \n",
    "    {'criteria': 'Q_ES<4', 'variable_name': 'Q_ES', 'units': 'abc', 'bounds': [float('-inf'), 4.0], 'logic_op_list': ['>', '<']}, \n",
    "    {'criteria': '1<Q_EM<4', 'variable_name': 'Q_EM', 'units': None, 'bounds': [1.0, 4.0], 'logic_op_list': ['>', '<']}, \n",
    "    {'criteria': 'n_mag', 'variable_name': 'n_mag', 'units': None, 'bounds': None, 'logic_op_list': None}, \n",
    "    {'criteria': 'gamma<10', 'variable_name': 'gamma', 'units': None, 'bounds': [float('-inf'), 10.0], 'logic_op_list': ['>', '<']}\n",
    "    ]\n",
    "assert multi_criteria_to_list(crit_list) == output\n",
    "\n",
    "\n",
    "crit_string = 'omega<2'\n",
    "output_str = [{'criteria': 'omega<2', 'variable_name': 'omega', 'units': None, 'bounds': [float('-inf'), 2.0], 'logic_op_list': ['>', '<']}]\n",
    "assert multi_criteria_to_list(crit_string) == output_str\n",
    "\n",
    "\n",
    "error_crit_int = 2\n",
    "try:\n",
    "    multi_criteria_to_list(error_crit_int)\n",
    "    assert False, \"Function did not raise ValueError as expected\"\n",
    "except ValueError as e:\n",
    "    assert 'Ensure criteria is either a string or list of criteria' in str(e)"
   ]
  },
  {
   "cell_type": "markdown",
   "metadata": {},
   "source": [
    "# Error handling"
   ]
  },
  {
   "cell_type": "code",
   "execution_count": 4,
   "metadata": {},
   "outputs": [],
   "source": [
    "crit_fail1 = 'time<=last'\n",
    "try:\n",
    "    criteria_parser(crit_fail1)\n",
    "    assert False, \"Function did not raise ValueError as expected\"\n",
    "except ValueError as e:\n",
    "    assert 'Ensure \"time<=last\" is written in the form \"time==last\" or \"time==first\"' in str(e)\n",
    "\n",
    "\n",
    "crit_fail2 = 'suffix==3'\n",
    "try:\n",
    "    criteria_parser(crit_fail2)\n",
    "    assert False, \"Function did not raise ValueError as expected\"\n",
    "except ValueError as e:\n",
    "    assert 'Ensure \"suffix==3\" is written in the form \"suffix==0001\".' in str(e)\n",
    "\n",
    "\n",
    "crit_fail3 = 'omega<>1.3'\n",
    "try:\n",
    "    criteria_parser(crit_fail3)\n",
    "    assert False, \"Function did not raise ValueError as expected\"\n",
    "except ValueError as e:\n",
    "    assert 'Ensure \"1.3\" and \"omega\" in \"omega<>1.3\" are numerical values (i.e. \"5\", \"3.14\", \"20\")' in str(e)\n",
    "\n"
   ]
  }
 ],
 "metadata": {
  "kernelspec": {
   "display_name": "jupyter_env",
   "language": "python",
   "name": "python3"
  },
  "language_info": {
   "codemirror_mode": {
    "name": "ipython",
    "version": 3
   },
   "file_extension": ".py",
   "mimetype": "text/x-python",
   "name": "python",
   "nbconvert_exporter": "python",
   "pygments_lexer": "ipython3",
   "version": "3.11.4"
  },
  "orig_nbformat": 4
 },
 "nbformat": 4,
 "nbformat_minor": 2
}
