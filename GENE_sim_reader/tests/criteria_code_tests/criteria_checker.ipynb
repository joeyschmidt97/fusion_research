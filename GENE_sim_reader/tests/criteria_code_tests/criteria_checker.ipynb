{
 "cells": [
  {
   "cell_type": "code",
   "execution_count": 1,
   "metadata": {},
   "outputs": [],
   "source": [
    "from GENE_sim_reader.src.criteria_code.criteria_checker import dict_criteria_check\n",
    "\n",
    "\n",
    "from GENE_sim_reader.src.criteria_code.criteria_parser import criteria_parser, multi_criteria_to_list\n",
    "from GENE_sim_reader.src.utils.find_buried_filetypes import find_buried_filetypes\n",
    "\n",
    "\n",
    "from GENE_sim_reader.src.dict_parameters_data import parameters_filepath_to_dict\n",
    "from GENE_sim_reader.src.dict_omega_data import omega_filepath_to_dict\n"
   ]
  },
  {
   "cell_type": "code",
   "execution_count": 2,
   "metadata": {},
   "outputs": [
    {
     "name": "stdout",
     "output_type": "stream",
     "text": [
      "{'criteria': 'time>=3', 'variable_name': 'time', 'units': None, 'bounds': [3.0, inf], 'logic_op_list': ['>=', '<']}\n",
      "{'criteria': '1<=omega<=2', 'variable_name': 'omega', 'units': 'MHz', 'bounds': [1.0, 2.0], 'logic_op_list': ['>=', '<=']}\n",
      "\n",
      "{'criteria': 'time1>=3', 'variable_name': 'time1', 'units': None, 'bounds': [3.0, inf], 'logic_op_list': ['>=', '<']}\n",
      "{'criteria': 'time2>=3', 'variable_name': 'time2', 'units': None, 'bounds': [3.0, inf], 'logic_op_list': ['>=', '<']}\n",
      "{'criteria': '1<=omega1<=2', 'variable_name': 'omega1', 'units': 'MHz', 'bounds': [1.0, 2.0], 'logic_op_list': ['>=', '<=']}\n",
      "{'criteria': '1<=omega2<=2', 'variable_name': 'omega2', 'units': 'MHz', 'bounds': [1.0, 2.0], 'logic_op_list': ['>=', '<=']}\n"
     ]
    }
   ],
   "source": [
    "output2 = {'criteria': 'time>=3', \n",
    "           'variable_name': 'time', \n",
    "           'units': None, \n",
    "           'bounds': [3.0, float('inf')], \n",
    "           'logic_op_list': ['>=', '<']}\n",
    "\n",
    "output3 = {'criteria': '1<=omega<=2', \n",
    "           'variable_name': 'omega', \n",
    "           'units': 'MHz', \n",
    "           'bounds': [1.0, 2.0], \n",
    "           'logic_op_list': ['>=', '<=']}\n",
    "\n",
    "crit_list = [output2, output3]\n",
    "\n",
    "spec_tuple = (('e',1), ('i',2))\n",
    "\n",
    "new_crit_list = []\n",
    "for crit in crit_list:\n",
    "\n",
    "    if crit['variable_name'] in ['omega', 'time']:\n",
    "\n",
    "        for (_, spec_num) in spec_tuple:\n",
    "\n",
    "            new_crit = crit.copy()\n",
    "\n",
    "            old_var_name = crit['variable_name']\n",
    "            new_var_name = crit['variable_name'] + str(spec_num)\n",
    "\n",
    "            new_crit['variable_name'] = crit['variable_name'].replace(old_var_name, new_var_name)\n",
    "            new_crit['criteria'] = crit['criteria'].replace(old_var_name, new_var_name)\n",
    "\n",
    "            new_crit_list.append(new_crit)\n",
    "\n",
    "    else:\n",
    "        new_crit_list.append(crit)\n",
    "\n",
    "\n",
    "for crit in crit_list:\n",
    "    print(crit)\n",
    "\n",
    "print('')\n",
    "\n",
    "for crit in new_crit_list:\n",
    "    print(crit)\n"
   ]
  },
  {
   "cell_type": "code",
   "execution_count": 3,
   "metadata": {},
   "outputs": [
    {
     "name": "stdout",
     "output_type": "stream",
     "text": [
      "False\n"
     ]
    }
   ],
   "source": [
    "poo = 'None'\n",
    "\n",
    "print(isinstance(poo, type(None)))"
   ]
  },
  {
   "cell_type": "code",
   "execution_count": 4,
   "metadata": {},
   "outputs": [
    {
     "name": "stdout",
     "output_type": "stream",
     "text": [
      "['/pscratch/sd/j/joeschm/NSXTU_discharges/X_TEST/scanfiles0004/omega_0002']\n",
      "{'filepath': '/pscratch/sd/j/joeschm/NSXTU_discharges/X_TEST/scanfiles0004/omega_0002', 'gamma': 0.154, 'omega': -3.277}\n",
      "True\n"
     ]
    }
   ],
   "source": [
    "crit_list = ['omega==-3.277', 'gamma>0.02']\n",
    "criteria_dict_list = multi_criteria_to_list(crit_list)\n",
    "\n",
    "filepath = '/pscratch/sd/j/joeschm/NSXTU_discharges/X_TEST/scanfiles0004/omega_0002'\n",
    "omega_path = find_buried_filetypes(filepath, 'omega')\n",
    "\n",
    "print(omega_path)\n",
    "omega_dict = omega_filepath_to_dict(omega_path[0])\n",
    "\n",
    "print(omega_dict)\n",
    "\n",
    "\n",
    "add_simulation = dict_criteria_check(criteria_dict_list, omega_dict)\n",
    "\n",
    "print(add_simulation)\n",
    "\n",
    "        "
   ]
  },
  {
   "cell_type": "code",
   "execution_count": 5,
   "metadata": {},
   "outputs": [
    {
     "name": "stdout",
     "output_type": "stream",
     "text": [
      "[{'criteria': 'n_procs_v', 'variable_name': 'n_procs_v', 'units': None, 'bounds': None, 'logic_op_list': None}, {'criteria': 'nonlinear==True', 'variable_name': 'nonlinear', 'units': None, 'bounds': True, 'logic_op_list': None}, {'criteria': 'comp_type', 'variable_name': 'comp_type', 'units': None, 'bounds': None, 'logic_op_list': None}]\n",
      "odict_keys(['n_procs_s', 'n_procs_v', 'n_procs_w', 'n_procs_x', 'n_procs_y', 'n_procs_z', 'n_procs_sim', 'n_parallel_sims', 'n_spec', 'nx0', 'nky0', 'nz0', 'nv0', 'nw0', 'kymin', 'lv', 'lw', 'adapt_lx', 'x0', 'n0_global', 'ky0_ind', 'diagdir', 'read_checkpoint', 'write_checkpoint', 'istep_field', 'istep_mom', 'istep_nrg', 'istep_omega', 'istep_vsp', 'istep_schpt', 'istep_energy', 'istep_energy3d', 'write_std', 'iterdb_file', 'nonlinear', 'comp_type', 'perf_vec', 'nblocks', 'arakawa_zv', 'timescheme', 'dt_max', 'dt_vlasov', 'ev_coll', 'timelim', 'ntimesteps', 'beta', 'debye2', 'bpar', 'collision_op', 'coll', 'coll_cons_model', 'init_cond', 'hyp_z_with_dz_prefactor', 'hyp_z', 'hyp_v_with_dv_prefactor', 'hyp_v', 'perf_tsteps', 'magn_geometry', 'q0', 'shat', 'geomfile', 'edge_opt', 'minor_r', 'major_R', 'rhostar', 'dpdx_term', 'dpdx_pm', 'norm_flux_projection', 'name1', 'omn1', 'omt1', 'mass1', 'temp1', 'dens1', 'charge1', 'name2', 'omn2', 'omt2', 'mass2', 'temp2', 'dens2', 'charge2', 'name3', 'omn3', 'omt3', 'mass3', 'temp3', 'dens3', 'charge3', 'number of computed time steps', 'time for initial value solver', 'calc_dt', 'nltdt_off', 'ev_coll_est', 'init_time', 'n_fields', 'n_moms', 'nrgcols', 'lx', 'ly', 'PRECISION', 'ENDIANNESS', 'OMP_NUM_THREADS', 'GIT_BRANCH', 'RELEASE', 'nu_ei', 'nustar_i', 'nustar_e', 'Bref', 'Tref', 'nref', 'Lref', 'mref', 'is_bsg', 'filepath', 'key_list'])\n",
      "add simulation: False\n",
      "n_procs_v :  2 <class 'int'>\n",
      "nonlinear :  False <class 'bool'>\n",
      "comp_type :  IV <class 'str'>\n"
     ]
    }
   ],
   "source": [
    "# crit_list = ['gamma>0.02', 'omega']\n",
    "\n",
    "crit_list = ['n_procs_v', 'nonlinear==True', 'comp_type']\n",
    "criteria_dict_list = multi_criteria_to_list(crit_list)\n",
    "\n",
    "print(criteria_dict_list)\n",
    "\n",
    "filepath = '/pscratch/sd/j/joeschm/NSXTU_discharges/X_TEST/scanfiles0004'\n",
    "\n",
    "parameters_path = find_buried_filetypes(filepath, 'parameters')\n",
    "param_dict = parameters_filepath_to_dict(parameters_path[0])\n",
    "\n",
    "\n",
    "print(param_dict.keys())\n",
    "\n",
    "\n",
    "add_simulation = dict_criteria_check(criteria_dict_list, param_dict)\n",
    "\n",
    "print('add simulation:', add_simulation)\n",
    "\n",
    "\n",
    "for criteria in criteria_dict_list:\n",
    "    var_name = criteria['variable_name']\n",
    "    param_val = param_dict[var_name]\n",
    "\n",
    "    print(var_name,': ', param_val, type(param_val))\n",
    "\n",
    "# for criteria_dict in criteria_dict_list:\n",
    "\n",
    "#     crit_type = type(criteria_dict['bounds'])\n",
    "\n",
    "#     print(crit_type)\n",
    "\n",
    "        "
   ]
  },
  {
   "cell_type": "code",
   "execution_count": 6,
   "metadata": {},
   "outputs": [
    {
     "name": "stdout",
     "output_type": "stream",
     "text": [
      "True\n"
     ]
    }
   ],
   "source": [
    "st = 'True'\n",
    "\n",
    "print(bool(st) == True)"
   ]
  },
  {
   "cell_type": "code",
   "execution_count": null,
   "metadata": {},
   "outputs": [],
   "source": []
  }
 ],
 "metadata": {
  "kernelspec": {
   "display_name": "jupyter_env",
   "language": "python",
   "name": "python3"
  },
  "language_info": {
   "codemirror_mode": {
    "name": "ipython",
    "version": 3
   },
   "file_extension": ".py",
   "mimetype": "text/x-python",
   "name": "python",
   "nbconvert_exporter": "python",
   "pygments_lexer": "ipython3",
   "version": "3.11.4"
  },
  "orig_nbformat": 4
 },
 "nbformat": 4,
 "nbformat_minor": 2
}
