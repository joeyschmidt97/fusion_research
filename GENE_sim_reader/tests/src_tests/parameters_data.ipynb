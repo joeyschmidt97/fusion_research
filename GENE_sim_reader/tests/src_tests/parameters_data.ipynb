{
 "cells": [
  {
   "cell_type": "code",
   "execution_count": 2,
   "metadata": {},
   "outputs": [],
   "source": [
    "import os\n",
    "from GENE_sim_reader.src.dict_parameters_data import parameters_filepath_to_dict, create_species_tuple"
   ]
  },
  {
   "cell_type": "code",
   "execution_count": 3,
   "metadata": {},
   "outputs": [],
   "source": [
    "test_dir = '/pscratch/sd/j/joeschm/NSXTU_discharges/X_TEST'"
   ]
  },
  {
   "cell_type": "markdown",
   "metadata": {},
   "source": [
    "# Filepath is directory or does not exist"
   ]
  },
  {
   "cell_type": "code",
   "execution_count": 4,
   "metadata": {},
   "outputs": [
    {
     "name": "stdout",
     "output_type": "stream",
     "text": [
      "The file path does not exist or is not a file: /pscratch/sd/j/joeschm/NSXTU_discharges/X_TEST/TEST_3spec_k1\n",
      "The file path does not exist or is not a file: /pscratch/sd/j/joeschm/NSXTU_discharges/X_TEST/TEST_3spec_k1/parameters_1001\n"
     ]
    }
   ],
   "source": [
    "dir_filepath = os.path.join(test_dir, 'TEST_3spec_k1')\n",
    "parameters_dict = parameters_filepath_to_dict(dir_filepath)\n",
    "\n",
    "parameters_path = os.path.join(test_dir, 'TEST_3spec_k1/parameters_1001')\n",
    "parameters_dict = parameters_filepath_to_dict(parameters_path)"
   ]
  },
  {
   "cell_type": "code",
   "execution_count": 5,
   "metadata": {},
   "outputs": [
    {
     "name": "stdout",
     "output_type": "stream",
     "text": [
      "The filename does not start with 'parameters': /pscratch/sd/j/joeschm/NSXTU_discharges/X_TEST/TEST_3spec_k1/omega.dat\n"
     ]
    }
   ],
   "source": [
    "omega_path = os.path.join(test_dir, 'TEST_3spec_k1/omega.dat')\n",
    "parameters_dict = parameters_filepath_to_dict(omega_path)"
   ]
  },
  {
   "cell_type": "markdown",
   "metadata": {},
   "source": [
    "# parameters.dat checks"
   ]
  },
  {
   "cell_type": "code",
   "execution_count": 6,
   "metadata": {},
   "outputs": [
    {
     "name": "stdout",
     "output_type": "stream",
     "text": [
      "/pscratch/sd/j/joeschm/NSXTU_discharges/X_TEST/TEST_3spec_k1/parameters.dat\n",
      "comp_type IV IV\n",
      "True\n"
     ]
    }
   ],
   "source": [
    "filepath = os.path.join(test_dir, 'TEST_3spec_k1')\n",
    "parameters_path = os.path.join(filepath, 'parameters.dat')\n",
    "parameters_dict = parameters_filepath_to_dict(parameters_path)\n",
    "\n",
    "print(parameters_dict['filepath'])\n",
    "\n",
    "for key, val in parameters_dict.items():\n",
    "\n",
    "    # print(key, val)\n",
    "\n",
    "    if isinstance(val, str) and key=='comp_type':\n",
    "        print(key, val, val.strip(\"'\"))\n",
    "\n",
    "        # print(eval(f\"comp_type=='IV'\", parameters_dict))\n",
    "\n",
    "print(eval(f\"comp_type=='IV'\", parameters_dict))\n",
    "\n",
    "# assert isinstance(parameters_dict['nz0'],int)\n",
    "# assert isinstance(parameters_dict['n_spec'],int)\n",
    "# assert isinstance(parameters_dict['kymin'],float)\n",
    "\n",
    "# parameters_dict['key_list']"
   ]
  },
  {
   "cell_type": "markdown",
   "metadata": {},
   "source": [
    "# parameters_0002 checks"
   ]
  },
  {
   "cell_type": "code",
   "execution_count": 7,
   "metadata": {},
   "outputs": [
    {
     "name": "stdout",
     "output_type": "stream",
     "text": [
      "/pscratch/sd/j/joeschm/NSXTU_discharges/X_TEST/scanfiles0004/parameters_0002\n"
     ]
    },
    {
     "data": {
      "text/plain": [
       "OrderedDict([('n_procs_s', 1),\n",
       "             ('n_procs_v', 2),\n",
       "             ('n_procs_w', 4),\n",
       "             ('n_procs_x', 1),\n",
       "             ('n_procs_y', 1),\n",
       "             ('n_procs_z', 32),\n",
       "             ('n_procs_sim', 256),\n",
       "             ('n_parallel_sims', 5),\n",
       "             ('n_spec', 3),\n",
       "             ('nx0', 7),\n",
       "             ('nky0', 1),\n",
       "             ('nz0', 256),\n",
       "             ('nv0', 36),\n",
       "             ('nw0', 8),\n",
       "             ('kymin', 0.3),\n",
       "             ('lv', 3.0),\n",
       "             ('lw', 9.0),\n",
       "             ('adapt_lx', True),\n",
       "             ('x0', 0.9),\n",
       "             ('n0_global', 7),\n",
       "             ('ky0_ind', 1),\n",
       "             ('diagdir',\n",
       "              '/global/cscratch1/sd/joeschm/ST_research/ETG_research/129015/scanfiles0004/'),\n",
       "             ('read_checkpoint', False),\n",
       "             ('write_checkpoint', True),\n",
       "             ('istep_field', 100),\n",
       "             ('istep_mom', 100),\n",
       "             ('istep_nrg', 20),\n",
       "             ('istep_omega', 20),\n",
       "             ('istep_vsp', 5000),\n",
       "             ('istep_schpt', 10000),\n",
       "             ('istep_energy', 100),\n",
       "             ('istep_energy3d', 300),\n",
       "             ('write_std', True),\n",
       "             ('iterdb_file',\n",
       "              '/global/u1/j/joeschm/st_research/NSTXU_discharges/129015/NSTXU129015_g00409_450_p00400_x8099.iterdb'),\n",
       "             ('nonlinear', False),\n",
       "             ('comp_type', 'IV'),\n",
       "             ('perf_vec', '1 2 2 3 1 2 2 2 2'),\n",
       "             ('nblocks', 6),\n",
       "             ('arakawa_zv', False),\n",
       "             ('timescheme', 'RK4'),\n",
       "             ('dt_max', 0.000391),\n",
       "             ('dt_vlasov', 0.000422),\n",
       "             ('ev_coll', 5058.7),\n",
       "             ('timelim', 8600000),\n",
       "             ('ntimesteps', 20000000),\n",
       "             ('beta', 0.013169132),\n",
       "             ('debye2', 1.4077055e-05),\n",
       "             ('bpar', True),\n",
       "             ('collision_op', 'landau'),\n",
       "             ('coll', 0.04200756),\n",
       "             ('coll_cons_model', 'xu_rosenbluth'),\n",
       "             ('init_cond', 'alm'),\n",
       "             ('hyp_z_with_dz_prefactor', False),\n",
       "             ('hyp_z', -2.0),\n",
       "             ('hyp_v_with_dv_prefactor', False),\n",
       "             ('hyp_v', 0.2),\n",
       "             ('perf_tsteps', -1),\n",
       "             ('magn_geometry', 'tracer_efit'),\n",
       "             ('q0', 8.8631487),\n",
       "             ('shat', 2.979017),\n",
       "             ('geomfile', 'g129015.00409_450'),\n",
       "             ('edge_opt', 8.0),\n",
       "             ('minor_r', 1.0),\n",
       "             ('major_R', 1.0208728),\n",
       "             ('rhostar', 0.0042325432),\n",
       "             ('dpdx_term', 'full_drift'),\n",
       "             ('dpdx_pm', 0.19617095),\n",
       "             ('norm_flux_projection', False),\n",
       "             ('name1', 'i'),\n",
       "             ('omn1', 2.1733975),\n",
       "             ('omt1', 1.8083051),\n",
       "             ('mass1', 1.0),\n",
       "             ('temp1', 0.7495389),\n",
       "             ('dens1', 0.79665666),\n",
       "             ('charge1', 1.0),\n",
       "             ('name2', 'e'),\n",
       "             ('omn2', 2.6446951),\n",
       "             ('omt2', 9.1720599),\n",
       "             ('mass2', 0.0002724),\n",
       "             ('temp2', 1.0),\n",
       "             ('dens2', 1.0),\n",
       "             ('charge2', -1.0),\n",
       "             ('name3', 'c'),\n",
       "             ('omn3', 4.4911402),\n",
       "             ('omt3', 1.8083051),\n",
       "             ('mass3', 6.0),\n",
       "             ('temp3', 0.7495389),\n",
       "             ('dens3', 0.033890556),\n",
       "             ('charge3', 6.0),\n",
       "             ('step_time', 0.0158),\n",
       "             ('number of computed time steps', 405439),\n",
       "             ('time for initial value solver', 6417.109),\n",
       "             ('calc_dt', True),\n",
       "             ('nltdt_off', False),\n",
       "             ('ev_coll_est', 4174.4997),\n",
       "             ('init_time', 6.7158),\n",
       "             ('n_fields', 3),\n",
       "             ('n_moms', 9),\n",
       "             ('nrgcols', 10),\n",
       "             ('lx', 1.11894),\n",
       "             ('ly', 20.944),\n",
       "             ('PRECISION', 'DOUBLE'),\n",
       "             ('ENDIANNESS', 'LITTLE'),\n",
       "             ('OMP_NUM_THREADS', 1),\n",
       "             ('GIT_BRANCH',\n",
       "              '8249e6287156f466bd64c2a72216c36064b46eac                    '),\n",
       "             ('RELEASE', '2.0 - patch 1'),\n",
       "             ('nu_ei', 20.531883),\n",
       "             ('nustar_i', 3.507084),\n",
       "             ('nustar_e', 2.786439),\n",
       "             ('Bref', 0.48496260233783195),\n",
       "             ('Tref', 0.17379721292233993),\n",
       "             ('nref', 4.4220720166996035),\n",
       "             ('Lref', 0.9264538784967838),\n",
       "             ('mref', 2.0),\n",
       "             ('is_bsg', False),\n",
       "             ('filepath',\n",
       "              '/pscratch/sd/j/joeschm/NSXTU_discharges/X_TEST/scanfiles0004/parameters_0002'),\n",
       "             ('key_list',\n",
       "              ['n_procs_s',\n",
       "               'n_procs_v',\n",
       "               'n_procs_w',\n",
       "               'n_procs_x',\n",
       "               'n_procs_y',\n",
       "               'n_procs_z',\n",
       "               'n_procs_sim',\n",
       "               'n_parallel_sims',\n",
       "               'n_spec',\n",
       "               'nx0',\n",
       "               'nky0',\n",
       "               'nz0',\n",
       "               'nv0',\n",
       "               'nw0',\n",
       "               'kymin',\n",
       "               'lv',\n",
       "               'lw',\n",
       "               'adapt_lx',\n",
       "               'x0',\n",
       "               'n0_global',\n",
       "               'ky0_ind',\n",
       "               'diagdir',\n",
       "               'read_checkpoint',\n",
       "               'write_checkpoint',\n",
       "               'istep_field',\n",
       "               'istep_mom',\n",
       "               'istep_nrg',\n",
       "               'istep_omega',\n",
       "               'istep_vsp',\n",
       "               'istep_schpt',\n",
       "               'istep_energy',\n",
       "               'istep_energy3d',\n",
       "               'write_std',\n",
       "               'iterdb_file',\n",
       "               'nonlinear',\n",
       "               'comp_type',\n",
       "               'perf_vec',\n",
       "               'nblocks',\n",
       "               'arakawa_zv',\n",
       "               'timescheme',\n",
       "               'dt_max',\n",
       "               'dt_vlasov',\n",
       "               'ev_coll',\n",
       "               'timelim',\n",
       "               'ntimesteps',\n",
       "               'beta',\n",
       "               'debye2',\n",
       "               'bpar',\n",
       "               'collision_op',\n",
       "               'coll',\n",
       "               'coll_cons_model',\n",
       "               'init_cond',\n",
       "               'hyp_z_with_dz_prefactor',\n",
       "               'hyp_z',\n",
       "               'hyp_v_with_dv_prefactor',\n",
       "               'hyp_v',\n",
       "               'perf_tsteps',\n",
       "               'magn_geometry',\n",
       "               'q0',\n",
       "               'shat',\n",
       "               'geomfile',\n",
       "               'edge_opt',\n",
       "               'minor_r',\n",
       "               'major_R',\n",
       "               'rhostar',\n",
       "               'dpdx_term',\n",
       "               'dpdx_pm',\n",
       "               'norm_flux_projection',\n",
       "               'name1',\n",
       "               'omn1',\n",
       "               'omt1',\n",
       "               'mass1',\n",
       "               'temp1',\n",
       "               'dens1',\n",
       "               'charge1',\n",
       "               'name2',\n",
       "               'omn2',\n",
       "               'omt2',\n",
       "               'mass2',\n",
       "               'temp2',\n",
       "               'dens2',\n",
       "               'charge2',\n",
       "               'name3',\n",
       "               'omn3',\n",
       "               'omt3',\n",
       "               'mass3',\n",
       "               'temp3',\n",
       "               'dens3',\n",
       "               'charge3',\n",
       "               'step_time',\n",
       "               'number of computed time steps',\n",
       "               'time for initial value solver',\n",
       "               'calc_dt',\n",
       "               'nltdt_off',\n",
       "               'ev_coll_est',\n",
       "               'init_time',\n",
       "               'n_fields',\n",
       "               'n_moms',\n",
       "               'nrgcols',\n",
       "               'lx',\n",
       "               'ly',\n",
       "               'PRECISION',\n",
       "               'ENDIANNESS',\n",
       "               'OMP_NUM_THREADS',\n",
       "               'GIT_BRANCH',\n",
       "               'RELEASE',\n",
       "               'nu_ei',\n",
       "               'nustar_i',\n",
       "               'nustar_e',\n",
       "               'Bref',\n",
       "               'Tref',\n",
       "               'nref',\n",
       "               'Lref',\n",
       "               'mref',\n",
       "               'is_bsg',\n",
       "               'filepath'])])"
      ]
     },
     "execution_count": 7,
     "metadata": {},
     "output_type": "execute_result"
    }
   ],
   "source": [
    "filepath = os.path.join(test_dir, 'scanfiles0004')\n",
    "parameters_path = os.path.join(filepath, 'parameters_0002')\n",
    "parameters_dict = parameters_filepath_to_dict(parameters_path)\n",
    "\n",
    "assert isinstance(parameters_dict['nz0'],int)\n",
    "assert isinstance(parameters_dict['n_spec'],int)\n",
    "assert isinstance(parameters_dict['kymin'],float)\n",
    "\n",
    "print(parameters_dict['filepath'])\n",
    "\n",
    "parameters_dict"
   ]
  },
  {
   "cell_type": "markdown",
   "metadata": {},
   "source": [
    "# Species list"
   ]
  },
  {
   "cell_type": "code",
   "execution_count": 8,
   "metadata": {},
   "outputs": [
    {
     "name": "stdout",
     "output_type": "stream",
     "text": [
      "(('i', 1), ('e', 2), ('c', 3)) 3\n",
      "('i', 1)\n",
      "<class 'tuple'>\n"
     ]
    }
   ],
   "source": [
    "spec_list, n_spec = create_species_tuple(parameters_path)\n",
    "\n",
    "print(spec_list, n_spec)\n",
    "print(spec_list[0])\n",
    "print(type(spec_list))"
   ]
  },
  {
   "cell_type": "code",
   "execution_count": 9,
   "metadata": {},
   "outputs": [
    {
     "name": "stdout",
     "output_type": "stream",
     "text": [
      "(('i', 1),)\n",
      "('i', 1)\n"
     ]
    }
   ],
   "source": [
    "spec_list, n_spec = create_species_tuple(parameters_path, 'i')\n",
    "\n",
    "print(spec_list)\n",
    "print(spec_list[0])"
   ]
  },
  {
   "cell_type": "code",
   "execution_count": 10,
   "metadata": {},
   "outputs": [
    {
     "name": "stdout",
     "output_type": "stream",
     "text": [
      "(('i', 1), ('c', 3))\n",
      "('i', 1)\n"
     ]
    }
   ],
   "source": [
    "spec_list, n_spec = create_species_tuple(parameters_path, ['i', 'c'])\n",
    "\n",
    "print(spec_list)\n",
    "print(spec_list[0])"
   ]
  },
  {
   "cell_type": "code",
   "execution_count": 11,
   "metadata": {},
   "outputs": [],
   "source": [
    "input_spec = ['i', 'd']\n",
    "\n",
    "try:\n",
    "    spec_list, n_spec = create_species_tuple(parameters_path, input_spec)\n",
    "    assert False, \"Function did not raise ValueError as expected\"\n",
    "except ValueError as e:\n",
    "    expected_error_message = 'Species \"d\" is not a valid species. Please choose from: [\\'i\\', \\'e\\', \\'c\\']'\n",
    "    assert expected_error_message in str(e)"
   ]
  },
  {
   "cell_type": "code",
   "execution_count": null,
   "metadata": {},
   "outputs": [],
   "source": []
  }
 ],
 "metadata": {
  "kernelspec": {
   "display_name": "jupyter_env",
   "language": "python",
   "name": "python3"
  },
  "language_info": {
   "codemirror_mode": {
    "name": "ipython",
    "version": 3
   },
   "file_extension": ".py",
   "mimetype": "text/x-python",
   "name": "python",
   "nbconvert_exporter": "python",
   "pygments_lexer": "ipython3",
   "version": "3.11.4"
  },
  "orig_nbformat": 4
 },
 "nbformat": 4,
 "nbformat_minor": 2
}
