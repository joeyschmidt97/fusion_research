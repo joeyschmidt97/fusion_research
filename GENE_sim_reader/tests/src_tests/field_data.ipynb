{
 "cells": [
  {
   "cell_type": "code",
   "execution_count": 2,
   "metadata": {},
   "outputs": [],
   "source": [
    "import os\n",
    "from GENE_sim_reader.src.utils.find_buried_filetypes import find_buried_filetypes\n",
    "from GENE_sim_reader.src.dict_field_data import field_filepath_to_dict\n",
    "\n",
    "from GENE_sim_reader.src.criteria_code.criteria_parser import criteria_parser"
   ]
  },
  {
   "cell_type": "code",
   "execution_count": 3,
   "metadata": {},
   "outputs": [
    {
     "name": "stdout",
     "output_type": "stream",
     "text": [
      "[0.5360000000010587]\n",
      "time 1\n",
      "phi 1\n",
      "filepath 71\n",
      "key_list 4\n"
     ]
    }
   ],
   "source": [
    "filepath = '/pscratch/sd/j/joeschm/NSXTU_discharges/X_TEST/scanfiles0002/field_0003'\n",
    "\n",
    "\n",
    "crit_str = 'time==0.5360000000010587'\n",
    "time_crit = criteria_parser(crit_str)\n",
    "\n",
    "field_vals = 'phi'\n",
    "field_dict = field_filepath_to_dict(filepath, time_crit, field_vals)\n",
    "\n",
    "print(field_dict['time'])\n",
    "\n",
    "assert field_dict['time'] == [0.5360000000010587]\n",
    "assert len(field_dict['phi']) == 1\n",
    "\n",
    "\n",
    "for key in field_dict.keys():\n",
    "    print(key, len(field_dict[key]))\n",
    "\n"
   ]
  },
  {
   "cell_type": "code",
   "execution_count": 4,
   "metadata": {},
   "outputs": [
    {
     "name": "stdout",
     "output_type": "stream",
     "text": [
      "[0.006489999999999992, 0.01297999999999996, 0.01946999999999993, 0.025959999999999896]\n",
      "time 4\n",
      "phi 4\n",
      "bpar 4\n",
      "filepath 71\n",
      "key_list 4\n"
     ]
    }
   ],
   "source": [
    "filepath = '/pscratch/sd/j/joeschm/NSXTU_discharges/X_TEST/scanfiles0002/field_0002'\n",
    "\n",
    "crit_str = '0.002<time<0.03'\n",
    "time_crit = criteria_parser(crit_str)\n",
    "\n",
    "field_vals = ['phi', 'bpar']\n",
    "field_dict = field_filepath_to_dict(filepath, time_crit, field_vals)\n",
    "\n",
    "print(field_dict['time'])\n",
    "\n",
    "assert field_dict['time'] == [0.006489999999999992, 0.01297999999999996, 0.01946999999999993, 0.025959999999999896]\n",
    "assert len(field_dict['phi']) == 4\n",
    "assert len(field_dict['bpar']) == 4\n",
    "\n",
    "\n",
    "for key in field_dict.keys():\n",
    "    print(key, len(field_dict[key]))\n",
    "\n"
   ]
  },
  {
   "cell_type": "code",
   "execution_count": 5,
   "metadata": {},
   "outputs": [
    {
     "name": "stdout",
     "output_type": "stream",
     "text": [
      "[7.612769999992393]\n",
      "time 1\n",
      "phi 1\n",
      "apar 1\n",
      "bpar 1\n",
      "filepath 71\n",
      "key_list 4\n"
     ]
    }
   ],
   "source": [
    "filepath = '/pscratch/sd/j/joeschm/NSXTU_discharges/X_TEST/scanfiles0002/field_0002'\n",
    "\n",
    "crit_str = 'time==last'\n",
    "time_crit = criteria_parser(crit_str)\n",
    "\n",
    "field_vals = 'all'\n",
    "field_dict = field_filepath_to_dict(filepath, time_crit, field_vals)\n",
    "\n",
    "print(field_dict['time'])\n",
    "\n",
    "assert field_dict['time'] == [7.612769999992393]\n",
    "assert len(field_dict['phi']) == 1\n",
    "assert len(field_dict['apar']) == 1\n",
    "assert len(field_dict['bpar']) == 1\n",
    "\n",
    "\n",
    "for key in field_dict.keys():\n",
    "    print(key, len(field_dict[key]))\n",
    "\n"
   ]
  },
  {
   "cell_type": "code",
   "execution_count": 6,
   "metadata": {},
   "outputs": [
    {
     "name": "stdout",
     "output_type": "stream",
     "text": [
      "{}\n"
     ]
    }
   ],
   "source": [
    "filepath = '/pscratch/sd/j/joeschm/NSXTU_discharges/X_TEST/scanfiles0002/field_0002'\n",
    "\n",
    "crit_str = 'time==2'\n",
    "time_crit = criteria_parser(crit_str)\n",
    "\n",
    "field_vals = 'all'\n",
    "field_dict = field_filepath_to_dict(filepath, time_crit, field_vals)\n",
    "\n",
    "print(field_dict)\n"
   ]
  },
  {
   "cell_type": "markdown",
   "metadata": {},
   "source": [
    "# Testing RELATIVE time slicing"
   ]
  },
  {
   "cell_type": "code",
   "execution_count": 7,
   "metadata": {},
   "outputs": [],
   "source": [
    "# target_path = '/pscratch/sd/j/joeschm/NSXTU_discharges/X_TEST/scanfiles0002'\n",
    "\n",
    "\n",
    "# field_filepaths = find_buried_filetypes(target_path, 'field')\n",
    "\n",
    "\n",
    "# print(field_filepaths)\n",
    "\n",
    "# desired_time = [0.995,1]\n",
    "# field_vals = 'all'\n",
    "# time_option = 'REL'\n",
    "\n",
    "# for field_path in field_filepaths:\n",
    "#     field_dict = field_filepath_to_dict(field_path, desired_time, field_vals, time_option)\n",
    "#     print(field_dict['time'])\n",
    "\n",
    "#     field_dict_ABS = field_filepath_to_dict(field_path, 'last', field_vals, 'ABS')\n",
    "#     print(field_dict_ABS['time'])\n",
    "\n",
    "\n",
    "#     assert field_dict['time'][-1] == field_dict_ABS['time'][0]\n",
    "\n",
    "#     for key in field_dict.keys():\n",
    "#         print(key, len(field_dict[key]))\n",
    "\n"
   ]
  }
 ],
 "metadata": {
  "kernelspec": {
   "display_name": "jupyter_env",
   "language": "python",
   "name": "python3"
  },
  "language_info": {
   "codemirror_mode": {
    "name": "ipython",
    "version": 3
   },
   "file_extension": ".py",
   "mimetype": "text/x-python",
   "name": "python",
   "nbconvert_exporter": "python",
   "pygments_lexer": "ipython3",
   "version": "3.11.4"
  }
 },
 "nbformat": 4,
 "nbformat_minor": 2
}
