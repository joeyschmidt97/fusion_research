{
 "cells": [
  {
   "cell_type": "code",
   "execution_count": 2,
   "metadata": {},
   "outputs": [],
   "source": [
    "from GENE_sim_reader.src.filetype_key_lists import load_criteria_per_dict, time_quantities_from_criteria_list\n",
    "\n",
    "from GENE_sim_reader.src.criteria_code.criteria_parser import multi_criteria_to_list"
   ]
  },
  {
   "cell_type": "code",
   "execution_count": 3,
   "metadata": {},
   "outputs": [
    {
     "name": "stdout",
     "output_type": "stream",
     "text": [
      "[{'criteria': 'time<0.2', 'variable_name': 'time', 'units': None, 'bounds': [-inf, 0.2], 'logic_op_list': ['>', '<']}, {'criteria': 'Q_ES<4', 'variable_name': 'Q_ES', 'units': 'abc', 'bounds': [-inf, 4.0], 'logic_op_list': ['>', '<']}, {'criteria': '1<Q_EM<4', 'variable_name': 'Q_EM', 'units': None, 'bounds': [1.0, 4.0], 'logic_op_list': ['>', '<']}, {'criteria': 'apar', 'variable_name': 'apar', 'units': None, 'bounds': None, 'logic_op_list': None}, {'criteria': 'gamma<10', 'variable_name': 'gamma', 'units': None, 'bounds': [-inf, 10.0], 'logic_op_list': ['>', '<']}, {'criteria': 'suffix==0001', 'variable_name': 'suffix', 'units': None, 'bounds': '0001', 'logic_op_list': None}, {'criteria': 'nx0>131', 'variable_name': 'nx0', 'units': None, 'bounds': [131.0, inf], 'logic_op_list': ['>', '<']}, {'criteria': 'status', 'variable_name': 'status', 'units': None, 'bounds': None, 'logic_op_list': None}]\n"
     ]
    },
    {
     "ename": "TypeError",
     "evalue": "load_criteria_per_dict() missing 1 required positional argument: 'species_tuple'",
     "output_type": "error",
     "traceback": [
      "\u001b[0;31m---------------------------------------------------------------------------\u001b[0m",
      "\u001b[0;31mTypeError\u001b[0m                                 Traceback (most recent call last)",
      "\u001b[1;32m/global/homes/j/joeschm/fusion_research/GENE_sim_reader/tests/src_tests/filetype_key_lists.ipynb Cell 2\u001b[0m line \u001b[0;36m1\n\u001b[1;32m      <a href='vscode-notebook-cell://ssh-remote%2Bperlmutter-p1.nersc.gov/global/homes/j/joeschm/fusion_research/GENE_sim_reader/tests/src_tests/filetype_key_lists.ipynb#W1sdnNjb2RlLXJlbW90ZQ%3D%3D?line=5'>6</a>\u001b[0m \u001b[39mprint\u001b[39m(criteria_dict_list)\n\u001b[1;32m      <a href='vscode-notebook-cell://ssh-remote%2Bperlmutter-p1.nersc.gov/global/homes/j/joeschm/fusion_research/GENE_sim_reader/tests/src_tests/filetype_key_lists.ipynb#W1sdnNjb2RlLXJlbW90ZQ%3D%3D?line=7'>8</a>\u001b[0m param_dict \u001b[39m=\u001b[39m {\u001b[39m'\u001b[39m\u001b[39mnx0\u001b[39m\u001b[39m'\u001b[39m: \u001b[39m24\u001b[39m, \u001b[39m'\u001b[39m\u001b[39msuffix\u001b[39m\u001b[39m'\u001b[39m: \u001b[39m'\u001b[39m\u001b[39m0001\u001b[39m\u001b[39m'\u001b[39m}\n\u001b[0;32m---> <a href='vscode-notebook-cell://ssh-remote%2Bperlmutter-p1.nersc.gov/global/homes/j/joeschm/fusion_research/GENE_sim_reader/tests/src_tests/filetype_key_lists.ipynb#W1sdnNjb2RlLXJlbW90ZQ%3D%3D?line=9'>10</a>\u001b[0m dict_crit \u001b[39m=\u001b[39m load_criteria_per_dict(criteria_dict_list, param_dict)\n\u001b[1;32m     <a href='vscode-notebook-cell://ssh-remote%2Bperlmutter-p1.nersc.gov/global/homes/j/joeschm/fusion_research/GENE_sim_reader/tests/src_tests/filetype_key_lists.ipynb#W1sdnNjb2RlLXJlbW90ZQ%3D%3D?line=15'>16</a>\u001b[0m \u001b[39mfor\u001b[39;00m key \u001b[39min\u001b[39;00m dict_crit\u001b[39m.\u001b[39mkeys():\n\u001b[1;32m     <a href='vscode-notebook-cell://ssh-remote%2Bperlmutter-p1.nersc.gov/global/homes/j/joeschm/fusion_research/GENE_sim_reader/tests/src_tests/filetype_key_lists.ipynb#W1sdnNjb2RlLXJlbW90ZQ%3D%3D?line=16'>17</a>\u001b[0m     choose_time, qunatities \u001b[39m=\u001b[39m time_quantities_from_criteria_list(criteria_dict_list, param_dict, key)\n",
      "\u001b[0;31mTypeError\u001b[0m: load_criteria_per_dict() missing 1 required positional argument: 'species_tuple'"
     ]
    }
   ],
   "source": [
    "crit_list = ['time<0.2', 'Q_ES(abc)<4', '1<Q_EM< 4', 'apar', 'gamma<10', 'suffix==0001', 'nx0 > 131', 'status']\n",
    "# crit_list = ['0.1<=time<0.2']\n",
    "\n",
    "criteria_dict_list = multi_criteria_to_list(crit_list)\n",
    "\n",
    "print(criteria_dict_list)\n",
    "\n",
    "param_dict = {'nx0': 24, 'suffix': '0001'}\n",
    "\n",
    "dict_crit = load_criteria_per_dict(criteria_dict_list, param_dict)\n",
    "\n",
    "\n",
    "\n",
    "\n",
    "\n",
    "for key in dict_crit.keys():\n",
    "    choose_time, qunatities = time_quantities_from_criteria_list(criteria_dict_list, param_dict, key)\n",
    "    # choose_time = time_from_criteria_list(dict_crit['nrg'])\n",
    "    print(key, choose_time, qunatities)\n",
    "\n",
    "\n"
   ]
  },
  {
   "cell_type": "code",
   "execution_count": null,
   "metadata": {},
   "outputs": [],
   "source": []
  }
 ],
 "metadata": {
  "kernelspec": {
   "display_name": "jupyter_env",
   "language": "python",
   "name": "python3"
  },
  "language_info": {
   "codemirror_mode": {
    "name": "ipython",
    "version": 3
   },
   "file_extension": ".py",
   "mimetype": "text/x-python",
   "name": "python",
   "nbconvert_exporter": "python",
   "pygments_lexer": "ipython3",
   "version": "3.11.4"
  }
 },
 "nbformat": 4,
 "nbformat_minor": 2
}
