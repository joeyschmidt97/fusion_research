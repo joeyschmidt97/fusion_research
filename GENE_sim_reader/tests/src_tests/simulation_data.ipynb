{
 "cells": [
  {
   "cell_type": "code",
   "execution_count": 1,
   "metadata": {},
   "outputs": [],
   "source": [
    "import os\n",
    "from GENE_sim_reader.src.dict_simulation_data import filepath_to_simulation_dict_list, sim_filepath_to_df\n",
    "from GENE_sim_reader.src.utils.find_buried_filetypes import find_buried_filetypes"
   ]
  },
  {
   "cell_type": "code",
   "execution_count": 2,
   "metadata": {},
   "outputs": [
    {
     "ename": "KeyboardInterrupt",
     "evalue": "",
     "output_type": "error",
     "traceback": [
      "\u001b[0;31m---------------------------------------------------------------------------\u001b[0m",
      "\u001b[0;31mKeyboardInterrupt\u001b[0m                         Traceback (most recent call last)",
      "\u001b[1;32m/global/homes/j/joeschm/fusion_research/GENE_sim_reader/tests/src_tests/simulation_data.ipynb Cell 2\u001b[0m line \u001b[0;36m3\n\u001b[1;32m      <a href='vscode-notebook-cell://ssh-remote%2Bperlmutter-p1.nersc.gov/global/homes/j/joeschm/fusion_research/GENE_sim_reader/tests/src_tests/simulation_data.ipynb#W1sdnNjb2RlLXJlbW90ZQ%3D%3D?line=0'>1</a>\u001b[0m filepath \u001b[39m=\u001b[39m \u001b[39m'\u001b[39m\u001b[39m/pscratch/sd/j/joeschm/NSXTU_discharges/X_TEST\u001b[39m\u001b[39m'\u001b[39m\n\u001b[0;32m----> <a href='vscode-notebook-cell://ssh-remote%2Bperlmutter-p1.nersc.gov/global/homes/j/joeschm/fusion_research/GENE_sim_reader/tests/src_tests/simulation_data.ipynb#W1sdnNjb2RlLXJlbW90ZQ%3D%3D?line=2'>3</a>\u001b[0m sim_list, _ \u001b[39m=\u001b[39m filepath_to_simulation_dict_list(filepath, [], \u001b[39m'\u001b[39m\u001b[39me\u001b[39m\u001b[39m'\u001b[39m)\n\u001b[1;32m      <a href='vscode-notebook-cell://ssh-remote%2Bperlmutter-p1.nersc.gov/global/homes/j/joeschm/fusion_research/GENE_sim_reader/tests/src_tests/simulation_data.ipynb#W1sdnNjb2RlLXJlbW90ZQ%3D%3D?line=4'>5</a>\u001b[0m param_paths \u001b[39m=\u001b[39m find_buried_filetypes(filepath, \u001b[39m'\u001b[39m\u001b[39mparameters\u001b[39m\u001b[39m'\u001b[39m)\n\u001b[1;32m      <a href='vscode-notebook-cell://ssh-remote%2Bperlmutter-p1.nersc.gov/global/homes/j/joeschm/fusion_research/GENE_sim_reader/tests/src_tests/simulation_data.ipynb#W1sdnNjb2RlLXJlbW90ZQ%3D%3D?line=5'>6</a>\u001b[0m \u001b[39massert\u001b[39;00m (\u001b[39mlen\u001b[39m(sim_list) \u001b[39m==\u001b[39m \u001b[39mlen\u001b[39m(param_paths))\n",
      "File \u001b[0;32m~/fusion_research/GENE_sim_reader/src/dict_simulation_data.py:57\u001b[0m, in \u001b[0;36mfilepath_to_simulation_dict_list\u001b[0;34m(filepath_list, criteria_list, load_spec, debug)\u001b[0m\n\u001b[1;32m     52\u001b[0m \u001b[39melse\u001b[39;00m:\n\u001b[1;32m     53\u001b[0m     \u001b[39m# Process each 'parameters' file found\u001b[39;00m\n\u001b[1;32m     54\u001b[0m     \u001b[39mfor\u001b[39;00m parameter_filepath \u001b[39min\u001b[39;00m parameter_filepath_list:\n\u001b[1;32m     55\u001b[0m \n\u001b[1;32m     56\u001b[0m         \u001b[39m# Convert file paths to dictionaries containing simulation information\u001b[39;00m\n\u001b[0;32m---> 57\u001b[0m         simulation_dict, criteria_per_dict \u001b[39m=\u001b[39m create_sim_dict(parameter_filepath, criteria_list, load_spec)\n\u001b[1;32m     59\u001b[0m         \u001b[39mif\u001b[39;00m simulation_dict \u001b[39m==\u001b[39m \u001b[39mFalse\u001b[39;00m:\n\u001b[1;32m     60\u001b[0m             \u001b[39mcontinue\u001b[39;00m\n",
      "File \u001b[0;32m~/fusion_research/GENE_sim_reader/src/dict_simulation_data.py:116\u001b[0m, in \u001b[0;36mcreate_sim_dict\u001b[0;34m(parameter_filepath, criteria_list, load_spec)\u001b[0m\n\u001b[1;32m    108\u001b[0m simulation_dict \u001b[39m=\u001b[39m {\u001b[39m'\u001b[39m\u001b[39mdirectory\u001b[39m\u001b[39m'\u001b[39m: simulation_directory,\n\u001b[1;32m    109\u001b[0m                    \u001b[39m'\u001b[39m\u001b[39msuffix\u001b[39m\u001b[39m'\u001b[39m: suffix,\n\u001b[1;32m    110\u001b[0m                    \u001b[39m'\u001b[39m\u001b[39mstatus\u001b[39m\u001b[39m'\u001b[39m: convergence_check(parameter_filepath),\n\u001b[1;32m    111\u001b[0m                    \u001b[39m'\u001b[39m\u001b[39msimulation_filepaths\u001b[39m\u001b[39m'\u001b[39m: get_simulation_files(simulation_directory, suffix),\n\u001b[1;32m    112\u001b[0m                    \u001b[39m'\u001b[39m\u001b[39mkey_list\u001b[39m\u001b[39m'\u001b[39m: simulation_key_list,\n\u001b[1;32m    113\u001b[0m                    \u001b[39m'\u001b[39m\u001b[39mspecies_info\u001b[39m\u001b[39m'\u001b[39m: create_species_tuple(parameter_filepath)}\n\u001b[1;32m    115\u001b[0m \u001b[39m# Create parameters dict by default\u001b[39;00m\n\u001b[0;32m--> 116\u001b[0m parameter_dict \u001b[39m=\u001b[39m parameters_filepath_to_dict(parameter_filepath)\n\u001b[1;32m    117\u001b[0m simulation_dict[\u001b[39m'\u001b[39m\u001b[39mparameters_dict\u001b[39m\u001b[39m'\u001b[39m] \u001b[39m=\u001b[39m parameter_dict\n\u001b[1;32m    119\u001b[0m \u001b[39m# If no criteria is given add the parameters dict and return simulation dict\u001b[39;00m\n",
      "File \u001b[0;32m~/fusion_research/GENE_sim_reader/src/dict_parameters_data.py:19\u001b[0m, in \u001b[0;36mparameters_filepath_to_dict\u001b[0;34m(parameters_filepath, debug)\u001b[0m\n\u001b[1;32m     17\u001b[0m \u001b[39mtry\u001b[39;00m:\n\u001b[1;32m     18\u001b[0m     file_checks(parameters_filepath, filetype\u001b[39m=\u001b[39m\u001b[39m'\u001b[39m\u001b[39mparameters\u001b[39m\u001b[39m'\u001b[39m)\n\u001b[0;32m---> 19\u001b[0m     parameters_dict \u001b[39m=\u001b[39m create_parameters_dict(parameters_filepath)\n\u001b[1;32m     21\u001b[0m     \u001b[39mreturn\u001b[39;00m parameters_dict\n\u001b[1;32m     22\u001b[0m \u001b[39mexcept\u001b[39;00m FileError \u001b[39mas\u001b[39;00m e:\n",
      "File \u001b[0;32m~/fusion_research/GENE_sim_reader/src/dict_parameters_data.py:31\u001b[0m, in \u001b[0;36mcreate_parameters_dict\u001b[0;34m(parameters_filepath)\u001b[0m\n\u001b[1;32m     27\u001b[0m \u001b[39mdef\u001b[39;00m \u001b[39mcreate_parameters_dict\u001b[39m(parameters_filepath:\u001b[39mstr\u001b[39m):\n\u001b[1;32m     28\u001b[0m \n\u001b[1;32m     29\u001b[0m     \u001b[39m# Create a parameter dictionary using the Parameters class\u001b[39;00m\n\u001b[1;32m     30\u001b[0m     par \u001b[39m=\u001b[39m Parameters()\n\u001b[0;32m---> 31\u001b[0m     par\u001b[39m.\u001b[39mRead_Pars(parameters_filepath)  \u001b[39m# Read the parameter file\u001b[39;00m\n\u001b[1;32m     32\u001b[0m     parameter_dict \u001b[39m=\u001b[39m par\u001b[39m.\u001b[39mpardict \n\u001b[1;32m     34\u001b[0m     \u001b[39m# Add the filename, filepath, and suffix to the parameter dictionary\u001b[39;00m\n",
      "File \u001b[0;32m~/fusion_research/GENE_sim_reader/src/utils/ParIO.py:40\u001b[0m, in \u001b[0;36mParameters.Read_Pars\u001b[0;34m(self, path)\u001b[0m\n\u001b[1;32m     38\u001b[0m countspec \u001b[39m=\u001b[39m \u001b[39m0\u001b[39m\n\u001b[1;32m     39\u001b[0m \u001b[39mtry\u001b[39;00m:\n\u001b[0;32m---> 40\u001b[0m     \u001b[39mwith\u001b[39;00m \u001b[39mopen\u001b[39m(path, \u001b[39m\"\u001b[39m\u001b[39mr\u001b[39m\u001b[39m\"\u001b[39m) \u001b[39mas\u001b[39;00m parfile:\n\u001b[1;32m     41\u001b[0m         \u001b[39m# Search file for parameters using regular expressions\u001b[39;00m\n\u001b[1;32m     42\u001b[0m         \u001b[39mfor\u001b[39;00m line \u001b[39min\u001b[39;00m parfile:\n\u001b[1;32m     43\u001b[0m             \u001b[39m# Exclude commented lines\u001b[39;00m\n\u001b[1;32m     44\u001b[0m             \u001b[39mif\u001b[39;00m re\u001b[39m.\u001b[39msearch(\u001b[39mr\u001b[39m\u001b[39m'\u001b[39m\u001b[39m\\\u001b[39m\u001b[39ms*!\u001b[39m\u001b[39m\\\u001b[39m\u001b[39mw*\u001b[39m\u001b[39m\\\u001b[39m\u001b[39ms*=.*\u001b[39m\u001b[39m'\u001b[39m, line) \u001b[39mis\u001b[39;00m \u001b[39mNone\u001b[39;00m:\n\u001b[1;32m     45\u001b[0m                 \u001b[39m# Check for and count species namelists\u001b[39;00m\n",
      "File \u001b[0;32m<frozen codecs>:309\u001b[0m, in \u001b[0;36m__init__\u001b[0;34m(self, errors)\u001b[0m\n",
      "\u001b[0;31mKeyboardInterrupt\u001b[0m: "
     ]
    }
   ],
   "source": [
    "filepath = '/pscratch/sd/j/joeschm/NSXTU_discharges/X_TEST'\n",
    "\n",
    "sim_list, _ = filepath_to_simulation_dict_list(filepath, [], 'e')\n",
    "\n",
    "param_paths = find_buried_filetypes(filepath, 'parameters')\n",
    "assert (len(sim_list) == len(param_paths))\n",
    "\n",
    "\n",
    "# Check convergence of simulations\n",
    "\n",
    "conv = 0\n",
    "nonconv = 0\n",
    "\n",
    "for sim in sim_list:\n",
    "    sim_key_list = ['directory', 'suffix', 'status', 'simulation_filepaths', 'key_list', 'parameters_dict']\n",
    "    assert list(sim.keys()) == sim_key_list\n",
    "\n",
    "    print(sim['status'])\n",
    "    if sim['status'] == 'CONVERGED':\n",
    "        conv += 1\n",
    "    elif sim['status'] == 'NOT_CONVERGED':\n",
    "        nonconv += 1\n",
    "\n",
    "print('')\n",
    "print('CONVERGED:', conv)\n",
    "print('NOT_CONVERGED', nonconv)\n",
    "\n"
   ]
  },
  {
   "cell_type": "code",
   "execution_count": null,
   "metadata": {},
   "outputs": [
    {
     "name": "stdout",
     "output_type": "stream",
     "text": [
      "16\n"
     ]
    },
    {
     "ename": "AssertionError",
     "evalue": "",
     "output_type": "error",
     "traceback": [
      "\u001b[0;31m---------------------------------------------------------------------------\u001b[0m",
      "\u001b[0;31mAssertionError\u001b[0m                            Traceback (most recent call last)",
      "\u001b[1;32m/global/homes/j/joeschm/fusion_research/GENE_sim_reader/tests/src_tests/simulation_data.ipynb Cell 3\u001b[0m line \u001b[0;36m1\n\u001b[1;32m      <a href='vscode-notebook-cell://ssh-remote%2Bperlmutter-p1.nersc.gov/global/homes/j/joeschm/fusion_research/GENE_sim_reader/tests/src_tests/simulation_data.ipynb#W2sdnNjb2RlLXJlbW90ZQ%3D%3D?line=7'>8</a>\u001b[0m \u001b[39mfor\u001b[39;00m sim \u001b[39min\u001b[39;00m sim_list1:\n\u001b[1;32m     <a href='vscode-notebook-cell://ssh-remote%2Bperlmutter-p1.nersc.gov/global/homes/j/joeschm/fusion_research/GENE_sim_reader/tests/src_tests/simulation_data.ipynb#W2sdnNjb2RlLXJlbW90ZQ%3D%3D?line=9'>10</a>\u001b[0m     sim_key_list \u001b[39m=\u001b[39m [\u001b[39m'\u001b[39m\u001b[39mdirectory\u001b[39m\u001b[39m'\u001b[39m, \u001b[39m'\u001b[39m\u001b[39msuffix\u001b[39m\u001b[39m'\u001b[39m, \u001b[39m'\u001b[39m\u001b[39mstatus\u001b[39m\u001b[39m'\u001b[39m, \u001b[39m'\u001b[39m\u001b[39msimulation_filepaths\u001b[39m\u001b[39m'\u001b[39m, \u001b[39m'\u001b[39m\u001b[39mkey_list\u001b[39m\u001b[39m'\u001b[39m, \u001b[39m'\u001b[39m\u001b[39mparameters_dict\u001b[39m\u001b[39m'\u001b[39m, \u001b[39m'\u001b[39m\u001b[39mnrg_dict\u001b[39m\u001b[39m'\u001b[39m]\n\u001b[0;32m---> <a href='vscode-notebook-cell://ssh-remote%2Bperlmutter-p1.nersc.gov/global/homes/j/joeschm/fusion_research/GENE_sim_reader/tests/src_tests/simulation_data.ipynb#W2sdnNjb2RlLXJlbW90ZQ%3D%3D?line=10'>11</a>\u001b[0m     \u001b[39massert\u001b[39;00m \u001b[39mlist\u001b[39m(sim\u001b[39m.\u001b[39mkeys()) \u001b[39m==\u001b[39m sim_key_list\n\u001b[1;32m     <a href='vscode-notebook-cell://ssh-remote%2Bperlmutter-p1.nersc.gov/global/homes/j/joeschm/fusion_research/GENE_sim_reader/tests/src_tests/simulation_data.ipynb#W2sdnNjb2RlLXJlbW90ZQ%3D%3D?line=12'>13</a>\u001b[0m     \u001b[39m# check that all the time values match the given criteria\u001b[39;00m\n\u001b[1;32m     <a href='vscode-notebook-cell://ssh-remote%2Bperlmutter-p1.nersc.gov/global/homes/j/joeschm/fusion_research/GENE_sim_reader/tests/src_tests/simulation_data.ipynb#W2sdnNjb2RlLXJlbW90ZQ%3D%3D?line=13'>14</a>\u001b[0m     \u001b[39massert\u001b[39;00m \u001b[39mall\u001b[39m(sim[\u001b[39m'\u001b[39m\u001b[39mnrg_dict\u001b[39m\u001b[39m'\u001b[39m][\u001b[39m'\u001b[39m\u001b[39mtime\u001b[39m\u001b[39m'\u001b[39m]) \u001b[39m<\u001b[39m \u001b[39m0.05\u001b[39m\n",
      "\u001b[0;31mAssertionError\u001b[0m: "
     ]
    }
   ],
   "source": [
    "filepath = '/pscratch/sd/j/joeschm/NSXTU_discharges/X_TEST'\n",
    "\n",
    "crit1 = ['status==CONVERGED', 'n_mag', 'time<0.05']\n",
    "sim_list1, crit_per_dict = filepath_to_simulation_dict_list(filepath, crit1, ['e', 'i'])\n",
    "\n",
    "print(len(sim_list1))\n",
    "\n",
    "for sim in sim_list1:\n",
    "\n",
    "    sim_key_list = ['directory', 'suffix', 'status', 'simulation_filepaths', 'key_list', 'parameters_dict', 'nrg_dict']\n",
    "    assert list(sim.keys()) == sim_key_list\n",
    "\n",
    "    # check that all the time values match the given criteria\n",
    "    assert all(sim['nrg_dict']['time']) < 0.05\n",
    "\n",
    "    assert 'n_mag1' in list(sim['nrg_dict'].keys())\n",
    "    assert 'n_mag2' in list(sim['nrg_dict'].keys())\n",
    "\n",
    "    # print(sim['nrg_dict']['n_mag1'])\n",
    "\n",
    "    print(sim['directory'])"
   ]
  },
  {
   "cell_type": "code",
   "execution_count": null,
   "metadata": {},
   "outputs": [
    {
     "ename": "AssertionError",
     "evalue": "",
     "output_type": "error",
     "traceback": [
      "\u001b[0;31m---------------------------------------------------------------------------\u001b[0m",
      "\u001b[0;31mAssertionError\u001b[0m                            Traceback (most recent call last)",
      "\u001b[1;32m/global/homes/j/joeschm/fusion_research/GENE_sim_reader/tests/src_tests/simulation_data.ipynb Cell 4\u001b[0m line \u001b[0;36m9\n\u001b[1;32m      <a href='vscode-notebook-cell://ssh-remote%2Bperlmutter-p1.nersc.gov/global/homes/j/joeschm/fusion_research/GENE_sim_reader/tests/src_tests/simulation_data.ipynb#W3sdnNjb2RlLXJlbW90ZQ%3D%3D?line=6'>7</a>\u001b[0m \u001b[39mfor\u001b[39;00m sim \u001b[39min\u001b[39;00m sim_list2:\n\u001b[1;32m      <a href='vscode-notebook-cell://ssh-remote%2Bperlmutter-p1.nersc.gov/global/homes/j/joeschm/fusion_research/GENE_sim_reader/tests/src_tests/simulation_data.ipynb#W3sdnNjb2RlLXJlbW90ZQ%3D%3D?line=7'>8</a>\u001b[0m     sim_key_list \u001b[39m=\u001b[39m [\u001b[39m'\u001b[39m\u001b[39mdirectory\u001b[39m\u001b[39m'\u001b[39m, \u001b[39m'\u001b[39m\u001b[39msuffix\u001b[39m\u001b[39m'\u001b[39m, \u001b[39m'\u001b[39m\u001b[39mstatus\u001b[39m\u001b[39m'\u001b[39m, \u001b[39m'\u001b[39m\u001b[39msimulation_filepaths\u001b[39m\u001b[39m'\u001b[39m, \u001b[39m'\u001b[39m\u001b[39mkey_list\u001b[39m\u001b[39m'\u001b[39m, \u001b[39m'\u001b[39m\u001b[39mparameters_dict\u001b[39m\u001b[39m'\u001b[39m, \u001b[39m'\u001b[39m\u001b[39mnrg_dict\u001b[39m\u001b[39m'\u001b[39m]\n\u001b[0;32m----> <a href='vscode-notebook-cell://ssh-remote%2Bperlmutter-p1.nersc.gov/global/homes/j/joeschm/fusion_research/GENE_sim_reader/tests/src_tests/simulation_data.ipynb#W3sdnNjb2RlLXJlbW90ZQ%3D%3D?line=8'>9</a>\u001b[0m     \u001b[39massert\u001b[39;00m \u001b[39mlist\u001b[39m(sim\u001b[39m.\u001b[39mkeys()) \u001b[39m==\u001b[39m sim_key_list\n\u001b[1;32m     <a href='vscode-notebook-cell://ssh-remote%2Bperlmutter-p1.nersc.gov/global/homes/j/joeschm/fusion_research/GENE_sim_reader/tests/src_tests/simulation_data.ipynb#W3sdnNjb2RlLXJlbW90ZQ%3D%3D?line=10'>11</a>\u001b[0m     \u001b[39m# check that all the time and density values match the given criteria\u001b[39;00m\n\u001b[1;32m     <a href='vscode-notebook-cell://ssh-remote%2Bperlmutter-p1.nersc.gov/global/homes/j/joeschm/fusion_research/GENE_sim_reader/tests/src_tests/simulation_data.ipynb#W3sdnNjb2RlLXJlbW90ZQ%3D%3D?line=11'>12</a>\u001b[0m     \u001b[39massert\u001b[39;00m \u001b[39mall\u001b[39m(sim[\u001b[39m'\u001b[39m\u001b[39mnrg_dict\u001b[39m\u001b[39m'\u001b[39m][\u001b[39m'\u001b[39m\u001b[39mtime\u001b[39m\u001b[39m'\u001b[39m] \u001b[39m<\u001b[39m \u001b[39m0.05\u001b[39m)\n",
      "\u001b[0;31mAssertionError\u001b[0m: "
     ]
    }
   ],
   "source": [
    "filepath = '/pscratch/sd/j/joeschm/NSXTU_discharges/X_TEST'\n",
    "\n",
    "crit2 = ['status==CONVERGED', 'n_mag>0.002', 'time<0.05']\n",
    "\n",
    "sim_list2, _ = filepath_to_simulation_dict_list(filepath, crit2, ['e', 'i'])\n",
    "\n",
    "for sim in sim_list2:\n",
    "    sim_key_list = ['directory', 'suffix', 'status', 'simulation_filepaths', 'key_list', 'parameters_dict', 'nrg_dict']\n",
    "    assert list(sim.keys()) == sim_key_list\n",
    "\n",
    "    # check that all the time and density values match the given criteria\n",
    "    assert all(sim['nrg_dict']['time'] < 0.05)\n",
    "    assert all(sim['nrg_dict']['n_mag1'] > 0.002)\n",
    "    assert all(sim['nrg_dict']['n_mag2'] > 0.002)\n",
    "\n",
    "    print(sim['directory'])\n",
    "\n",
    "\n"
   ]
  },
  {
   "cell_type": "code",
   "execution_count": null,
   "metadata": {},
   "outputs": [
    {
     "name": "stdout",
     "output_type": "stream",
     "text": [
      "11\n"
     ]
    },
    {
     "ename": "AssertionError",
     "evalue": "",
     "output_type": "error",
     "traceback": [
      "\u001b[0;31m---------------------------------------------------------------------------\u001b[0m",
      "\u001b[0;31mAssertionError\u001b[0m                            Traceback (most recent call last)",
      "\u001b[1;32m/global/homes/j/joeschm/fusion_research/GENE_sim_reader/tests/src_tests/simulation_data.ipynb Cell 5\u001b[0m line \u001b[0;36m1\n\u001b[1;32m      <a href='vscode-notebook-cell://ssh-remote%2Bperlmutter-p1.nersc.gov/global/homes/j/joeschm/fusion_research/GENE_sim_reader/tests/src_tests/simulation_data.ipynb#W4sdnNjb2RlLXJlbW90ZQ%3D%3D?line=8'>9</a>\u001b[0m \u001b[39mfor\u001b[39;00m sim \u001b[39min\u001b[39;00m sim_list3:\n\u001b[1;32m     <a href='vscode-notebook-cell://ssh-remote%2Bperlmutter-p1.nersc.gov/global/homes/j/joeschm/fusion_research/GENE_sim_reader/tests/src_tests/simulation_data.ipynb#W4sdnNjb2RlLXJlbW90ZQ%3D%3D?line=10'>11</a>\u001b[0m     sim_key_list \u001b[39m=\u001b[39m [\u001b[39m'\u001b[39m\u001b[39mdirectory\u001b[39m\u001b[39m'\u001b[39m, \u001b[39m'\u001b[39m\u001b[39msuffix\u001b[39m\u001b[39m'\u001b[39m, \u001b[39m'\u001b[39m\u001b[39mstatus\u001b[39m\u001b[39m'\u001b[39m, \u001b[39m'\u001b[39m\u001b[39msimulation_filepaths\u001b[39m\u001b[39m'\u001b[39m, \u001b[39m'\u001b[39m\u001b[39mkey_list\u001b[39m\u001b[39m'\u001b[39m, \u001b[39m'\u001b[39m\u001b[39mparameters_dict\u001b[39m\u001b[39m'\u001b[39m, \u001b[39m'\u001b[39m\u001b[39momega_dict\u001b[39m\u001b[39m'\u001b[39m, \u001b[39m'\u001b[39m\u001b[39mnrg_dict\u001b[39m\u001b[39m'\u001b[39m]\n\u001b[0;32m---> <a href='vscode-notebook-cell://ssh-remote%2Bperlmutter-p1.nersc.gov/global/homes/j/joeschm/fusion_research/GENE_sim_reader/tests/src_tests/simulation_data.ipynb#W4sdnNjb2RlLXJlbW90ZQ%3D%3D?line=11'>12</a>\u001b[0m     \u001b[39massert\u001b[39;00m \u001b[39mlist\u001b[39m(sim\u001b[39m.\u001b[39mkeys()) \u001b[39m==\u001b[39m sim_key_list\n\u001b[1;32m     <a href='vscode-notebook-cell://ssh-remote%2Bperlmutter-p1.nersc.gov/global/homes/j/joeschm/fusion_research/GENE_sim_reader/tests/src_tests/simulation_data.ipynb#W4sdnNjb2RlLXJlbW90ZQ%3D%3D?line=13'>14</a>\u001b[0m     \u001b[39m# check that all the time and density values match the given criteria\u001b[39;00m\n\u001b[1;32m     <a href='vscode-notebook-cell://ssh-remote%2Bperlmutter-p1.nersc.gov/global/homes/j/joeschm/fusion_research/GENE_sim_reader/tests/src_tests/simulation_data.ipynb#W4sdnNjb2RlLXJlbW90ZQ%3D%3D?line=14'>15</a>\u001b[0m     \u001b[39massert\u001b[39;00m \u001b[39mall\u001b[39m(sim[\u001b[39m'\u001b[39m\u001b[39mnrg_dict\u001b[39m\u001b[39m'\u001b[39m][\u001b[39m'\u001b[39m\u001b[39mtime\u001b[39m\u001b[39m'\u001b[39m] \u001b[39m<\u001b[39m \u001b[39m0.05\u001b[39m)\n",
      "\u001b[0;31mAssertionError\u001b[0m: "
     ]
    }
   ],
   "source": [
    "filepath = '/pscratch/sd/j/joeschm/NSXTU_discharges/X_TEST'\n",
    "\n",
    "crit3 = ['time<0.05', 'gamma>0', 'Q_ES < 3e-2', 'Q_EM', 'Gamma_ES']\n",
    "\n",
    "sim_list3, _ = filepath_to_simulation_dict_list(filepath, crit3, ['e', 'i'])\n",
    "\n",
    "print(len(sim_list3))\n",
    "\n",
    "for sim in sim_list3:\n",
    "\n",
    "    sim_key_list = ['directory', 'suffix', 'status', 'simulation_filepaths', 'key_list', 'parameters_dict', 'omega_dict', 'nrg_dict']\n",
    "    assert list(sim.keys()) == sim_key_list\n",
    "\n",
    "    # check that all the time and density values match the given criteria\n",
    "    assert all(sim['nrg_dict']['time'] < 0.05)\n",
    "    assert sim['omega_dict']['gamma'] > 0\n",
    "    assert all(sim['nrg_dict']['Q_ES1'] < 3e-2)\n",
    "    assert all(sim['nrg_dict']['Q_ES2'] < 3e-2)\n",
    "\n",
    "    print(sim['directory'])\n",
    "\n"
   ]
  },
  {
   "cell_type": "code",
   "execution_count": 3,
   "metadata": {},
   "outputs": [
    {
     "name": "stdout",
     "output_type": "stream",
     "text": [
      "number of simulations fetched: 1 \n",
      "\n",
      "dict_keys(['directory', 'suffix', 'status', 'simulation_filepaths', 'key_list', 'species_info', 'parameters_dict', 'nrg_dict'])\n",
      "Q_ES1 [359.79]\n",
      "Q_EM1 [-13.626]\n",
      "Q_ES2 [185.64]\n",
      "Q_EM2 [33.435]\n",
      "Q_ES3 [49.465]\n",
      "Q_EM3 [-0.74485]\n",
      "time [334.86892]\n",
      "nrg dict keys: ['Q_ES1', 'Q_EM1', 'Q_ES2', 'Q_EM2', 'Q_ES3', 'Q_EM3', 'time', 'filepath', 'key_list'] \n",
      "\n"
     ]
    }
   ],
   "source": [
    "single_filepath = '/pscratch/sd/j/joeschm/NSXTU_discharges/129015/r_0.936008_OM_top/MTM_limit/kymin_0.1/scanfiles0000/parameters_0007'\n",
    "# scanfile_filepath = '/pscratch/sd/j/joeschm/NSXTU_discharges/129015/r_0.936008_OM_top/MTM_limit/kymin_0.1/scanfiles0000'\n",
    "\n",
    "# crit4 = ['status==CONVERGED','time==last', 'Q_ES', 'Q_EM', \"collision_op=='landau'\"]\n",
    "\n",
    "crit4 = ['status==CONVERGED','time==last', 'Q_ES', 'Q_EM', 'collision_op==landau']\n",
    "sim_list4, crit_list = filepath_to_simulation_dict_list(single_filepath, criteria_list=crit4)\n",
    "# sim_list4, crit_list = filepath_to_simulation_dict_list(scanfile_filepath, criteria_list=crit4)\n",
    "\n",
    "print('number of simulations fetched:', len(sim_list4), '\\n')\n",
    "\n",
    "for sim in sim_list4:\n",
    "\n",
    "    print(sim.keys())\n",
    "\n",
    "    for nrg_key in sim['nrg_dict'].keys():\n",
    "        if ('Q_ES' in nrg_key) or ('Q_EM' in nrg_key) or ('time'==nrg_key):\n",
    "\n",
    "            print(nrg_key, sim['nrg_dict'][nrg_key])\n",
    "            assert len(sim['nrg_dict'][nrg_key]) == 1\n",
    "\n",
    "    print('nrg dict keys:', list(sim['nrg_dict'].keys()), '\\n')\n"
   ]
  },
  {
   "cell_type": "code",
   "execution_count": null,
   "metadata": {},
   "outputs": [
    {
     "name": "stdout",
     "output_type": "stream",
     "text": [
      "<class 'numpy.float64'> \n",
      "\n",
      "0    1.042500e+03\n",
      "1    4.879100e+26\n",
      "2    3.597900e+02\n",
      "Name: Q_ES1, dtype: float64 \n",
      "\n",
      "0    245.20910\n",
      "1     96.63552\n",
      "2    334.86892\n",
      "Name: time, dtype: float64 \n",
      "\n"
     ]
    }
   ],
   "source": [
    "path1 = '/pscratch/sd/j/joeschm/NSXTU_discharges/129015/r_0.936008_OM_top/MTM_limit/kymin_0.1/scanfiles0000/parameters_0007'\n",
    "path2 = '/pscratch/sd/j/joeschm/NSXTU_discharges/129015/r_0.936008_OM_top/MTM_limit/kymin_0.1/scanfiles0000/parameters_0005'\n",
    "path3 = '/pscratch/sd/j/joeschm/NSXTU_discharges/129015/r_0.936008_OM_top/MTM_limit/kymin_0.1/scanfiles0000/parameters_0006'\n",
    "\n",
    "path_list = [path1, path2, path3]\n",
    "\n",
    "crit4 = ['status==CONVERGED', 'Q_ES', 'Q_EM', 'time==last']\n",
    "\n",
    "sim_df = sim_filepath_to_df(path_list, crit4)\n",
    "\n",
    "\n",
    "\n",
    "print(type(sim_df['Q_ES1'][0]), '\\n')\n",
    "print(sim_df['Q_ES1'], '\\n')\n",
    "print(sim_df['time'], '\\n')\n",
    "\n",
    "# print(len(sim_df['time'][0]), len(sim_df['time'][1]), len(sim_df['time'][2]))"
   ]
  },
  {
   "cell_type": "code",
   "execution_count": null,
   "metadata": {},
   "outputs": [],
   "source": []
  }
 ],
 "metadata": {
  "kernelspec": {
   "display_name": "jupyter_env",
   "language": "python",
   "name": "python3"
  },
  "language_info": {
   "codemirror_mode": {
    "name": "ipython",
    "version": 3
   },
   "file_extension": ".py",
   "mimetype": "text/x-python",
   "name": "python",
   "nbconvert_exporter": "python",
   "pygments_lexer": "ipython3",
   "version": "3.11.4"
  },
  "orig_nbformat": 4
 },
 "nbformat": 4,
 "nbformat_minor": 2
}
