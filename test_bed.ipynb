{
 "cells": [
  {
   "cell_type": "code",
   "execution_count": 1,
   "id": "a3dda1be-56ca-4692-a269-bb1ed94989b4",
   "metadata": {
    "tags": []
   },
   "outputs": [
    {
     "ename": "ModuleNotFoundError",
     "evalue": "No module named 'pyrokinetics'",
     "output_type": "error",
     "traceback": [
      "\u001b[0;31m---------------------------------------------------------------------------\u001b[0m",
      "\u001b[0;31mModuleNotFoundError\u001b[0m                       Traceback (most recent call last)",
      "\u001b[1;32m/global/homes/j/joeschm/fusion_research/test_bed.ipynb Cell 1\u001b[0m line \u001b[0;36m1\n\u001b[0;32m----> <a href='vscode-notebook-cell://ssh-remote%2Bperlmutter-p1.nersc.gov/global/homes/j/joeschm/fusion_research/test_bed.ipynb#W0sdnNjb2RlLXJlbW90ZQ%3D%3D?line=0'>1</a>\u001b[0m \u001b[39mfrom\u001b[39;00m \u001b[39mpyrokinetics\u001b[39;00m \u001b[39mimport\u001b[39;00m Pyro\n\u001b[1;32m      <a href='vscode-notebook-cell://ssh-remote%2Bperlmutter-p1.nersc.gov/global/homes/j/joeschm/fusion_research/test_bed.ipynb#W0sdnNjb2RlLXJlbW90ZQ%3D%3D?line=1'>2</a>\u001b[0m \u001b[39mfrom\u001b[39;00m \u001b[39mpyrokinetics\u001b[39;00m\u001b[39m.\u001b[39;00m\u001b[39mgk_code\u001b[39;00m \u001b[39mimport\u001b[39;00m GKInputGENE\n\u001b[1;32m      <a href='vscode-notebook-cell://ssh-remote%2Bperlmutter-p1.nersc.gov/global/homes/j/joeschm/fusion_research/test_bed.ipynb#W0sdnNjb2RlLXJlbW90ZQ%3D%3D?line=3'>4</a>\u001b[0m gene_template \u001b[39m=\u001b[39m \u001b[39m\"\u001b[39m\u001b[39m/pscratch/sd/j/joeschm/NSXTU_discharges/X_TEST/pyro_test/scanfiles0003/parameters_0001\u001b[39m\u001b[39m\"\u001b[39m\n",
      "\u001b[0;31mModuleNotFoundError\u001b[0m: No module named 'pyrokinetics'"
     ]
    }
   ],
   "source": [
    "from pyrokinetics import Pyro\n",
    "from pyrokinetics.gk_code import GKInputGENE\n",
    "\n",
    "gene_template = \"/pscratch/sd/j/joeschm/NSXTU_discharges/X_TEST/pyro_test/scanfiles0003/parameters_0001\"\n",
    "\n",
    "# gene_template = \"/path/to/gene/parameters.dat\"\n",
    "gene_data_dir = gene_template.parent\n",
    "\n",
    "print(gene_data_dir)\n",
    "\n",
    "# gene = GKInputGENE()\n",
    "# gene.read_from_file(gene_template)\n",
    "\n",
    "# # Save original file and modify new one\n",
    "# gene.write(gene_data_dir / \"original_parameters.dat\")\n",
    "\n",
    "# if gene.data[\"geometry\"][\"magn_geometry\"] != \"miller\":\n",
    "#     gene.data[\"geometry\"][\"magn_geometry\"] = \"miller\"\n",
    "\n",
    "# if \"simtimelim\" not in gene.data[\"general\"].keys():\n",
    "#     gene.data[\"general\"][\"simtimelim\"] = 10000\n",
    "\n",
    "# if \"trpeps\" not in gene.data[\"geometry\"].keys():\n",
    "#     gene.data[\"geometry\"][\"trpeps\"] = 0.1\n",
    "\n",
    "# gene.write(gene_data_dir / gene_template)\n",
    "\n",
    "# pyro = Pyro(gk_file=gene_template)\n",
    "# pyro.load_gk_output()"
   ]
  },
  {
   "cell_type": "code",
   "execution_count": 2,
   "id": "bb74ed2f",
   "metadata": {},
   "outputs": [
    {
     "ename": "ModuleNotFoundError",
     "evalue": "No module named 'pyrokinetics'",
     "output_type": "error",
     "traceback": [
      "\u001b[0;31m---------------------------------------------------------------------------\u001b[0m",
      "\u001b[0;31mModuleNotFoundError\u001b[0m                       Traceback (most recent call last)",
      "\u001b[1;32m/global/homes/j/joeschm/fusion_research/test_bed.ipynb Cell 2\u001b[0m line \u001b[0;36m1\n\u001b[0;32m----> <a href='vscode-notebook-cell://ssh-remote%2Bperlmutter-p1.nersc.gov/global/homes/j/joeschm/fusion_research/test_bed.ipynb#W1sdnNjb2RlLXJlbW90ZQ%3D%3D?line=0'>1</a>\u001b[0m \u001b[39mfrom\u001b[39;00m \u001b[39mpyrokinetics\u001b[39;00m \u001b[39mimport\u001b[39;00m Pyro\n",
      "\u001b[0;31mModuleNotFoundError\u001b[0m: No module named 'pyrokinetics'"
     ]
    }
   ],
   "source": [
    "from pyrokinetics import Pyro"
   ]
  },
  {
   "cell_type": "code",
   "execution_count": 3,
   "id": "5c024dd0",
   "metadata": {},
   "outputs": [
    {
     "ename": "NameError",
     "evalue": "name 'Pyro' is not defined",
     "output_type": "error",
     "traceback": [
      "\u001b[0;31m---------------------------------------------------------------------------\u001b[0m",
      "\u001b[0;31mNameError\u001b[0m                                 Traceback (most recent call last)",
      "\u001b[1;32m/global/homes/j/joeschm/fusion_research/test_bed.ipynb Cell 3\u001b[0m line \u001b[0;36m7\n\u001b[1;32m      <a href='vscode-notebook-cell://ssh-remote%2Bperlmutter-p1.nersc.gov/global/homes/j/joeschm/fusion_research/test_bed.ipynb#W2sdnNjb2RlLXJlbW90ZQ%3D%3D?line=1'>2</a>\u001b[0m gene_file \u001b[39m=\u001b[39m \u001b[39m'\u001b[39m\u001b[39m/pscratch/sd/j/joeschm/NSXTU_discharges/X_TEST/pyro_test/scanfiles0003/parameters_0001\u001b[39m\u001b[39m'\u001b[39m\n\u001b[1;32m      <a href='vscode-notebook-cell://ssh-remote%2Bperlmutter-p1.nersc.gov/global/homes/j/joeschm/fusion_research/test_bed.ipynb#W2sdnNjb2RlLXJlbW90ZQ%3D%3D?line=5'>6</a>\u001b[0m \u001b[39m# Load in file\u001b[39;00m\n\u001b[0;32m----> <a href='vscode-notebook-cell://ssh-remote%2Bperlmutter-p1.nersc.gov/global/homes/j/joeschm/fusion_research/test_bed.ipynb#W2sdnNjb2RlLXJlbW90ZQ%3D%3D?line=6'>7</a>\u001b[0m pyro \u001b[39m=\u001b[39m Pyro(gk_file\u001b[39m=\u001b[39mgene_file, gk_code\u001b[39m=\u001b[39m\u001b[39m\"\u001b[39m\u001b[39mGENE\u001b[39m\u001b[39m\"\u001b[39m)\n\u001b[1;32m     <a href='vscode-notebook-cell://ssh-remote%2Bperlmutter-p1.nersc.gov/global/homes/j/joeschm/fusion_research/test_bed.ipynb#W2sdnNjb2RlLXJlbW90ZQ%3D%3D?line=9'>10</a>\u001b[0m \u001b[39m# Load in GS2 output data\u001b[39;00m\n\u001b[1;32m     <a href='vscode-notebook-cell://ssh-remote%2Bperlmutter-p1.nersc.gov/global/homes/j/joeschm/fusion_research/test_bed.ipynb#W2sdnNjb2RlLXJlbW90ZQ%3D%3D?line=10'>11</a>\u001b[0m pyro\u001b[39m.\u001b[39mload_gk_output()\n",
      "\u001b[0;31mNameError\u001b[0m: name 'Pyro' is not defined"
     ]
    }
   ],
   "source": [
    "# Point to GENE input file\n",
    "gene_file = '/pscratch/sd/j/joeschm/NSXTU_discharges/X_TEST/pyro_test/scanfiles0003/parameters_0001'\n",
    "\n",
    "\n",
    "\n",
    "# Load in file\n",
    "pyro = Pyro(gk_file=gene_file, gk_code=\"GENE\")\n",
    "\n",
    "\n",
    "# Load in GS2 output data\n",
    "pyro.load_gk_output()\n",
    "data = pyro.gk_output"
   ]
  },
  {
   "cell_type": "code",
   "execution_count": null,
   "id": "65502220",
   "metadata": {},
   "outputs": [
    {
     "name": "stdout",
     "output_type": "stream",
     "text": [
      "<pyrokinetics.GKOutput>\n",
      "(Wraps <xarray.Dataset>)\n",
      "Dimensions:         (theta: 512, kx: 1, ky: 1, time: 9304, field: 3,\n",
      "                     species: 3, energy: 36, pitch: 8, flux: 3)\n",
      "Coordinates:\n",
      "  * time            (time) float64 0.0 0.000248 0.000496 ... 2.307 2.307 2.307\n",
      "  * kx              (kx) float64 0.0\n",
      "  * ky              (ky) float64 400.0\n",
      "  * theta           (theta) float64 -9.425 -9.376 -9.327 ... 15.56 15.61 15.66\n",
      "  * energy          (energy) float64 -1.0 -0.9429 -0.8857 ... 0.8857 0.9429 1.0\n",
      "  * pitch           (pitch) float64 -1.0 -0.7143 -0.4286 ... 0.4286 0.7143 1.0\n",
      "  * species         (species) <U8 'ion1' 'electron' 'ion2'\n",
      "  * field           (field) <U4 'phi' 'apar' 'bpar'\n",
      "  * flux            (flux) <U8 'particle' 'heat' 'momentum'\n",
      "Data variables:\n",
      "    phi             (theta, kx, ky, time) complex128 [([tref] / [mref])**(0.5) * [mref] / [bref_B0])·tref_electron/e/lref_minor_radius] ...\n",
      "    apar            (theta, kx, ky, time) complex128 [([tref] / [mref])**(0.5) * [mref] / [bref_B0])²·bref_B0/lref_minor_radius] ...\n",
      "    bpar            (theta, kx, ky, time) complex128 [([tref] / [mref])**(0.5) * [mref] / [bref_B0])·bref_B0/lref_minor_radius] ...\n",
      "    particle        (field, species, time) float64 [([tref] / [mref])**(0.5)·([tref] / [mref])**(0.5) * [mref] / [bref_B0])²·nref_electron/lref_minor_radius²/rad] ...\n",
      "    heat            (field, species, time) float64 [([tref] / [mref])**(0.5)·([tref] / [mref])**(0.5) * [mref] / [bref_B0])²·nref_electron·tref_electron/lref_minor_radius²/rad] ...\n",
      "    momentum        (field, species, time) float64 [([tref] / [mref])**(0.5) * [mref] / [bref_B0])²·nref_electron·tref_electron/lref_minor_radius/rad] ...\n",
      "    growth_rate     (kx, ky, time) float64 [lref_minor_radius/([tref] / [mref])**(0.5)] ...\n",
      "    mode_frequency  (kx, ky, time) float64 [lref_minor_radius/([tref] / [mref])**(0.5)] ...\n",
      "    eigenvalues     (kx, ky, time) complex128 [lref_minor_radius/([tref] / [mref])**(0.5)] ...\n",
      "    eigenfunctions  (field, theta, kx, ky, time) complex128 [] (0.00023595157...\n",
      "Attributes: (12/14)\n",
      "    linear:                 True\n",
      "    gk_code:                GENE\n",
      "    input_file:             &parallelization\\nn_procs_s =   1\\nn_procs_v =   ...\n",
      "    attribute_units:        {}\n",
      "    title:                  GKOutput\n",
      "    software_name:          Pyrokinetics\n",
      "    ...                     ...\n",
      "    object_uuid:            d7ba0423-14b1-46f7-b704-71a59d85f914\n",
      "    object_created:         2023-09-22 07:57:20.267231\n",
      "    session_uuid:           a0ea4f40-ee11-4057-b1f2-fceea15746f1\n",
      "    session_started:        2023-09-22 07:56:02.627401\n",
      "    netcdf4_version:        1.6.4\n",
      "    growth_rate_tolerance:  <xarray.DataArray 'time' ()>\\n<Quantity(0.0041773...\n"
     ]
    }
   ],
   "source": [
    "print(data)"
   ]
  },
  {
   "cell_type": "code",
   "execution_count": null,
   "id": "649683c4",
   "metadata": {},
   "outputs": [
    {
     "name": "stdout",
     "output_type": "stream",
     "text": [
      "<xarray.DataArray 'eigenfunctions' (theta: 512, kx: 1, ky: 1)>\n",
      "<Quantity([[[-1.63179547e-21]]\n",
      "\n",
      " [[ 2.84451652e-20]]\n",
      "\n",
      " [[ 9.75411962e-20]]\n",
      "\n",
      " [[-1.68961494e-18]]\n",
      "\n",
      " [[-3.40553471e-18]]\n",
      "\n",
      " [[-5.71680392e-17]]\n",
      "\n",
      " [[ 4.81625377e-16]]\n",
      "\n",
      " [[ 4.36537963e-16]]\n",
      "\n",
      " [[-9.75541673e-16]]\n",
      "\n",
      " [[ 1.54342140e-14]]\n",
      "\n",
      "...\n",
      "\n",
      " [[-1.45184866e-18]]\n",
      "\n",
      " [[-5.18897518e-19]]\n",
      "\n",
      " [[-1.92413496e-20]]\n",
      "\n",
      " [[ 3.16634954e-23]]\n",
      "\n",
      " [[ 9.05180910e-24]]\n",
      "\n",
      " [[-2.74991674e-25]]\n",
      "\n",
      " [[ 2.23791675e-27]]\n",
      "\n",
      " [[ 1.32056826e-29]]\n",
      "\n",
      " [[ 1.65580677e-27]]\n",
      "\n",
      " [[-9.56800016e-28]]], 'dimensionless')>\n",
      "Coordinates:\n",
      "    time     float64 2.307\n",
      "  * kx       (kx) float64 0.0\n",
      "  * ky       (ky) float64 400.0\n",
      "  * theta    (theta) float64 -9.425 -9.376 -9.327 -9.278 ... 15.56 15.61 15.66\n",
      "    field    <U4 'phi'\n",
      "Attributes:\n",
      "    long_name:  Eigenfunctions\n"
     ]
    },
    {
     "ename": "TypeError",
     "evalue": "Axes.hist() got multiple values for argument 'x'",
     "output_type": "error",
     "traceback": [
      "\u001b[0;31m---------------------------------------------------------------------------\u001b[0m",
      "\u001b[0;31mTypeError\u001b[0m                                 Traceback (most recent call last)",
      "\u001b[1;32m/global/homes/j/joeschm/fusion_research/test_bed.ipynb Cell 5\u001b[0m line \u001b[0;36m2\n\u001b[1;32m     <a href='vscode-notebook-cell://ssh-remote%2Bperlmutter-p1.nersc.gov/global/homes/j/joeschm/fusion_research/test_bed.ipynb#X10sdnNjb2RlLXJlbW90ZQ%3D%3D?line=19'>20</a>\u001b[0m \u001b[39mprint\u001b[39m(phi_eig)\n\u001b[1;32m     <a href='vscode-notebook-cell://ssh-remote%2Bperlmutter-p1.nersc.gov/global/homes/j/joeschm/fusion_research/test_bed.ipynb#X10sdnNjb2RlLXJlbW90ZQ%3D%3D?line=21'>22</a>\u001b[0m phi_eig \u001b[39m=\u001b[39m phi_eig[np\u001b[39m.\u001b[39mwhere(\u001b[39mabs\u001b[39m(phi_eig) \u001b[39m<\u001b[39m \u001b[39m0.1\u001b[39m)]\n\u001b[0;32m---> <a href='vscode-notebook-cell://ssh-remote%2Bperlmutter-p1.nersc.gov/global/homes/j/joeschm/fusion_research/test_bed.ipynb#X10sdnNjb2RlLXJlbW90ZQ%3D%3D?line=22'>23</a>\u001b[0m phi_eig\u001b[39m.\u001b[39mplot(x\u001b[39m=\u001b[39m\u001b[39m\"\u001b[39m\u001b[39mtheta\u001b[39m\u001b[39m\"\u001b[39m, label\u001b[39m=\u001b[39m\u001b[39m\"\u001b[39m\u001b[39mReal\u001b[39m\u001b[39m\"\u001b[39m)\n\u001b[1;32m     <a href='vscode-notebook-cell://ssh-remote%2Bperlmutter-p1.nersc.gov/global/homes/j/joeschm/fusion_research/test_bed.ipynb#X10sdnNjb2RlLXJlbW90ZQ%3D%3D?line=24'>25</a>\u001b[0m \u001b[39m# phi_i_eig = np.imag(data[\"eigenfunctions\"].sel(field=\"phi\").isel(time=-1))\u001b[39;00m\n\u001b[1;32m     <a href='vscode-notebook-cell://ssh-remote%2Bperlmutter-p1.nersc.gov/global/homes/j/joeschm/fusion_research/test_bed.ipynb#X10sdnNjb2RlLXJlbW90ZQ%3D%3D?line=25'>26</a>\u001b[0m \u001b[39m# phi_i_eig.plot(x=\"theta\", label=\"Imag\")\u001b[39;00m\n\u001b[1;32m     <a href='vscode-notebook-cell://ssh-remote%2Bperlmutter-p1.nersc.gov/global/homes/j/joeschm/fusion_research/test_bed.ipynb#X10sdnNjb2RlLXJlbW90ZQ%3D%3D?line=27'>28</a>\u001b[0m plt\u001b[39m.\u001b[39mlegend()\n",
      "File \u001b[0;32m~/.local/perlmutter/3.9-anaconda-2021.11/lib/python3.11/site-packages/xarray/plot/accessor.py:47\u001b[0m, in \u001b[0;36mDataArrayPlotAccessor.__call__\u001b[0;34m(self, **kwargs)\u001b[0m\n\u001b[1;32m     45\u001b[0m \u001b[39m@functools\u001b[39m\u001b[39m.\u001b[39mwraps(dataarray_plot\u001b[39m.\u001b[39mplot, assigned\u001b[39m=\u001b[39m(\u001b[39m\"\u001b[39m\u001b[39m__doc__\u001b[39m\u001b[39m\"\u001b[39m, \u001b[39m\"\u001b[39m\u001b[39m__annotations__\u001b[39m\u001b[39m\"\u001b[39m))\n\u001b[1;32m     46\u001b[0m \u001b[39mdef\u001b[39;00m \u001b[39m__call__\u001b[39m(\u001b[39mself\u001b[39m, \u001b[39m*\u001b[39m\u001b[39m*\u001b[39mkwargs) \u001b[39m-\u001b[39m\u001b[39m>\u001b[39m Any:\n\u001b[0;32m---> 47\u001b[0m     \u001b[39mreturn\u001b[39;00m dataarray_plot\u001b[39m.\u001b[39mplot(\u001b[39mself\u001b[39m\u001b[39m.\u001b[39m_da, \u001b[39m*\u001b[39m\u001b[39m*\u001b[39mkwargs)\n",
      "File \u001b[0;32m~/.local/perlmutter/3.9-anaconda-2021.11/lib/python3.11/site-packages/xarray/plot/dataarray_plot.py:306\u001b[0m, in \u001b[0;36mplot\u001b[0;34m(darray, row, col, col_wrap, ax, hue, subplot_kws, **kwargs)\u001b[0m\n\u001b[1;32m    302\u001b[0m     plotfunc \u001b[39m=\u001b[39m hist\n\u001b[1;32m    304\u001b[0m kwargs[\u001b[39m\"\u001b[39m\u001b[39max\u001b[39m\u001b[39m\"\u001b[39m] \u001b[39m=\u001b[39m ax\n\u001b[0;32m--> 306\u001b[0m \u001b[39mreturn\u001b[39;00m plotfunc(darray, \u001b[39m*\u001b[39m\u001b[39m*\u001b[39mkwargs)\n",
      "File \u001b[0;32m~/.local/perlmutter/3.9-anaconda-2021.11/lib/python3.11/site-packages/xarray/plot/dataarray_plot.py:711\u001b[0m, in \u001b[0;36mhist\u001b[0;34m(darray, figsize, size, aspect, ax, xincrease, yincrease, xscale, yscale, xticks, yticks, xlim, ylim, *args, **kwargs)\u001b[0m\n\u001b[1;32m    708\u001b[0m no_nan \u001b[39m=\u001b[39m np\u001b[39m.\u001b[39mravel(darray\u001b[39m.\u001b[39mto_numpy())\n\u001b[1;32m    709\u001b[0m no_nan \u001b[39m=\u001b[39m no_nan[pd\u001b[39m.\u001b[39mnotnull(no_nan)]\n\u001b[0;32m--> 711\u001b[0m primitive \u001b[39m=\u001b[39m ax\u001b[39m.\u001b[39mhist(no_nan, \u001b[39m*\u001b[39m\u001b[39m*\u001b[39mkwargs)\n\u001b[1;32m    713\u001b[0m ax\u001b[39m.\u001b[39mset_title(darray\u001b[39m.\u001b[39m_title_for_slice())\n\u001b[1;32m    714\u001b[0m ax\u001b[39m.\u001b[39mset_xlabel(label_from_attrs(darray))\n",
      "File \u001b[0;32m~/.conda/envs/jupyter_env/lib/python3.11/site-packages/matplotlib/__init__.py:1446\u001b[0m, in \u001b[0;36m_preprocess_data.<locals>.inner\u001b[0;34m(ax, data, *args, **kwargs)\u001b[0m\n\u001b[1;32m   1443\u001b[0m \u001b[39m@functools\u001b[39m\u001b[39m.\u001b[39mwraps(func)\n\u001b[1;32m   1444\u001b[0m \u001b[39mdef\u001b[39;00m \u001b[39minner\u001b[39m(ax, \u001b[39m*\u001b[39margs, data\u001b[39m=\u001b[39m\u001b[39mNone\u001b[39;00m, \u001b[39m*\u001b[39m\u001b[39m*\u001b[39mkwargs):\n\u001b[1;32m   1445\u001b[0m     \u001b[39mif\u001b[39;00m data \u001b[39mis\u001b[39;00m \u001b[39mNone\u001b[39;00m:\n\u001b[0;32m-> 1446\u001b[0m         \u001b[39mreturn\u001b[39;00m func(ax, \u001b[39m*\u001b[39m\u001b[39mmap\u001b[39m(sanitize_sequence, args), \u001b[39m*\u001b[39m\u001b[39m*\u001b[39mkwargs)\n\u001b[1;32m   1448\u001b[0m     bound \u001b[39m=\u001b[39m new_sig\u001b[39m.\u001b[39mbind(ax, \u001b[39m*\u001b[39margs, \u001b[39m*\u001b[39m\u001b[39m*\u001b[39mkwargs)\n\u001b[1;32m   1449\u001b[0m     auto_label \u001b[39m=\u001b[39m (bound\u001b[39m.\u001b[39marguments\u001b[39m.\u001b[39mget(label_namer)\n\u001b[1;32m   1450\u001b[0m                   \u001b[39mor\u001b[39;00m bound\u001b[39m.\u001b[39mkwargs\u001b[39m.\u001b[39mget(label_namer))\n",
      "\u001b[0;31mTypeError\u001b[0m: Axes.hist() got multiple values for argument 'x'"
     ]
    },
    {
     "data": {
      "image/png": "[encoded data removed]",
      "text/plain": [
       "<Figure size 640x480 with 1 Axes>"
      ]
     },
     "metadata": {},
     "output_type": "display_data"
    }
   ],
   "source": [
    "import matplotlib.pyplot as plt\n",
    "import numpy as np\n",
    "\n",
    "\n",
    "\n",
    "\n",
    "# # Get eigenvalues\n",
    "# eigenvalues = data[\"eigenvalues\"]\n",
    "# growth_rate = data[\"growth_rate\"]\n",
    "# mode_freq = data[\"mode_frequency\"]\n",
    "\n",
    "# mode_freq.plot(x=\"time\")\n",
    "# plt.show()\n",
    "\n",
    "\n",
    "\n",
    "# Plot eigenfunction\n",
    "phi_eig = np.real(data[\"eigenfunctions\"].sel(field=\"phi\").isel(time=-1))\n",
    "\n",
    "print(phi_eig)\n",
    "\n",
    "phi_eig = phi_eig[np.where(abs(phi_eig) < 0.1)]\n",
    "phi_eig.plot(x=\"theta\", label=\"Real\")\n",
    "\n",
    "# phi_i_eig = np.imag(data[\"eigenfunctions\"].sel(field=\"phi\").isel(time=-1))\n",
    "# phi_i_eig.plot(x=\"theta\", label=\"Imag\")\n",
    "\n",
    "plt.legend()\n",
    "plt.show()"
   ]
  },
  {
   "cell_type": "code",
   "execution_count": null,
   "id": "329fa165",
   "metadata": {},
   "outputs": [],
   "source": []
  },
  {
   "cell_type": "code",
   "execution_count": null,
   "id": "f36d86c2",
   "metadata": {},
   "outputs": [],
   "source": []
  },
  {
   "cell_type": "code",
   "execution_count": null,
   "id": "f7292936",
   "metadata": {},
   "outputs": [],
   "source": []
  },
  {
   "cell_type": "code",
   "execution_count": null,
   "id": "6e3b35be",
   "metadata": {},
   "outputs": [],
   "source": []
  }
 ],
 "metadata": {
  "kernelspec": {
   "display_name": "NERSC Python",
   "language": "python",
   "name": "python3"
  },
  "language_info": {
   "codemirror_mode": {
    "name": "ipython",
    "version": 3
   },
   "file_extension": ".py",
   "mimetype": "text/x-python",
   "name": "python",
   "nbconvert_exporter": "python",
   "pygments_lexer": "ipython3",
   "version": "3.11.4"
  }
 },
 "nbformat": 4,
 "nbformat_minor": 5
}
