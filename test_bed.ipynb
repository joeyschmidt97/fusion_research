{
 "cells": [
  {
   "cell_type": "code",
   "execution_count": 1,
   "id": "20b9acd2-ca63-49d0-a6d9-9413bb7bc34f",
   "metadata": {},
   "outputs": [],
   "source": [
    "import os\n",
    "import sys\n",
    "sys.path.insert(1, '/global/u1/j/joeschm/fusion_research/GENE_code_V3')\n",
    "from GP_simulation_data_V3 import filepath_to_simulation_dict_list, printout_simulation_data, species_value_from_simulation"
   ]
  },
  {
   "cell_type": "code",
   "execution_count": 2,
   "id": "0e16d49d-3bb2-477c-b3b1-7ac5cb1f095d",
   "metadata": {
    "tags": []
   },
   "outputs": [
    {
     "name": "stdout",
     "output_type": "stream",
     "text": [
      "{'filename': 'omega.dat', 'filepath': '/pscratch/sd/j/joeschm/NSXTU_discharges/X_TEST/TEST_3spec_k1', 'suffix': '.dat', 'status': 'NOT CONVERGED'}\n",
      "{'filename': 'omega.dat', 'filepath': '/pscratch/sd/j/joeschm/NSXTU_discharges/X_TEST/TEST_3spec_k10', 'suffix': '.dat', 'status': 'NOT CONVERGED'}\n",
      "{'kymin': 100.0, 'gamma': 12.923, 'omega': -31.659, 'filename': 'omega.dat', 'filepath': '/pscratch/sd/j/joeschm/NSXTU_discharges/X_TEST/TEST_3spec_k100', 'suffix': '.dat', 'status': 'CONVERGED'}\n",
      "{'filename': 'omega_0001', 'filepath': '/pscratch/sd/j/joeschm/NSXTU_discharges/X_TEST/scanfiles0002', 'suffix': '0001', 'status': 'NOT CONVERGED'}\n",
      "{'filename': 'omega_0002', 'filepath': '/pscratch/sd/j/joeschm/NSXTU_discharges/X_TEST/scanfiles0002', 'suffix': '0002', 'status': 'NOT CONVERGED'}\n",
      "{'kymin': 100.0, 'gamma': 12.923160956480107, 'omega': -31.660854197157178, 'filename': 'omega_0003', 'filepath': '/pscratch/sd/j/joeschm/NSXTU_discharges/X_TEST/scanfiles0002', 'suffix': '0003', 'status': 'CONVERGED'}\n",
      "{'filename': 'omega_0001', 'filepath': '/pscratch/sd/j/joeschm/NSXTU_discharges/X_TEST/scanfiles0003', 'suffix': '0001', 'status': 'NOT CONVERGED'}\n",
      "{'filename': 'omega_0002', 'filepath': '/pscratch/sd/j/joeschm/NSXTU_discharges/X_TEST/scanfiles0003', 'suffix': '0002', 'status': 'NOT CONVERGED'}\n",
      "{'kymin': 100.0, 'gamma': 12.923, 'omega': -31.659, 'filename': 'omega_0003', 'filepath': '/pscratch/sd/j/joeschm/NSXTU_discharges/X_TEST/scanfiles0003', 'suffix': '0003', 'status': 'CONVERGED'}\n",
      "{'filename': 'omega_0001', 'filepath': '/pscratch/sd/j/joeschm/NSXTU_discharges/X_TEST/scanfiles0004', 'suffix': '0001', 'status': 'NOT CONVERGED'}\n",
      "{'kymin': 0.3, 'gamma': 0.154, 'omega': -3.277, 'filename': 'omega_0002', 'filepath': '/pscratch/sd/j/joeschm/NSXTU_discharges/X_TEST/scanfiles0004', 'suffix': '0002', 'status': 'CONVERGED'}\n",
      "{'kymin': 0.5, 'gamma': 0.171, 'omega': -2.191, 'filename': 'omega_0003', 'filepath': '/pscratch/sd/j/joeschm/NSXTU_discharges/X_TEST/scanfiles0004', 'suffix': '0003', 'status': 'CONVERGED'}\n",
      "{'kymin': 0.7, 'gamma': 0.05, 'omega': -2.152, 'filename': 'omega_0004', 'filepath': '/pscratch/sd/j/joeschm/NSXTU_discharges/X_TEST/scanfiles0004', 'suffix': '0004', 'status': 'CONVERGED'}\n",
      "{'kymin': 1.0, 'gamma': -0.021, 'omega': -0.057, 'filename': 'omega_0005', 'filepath': '/pscratch/sd/j/joeschm/NSXTU_discharges/X_TEST/scanfiles0004', 'suffix': '0005', 'status': 'CONVERGED'}\n",
      "{'kymin': 10.0, 'gamma': 0.0, 'omega': 0.0, 'filename': 'omega_0001', 'filepath': '/pscratch/sd/j/joeschm/NSXTU_discharges/X_TEST/scanfiles0005', 'suffix': '0001', 'status': 'CONVERGED'}\n",
      "{'kymin': 30.0, 'gamma': 0.557, 'omega': -5.522, 'filename': 'omega_0002', 'filepath': '/pscratch/sd/j/joeschm/NSXTU_discharges/X_TEST/scanfiles0005', 'suffix': '0002', 'status': 'CONVERGED'}\n",
      "{'kymin': 50.0, 'gamma': 3.026, 'omega': -11.039, 'filename': 'omega_0003', 'filepath': '/pscratch/sd/j/joeschm/NSXTU_discharges/X_TEST/scanfiles0005', 'suffix': '0003', 'status': 'CONVERGED'}\n",
      "{'kymin': 70.0, 'gamma': 7.004, 'omega': -18.326, 'filename': 'omega_0004', 'filepath': '/pscratch/sd/j/joeschm/NSXTU_discharges/X_TEST/scanfiles0005', 'suffix': '0004', 'status': 'CONVERGED'}\n",
      "{'kymin': 100.0, 'gamma': 12.923, 'omega': -31.659, 'filename': 'omega_0005', 'filepath': '/pscratch/sd/j/joeschm/NSXTU_discharges/X_TEST/scanfiles0005', 'suffix': '0005', 'status': 'CONVERGED'}\n",
      "{'kymin': 130.0, 'gamma': 17.245, 'omega': -47.178, 'filename': 'omega_0006', 'filepath': '/pscratch/sd/j/joeschm/NSXTU_discharges/X_TEST/scanfiles0005', 'suffix': '0006', 'status': 'CONVERGED'}\n"
     ]
    }
   ],
   "source": [
    "# filepath_list = ['/pscratch/sd/j/joeschm/NSXTU_discharges/129015/r_0.850026_NE_top/MTM_limit/kymin_0.1/scanfiles0000',\n",
    "#                  '/pscratch/sd/j/joeschm/NSXTU_discharges/129015/r_0.850026_NE_top/MTM_limit']\n",
    "\n",
    "# filepath_list = '/pscratch/sd/j/joeschm/NSXTU_discharges/129015/r_0.850026_NE_top/MTM_limit/kymin_0.1'\n",
    "\n",
    "filepath_list = '/pscratch/sd/j/joeschm/NSXTU_discharges/X_TEST'\n",
    "\n",
    "criteria_list = ['kymin', 'nx0', 'name2', 'coll', 'beta', 'omt2']\n",
    "\n",
    "sim_list = filepath_to_simulation_dict_list(filepath_list, criteria_list=criteria_list, load_files = ['omega'])\n",
    "sim_test = sim_list[0]\n",
    "\n",
    "for sim in sim_list:\n",
    "    print(sim['omega_dict'])\n"
   ]
  },
  {
   "cell_type": "code",
   "execution_count": null,
   "id": "fd00ba9e-746e-4a1f-b46e-c1ea0b647ad1",
   "metadata": {},
   "outputs": [],
   "source": []
  },
  {
   "cell_type": "code",
   "execution_count": null,
   "id": "5033d5a0-8c77-4edb-98b4-330fbd024dbc",
   "metadata": {},
   "outputs": [],
   "source": []
  }
 ],
 "metadata": {
  "kernelspec": {
   "display_name": "NERSC Python",
   "language": "python",
   "name": "python3"
  },
  "language_info": {
   "codemirror_mode": {
    "name": "ipython",
    "version": 3
   },
   "file_extension": ".py",
   "mimetype": "text/x-python",
   "name": "python",
   "nbconvert_exporter": "python",
   "pygments_lexer": "ipython3",
   "version": "3.9.7"
  }
 },
 "nbformat": 4,
 "nbformat_minor": 5
}
