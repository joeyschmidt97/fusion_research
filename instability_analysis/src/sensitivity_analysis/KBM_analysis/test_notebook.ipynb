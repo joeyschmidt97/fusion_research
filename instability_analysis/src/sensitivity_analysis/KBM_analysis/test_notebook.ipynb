{
 "cells": [
  {
   "cell_type": "code",
   "execution_count": 3,
   "metadata": {},
   "outputs": [],
   "source": [
    "from src.dict_simulation_data import sim_filepath_to_df"
   ]
  },
  {
   "cell_type": "code",
   "execution_count": 4,
   "metadata": {},
   "outputs": [],
   "source": [
    "filepath = '/pscratch/sd/j/joeschm/NSXTU_discharges/129038/r_0.909990_OM_top/MTM_limit/kymin_0.1/'\n",
    "\n",
    "criteria = ['time==last', 'Q_ES', 'Q_EM']\n",
    "\n",
    "sim_df = sim_filepath_to_df(filepath_list=filepath, criteria_list=criteria, load_spec='e')"
   ]
  },
  {
   "cell_type": "code",
   "execution_count": 11,
   "metadata": {},
   "outputs": [
    {
     "name": "stdout",
     "output_type": "stream",
     "text": [
      "0        [0.9995746903539384]\n",
      "1        [0.9992354928447058]\n",
      "2        [0.9995724973438824]\n",
      "3        [0.9992319775895364]\n",
      "4        [0.9995703069908385]\n",
      "5        [0.9992285605746635]\n",
      "6        [0.9995362920409914]\n",
      "7      [-0.07811232016940461]\n",
      "8        [0.9995340352339299]\n",
      "9      [-0.08382347396599177]\n",
      "10       [0.9995318276201234]\n",
      "11      [0.26175075987841945]\n",
      "12       [0.9994998595039901]\n",
      "13       [0.2172901990287942]\n",
      "14       [0.9994976910842547]\n",
      "15      [0.18687580708218318]\n",
      "16       [0.9994954846290265]\n",
      "17      [0.16672329091044988]\n",
      "18       [0.9994952990172103]\n",
      "19       [0.9994122472957461]\n",
      "20       [0.9993256966078555]\n",
      "21       [0.9994928104945106]\n",
      "22       [0.9994094299989513]\n",
      "23       [0.9993225480332416]\n",
      "24       [0.9994903366100426]\n",
      "25       [0.9994066605717904]\n",
      "26       [0.9993194141945553]\n",
      "27        [0.999454687554623]\n",
      "28       [0.9993695917267883]\n",
      "29       [0.9992811462034684]\n",
      "30       [0.9994522513901916]\n",
      "31       [0.9993666882012773]\n",
      "32       [0.9992772993237505]\n",
      "33        [0.999449879596903]\n",
      "34       [0.9993639371957788]\n",
      "35       [0.9992746851254389]\n",
      "36       [0.9994159514256747]\n",
      "37     [-0.04959702632024403]\n",
      "38    [-0.010219399277835127]\n",
      "39       [0.9994133746246816]\n",
      "40     [-0.05125130545778052]\n",
      "41       [0.2487428472342639]\n",
      "42       [0.9994110173284341]\n",
      "43      [0.30955251006064205]\n",
      "44       [0.2042740078196133]\n",
      "Name: norm_Q_ratio, dtype: object\n",
      "[0.99957469]\n"
     ]
    }
   ],
   "source": [
    "row_names = sim_df.columns.tolist()\n",
    "# print(row_names)\n",
    "\n",
    "Q_EM = sim_df['Q_EM2']\n",
    "Q_ES = sim_df['Q_ES2']\n",
    "\n",
    "norm_Q_ratio = Q_EM/(Q_EM + Q_ES)\n",
    "# norm_Q_ratio = Q_EM/Q_ES\n",
    "\n",
    "# print(norm_Q_ratio)\n",
    "# print(max(norm_Q_ratio))\n",
    "\n",
    "# print(len(norm_Q_ratio))\n",
    "# print((norm_Q_ratio < 0.5).sum())\n",
    "# print((norm_Q_ratio > 0.5).sum())\n",
    "\n",
    "sim_df['norm_Q_ratio'] = norm_Q_ratio\n",
    "\n",
    "print(sim_df['norm_Q_ratio'])\n",
    "print(max(sim_df['norm_Q_ratio']))\n",
    "\n"
   ]
  },
  {
   "cell_type": "code",
   "execution_count": null,
   "metadata": {},
   "outputs": [],
   "source": []
  },
  {
   "cell_type": "code",
   "execution_count": 2,
   "metadata": {},
   "outputs": [],
   "source": [
    "# def get_diff_abs_value(filepath, suffix):\n",
    "#     import os\n",
    "#     import subprocess\n",
    "#     os.chdir(filepath)\n",
    "\n",
    "#     # Get the full path to the script\n",
    "#     script_path = os.path.abspath('/global/homes/j/joeschm/ifs_scripts/plot_mode_structures.py')\n",
    "#     result = subprocess.run(['python', script_path, suffix, '-e'], stdout=subprocess.PIPE)  # Run the script with the specified arguments\n",
    "\n",
    "#     # Get the stdout as a string\n",
    "#     output = result.stdout.decode('utf-8')\n",
    "\n",
    "#     # Find the line that contains the \"diff/abs\" value\n",
    "#     diff_abs_line = [line for line in output.split('\\n') if 'diff/abs' in line][0]\n",
    "#     diff_abs_value = float(diff_abs_line.split()[-1])   # Extract the numerical value from the line\n",
    "\n",
    "#     return diff_abs_value\n",
    "\n",
    "\n",
    "# filepath = '/pscratch/sd/j/joeschm/NSXTU_discharges/129015/r_0.850026_NE_top/MTM_limit/kymin_0.1/scanfiles0000'\n",
    "\n",
    "# for i in range(1,10):\n",
    "#     suffix = '000' + str(i)\n",
    "#     # print(suffix)\n",
    "#     diff_abs = get_diff_abs_value(filepath, suffix)\n",
    "\n",
    "#     print(diff_abs)"
   ]
  },
  {
   "cell_type": "code",
   "execution_count": null,
   "metadata": {},
   "outputs": [],
   "source": []
  },
  {
   "cell_type": "code",
   "execution_count": null,
   "metadata": {},
   "outputs": [],
   "source": []
  }
 ],
 "metadata": {
  "kernelspec": {
   "display_name": "jupyter_env",
   "language": "python",
   "name": "python3"
  },
  "language_info": {
   "codemirror_mode": {
    "name": "ipython",
    "version": 3
   },
   "file_extension": ".py",
   "mimetype": "text/x-python",
   "name": "python",
   "nbconvert_exporter": "python",
   "pygments_lexer": "ipython3",
   "version": "3.11.4"
  }
 },
 "nbformat": 4,
 "nbformat_minor": 2
}
