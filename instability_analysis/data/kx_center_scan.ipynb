{
 "cells": [
  {
   "cell_type": "code",
   "execution_count": 1,
   "metadata": {},
   "outputs": [],
   "source": [
    "from GENE_sim_reader.src.dict_simulation_data import sim_filepath_to_df\n",
    "\n",
    "import numpy as np"
   ]
  },
  {
   "cell_type": "code",
   "execution_count": 2,
   "metadata": {},
   "outputs": [],
   "source": [
    "NE_129015 = '/pscratch/sd/j/joeschm/NSXTU_discharges/129015/r_0.850026_NE_top/kymin_scan'\n",
    "PE_129015 = '/pscratch/sd/j/joeschm/NSXTU_discharges/129015/r_0.870001_PE_top/kymin_scan'\n",
    "OM_129015 = '/pscratch/sd/j/joeschm/NSXTU_discharges/129015/r_0.936008_OM_top/kymin_scan'\n",
    "\n",
    "PE_129038 = '/pscratch/sd/j/joeschm/NSXTU_discharges/129038/r_0.499925_PE_top/kymin_scan'\n",
    "NE_129038 = '/pscratch/sd/j/joeschm/NSXTU_discharges/129038/r_0.655012_NE_top/kymin_scan'\n",
    "OM_129038 = '/pscratch/sd/j/joeschm/NSXTU_discharges/129038/r_0.909990_OM_top/kymin_scan'"
   ]
  },
  {
   "cell_type": "code",
   "execution_count": null,
   "metadata": {},
   "outputs": [],
   "source": []
  },
  {
   "cell_type": "code",
   "execution_count": 3,
   "metadata": {},
   "outputs": [
    {
     "name": "stdout",
     "output_type": "stream",
     "text": [
      "/pscratch/sd/j/joeschm/NSXTU_discharges/129015/r_0.936008_OM_top/kymin_scan\n",
      "[3.4383768]\n",
      "kx_center = 0.0\n",
      "kx_center = 1.2566370614359172*3.4383768*kymin(1)\n",
      "kx_center = 2.5132741228718345*3.4383768*kymin(1)\n",
      "kx_center = 3.769911184307752*3.4383768*kymin(1)\n",
      "  !scanlist: 0.0 , 1.2566370614359172*3.4383768*kymin(1), 2.5132741228718345*3.4383768*kymin(1), 3.769911184307752*3.4383768*kymin(1)\n"
     ]
    }
   ],
   "source": [
    "filepath = OM_129015\n",
    "\n",
    "sim_df = sim_filepath_to_df(filepath)\n",
    "\n",
    "print(filepath)\n",
    "print(sim_df['shat'].unique())\n",
    "shat_out = (sim_df['shat'].unique())[0]\n",
    "\n",
    "kx_center_scan_string = '  !scanlist: 0.0 '\n",
    "\n",
    "num_kxcenter = 4\n",
    "print('kx_center = 0.0')\n",
    "for i in range(num_kxcenter-1):\n",
    "    kx_center_scan_string += ', '+str(0.8*(i+1)/float(num_kxcenter)*2*np.pi)+'*'+str(shat_out)+'*kymin(1)'\n",
    "\n",
    "    print('kx_center = ' + str(0.8*(i+1)/float(num_kxcenter)*2*np.pi)+'*'+str(shat_out)+'*kymin(1)')\n",
    "\n",
    "print(kx_center_scan_string)\n"
   ]
  },
  {
   "cell_type": "code",
   "execution_count": 44,
   "metadata": {},
   "outputs": [
    {
     "name": "stdout",
     "output_type": "stream",
     "text": [
      "0.17453292519943295\n",
      "0.08726646259971647\n",
      "0.017453292519943295\n"
     ]
    }
   ],
   "source": [
    "angle = 3.769911184307752*360/(2*np.pi)\n",
    "\n",
    "angle = 0.174532926*360/(2*np.pi)\n",
    "\n",
    "rad_10_deg = 10*((2*np.pi)/360)\n",
    "rad_5_deg = 5*((2*np.pi)/360)\n",
    "rad_1_deg = 1*((2*np.pi)/360)\n",
    "\n",
    "print(rad_10_deg)\n",
    "print(rad_5_deg)\n",
    "print(rad_1_deg)\n",
    "\n",
    "# print(angle)"
   ]
  },
  {
   "cell_type": "code",
   "execution_count": null,
   "metadata": {},
   "outputs": [],
   "source": []
  }
 ],
 "metadata": {
  "kernelspec": {
   "display_name": "jupyter_env",
   "language": "python",
   "name": "python3"
  },
  "language_info": {
   "codemirror_mode": {
    "name": "ipython",
    "version": 3
   },
   "file_extension": ".py",
   "mimetype": "text/x-python",
   "name": "python",
   "nbconvert_exporter": "python",
   "pygments_lexer": "ipython3",
   "version": "3.11.4"
  }
 },
 "nbformat": 4,
 "nbformat_minor": 2
}
