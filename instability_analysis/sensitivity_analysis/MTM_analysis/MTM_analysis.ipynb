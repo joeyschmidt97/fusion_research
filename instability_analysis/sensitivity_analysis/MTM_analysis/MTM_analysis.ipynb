{
 "cells": [
  {
   "cell_type": "code",
   "execution_count": 1,
   "metadata": {},
   "outputs": [],
   "source": [
    "from MTM_df_builder import MTM_dataframe\n",
    "import matplotlib.pyplot as plt\n",
    "\n",
    "from src.dict_parameters_data import parameters_filepath_to_dict\n",
    "\n",
    "import os"
   ]
  },
  {
   "cell_type": "code",
   "execution_count": 2,
   "metadata": {},
   "outputs": [],
   "source": [
    "filepath = '/pscratch/sd/j/joeschm/NSXTU_discharges/129038/r_0.909990_OM_top/MTM_limit/kymin_0.1/scanfiles0000/'\n",
    "\n",
    "filepath = ['/pscratch/sd/j/joeschm/NSXTU_discharges/129038/r_0.909990_OM_top/MTM_limit/kymin_0.1/scanfiles0000/',\n",
    "            '/pscratch/sd/j/joeschm/NSXTU_discharges/129038/r_0.655012_NE_top/MTM_limit/kymin_0.1/scanfiles0000/']\n",
    "\n",
    "\n",
    "sim_df = MTM_dataframe(filepath)"
   ]
  },
  {
   "cell_type": "code",
   "execution_count": 9,
   "metadata": {},
   "outputs": [
    {
     "name": "stdout",
     "output_type": "stream",
     "text": [
      "          x0  kymin  ref_coll  ref_beta    ref_omt\n",
      "0   0.655012    0.1  0.004813  0.044185   2.941346\n",
      "1   0.655012    0.1  0.004813  0.044185   2.941346\n",
      "2   0.655012    0.1  0.004813  0.044185   2.941346\n",
      "3   0.655012    0.1  0.004813  0.044185   2.941346\n",
      "4   0.655012    0.1  0.004813  0.044185   2.941346\n",
      "5   0.655012    0.1  0.004813  0.044185   2.941346\n",
      "6   0.655012    0.1  0.004813  0.044185   2.941346\n",
      "7   0.655012    0.1  0.004813  0.044185   2.941346\n",
      "8   0.655012    0.1  0.004813  0.044185   2.941346\n",
      "9   0.655012    0.1  0.004813  0.044185   2.941346\n",
      "10  0.655012    0.1  0.004813  0.044185   2.941346\n",
      "11  0.655012    0.1  0.004813  0.044185   2.941346\n",
      "12  0.655012    0.1  0.004813  0.044185   2.941346\n",
      "13  0.655012    0.1  0.004813  0.044185   2.941346\n",
      "14  0.655012    0.1  0.004813  0.044185   2.941346\n",
      "15  0.655012    0.1  0.004813  0.044185   2.941346\n",
      "16  0.655012    0.1  0.004813  0.044185   2.941346\n",
      "17  0.655012    0.1  0.004813  0.044185   2.941346\n",
      "18  0.655012    0.1  0.004813  0.044185   2.941346\n",
      "19  0.655012    0.1  0.004813  0.044185   2.941346\n",
      "20  0.655012    0.1  0.004813  0.044185   2.941346\n",
      "21  0.655012    0.1  0.004813  0.044185   2.941346\n",
      "22  0.655012    0.1  0.004813  0.044185   2.941346\n",
      "23  0.655012    0.1  0.004813  0.044185   2.941346\n",
      "24  0.655012    0.1  0.004813  0.044185   2.941346\n",
      "25  0.655012    0.1  0.004813  0.044185   2.941346\n",
      "26  0.655012    0.1  0.004813  0.044185   2.941346\n",
      "27  0.909990    0.1  0.019956  0.005810  12.123760\n",
      "28  0.909990    0.1  0.019956  0.005810  12.123760\n",
      "29  0.909990    0.1  0.019956  0.005810  12.123760\n",
      "30  0.909990    0.1  0.019956  0.005810  12.123760\n",
      "31  0.909990    0.1  0.019956  0.005810  12.123760\n",
      "32  0.909990    0.1  0.019956  0.005810  12.123760\n",
      "33  0.909990    0.1  0.019956  0.005810  12.123760\n",
      "34  0.909990    0.1  0.019956  0.005810  12.123760\n",
      "35  0.909990    0.1  0.019956  0.005810  12.123760\n",
      "36  0.909990    0.1  0.019956  0.005810  12.123760\n",
      "37  0.909990    0.1  0.019956  0.005810  12.123760\n",
      "38  0.909990    0.1  0.019956  0.005810  12.123760\n",
      "39  0.909990    0.1  0.019956  0.005810  12.123760\n",
      "40  0.909990    0.1  0.019956  0.005810  12.123760\n",
      "41  0.909990    0.1  0.019956  0.005810  12.123760\n",
      "42  0.909990    0.1  0.019956  0.005810  12.123760\n",
      "43  0.909990    0.1  0.019956  0.005810  12.123760\n",
      "44  0.909990    0.1  0.019956  0.005810  12.123760\n"
     ]
    }
   ],
   "source": [
    "print(sim_df[['x0', 'kymin', 'ref_coll', 'ref_beta', 'ref_omt']])\n",
    "\n",
    "print(sim_df[['x0', 'kymin', 'coll_dist', 'beta_dist', 'omt_dist']])\n"
   ]
  },
  {
   "cell_type": "code",
   "execution_count": 4,
   "metadata": {},
   "outputs": [
    {
     "data": {
      "text/plain": [
       "array([0.1])"
      ]
     },
     "execution_count": 4,
     "metadata": {},
     "output_type": "execute_result"
    }
   ],
   "source": [
    "sim_df['kymin'].unique()"
   ]
  },
  {
   "cell_type": "code",
   "execution_count": 5,
   "metadata": {},
   "outputs": [
    {
     "data": {
      "text/plain": [
       "[<matplotlib.lines.Line2D at 0x7fad3196c810>]"
      ]
     },
     "execution_count": 5,
     "metadata": {},
     "output_type": "execute_result"
    },
    {
     "data": {
      "image/png": "[encoded data removed]",
      "text/plain": [
       "<Figure size 640x480 with 1 Axes>"
      ]
     },
     "metadata": {},
     "output_type": "display_data"
    }
   ],
   "source": [
    "plt.plot(sim_df['norm_Q_ratio'])"
   ]
  },
  {
   "cell_type": "code",
   "execution_count": 6,
   "metadata": {},
   "outputs": [
    {
     "ename": "AttributeError",
     "evalue": "'int' object has no attribute 'split'",
     "output_type": "error",
     "traceback": [
      "\u001b[0;31m---------------------------------------------------------------------------\u001b[0m",
      "\u001b[0;31mAttributeError\u001b[0m                            Traceback (most recent call last)",
      "\u001b[1;32m/global/homes/j/joeschm/fusion_research/instability_analysis/sensitivity_analysis/MTM_analysis/MTM_analysis.ipynb Cell 6\u001b[0m line \u001b[0;36m3\n\u001b[1;32m      <a href='vscode-notebook-cell://ssh-remote%2Bperlmutter-p1.nersc.gov/global/homes/j/joeschm/fusion_research/instability_analysis/sensitivity_analysis/MTM_analysis/MTM_analysis.ipynb#W3sdnNjb2RlLXJlbW90ZQ%3D%3D?line=0'>1</a>\u001b[0m filepath \u001b[39m=\u001b[39m \u001b[39m'\u001b[39m\u001b[39m/pscratch/sd/j/joeschm/NSXTU_discharges/129038/r_0.909990_OM_top/kymin_scan/\u001b[39m\u001b[39m'\u001b[39m\n\u001b[0;32m----> <a href='vscode-notebook-cell://ssh-remote%2Bperlmutter-p1.nersc.gov/global/homes/j/joeschm/fusion_research/instability_analysis/sensitivity_analysis/MTM_analysis/MTM_analysis.ipynb#W3sdnNjb2RlLXJlbW90ZQ%3D%3D?line=2'>3</a>\u001b[0m gr_sim_df \u001b[39m=\u001b[39m MTM_dataframe(filepath)\n",
      "File \u001b[0;32m/global/u1/j/joeschm/fusion_research/instability_analysis/sensitivity_analysis/MTM_analysis/MTM_df_builder.py:18\u001b[0m, in \u001b[0;36mMTM_dataframe\u001b[0;34m(filepath)\u001b[0m\n\u001b[1;32m     13\u001b[0m criteria \u001b[39m=\u001b[39m [\u001b[39m'\u001b[39m\u001b[39mtime==last\u001b[39m\u001b[39m'\u001b[39m, \u001b[39m'\u001b[39m\u001b[39mQ_ES\u001b[39m\u001b[39m'\u001b[39m, \u001b[39m'\u001b[39m\u001b[39mQ_EM\u001b[39m\u001b[39m'\u001b[39m]\n\u001b[1;32m     15\u001b[0m sim_df \u001b[39m=\u001b[39m sim_filepath_to_df(filepath_list\u001b[39m=\u001b[39mfilepath, criteria_list\u001b[39m=\u001b[39mcriteria, load_spec\u001b[39m=\u001b[39mspec_name)\n\u001b[0;32m---> 18\u001b[0m sim_df \u001b[39m=\u001b[39m reference_values(sim_df, spec_name)\n\u001b[1;32m     21\u001b[0m \u001b[39m# Add normalized Q_EM/Q_ES ratio (note if ratio > 0.5 it is electromagnetically dominant)\u001b[39;00m\n\u001b[1;32m     22\u001b[0m Q_EM \u001b[39m=\u001b[39m sim_df[\u001b[39m'\u001b[39m\u001b[39mQ_EM2\u001b[39m\u001b[39m'\u001b[39m]\n",
      "File \u001b[0;32m/global/u1/j/joeschm/fusion_research/instability_analysis/sensitivity_analysis/MTM_analysis/MTM_df_builder.py:48\u001b[0m, in \u001b[0;36mreference_values\u001b[0;34m(sim_df, spec_name)\u001b[0m\n\u001b[1;32m     43\u001b[0m _, spec_num \u001b[39m=\u001b[39m spec_tuple[\u001b[39m0\u001b[39m]\n\u001b[1;32m     45\u001b[0m \u001b[39m# ref_keys = ['coll', 'beta', 'omt'+ str(spec_num)]\u001b[39;00m\n\u001b[1;32m     46\u001b[0m \n\u001b[1;32m     47\u001b[0m \u001b[39m# Extract the float values associated with these keys\u001b[39;00m\n\u001b[0;32m---> 48\u001b[0m ref_coll \u001b[39m=\u001b[39m extract_value_from_string(ref_param_dict[\u001b[39m'\u001b[39m\u001b[39mcoll\u001b[39m\u001b[39m'\u001b[39m])\n\u001b[1;32m     49\u001b[0m ref_beta \u001b[39m=\u001b[39m extract_value_from_string(ref_param_dict[\u001b[39m'\u001b[39m\u001b[39mbeta\u001b[39m\u001b[39m'\u001b[39m])\n\u001b[1;32m     50\u001b[0m omt_name \u001b[39m=\u001b[39m \u001b[39m'\u001b[39m\u001b[39momt\u001b[39m\u001b[39m'\u001b[39m\u001b[39m+\u001b[39m \u001b[39mstr\u001b[39m(spec_num)\n",
      "File \u001b[0;32m/global/u1/j/joeschm/fusion_research/instability_analysis/sensitivity_analysis/MTM_analysis/MTM_df_builder.py:288\u001b[0m, in \u001b[0;36mextract_value_from_string\u001b[0;34m(value_str)\u001b[0m\n\u001b[1;32m    279\u001b[0m \u001b[39m\u001b[39m\u001b[39m\"\"\"\u001b[39;00m\n\u001b[1;32m    280\u001b[0m \u001b[39mExtract float value from a string based on the predefined format.\u001b[39;00m\n\u001b[1;32m    281\u001b[0m \u001b[39mArgs:\u001b[39;00m\n\u001b[0;32m   (...)\u001b[0m\n\u001b[1;32m    284\u001b[0m \u001b[39m- float: Extracted float value from the string.\u001b[39;00m\n\u001b[1;32m    285\u001b[0m \u001b[39m\"\"\"\u001b[39;00m\n\u001b[1;32m    286\u001b[0m \u001b[39m# Split the string by '!scan:', take the last part, then split by '*' and take the first part, and finally strip to convert to float\u001b[39;00m\n\u001b[0;32m--> 288\u001b[0m \u001b[39mreturn\u001b[39;00m \u001b[39mfloat\u001b[39m(value_str\u001b[39m.\u001b[39msplit(\u001b[39m'\u001b[39m\u001b[39m!scan:\u001b[39m\u001b[39m'\u001b[39m)[\u001b[39m-\u001b[39m\u001b[39m1\u001b[39m]\u001b[39m.\u001b[39msplit(\u001b[39m'\u001b[39m\u001b[39m*\u001b[39m\u001b[39m'\u001b[39m)[\u001b[39m0\u001b[39m]\u001b[39m.\u001b[39mstrip())\n",
      "\u001b[0;31mAttributeError\u001b[0m: 'int' object has no attribute 'split'"
     ]
    }
   ],
   "source": [
    "filepath = '/pscratch/sd/j/joeschm/NSXTU_discharges/129038/r_0.909990_OM_top/kymin_scan/'\n",
    "\n",
    "gr_sim_df = MTM_dataframe(filepath)"
   ]
  },
  {
   "cell_type": "code",
   "execution_count": null,
   "metadata": {},
   "outputs": [
    {
     "ename": "KeyError",
     "evalue": "'gamma'",
     "output_type": "error",
     "traceback": [
      "\u001b[0;31m---------------------------------------------------------------------------\u001b[0m",
      "\u001b[0;31mKeyError\u001b[0m                                  Traceback (most recent call last)",
      "File \u001b[0;32m~/.conda/envs/jupyter_env/lib/python3.11/site-packages/pandas/core/indexes/base.py:3653\u001b[0m, in \u001b[0;36mIndex.get_loc\u001b[0;34m(self, key)\u001b[0m\n\u001b[1;32m   3652\u001b[0m \u001b[39mtry\u001b[39;00m:\n\u001b[0;32m-> 3653\u001b[0m     \u001b[39mreturn\u001b[39;00m \u001b[39mself\u001b[39m\u001b[39m.\u001b[39m_engine\u001b[39m.\u001b[39mget_loc(casted_key)\n\u001b[1;32m   3654\u001b[0m \u001b[39mexcept\u001b[39;00m \u001b[39mKeyError\u001b[39;00m \u001b[39mas\u001b[39;00m err:\n",
      "File \u001b[0;32m~/.conda/envs/jupyter_env/lib/python3.11/site-packages/pandas/_libs/index.pyx:147\u001b[0m, in \u001b[0;36mpandas._libs.index.IndexEngine.get_loc\u001b[0;34m()\u001b[0m\n",
      "File \u001b[0;32m~/.conda/envs/jupyter_env/lib/python3.11/site-packages/pandas/_libs/index.pyx:176\u001b[0m, in \u001b[0;36mpandas._libs.index.IndexEngine.get_loc\u001b[0;34m()\u001b[0m\n",
      "File \u001b[0;32mpandas/_libs/hashtable_class_helper.pxi:7080\u001b[0m, in \u001b[0;36mpandas._libs.hashtable.PyObjectHashTable.get_item\u001b[0;34m()\u001b[0m\n",
      "File \u001b[0;32mpandas/_libs/hashtable_class_helper.pxi:7088\u001b[0m, in \u001b[0;36mpandas._libs.hashtable.PyObjectHashTable.get_item\u001b[0;34m()\u001b[0m\n",
      "\u001b[0;31mKeyError\u001b[0m: 'gamma'",
      "\nThe above exception was the direct cause of the following exception:\n",
      "\u001b[0;31mKeyError\u001b[0m                                  Traceback (most recent call last)",
      "\u001b[1;32m/global/homes/j/joeschm/fusion_research/instability_analysis/sensitivity_analysis/MTM_analysis/MTM_analysis.ipynb Cell 6\u001b[0m line \u001b[0;36m1\n\u001b[0;32m----> <a href='vscode-notebook-cell://ssh-remote%2Bperlmutter-p1.nersc.gov/global/homes/j/joeschm/fusion_research/instability_analysis/sensitivity_analysis/MTM_analysis/MTM_analysis.ipynb#W4sdnNjb2RlLXJlbW90ZQ%3D%3D?line=0'>1</a>\u001b[0m plt\u001b[39m.\u001b[39mplot(gr_sim_df[\u001b[39m'\u001b[39m\u001b[39mkymin\u001b[39m\u001b[39m'\u001b[39m], gr_sim_df[\u001b[39m'\u001b[39m\u001b[39mgamma\u001b[39m\u001b[39m'\u001b[39m])\n",
      "File \u001b[0;32m~/.conda/envs/jupyter_env/lib/python3.11/site-packages/pandas/core/frame.py:3761\u001b[0m, in \u001b[0;36mDataFrame.__getitem__\u001b[0;34m(self, key)\u001b[0m\n\u001b[1;32m   3759\u001b[0m \u001b[39mif\u001b[39;00m \u001b[39mself\u001b[39m\u001b[39m.\u001b[39mcolumns\u001b[39m.\u001b[39mnlevels \u001b[39m>\u001b[39m \u001b[39m1\u001b[39m:\n\u001b[1;32m   3760\u001b[0m     \u001b[39mreturn\u001b[39;00m \u001b[39mself\u001b[39m\u001b[39m.\u001b[39m_getitem_multilevel(key)\n\u001b[0;32m-> 3761\u001b[0m indexer \u001b[39m=\u001b[39m \u001b[39mself\u001b[39m\u001b[39m.\u001b[39mcolumns\u001b[39m.\u001b[39mget_loc(key)\n\u001b[1;32m   3762\u001b[0m \u001b[39mif\u001b[39;00m is_integer(indexer):\n\u001b[1;32m   3763\u001b[0m     indexer \u001b[39m=\u001b[39m [indexer]\n",
      "File \u001b[0;32m~/.conda/envs/jupyter_env/lib/python3.11/site-packages/pandas/core/indexes/base.py:3655\u001b[0m, in \u001b[0;36mIndex.get_loc\u001b[0;34m(self, key)\u001b[0m\n\u001b[1;32m   3653\u001b[0m     \u001b[39mreturn\u001b[39;00m \u001b[39mself\u001b[39m\u001b[39m.\u001b[39m_engine\u001b[39m.\u001b[39mget_loc(casted_key)\n\u001b[1;32m   3654\u001b[0m \u001b[39mexcept\u001b[39;00m \u001b[39mKeyError\u001b[39;00m \u001b[39mas\u001b[39;00m err:\n\u001b[0;32m-> 3655\u001b[0m     \u001b[39mraise\u001b[39;00m \u001b[39mKeyError\u001b[39;00m(key) \u001b[39mfrom\u001b[39;00m \u001b[39merr\u001b[39;00m\n\u001b[1;32m   3656\u001b[0m \u001b[39mexcept\u001b[39;00m \u001b[39mTypeError\u001b[39;00m:\n\u001b[1;32m   3657\u001b[0m     \u001b[39m# If we have a listlike key, _check_indexing_error will raise\u001b[39;00m\n\u001b[1;32m   3658\u001b[0m     \u001b[39m#  InvalidIndexError. Otherwise we fall through and re-raise\u001b[39;00m\n\u001b[1;32m   3659\u001b[0m     \u001b[39m#  the TypeError.\u001b[39;00m\n\u001b[1;32m   3660\u001b[0m     \u001b[39mself\u001b[39m\u001b[39m.\u001b[39m_check_indexing_error(key)\n",
      "\u001b[0;31mKeyError\u001b[0m: 'gamma'"
     ]
    }
   ],
   "source": [
    "plt.plot(gr_sim_df['kymin'], gr_sim_df['gamma'])"
   ]
  }
 ],
 "metadata": {
  "kernelspec": {
   "display_name": "jupyter_env",
   "language": "python",
   "name": "python3"
  },
  "language_info": {
   "codemirror_mode": {
    "name": "ipython",
    "version": 3
   },
   "file_extension": ".py",
   "mimetype": "text/x-python",
   "name": "python",
   "nbconvert_exporter": "python",
   "pygments_lexer": "ipython3",
   "version": "3.11.4"
  }
 },
 "nbformat": 4,
 "nbformat_minor": 2
}
