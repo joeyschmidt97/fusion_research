{
 "cells": [
  {
   "cell_type": "code",
   "execution_count": null,
   "metadata": {},
   "outputs": [],
   "source": []
  },
  {
   "cell_type": "code",
   "execution_count": 1,
   "metadata": {},
   "outputs": [],
   "source": [
    "def get_diff_abs_value(filepath, suffix):\n",
    "    import os\n",
    "    import subprocess\n",
    "    os.chdir(filepath)\n",
    "\n",
    "    # Get the full path to the script\n",
    "    script_path = os.path.abspath('/global/homes/j/joeschm/ifs_scripts/plot_mode_structures.py')\n",
    "    result = subprocess.run(['python', script_path, suffix, '-e'], stdout=subprocess.PIPE)  # Run the script with the specified arguments\n",
    "\n",
    "    # Get the stdout as a string\n",
    "    output = result.stdout.decode('utf-8')\n",
    "\n",
    "    # Find the line that contains the \"diff/abs\" value\n",
    "    diff_abs_line = [line for line in output.split('\\n') if 'diff/abs' in line][0]\n",
    "    diff_abs_value = float(diff_abs_line.split()[-1])   # Extract the numerical value from the line\n",
    "\n",
    "    return diff_abs_value\n"
   ]
  },
  {
   "cell_type": "code",
   "execution_count": 3,
   "metadata": {},
   "outputs": [
    {
     "name": "stdout",
     "output_type": "stream",
     "text": [
      "0.39190774045978455\n",
      "0.39468996127454864\n",
      "0.39571724485685994\n",
      "0.39359659128643837\n",
      "0.39483758491740306\n",
      "0.39745424797991574\n",
      "0.39180505438009605\n",
      "0.39666075268326384\n",
      "0.3978183756922858\n"
     ]
    }
   ],
   "source": [
    "filepath = '/pscratch/sd/j/joeschm/NSXTU_discharges/129015/r_0.850026_NE_top/MTM_limit/kymin_0.1/scanfiles0000'\n",
    "\n",
    "for i in range(1,10):\n",
    "    suffix = '000' + str(i)\n",
    "    # print(suffix)\n",
    "    diff_abs = get_diff_abs_value(filepath, suffix)\n",
    "\n",
    "    print(diff_abs)"
   ]
  },
  {
   "cell_type": "code",
   "execution_count": null,
   "metadata": {},
   "outputs": [],
   "source": []
  }
 ],
 "metadata": {
  "kernelspec": {
   "display_name": "jupyter_env",
   "language": "python",
   "name": "python3"
  },
  "language_info": {
   "codemirror_mode": {
    "name": "ipython",
    "version": 3
   },
   "file_extension": ".py",
   "mimetype": "text/x-python",
   "name": "python",
   "nbconvert_exporter": "python",
   "pygments_lexer": "ipython3",
   "version": "3.11.4"
  }
 },
 "nbformat": 4,
 "nbformat_minor": 2
}
