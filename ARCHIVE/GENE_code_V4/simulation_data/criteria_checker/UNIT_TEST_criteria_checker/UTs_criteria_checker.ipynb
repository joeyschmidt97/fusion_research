{
 "cells": [
  {
   "cell_type": "code",
   "execution_count": 1,
   "metadata": {},
   "outputs": [],
   "source": [
    "import os\n",
    "os.chdir(\"..\")\n",
    "from criteria_parser_V4 import extract_units_criteria, range_spliter, ind_criteria_parser, criteria_list_parser"
   ]
  },
  {
   "cell_type": "markdown",
   "metadata": {},
   "source": [
    "# Extract Units from criteria"
   ]
  },
  {
   "cell_type": "markdown",
   "metadata": {},
   "source": [
    "### Testing functional cases"
   ]
  },
  {
   "cell_type": "code",
   "execution_count": 2,
   "metadata": {},
   "outputs": [],
   "source": [
    "assert extract_units_criteria('time')           == ('time', None)\n",
    "assert extract_units_criteria('omega')          == ('omega', None)\n",
    "\n",
    "assert extract_units_criteria('omega(kHz)')     == ('omega', 'kHz')\n",
    "assert extract_units_criteria('gamma(a)')       == ('gamma', 'a')\n",
    "\n",
    "assert extract_units_criteria('omega(kHz)<10')  == ('omega<10', 'kHz')\n",
    "assert extract_units_criteria('1<time(s)<4')    == ('1<time<4', 's')\n",
    "\n",
    "assert extract_units_criteria('time==last')     == ('time==last', None)\n",
    "assert extract_units_criteria('time(s)==5')     == ('time==5', 's')"
   ]
  },
  {
   "cell_type": "markdown",
   "metadata": {},
   "source": [
    "### Testing error cases"
   ]
  },
  {
   "cell_type": "code",
   "execution_count": 3,
   "metadata": {},
   "outputs": [
    {
     "data": {
      "text/plain": [
       "('timedsa', 's')"
      ]
     },
     "execution_count": 3,
     "metadata": {},
     "output_type": "execute_result"
    }
   ],
   "source": [
    "# This may be something trouble some to deal with...?\n",
    "extract_units_criteria('time(s) dsa')"
   ]
  },
  {
   "cell_type": "code",
   "execution_count": 4,
   "metadata": {},
   "outputs": [],
   "source": [
    "# Missing units\n",
    "try:\n",
    "    extract_units_criteria(\"omega ()\")\n",
    "    assert False, \"Function did not raise ValueError as expected\"\n",
    "except ValueError as e:\n",
    "    assert \"Please ensure input 'omega()' is written with parentheses as 'variable_name(units)'\" in str(e)\n",
    "\n",
    "# Improper parentheses format\n",
    "try:\n",
    "    extract_units_criteria(\"time  (\")\n",
    "    assert False, \"Function did not raise ValueError as expected\"\n",
    "except ValueError as e:\n",
    "    assert \"Please ensure input 'time(' is written with parentheses as 'variable_name(units)'\" in str(e)"
   ]
  },
  {
   "cell_type": "markdown",
   "metadata": {},
   "source": [
    "# Range splitter"
   ]
  },
  {
   "cell_type": "code",
   "execution_count": 5,
   "metadata": {},
   "outputs": [],
   "source": [
    "assert range_spliter('time < 1') == ['time<1']\n",
    "assert range_spliter('omega > 1') == ['omega>1']\n",
    "assert range_spliter('1 < time < 3') == ['time>1', 'time<3']"
   ]
  },
  {
   "cell_type": "markdown",
   "metadata": {},
   "source": [
    "# Individual Criteria parser"
   ]
  },
  {
   "cell_type": "code",
   "execution_count": 6,
   "metadata": {},
   "outputs": [],
   "source": [
    "criteria = 'time<2'\n",
    "units = 's'\n",
    "output_dict = {'variable_key': 'time',\n",
    "               'criteria': 'time<2',\n",
    "               'units': 's',\n",
    "               'analysis': 'numerical'}\n",
    "\n",
    "assert ind_criteria_parser(criteria, units) == output_dict"
   ]
  },
  {
   "cell_type": "code",
   "execution_count": 7,
   "metadata": {},
   "outputs": [],
   "source": [
    "criteria = 'omega==last'\n",
    "units = None\n",
    "\n",
    "output_dict = {'variable_key': 'omega',\n",
    "               'criteria': 'omega==last',\n",
    "               'units': None,\n",
    "               'analysis': 'non-numerical'}\n",
    "\n",
    "assert ind_criteria_parser(criteria, units) == output_dict"
   ]
  },
  {
   "cell_type": "markdown",
   "metadata": {},
   "source": [
    "# List Criteria Parser"
   ]
  },
  {
   "cell_type": "code",
   "execution_count": 8,
   "metadata": {},
   "outputs": [],
   "source": [
    "# Empty test\n",
    "crit_list = []\n",
    "output = []\n",
    "\n",
    "assert criteria_list_parser(crit_list) == output"
   ]
  },
  {
   "cell_type": "code",
   "execution_count": 9,
   "metadata": {},
   "outputs": [],
   "source": [
    "crit_list = ['gamma > 0.3']\n",
    "\n",
    "output = [{'variable_key': 'gamma',\n",
    "           'criteria': 'gamma>0.3',\n",
    "           'units': None,\n",
    "           'analysis': 'numerical'}]\n",
    "\n",
    "assert criteria_list_parser(crit_list) == output"
   ]
  },
  {
   "cell_type": "code",
   "execution_count": 10,
   "metadata": {},
   "outputs": [],
   "source": [
    "crit_list = ['1<time<4']\n",
    "output = [{'variable_key': 'time',\n",
    "           'criteria': 'time>1',\n",
    "           'units': None,\n",
    "           'analysis': 'numerical'},\n",
    "          {'variable_key': 'time',\n",
    "           'criteria': 'time<4',\n",
    "           'units': None,\n",
    "           'analysis': 'numerical'}]\n",
    "\n",
    "assert criteria_list_parser(crit_list) == output\n"
   ]
  },
  {
   "cell_type": "code",
   "execution_count": 11,
   "metadata": {},
   "outputs": [],
   "source": [
    "crit_list = ['time(s)==last', 'Q_ES(s)<4', '1<Q_EM< 4', 'n_mag']\n",
    "\n",
    "output = [{'variable_key': 'time',\n",
    "           'criteria': 'time==last',\n",
    "           'units': 's',\n",
    "           'analysis': 'non-numerical'},\n",
    "          {'variable_key': 'Q_ES',\n",
    "           'criteria': 'Q_ES<4',\n",
    "           'units': 's',\n",
    "           'analysis': 'numerical'},\n",
    "          {'variable_key': 'Q_EM',\n",
    "           'criteria': 'Q_EM>1',\n",
    "           'units': None,\n",
    "           'analysis': 'numerical'},\n",
    "          {'variable_key': 'Q_EM',\n",
    "           'criteria': 'Q_EM<4',\n",
    "           'units': None,\n",
    "           'analysis': 'numerical'},\n",
    "          {'variable_key': 'n_mag',\n",
    "           'criteria': 'n_mag',\n",
    "           'units': None,\n",
    "           'analysis': None}]\n",
    "\n",
    "assert criteria_list_parser(crit_list) == output"
   ]
  }
 ],
 "metadata": {
  "kernelspec": {
   "display_name": "jupyter_env",
   "language": "python",
   "name": "python3"
  },
  "language_info": {
   "codemirror_mode": {
    "name": "ipython",
    "version": 3
   },
   "file_extension": ".py",
   "mimetype": "text/x-python",
   "name": "python",
   "nbconvert_exporter": "python",
   "pygments_lexer": "ipython3",
   "version": "3.11.4"
  },
  "orig_nbformat": 4
 },
 "nbformat": 4,
 "nbformat_minor": 2
}
