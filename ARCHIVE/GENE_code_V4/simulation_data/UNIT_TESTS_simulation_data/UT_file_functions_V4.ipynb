{
 "cells": [
  {
   "cell_type": "code",
   "execution_count": 1,
   "metadata": {},
   "outputs": [],
   "source": [
    "import os\n",
    "os.chdir(\"..\")\n",
    "from GP_file_functions_V4 import suffix_from_filename, path_to_name_dir_suffix, switch_suffix_file\n",
    "from GP_file_functions_V4 import file_checks, count_files_in_dir, string_to_list, find_buried_filetype_files"
   ]
  },
  {
   "cell_type": "markdown",
   "metadata": {},
   "source": [
    "# Suffix from filename checks"
   ]
  },
  {
   "cell_type": "code",
   "execution_count": 2,
   "metadata": {},
   "outputs": [],
   "source": [
    "assert suffix_from_filename('parameters_0001')=='0001'\n",
    "assert suffix_from_filename('parameters.dat')=='.dat'\n",
    "assert suffix_from_filename('nrg.dat')=='.dat'\n",
    "assert suffix_from_filename('omega_0002')=='0002'"
   ]
  },
  {
   "cell_type": "markdown",
   "metadata": {},
   "source": [
    "# Filepath splitter"
   ]
  },
  {
   "cell_type": "code",
   "execution_count": 3,
   "metadata": {},
   "outputs": [],
   "source": [
    "filename, directory, suffix = path_to_name_dir_suffix('path/to/file_0001')\n",
    "assert filename == 'file_0001'\n",
    "assert directory == 'path/to'\n",
    "assert suffix == '0001'\n",
    "\n",
    "\n",
    "filename, directory, suffix = path_to_name_dir_suffix('directory/subfolder/x1/omega.dat')\n",
    "assert filename == 'omega.dat'\n",
    "assert directory == 'directory/subfolder/x1'\n",
    "assert suffix == '.dat'\n"
   ]
  },
  {
   "cell_type": "markdown",
   "metadata": {},
   "source": [
    "# Filepath switcher"
   ]
  },
  {
   "cell_type": "markdown",
   "metadata": {},
   "source": [
    "### Switch from 'nrg' to 'omega' file"
   ]
  },
  {
   "cell_type": "code",
   "execution_count": 4,
   "metadata": {},
   "outputs": [
    {
     "name": "stdout",
     "output_type": "stream",
     "text": [
      "old: /pscratch/sd/j/joeschm/NSXTU_discharges/X_TEST/TEST_3spec_k1/nrg.dat\n",
      "new: /pscratch/sd/j/joeschm/NSXTU_discharges/X_TEST/TEST_3spec_k1/omega.dat \n",
      "\n",
      "old: /pscratch/sd/j/joeschm/NSXTU_discharges/X_TEST/scanfiles0004/parameters_0004\n",
      "new: /pscratch/sd/j/joeschm/NSXTU_discharges/X_TEST/scanfiles0004/nrg_0004\n"
     ]
    }
   ],
   "source": [
    "old_nrg_filepath = '/pscratch/sd/j/joeschm/NSXTU_discharges/X_TEST/TEST_3spec_k1/nrg.dat'\n",
    "\n",
    "print('old:', old_nrg_filepath)\n",
    "omega_filepath = switch_suffix_file(old_nrg_filepath, 'omega')\n",
    "assert omega_filepath == os.path.join(os.path.dirname(old_nrg_filepath), 'omega.dat')\n",
    "print('new:', omega_filepath, '\\n')\n",
    "\n",
    "\n",
    "old_param_filepath = '/pscratch/sd/j/joeschm/NSXTU_discharges/X_TEST/scanfiles0004/parameters_0004'\n",
    "\n",
    "print('old:', old_param_filepath)\n",
    "nrg_filepath = switch_suffix_file(old_param_filepath, 'nrg')\n",
    "assert nrg_filepath == os.path.join(os.path.dirname(old_param_filepath), 'nrg_0004')\n",
    "print('new:', nrg_filepath)"
   ]
  },
  {
   "cell_type": "markdown",
   "metadata": {},
   "source": [
    "### Error filepaths"
   ]
  },
  {
   "cell_type": "code",
   "execution_count": 5,
   "metadata": {},
   "outputs": [
    {
     "name": "stdout",
     "output_type": "stream",
     "text": [
      "old: /pscratch/sd/j/joeschm/NSXTU_discharges/X_TEST/scanfiles0004/dsa\n"
     ]
    },
    {
     "ename": "FileError",
     "evalue": "The file path does not exist or is not a file: /pscratch/sd/j/joeschm/NSXTU_discharges/X_TEST/scanfiles0004/dsa",
     "output_type": "error",
     "traceback": [
      "\u001b[0;31m---------------------------------------------------------------------------\u001b[0m",
      "\u001b[0;31mFileError\u001b[0m                                 Traceback (most recent call last)",
      "\u001b[1;32m/global/homes/j/joeschm/fusion_research/GENE_code_V4/simulation_data/UNIT_TESTS_simulation_data/UT_file_functions_V4.ipynb Cell 10\u001b[0m line \u001b[0;36m4\n\u001b[1;32m      <a href='vscode-notebook-cell://ssh-remote%2Bperlmutter-p1.nersc.gov/global/homes/j/joeschm/fusion_research/GENE_code_V4/simulation_data/UNIT_TESTS_simulation_data/UT_file_functions_V4.ipynb#X12sdnNjb2RlLXJlbW90ZQ%3D%3D?line=0'>1</a>\u001b[0m faulty_filepath \u001b[39m=\u001b[39m \u001b[39m'\u001b[39m\u001b[39m/pscratch/sd/j/joeschm/NSXTU_discharges/X_TEST/scanfiles0004/dsa\u001b[39m\u001b[39m'\u001b[39m\n\u001b[1;32m      <a href='vscode-notebook-cell://ssh-remote%2Bperlmutter-p1.nersc.gov/global/homes/j/joeschm/fusion_research/GENE_code_V4/simulation_data/UNIT_TESTS_simulation_data/UT_file_functions_V4.ipynb#X12sdnNjb2RlLXJlbW90ZQ%3D%3D?line=2'>3</a>\u001b[0m \u001b[39mprint\u001b[39m(\u001b[39m'\u001b[39m\u001b[39mold:\u001b[39m\u001b[39m'\u001b[39m, faulty_filepath)\n\u001b[0;32m----> <a href='vscode-notebook-cell://ssh-remote%2Bperlmutter-p1.nersc.gov/global/homes/j/joeschm/fusion_research/GENE_code_V4/simulation_data/UNIT_TESTS_simulation_data/UT_file_functions_V4.ipynb#X12sdnNjb2RlLXJlbW90ZQ%3D%3D?line=3'>4</a>\u001b[0m switch_suffix_file(faulty_filepath, \u001b[39m'\u001b[39m\u001b[39mnrg\u001b[39m\u001b[39m'\u001b[39m)\n",
      "File \u001b[0;32m/global/u1/j/joeschm/fusion_research/GENE_code_V4/simulation_data/GP_file_functions_V4.py:20\u001b[0m, in \u001b[0;36mswitch_suffix_file\u001b[0;34m(old_filepath, filetype)\u001b[0m\n\u001b[1;32m     17\u001b[0m check_is_file \u001b[39m=\u001b[39m os\u001b[39m.\u001b[39mpath\u001b[39m.\u001b[39misfile(old_filepath)\n\u001b[1;32m     19\u001b[0m \u001b[39mif\u001b[39;00m \u001b[39mnot\u001b[39;00m (check_exists \u001b[39mand\u001b[39;00m check_is_file):\n\u001b[0;32m---> 20\u001b[0m     \u001b[39mraise\u001b[39;00m FileError(\u001b[39mf\u001b[39m\u001b[39m\"\u001b[39m\u001b[39mThe file path does not exist or is not a file: \u001b[39m\u001b[39m{\u001b[39;00mold_filepath\u001b[39m}\u001b[39;00m\u001b[39m\"\u001b[39m)\n\u001b[1;32m     23\u001b[0m old_filename, old_directory, suffix \u001b[39m=\u001b[39m path_to_name_dir_suffix(old_filepath)\n\u001b[1;32m     25\u001b[0m \u001b[39m# If suffix has a '.dat', no change is needed, otherwise prepend an underscore\u001b[39;00m\n",
      "\u001b[0;31mFileError\u001b[0m: The file path does not exist or is not a file: /pscratch/sd/j/joeschm/NSXTU_discharges/X_TEST/scanfiles0004/dsa"
     ]
    }
   ],
   "source": [
    "faulty_filepath = '/pscratch/sd/j/joeschm/NSXTU_discharges/X_TEST/scanfiles0004/dsa'\n",
    "\n",
    "print('old:', faulty_filepath)\n",
    "switch_suffix_file(faulty_filepath, 'nrg')"
   ]
  },
  {
   "cell_type": "markdown",
   "metadata": {},
   "source": [
    "# File checks function"
   ]
  },
  {
   "cell_type": "markdown",
   "metadata": {},
   "source": [
    "### Filepath does not exist"
   ]
  },
  {
   "cell_type": "code",
   "execution_count": null,
   "metadata": {},
   "outputs": [
    {
     "ename": "FileError",
     "evalue": "The file path does not exist or is not a file: /pscratch/sd/j/joeschm/NSXTU_discharges/X_TEST/scanfiles0004/dsa",
     "output_type": "error",
     "traceback": [
      "\u001b[0;31m---------------------------------------------------------------------------\u001b[0m",
      "\u001b[0;31mFileError\u001b[0m                                 Traceback (most recent call last)",
      "\u001b[1;32m/global/homes/j/joeschm/fusion_research/GENE_code_V4/simulation_data/UNIT_TESTS_simulation_data/UT_file_functions_V4.ipynb Cell 13\u001b[0m line \u001b[0;36m2\n\u001b[1;32m      <a href='vscode-notebook-cell://ssh-remote%2Bperlmutter-p1.nersc.gov/global/homes/j/joeschm/fusion_research/GENE_code_V4/simulation_data/UNIT_TESTS_simulation_data/UT_file_functions_V4.ipynb#X15sdnNjb2RlLXJlbW90ZQ%3D%3D?line=0'>1</a>\u001b[0m does_not_exist_filepath \u001b[39m=\u001b[39m \u001b[39m'\u001b[39m\u001b[39m/pscratch/sd/j/joeschm/NSXTU_discharges/X_TEST/scanfiles0004/dsa\u001b[39m\u001b[39m'\u001b[39m\n\u001b[0;32m----> <a href='vscode-notebook-cell://ssh-remote%2Bperlmutter-p1.nersc.gov/global/homes/j/joeschm/fusion_research/GENE_code_V4/simulation_data/UNIT_TESTS_simulation_data/UT_file_functions_V4.ipynb#X15sdnNjb2RlLXJlbW90ZQ%3D%3D?line=1'>2</a>\u001b[0m file_checks(does_not_exist_filepath, \u001b[39m'\u001b[39m\u001b[39momega\u001b[39m\u001b[39m'\u001b[39m)\n",
      "File \u001b[0;32m/global/u1/j/joeschm/fusion_research/GENE_code_V4/simulation_data/GP_file_functions_V4.py:55\u001b[0m, in \u001b[0;36mfile_checks\u001b[0;34m(filepath, filetype)\u001b[0m\n\u001b[1;32m     52\u001b[0m check_is_file \u001b[39m=\u001b[39m os\u001b[39m.\u001b[39mpath\u001b[39m.\u001b[39misfile(filepath)\n\u001b[1;32m     54\u001b[0m \u001b[39mif\u001b[39;00m \u001b[39mnot\u001b[39;00m (check_exists \u001b[39mand\u001b[39;00m check_is_file):\n\u001b[0;32m---> 55\u001b[0m     \u001b[39mraise\u001b[39;00m FileError(\u001b[39mf\u001b[39m\u001b[39m\"\u001b[39m\u001b[39mThe file path does not exist or is not a file: \u001b[39m\u001b[39m{\u001b[39;00mfilepath\u001b[39m}\u001b[39;00m\u001b[39m\"\u001b[39m)\n\u001b[1;32m     57\u001b[0m \u001b[39m# Get the filename and directory path\u001b[39;00m\n\u001b[1;32m     58\u001b[0m filename \u001b[39m=\u001b[39m os\u001b[39m.\u001b[39mpath\u001b[39m.\u001b[39mbasename(filepath)\n",
      "\u001b[0;31mFileError\u001b[0m: The file path does not exist or is not a file: /pscratch/sd/j/joeschm/NSXTU_discharges/X_TEST/scanfiles0004/dsa"
     ]
    }
   ],
   "source": [
    "does_not_exist_filepath = '/pscratch/sd/j/joeschm/NSXTU_discharges/X_TEST/scanfiles0004/dsa'\n",
    "file_checks(does_not_exist_filepath, 'omega')"
   ]
  },
  {
   "cell_type": "markdown",
   "metadata": {},
   "source": [
    "### Filepath is not a file (is a directory)"
   ]
  },
  {
   "cell_type": "code",
   "execution_count": null,
   "metadata": {},
   "outputs": [
    {
     "ename": "FileError",
     "evalue": "The file path does not exist or is not a file: /pscratch/sd/j/joeschm/NSXTU_discharges/X_TEST/scanfiles0004",
     "output_type": "error",
     "traceback": [
      "\u001b[0;31m---------------------------------------------------------------------------\u001b[0m",
      "\u001b[0;31mFileError\u001b[0m                                 Traceback (most recent call last)",
      "\u001b[1;32m/global/homes/j/joeschm/fusion_research/GENE_code_V4/simulation_data/UNIT_TESTS_simulation_data/UT_file_functions_V4.ipynb Cell 15\u001b[0m line \u001b[0;36m2\n\u001b[1;32m      <a href='vscode-notebook-cell://ssh-remote%2Bperlmutter-p1.nersc.gov/global/homes/j/joeschm/fusion_research/GENE_code_V4/simulation_data/UNIT_TESTS_simulation_data/UT_file_functions_V4.ipynb#X20sdnNjb2RlLXJlbW90ZQ%3D%3D?line=0'>1</a>\u001b[0m not_file_filepath \u001b[39m=\u001b[39m \u001b[39m'\u001b[39m\u001b[39m/pscratch/sd/j/joeschm/NSXTU_discharges/X_TEST/scanfiles0004\u001b[39m\u001b[39m'\u001b[39m\n\u001b[0;32m----> <a href='vscode-notebook-cell://ssh-remote%2Bperlmutter-p1.nersc.gov/global/homes/j/joeschm/fusion_research/GENE_code_V4/simulation_data/UNIT_TESTS_simulation_data/UT_file_functions_V4.ipynb#X20sdnNjb2RlLXJlbW90ZQ%3D%3D?line=1'>2</a>\u001b[0m file_checks(not_file_filepath, \u001b[39m'\u001b[39m\u001b[39momega\u001b[39m\u001b[39m'\u001b[39m)\n",
      "File \u001b[0;32m/global/u1/j/joeschm/fusion_research/GENE_code_V4/simulation_data/GP_file_functions_V4.py:55\u001b[0m, in \u001b[0;36mfile_checks\u001b[0;34m(filepath, filetype)\u001b[0m\n\u001b[1;32m     52\u001b[0m check_is_file \u001b[39m=\u001b[39m os\u001b[39m.\u001b[39mpath\u001b[39m.\u001b[39misfile(filepath)\n\u001b[1;32m     54\u001b[0m \u001b[39mif\u001b[39;00m \u001b[39mnot\u001b[39;00m (check_exists \u001b[39mand\u001b[39;00m check_is_file):\n\u001b[0;32m---> 55\u001b[0m     \u001b[39mraise\u001b[39;00m FileError(\u001b[39mf\u001b[39m\u001b[39m\"\u001b[39m\u001b[39mThe file path does not exist or is not a file: \u001b[39m\u001b[39m{\u001b[39;00mfilepath\u001b[39m}\u001b[39;00m\u001b[39m\"\u001b[39m)\n\u001b[1;32m     57\u001b[0m \u001b[39m# Get the filename and directory path\u001b[39;00m\n\u001b[1;32m     58\u001b[0m filename \u001b[39m=\u001b[39m os\u001b[39m.\u001b[39mpath\u001b[39m.\u001b[39mbasename(filepath)\n",
      "\u001b[0;31mFileError\u001b[0m: The file path does not exist or is not a file: /pscratch/sd/j/joeschm/NSXTU_discharges/X_TEST/scanfiles0004"
     ]
    }
   ],
   "source": [
    "not_file_filepath = '/pscratch/sd/j/joeschm/NSXTU_discharges/X_TEST/scanfiles0004'\n",
    "file_checks(not_file_filepath, 'omega')"
   ]
  },
  {
   "cell_type": "markdown",
   "metadata": {},
   "source": [
    "### Filepath is not the right filetype (given is omega, expected is nrg)"
   ]
  },
  {
   "cell_type": "code",
   "execution_count": null,
   "metadata": {},
   "outputs": [
    {
     "ename": "FileError",
     "evalue": "The filename does not start with 'nrg': /pscratch/sd/j/joeschm/NSXTU_discharges/X_TEST/scanfiles0004/omega_0002",
     "output_type": "error",
     "traceback": [
      "\u001b[0;31m---------------------------------------------------------------------------\u001b[0m",
      "\u001b[0;31mFileError\u001b[0m                                 Traceback (most recent call last)",
      "\u001b[1;32m/global/homes/j/joeschm/fusion_research/GENE_code_V4/simulation_data/UNIT_TESTS_simulation_data/UT_file_functions_V4.ipynb Cell 17\u001b[0m line \u001b[0;36m2\n\u001b[1;32m      <a href='vscode-notebook-cell://ssh-remote%2Bperlmutter-p1.nersc.gov/global/homes/j/joeschm/fusion_research/GENE_code_V4/simulation_data/UNIT_TESTS_simulation_data/UT_file_functions_V4.ipynb#X22sdnNjb2RlLXJlbW90ZQ%3D%3D?line=0'>1</a>\u001b[0m wrong_filetype_filepath \u001b[39m=\u001b[39m \u001b[39m'\u001b[39m\u001b[39m/pscratch/sd/j/joeschm/NSXTU_discharges/X_TEST/scanfiles0004/omega_0002\u001b[39m\u001b[39m'\u001b[39m\n\u001b[0;32m----> <a href='vscode-notebook-cell://ssh-remote%2Bperlmutter-p1.nersc.gov/global/homes/j/joeschm/fusion_research/GENE_code_V4/simulation_data/UNIT_TESTS_simulation_data/UT_file_functions_V4.ipynb#X22sdnNjb2RlLXJlbW90ZQ%3D%3D?line=1'>2</a>\u001b[0m file_checks(wrong_filetype_filepath, \u001b[39m'\u001b[39m\u001b[39mnrg\u001b[39m\u001b[39m'\u001b[39m)\n",
      "File \u001b[0;32m/global/u1/j/joeschm/fusion_research/GENE_code_V4/simulation_data/GP_file_functions_V4.py:62\u001b[0m, in \u001b[0;36mfile_checks\u001b[0;34m(filepath, filetype)\u001b[0m\n\u001b[1;32m     59\u001b[0m check_filetype \u001b[39m=\u001b[39m filename\u001b[39m.\u001b[39mstartswith(filetype)\n\u001b[1;32m     61\u001b[0m \u001b[39mif\u001b[39;00m \u001b[39mnot\u001b[39;00m check_filetype:\n\u001b[0;32m---> 62\u001b[0m     \u001b[39mraise\u001b[39;00m FileError(\u001b[39mf\u001b[39m\u001b[39m\"\u001b[39m\u001b[39mThe filename does not start with \u001b[39m\u001b[39m'\u001b[39m\u001b[39m{\u001b[39;00mfiletype\u001b[39m}\u001b[39;00m\u001b[39m'\u001b[39m\u001b[39m: \u001b[39m\u001b[39m{\u001b[39;00mfilepath\u001b[39m}\u001b[39;00m\u001b[39m\"\u001b[39m)\n",
      "\u001b[0;31mFileError\u001b[0m: The filename does not start with 'nrg': /pscratch/sd/j/joeschm/NSXTU_discharges/X_TEST/scanfiles0004/omega_0002"
     ]
    }
   ],
   "source": [
    "wrong_filetype_filepath = '/pscratch/sd/j/joeschm/NSXTU_discharges/X_TEST/scanfiles0004/omega_0002'\n",
    "file_checks(wrong_filetype_filepath, 'nrg')"
   ]
  },
  {
   "cell_type": "markdown",
   "metadata": {},
   "source": [
    "### Filepath works out"
   ]
  },
  {
   "cell_type": "code",
   "execution_count": null,
   "metadata": {},
   "outputs": [],
   "source": [
    "omega_filepath = '/pscratch/sd/j/joeschm/NSXTU_discharges/X_TEST/scanfiles0004/omega_0002'\n",
    "file_checks(omega_filepath, 'omega')\n",
    "\n",
    "nrg_filepath = '/pscratch/sd/j/joeschm/NSXTU_discharges/X_TEST/TEST_3spec_k1/nrg.dat'\n",
    "file_checks(nrg_filepath, 'nrg')"
   ]
  },
  {
   "cell_type": "markdown",
   "metadata": {},
   "source": [
    "# Count files in directory"
   ]
  },
  {
   "cell_type": "markdown",
   "metadata": {},
   "source": [
    "### Error - not a directory given"
   ]
  },
  {
   "cell_type": "code",
   "execution_count": null,
   "metadata": {},
   "outputs": [
    {
     "ename": "FileError",
     "evalue": "The file path given is not a directory: /pscratch/sd/j/joeschm/NSXTU_discharges/X_TEST/TEST_3spec_k1/omega.dat",
     "output_type": "error",
     "traceback": [
      "\u001b[0;31m---------------------------------------------------------------------------\u001b[0m",
      "\u001b[0;31mFileError\u001b[0m                                 Traceback (most recent call last)",
      "\u001b[1;32m/global/homes/j/joeschm/fusion_research/GENE_code_V4/simulation_data/UNIT_TESTS_simulation_data/UT_file_functions_V4.ipynb Cell 22\u001b[0m line \u001b[0;36m3\n\u001b[1;32m      <a href='vscode-notebook-cell://ssh-remote%2Bperlmutter-p1.nersc.gov/global/homes/j/joeschm/fusion_research/GENE_code_V4/simulation_data/UNIT_TESTS_simulation_data/UT_file_functions_V4.ipynb#X30sdnNjb2RlLXJlbW90ZQ%3D%3D?line=0'>1</a>\u001b[0m directory_filepath \u001b[39m=\u001b[39m \u001b[39m'\u001b[39m\u001b[39m/pscratch/sd/j/joeschm/NSXTU_discharges/X_TEST/TEST_3spec_k1/omega.dat\u001b[39m\u001b[39m'\u001b[39m\n\u001b[0;32m----> <a href='vscode-notebook-cell://ssh-remote%2Bperlmutter-p1.nersc.gov/global/homes/j/joeschm/fusion_research/GENE_code_V4/simulation_data/UNIT_TESTS_simulation_data/UT_file_functions_V4.ipynb#X30sdnNjb2RlLXJlbW90ZQ%3D%3D?line=2'>3</a>\u001b[0m count_files_in_dir(directory_filepath , \u001b[39m'\u001b[39m\u001b[39momega\u001b[39m\u001b[39m'\u001b[39m)\n",
      "File \u001b[0;32m/global/u1/j/joeschm/fusion_research/GENE_code_V4/simulation_data/GP_file_functions_V4.py:70\u001b[0m, in \u001b[0;36mcount_files_in_dir\u001b[0;34m(directory, filetype)\u001b[0m\n\u001b[1;32m     68\u001b[0m check_is_dir \u001b[39m=\u001b[39m os\u001b[39m.\u001b[39mpath\u001b[39m.\u001b[39misdir(directory)\n\u001b[1;32m     69\u001b[0m \u001b[39mif\u001b[39;00m \u001b[39mnot\u001b[39;00m check_is_dir:\n\u001b[0;32m---> 70\u001b[0m     \u001b[39mraise\u001b[39;00m FileError(\u001b[39mf\u001b[39m\u001b[39m\"\u001b[39m\u001b[39mThe file path given is not a directory: \u001b[39m\u001b[39m{\u001b[39;00mdirectory\u001b[39m}\u001b[39;00m\u001b[39m\"\u001b[39m)\n\u001b[1;32m     72\u001b[0m count \u001b[39m=\u001b[39m \u001b[39m0\u001b[39m\n\u001b[1;32m     73\u001b[0m \u001b[39mfor\u001b[39;00m filename \u001b[39min\u001b[39;00m os\u001b[39m.\u001b[39mlistdir(directory):\n",
      "\u001b[0;31mFileError\u001b[0m: The file path given is not a directory: /pscratch/sd/j/joeschm/NSXTU_discharges/X_TEST/TEST_3spec_k1/omega.dat"
     ]
    }
   ],
   "source": [
    "directory_filepath = '/pscratch/sd/j/joeschm/NSXTU_discharges/X_TEST/TEST_3spec_k1/omega.dat'\n",
    "\n",
    "count_files_in_dir(directory_filepath , 'omega')"
   ]
  },
  {
   "cell_type": "markdown",
   "metadata": {},
   "source": [
    "### Working cases"
   ]
  },
  {
   "cell_type": "code",
   "execution_count": null,
   "metadata": {},
   "outputs": [],
   "source": [
    "directory_filepath = '/pscratch/sd/j/joeschm/NSXTU_discharges/X_TEST/scanfiles0004'\n",
    "\n",
    "assert count_files_in_dir(directory_filepath , 'omega') == 5\n",
    "assert count_files_in_dir(directory_filepath , 'parameters') == 6\n",
    "assert count_files_in_dir(directory_filepath , 'nrg') == 5\n",
    "\n",
    "directory_filepath = '/pscratch/sd/j/joeschm/NSXTU_discharges/X_TEST/TEST_3spec_k1'\n",
    "\n",
    "assert count_files_in_dir(directory_filepath , 'omega') == 1\n",
    "assert count_files_in_dir(directory_filepath , 'parameters') == 1\n",
    "assert count_files_in_dir(directory_filepath , 'nrg') == 1\n",
    "\n",
    "directory_filepath = '/pscratch/sd/j/joeschm/NSXTU_discharges/X_TEST'\n",
    "\n",
    "assert count_files_in_dir(directory_filepath , 'omega') == 0\n",
    "assert count_files_in_dir(directory_filepath , 'parameters') == 0\n",
    "assert count_files_in_dir(directory_filepath , 'nrg') == 0"
   ]
  },
  {
   "cell_type": "markdown",
   "metadata": {},
   "source": [
    "# String to list"
   ]
  },
  {
   "cell_type": "markdown",
   "metadata": {},
   "source": [
    "### Error - given input is not list/string"
   ]
  },
  {
   "cell_type": "code",
   "execution_count": null,
   "metadata": {},
   "outputs": [
    {
     "ename": "FileError",
     "evalue": "Given input 1 is a <class 'int'> not a string or list type. Please try again.",
     "output_type": "error",
     "traceback": [
      "\u001b[0;31m---------------------------------------------------------------------------\u001b[0m",
      "\u001b[0;31mFileError\u001b[0m                                 Traceback (most recent call last)",
      "\u001b[1;32m/global/homes/j/joeschm/fusion_research/GENE_code_V4/simulation_data/UNIT_TESTS_simulation_data/UT_file_functions_V4.ipynb Cell 27\u001b[0m line \u001b[0;36m1\n\u001b[0;32m----> <a href='vscode-notebook-cell://ssh-remote%2Bperlmutter-p1.nersc.gov/global/homes/j/joeschm/fusion_research/GENE_code_V4/simulation_data/UNIT_TESTS_simulation_data/UT_file_functions_V4.ipynb#X35sdnNjb2RlLXJlbW90ZQ%3D%3D?line=0'>1</a>\u001b[0m string_to_list(\u001b[39m1\u001b[39m)\n",
      "File \u001b[0;32m/global/u1/j/joeschm/fusion_research/GENE_code_V4/simulation_data/GP_file_functions_V4.py:88\u001b[0m, in \u001b[0;36mstring_to_list\u001b[0;34m(string)\u001b[0m\n\u001b[1;32m     86\u001b[0m     string_list \u001b[39m=\u001b[39m string\n\u001b[1;32m     87\u001b[0m \u001b[39melse\u001b[39;00m:\n\u001b[0;32m---> 88\u001b[0m     \u001b[39mraise\u001b[39;00m FileError(\u001b[39mf\u001b[39m\u001b[39m\"\u001b[39m\u001b[39mGiven input \u001b[39m\u001b[39m{\u001b[39;00mstring\u001b[39m}\u001b[39;00m\u001b[39m is a \u001b[39m\u001b[39m{\u001b[39;00m\u001b[39mtype\u001b[39m(string)\u001b[39m}\u001b[39;00m\u001b[39m not a string or list type. Please try again.\u001b[39m\u001b[39m\"\u001b[39m)\n\u001b[1;32m     90\u001b[0m \u001b[39mreturn\u001b[39;00m string_list\n",
      "\u001b[0;31mFileError\u001b[0m: Given input 1 is a <class 'int'> not a string or list type. Please try again."
     ]
    }
   ],
   "source": [
    "string_to_list(1)"
   ]
  },
  {
   "cell_type": "code",
   "execution_count": null,
   "metadata": {},
   "outputs": [
    {
     "ename": "FileError",
     "evalue": "Given input {'a': 2, 'b': 'abc'} is a <class 'dict'> not a string or list type. Please try again.",
     "output_type": "error",
     "traceback": [
      "\u001b[0;31m---------------------------------------------------------------------------\u001b[0m",
      "\u001b[0;31mFileError\u001b[0m                                 Traceback (most recent call last)",
      "\u001b[1;32m/global/homes/j/joeschm/fusion_research/GENE_code_V4/simulation_data/UNIT_TESTS_simulation_data/UT_file_functions_V4.ipynb Cell 28\u001b[0m line \u001b[0;36m1\n\u001b[0;32m----> <a href='vscode-notebook-cell://ssh-remote%2Bperlmutter-p1.nersc.gov/global/homes/j/joeschm/fusion_research/GENE_code_V4/simulation_data/UNIT_TESTS_simulation_data/UT_file_functions_V4.ipynb#X36sdnNjb2RlLXJlbW90ZQ%3D%3D?line=0'>1</a>\u001b[0m string_to_list({\u001b[39m'\u001b[39m\u001b[39ma\u001b[39m\u001b[39m'\u001b[39m: \u001b[39m2\u001b[39m, \u001b[39m'\u001b[39m\u001b[39mb\u001b[39m\u001b[39m'\u001b[39m: \u001b[39m'\u001b[39m\u001b[39mabc\u001b[39m\u001b[39m'\u001b[39m})\n",
      "File \u001b[0;32m/global/u1/j/joeschm/fusion_research/GENE_code_V4/simulation_data/GP_file_functions_V4.py:88\u001b[0m, in \u001b[0;36mstring_to_list\u001b[0;34m(string)\u001b[0m\n\u001b[1;32m     86\u001b[0m     string_list \u001b[39m=\u001b[39m string\n\u001b[1;32m     87\u001b[0m \u001b[39melse\u001b[39;00m:\n\u001b[0;32m---> 88\u001b[0m     \u001b[39mraise\u001b[39;00m FileError(\u001b[39mf\u001b[39m\u001b[39m\"\u001b[39m\u001b[39mGiven input \u001b[39m\u001b[39m{\u001b[39;00mstring\u001b[39m}\u001b[39;00m\u001b[39m is a \u001b[39m\u001b[39m{\u001b[39;00m\u001b[39mtype\u001b[39m(string)\u001b[39m}\u001b[39;00m\u001b[39m not a string or list type. Please try again.\u001b[39m\u001b[39m\"\u001b[39m)\n\u001b[1;32m     90\u001b[0m \u001b[39mreturn\u001b[39;00m string_list\n",
      "\u001b[0;31mFileError\u001b[0m: Given input {'a': 2, 'b': 'abc'} is a <class 'dict'> not a string or list type. Please try again."
     ]
    }
   ],
   "source": [
    "string_to_list({'a': 2, 'b': 'abc'})"
   ]
  },
  {
   "cell_type": "code",
   "execution_count": null,
   "metadata": {},
   "outputs": [],
   "source": [
    "assert string_to_list('test') == ['test']\n",
    "assert string_to_list(['test']) == ['test']"
   ]
  },
  {
   "cell_type": "markdown",
   "metadata": {},
   "source": [
    "# Find buried filetype files"
   ]
  },
  {
   "cell_type": "markdown",
   "metadata": {},
   "source": [
    "### Error - directory does not exist"
   ]
  },
  {
   "cell_type": "code",
   "execution_count": null,
   "metadata": {},
   "outputs": [
    {
     "ename": "FileError",
     "evalue": "The file path does not exist: /pscratch/sd/j/joeschm/NSXTU_discharges/X_TEST/BLAH",
     "output_type": "error",
     "traceback": [
      "\u001b[0;31m---------------------------------------------------------------------------\u001b[0m",
      "\u001b[0;31mFileError\u001b[0m                                 Traceback (most recent call last)",
      "\u001b[1;32m/global/homes/j/joeschm/fusion_research/GENE_code_V4/simulation_data/UNIT_TESTS_simulation_data/UT_file_functions_V4.ipynb Cell 32\u001b[0m line \u001b[0;36m3\n\u001b[1;32m      <a href='vscode-notebook-cell://ssh-remote%2Bperlmutter-p1.nersc.gov/global/homes/j/joeschm/fusion_research/GENE_code_V4/simulation_data/UNIT_TESTS_simulation_data/UT_file_functions_V4.ipynb#X43sdnNjb2RlLXJlbW90ZQ%3D%3D?line=0'>1</a>\u001b[0m directory_filepath \u001b[39m=\u001b[39m \u001b[39m'\u001b[39m\u001b[39m/pscratch/sd/j/joeschm/NSXTU_discharges/X_TEST/BLAH\u001b[39m\u001b[39m'\u001b[39m\n\u001b[0;32m----> <a href='vscode-notebook-cell://ssh-remote%2Bperlmutter-p1.nersc.gov/global/homes/j/joeschm/fusion_research/GENE_code_V4/simulation_data/UNIT_TESTS_simulation_data/UT_file_functions_V4.ipynb#X43sdnNjb2RlLXJlbW90ZQ%3D%3D?line=2'>3</a>\u001b[0m find_buried_filetype_files(directory_filepath, filetype\u001b[39m=\u001b[39m\u001b[39m'\u001b[39m\u001b[39momega\u001b[39m\u001b[39m'\u001b[39m)\n",
      "File \u001b[0;32m/global/u1/j/joeschm/fusion_research/GENE_code_V4/simulation_data/GP_file_functions_V4.py:108\u001b[0m, in \u001b[0;36mfind_buried_filetype_files\u001b[0;34m(base_filepath_list, filetype, max_depth, current_depth)\u001b[0m\n\u001b[1;32m    106\u001b[0m check_exists \u001b[39m=\u001b[39m os\u001b[39m.\u001b[39mpath\u001b[39m.\u001b[39mexists(base_filepath)\n\u001b[1;32m    107\u001b[0m \u001b[39mif\u001b[39;00m \u001b[39mnot\u001b[39;00m check_exists:\n\u001b[0;32m--> 108\u001b[0m     \u001b[39mraise\u001b[39;00m FileError(\u001b[39mf\u001b[39m\u001b[39m\"\u001b[39m\u001b[39mThe file path does not exist: \u001b[39m\u001b[39m{\u001b[39;00mbase_filepath\u001b[39m}\u001b[39;00m\u001b[39m\"\u001b[39m)\n\u001b[1;32m    111\u001b[0m \u001b[39m# Check if the base filepath is a 'parameters/omega/nrg' file\u001b[39;00m\n\u001b[1;32m    112\u001b[0m \u001b[39mif\u001b[39;00m filetype \u001b[39min\u001b[39;00m os\u001b[39m.\u001b[39mpath\u001b[39m.\u001b[39mbasename(base_filepath):\n",
      "\u001b[0;31mFileError\u001b[0m: The file path does not exist: /pscratch/sd/j/joeschm/NSXTU_discharges/X_TEST/BLAH"
     ]
    }
   ],
   "source": [
    "directory_filepath = '/pscratch/sd/j/joeschm/NSXTU_discharges/X_TEST/BLAH'\n",
    "\n",
    "find_buried_filetype_files(directory_filepath, filetype='omega')"
   ]
  },
  {
   "cell_type": "code",
   "execution_count": null,
   "metadata": {},
   "outputs": [
    {
     "ename": "FileError",
     "evalue": "The file path does not exist: /pscratch/sd/j/joeschm/NSXTU_discharges/X_TEST/BLAH",
     "output_type": "error",
     "traceback": [
      "\u001b[0;31m---------------------------------------------------------------------------\u001b[0m",
      "\u001b[0;31mFileError\u001b[0m                                 Traceback (most recent call last)",
      "\u001b[1;32m/global/homes/j/joeschm/fusion_research/GENE_code_V4/simulation_data/UNIT_TESTS_simulation_data/UT_file_functions_V4.ipynb Cell 33\u001b[0m line \u001b[0;36m4\n\u001b[1;32m      <a href='vscode-notebook-cell://ssh-remote%2Bperlmutter-p1.nersc.gov/global/homes/j/joeschm/fusion_research/GENE_code_V4/simulation_data/UNIT_TESTS_simulation_data/UT_file_functions_V4.ipynb#X55sdnNjb2RlLXJlbW90ZQ%3D%3D?line=0'>1</a>\u001b[0m directory_filepath \u001b[39m=\u001b[39m [\u001b[39m'\u001b[39m\u001b[39m/pscratch/sd/j/joeschm/NSXTU_discharges/X_TEST/scanfiles0003\u001b[39m\u001b[39m'\u001b[39m, \n\u001b[1;32m      <a href='vscode-notebook-cell://ssh-remote%2Bperlmutter-p1.nersc.gov/global/homes/j/joeschm/fusion_research/GENE_code_V4/simulation_data/UNIT_TESTS_simulation_data/UT_file_functions_V4.ipynb#X55sdnNjb2RlLXJlbW90ZQ%3D%3D?line=1'>2</a>\u001b[0m                       \u001b[39m'\u001b[39m\u001b[39m/pscratch/sd/j/joeschm/NSXTU_discharges/X_TEST/BLAH\u001b[39m\u001b[39m'\u001b[39m]\n\u001b[0;32m----> <a href='vscode-notebook-cell://ssh-remote%2Bperlmutter-p1.nersc.gov/global/homes/j/joeschm/fusion_research/GENE_code_V4/simulation_data/UNIT_TESTS_simulation_data/UT_file_functions_V4.ipynb#X55sdnNjb2RlLXJlbW90ZQ%3D%3D?line=3'>4</a>\u001b[0m find_buried_filetype_files(directory_filepath, filetype\u001b[39m=\u001b[39m\u001b[39m'\u001b[39m\u001b[39momega\u001b[39m\u001b[39m'\u001b[39m)\n",
      "File \u001b[0;32m/global/u1/j/joeschm/fusion_research/GENE_code_V4/simulation_data/GP_file_functions_V4.py:108\u001b[0m, in \u001b[0;36mfind_buried_filetype_files\u001b[0;34m(base_filepath_list, filetype, max_depth, current_depth)\u001b[0m\n\u001b[1;32m    106\u001b[0m check_exists \u001b[39m=\u001b[39m os\u001b[39m.\u001b[39mpath\u001b[39m.\u001b[39mexists(base_filepath)\n\u001b[1;32m    107\u001b[0m \u001b[39mif\u001b[39;00m \u001b[39mnot\u001b[39;00m check_exists:\n\u001b[0;32m--> 108\u001b[0m     \u001b[39mraise\u001b[39;00m FileError(\u001b[39mf\u001b[39m\u001b[39m\"\u001b[39m\u001b[39mThe file path does not exist: \u001b[39m\u001b[39m{\u001b[39;00mbase_filepath\u001b[39m}\u001b[39;00m\u001b[39m\"\u001b[39m)\n\u001b[1;32m    111\u001b[0m \u001b[39m# Check if the base filepath is a 'parameters/omega/nrg' file\u001b[39;00m\n\u001b[1;32m    112\u001b[0m \u001b[39mif\u001b[39;00m filetype \u001b[39min\u001b[39;00m os\u001b[39m.\u001b[39mpath\u001b[39m.\u001b[39mbasename(base_filepath):\n",
      "\u001b[0;31mFileError\u001b[0m: The file path does not exist: /pscratch/sd/j/joeschm/NSXTU_discharges/X_TEST/BLAH"
     ]
    }
   ],
   "source": [
    "directory_filepath = ['/pscratch/sd/j/joeschm/NSXTU_discharges/X_TEST/scanfiles0003', \n",
    "                      '/pscratch/sd/j/joeschm/NSXTU_discharges/X_TEST/BLAH']\n",
    "\n",
    "find_buried_filetype_files(directory_filepath, filetype='omega')"
   ]
  },
  {
   "cell_type": "markdown",
   "metadata": {},
   "source": [
    "### Error - No files found at depth 2"
   ]
  },
  {
   "cell_type": "code",
   "execution_count": null,
   "metadata": {},
   "outputs": [
    {
     "ename": "FileError",
     "evalue": "No files of type parameters were found at a depth of 2. Please try search again.",
     "output_type": "error",
     "traceback": [
      "\u001b[0;31m---------------------------------------------------------------------------\u001b[0m",
      "\u001b[0;31mFileError\u001b[0m                                 Traceback (most recent call last)",
      "\u001b[1;32m/global/homes/j/joeschm/fusion_research/GENE_code_V4/simulation_data/UNIT_TESTS_simulation_data/UT_file_functions_V4.ipynb Cell 35\u001b[0m line \u001b[0;36m3\n\u001b[1;32m      <a href='vscode-notebook-cell://ssh-remote%2Bperlmutter-p1.nersc.gov/global/homes/j/joeschm/fusion_research/GENE_code_V4/simulation_data/UNIT_TESTS_simulation_data/UT_file_functions_V4.ipynb#X45sdnNjb2RlLXJlbW90ZQ%3D%3D?line=0'>1</a>\u001b[0m directory_filepath \u001b[39m=\u001b[39m \u001b[39m'\u001b[39m\u001b[39m/pscratch/sd/j/joeschm/NSXTU_discharges\u001b[39m\u001b[39m'\u001b[39m\n\u001b[0;32m----> <a href='vscode-notebook-cell://ssh-remote%2Bperlmutter-p1.nersc.gov/global/homes/j/joeschm/fusion_research/GENE_code_V4/simulation_data/UNIT_TESTS_simulation_data/UT_file_functions_V4.ipynb#X45sdnNjb2RlLXJlbW90ZQ%3D%3D?line=2'>3</a>\u001b[0m find_buried_filetype_files(directory_filepath, filetype\u001b[39m=\u001b[39m\u001b[39m'\u001b[39m\u001b[39mparameters\u001b[39m\u001b[39m'\u001b[39m)\n",
      "File \u001b[0;32m/global/u1/j/joeschm/fusion_research/GENE_code_V4/simulation_data/GP_file_functions_V4.py:132\u001b[0m, in \u001b[0;36mfind_buried_filetype_files\u001b[0;34m(base_filepath_list, filetype, max_depth, current_depth)\u001b[0m\n\u001b[1;32m    129\u001b[0m         \u001b[39m# Check if the directory is a subdirectory and does not contain 'X_' or 'in_par'\u001b[39;00m\n\u001b[1;32m    130\u001b[0m         \u001b[39mif\u001b[39;00m os\u001b[39m.\u001b[39mpath\u001b[39m.\u001b[39misdir(directory) \u001b[39mand\u001b[39;00m (\u001b[39m'\u001b[39m\u001b[39mX_\u001b[39m\u001b[39m'\u001b[39m \u001b[39mor\u001b[39;00m \u001b[39m'\u001b[39m\u001b[39min_par\u001b[39m\u001b[39m'\u001b[39m) \u001b[39mnot\u001b[39;00m \u001b[39min\u001b[39;00m dirname:\n\u001b[1;32m    131\u001b[0m             \u001b[39m# Recursively call the function to search the subdirectory and add them to the list (ends search when max depth reached)\u001b[39;00m\n\u001b[0;32m--> 132\u001b[0m             filetype_files \u001b[39m+\u001b[39m\u001b[39m=\u001b[39m find_buried_filetype_files(directory, filetype, max_depth, current_depth\u001b[39m+\u001b[39m\u001b[39m1\u001b[39m)\n\u001b[1;32m    134\u001b[0m \u001b[39m# If there is one or more 'parameters/omega/nrg' files, loop through each file in the base filepath\u001b[39;00m\n\u001b[1;32m    135\u001b[0m \u001b[39melif\u001b[39;00m filetype_count \u001b[39m>\u001b[39m \u001b[39m0\u001b[39m:\n",
      "File \u001b[0;32m/global/u1/j/joeschm/fusion_research/GENE_code_V4/simulation_data/GP_file_functions_V4.py:132\u001b[0m, in \u001b[0;36mfind_buried_filetype_files\u001b[0;34m(base_filepath_list, filetype, max_depth, current_depth)\u001b[0m\n\u001b[1;32m    129\u001b[0m         \u001b[39m# Check if the directory is a subdirectory and does not contain 'X_' or 'in_par'\u001b[39;00m\n\u001b[1;32m    130\u001b[0m         \u001b[39mif\u001b[39;00m os\u001b[39m.\u001b[39mpath\u001b[39m.\u001b[39misdir(directory) \u001b[39mand\u001b[39;00m (\u001b[39m'\u001b[39m\u001b[39mX_\u001b[39m\u001b[39m'\u001b[39m \u001b[39mor\u001b[39;00m \u001b[39m'\u001b[39m\u001b[39min_par\u001b[39m\u001b[39m'\u001b[39m) \u001b[39mnot\u001b[39;00m \u001b[39min\u001b[39;00m dirname:\n\u001b[1;32m    131\u001b[0m             \u001b[39m# Recursively call the function to search the subdirectory and add them to the list (ends search when max depth reached)\u001b[39;00m\n\u001b[0;32m--> 132\u001b[0m             filetype_files \u001b[39m+\u001b[39m\u001b[39m=\u001b[39m find_buried_filetype_files(directory, filetype, max_depth, current_depth\u001b[39m+\u001b[39m\u001b[39m1\u001b[39m)\n\u001b[1;32m    134\u001b[0m \u001b[39m# If there is one or more 'parameters/omega/nrg' files, loop through each file in the base filepath\u001b[39;00m\n\u001b[1;32m    135\u001b[0m \u001b[39melif\u001b[39;00m filetype_count \u001b[39m>\u001b[39m \u001b[39m0\u001b[39m:\n",
      "File \u001b[0;32m/global/u1/j/joeschm/fusion_research/GENE_code_V4/simulation_data/GP_file_functions_V4.py:160\u001b[0m, in \u001b[0;36mfind_buried_filetype_files\u001b[0;34m(base_filepath_list, filetype, max_depth, current_depth)\u001b[0m\n\u001b[1;32m    156\u001b[0m                         \u001b[39mpass\u001b[39;00m\n\u001b[1;32m    159\u001b[0m \u001b[39mif\u001b[39;00m \u001b[39mlen\u001b[39m(filetype_files) \u001b[39m==\u001b[39m \u001b[39m0\u001b[39m:\n\u001b[0;32m--> 160\u001b[0m     \u001b[39mraise\u001b[39;00m FileError(\u001b[39mf\u001b[39m\u001b[39m\"\u001b[39m\u001b[39mNo files of type \u001b[39m\u001b[39m{\u001b[39;00mfiletype\u001b[39m}\u001b[39;00m\u001b[39m were found at a depth of \u001b[39m\u001b[39m{\u001b[39;00mmax_depth\u001b[39m}\u001b[39;00m\u001b[39m. Please try search again.\u001b[39m\u001b[39m\"\u001b[39m)\n\u001b[1;32m    162\u001b[0m \u001b[39m# Return the list of 'parameters/omega/nrg' filepaths\u001b[39;00m\n\u001b[1;32m    163\u001b[0m \u001b[39mreturn\u001b[39;00m filetype_files\n",
      "\u001b[0;31mFileError\u001b[0m: No files of type parameters were found at a depth of 2. Please try search again."
     ]
    }
   ],
   "source": [
    "directory_filepath = '/pscratch/sd/j/joeschm/NSXTU_discharges'\n",
    "\n",
    "find_buried_filetype_files(directory_filepath, filetype='parameters')"
   ]
  },
  {
   "cell_type": "markdown",
   "metadata": {},
   "source": [
    "### Working cases"
   ]
  },
  {
   "cell_type": "code",
   "execution_count": 8,
   "metadata": {},
   "outputs": [],
   "source": [
    "directory_filepath = '/pscratch/sd/j/joeschm/NSXTU_discharges/X_TEST'\n",
    "param_filepath_list = find_buried_filetype_files(directory_filepath, filetype='field')\n",
    "\n",
    "assert len(param_filepath_list) == 20"
   ]
  },
  {
   "cell_type": "code",
   "execution_count": 6,
   "metadata": {},
   "outputs": [],
   "source": [
    "directory_filepath = '/pscratch/sd/j/joeschm/NSXTU_discharges/X_TEST/scanfiles0004'\n",
    "omega_filepath_list = find_buried_filetype_files(directory_filepath, filetype='omega')\n",
    "\n",
    "assert len(omega_filepath_list) == 5\n"
   ]
  },
  {
   "cell_type": "code",
   "execution_count": 7,
   "metadata": {},
   "outputs": [],
   "source": [
    "directory_filepath = '/pscratch/sd/j/joeschm/NSXTU_discharges/X_TEST/TEST_3spec_k1'\n",
    "nrg_filepath_list = find_buried_filetype_files(directory_filepath, filetype='nrg')\n",
    "\n",
    "assert len(nrg_filepath_list) == 1\n"
   ]
  }
 ],
 "metadata": {
  "kernelspec": {
   "display_name": "jupyter_env",
   "language": "python",
   "name": "python3"
  },
  "language_info": {
   "codemirror_mode": {
    "name": "ipython",
    "version": 3
   },
   "file_extension": ".py",
   "mimetype": "text/x-python",
   "name": "python",
   "nbconvert_exporter": "python",
   "pygments_lexer": "ipython3",
   "version": "3.11.4"
  },
  "orig_nbformat": 4
 },
 "nbformat": 4,
 "nbformat_minor": 2
}
