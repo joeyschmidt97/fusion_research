{
 "cells": [
  {
   "cell_type": "code",
   "execution_count": 1,
   "metadata": {},
   "outputs": [],
   "source": [
    "import os\n",
    "os.chdir(\"..\")\n",
    "from GP_simulation_data_V4 import filepath_to_simulation_dict_list"
   ]
  },
  {
   "cell_type": "code",
   "execution_count": 2,
   "metadata": {},
   "outputs": [],
   "source": [
    "test_dir = '/pscratch/sd/j/joeschm/NSXTU_discharges/X_TEST'\n",
    "filepath = os.path.join(test_dir, 'TEST_3spec_k1')\n",
    "\n",
    "filepath = '/pscratch/sd/j/joeschm/NSXTU_discharges/X_TEST/scanfiles0002'\n",
    "\n",
    "# test_dir = '/pscratch/sd/j/joeschm/NSXTU_discharges/X_TEST'\n",
    "# filepath = os.path.join(test_dir, 'scanfiles0002')"
   ]
  },
  {
   "cell_type": "code",
   "execution_count": 3,
   "metadata": {},
   "outputs": [
    {
     "name": "stdout",
     "output_type": "stream",
     "text": [
      "{'filepath': '/pscratch/sd/j/joeschm/NSXTU_discharges/X_TEST/scanfiles0002/omega_0001', 'key_list': ['kymin', 'gamma', 'omega'], 'kymin': None, 'gamma': None, 'omega': None, 'status': 'NOT CONVERGED'}\n"
     ]
    }
   ],
   "source": [
    "\n",
    "crit_list = ['gamma']\n",
    "\n",
    "sim_dict_list = filepath_to_simulation_dict_list(filepath, criteria_list=crit_list, load_files=['omega'])\n",
    "print(sim_dict_list[0]['omega_dict'])"
   ]
  },
  {
   "cell_type": "code",
   "execution_count": 4,
   "metadata": {},
   "outputs": [
    {
     "name": "stdout",
     "output_type": "stream",
     "text": [
      "72\n",
      "0001 /// filepath:  /pscratch/sd/j/joeschm/NSXTU_discharges/129015/r_0.936008_OM_top/MTM_limit/kymin_0.1/scanfiles0000/nrg_0001\n",
      "0002 /// filepath:  /pscratch/sd/j/joeschm/NSXTU_discharges/129015/r_0.936008_OM_top/MTM_limit/kymin_0.1/scanfiles0000/nrg_0002\n",
      "0003 /// filepath:  /pscratch/sd/j/joeschm/NSXTU_discharges/129015/r_0.936008_OM_top/MTM_limit/kymin_0.1/scanfiles0000/nrg_0003\n",
      "0004 /// filepath:  /pscratch/sd/j/joeschm/NSXTU_discharges/129015/r_0.936008_OM_top/MTM_limit/kymin_0.1/scanfiles0000/nrg_0004\n",
      "0005 /// filepath:  /pscratch/sd/j/joeschm/NSXTU_discharges/129015/r_0.936008_OM_top/MTM_limit/kymin_0.1/scanfiles0000/nrg_0005\n",
      "0006 /// filepath:  /pscratch/sd/j/joeschm/NSXTU_discharges/129015/r_0.936008_OM_top/MTM_limit/kymin_0.1/scanfiles0000/nrg_0006\n",
      "0007 /// filepath:  /pscratch/sd/j/joeschm/NSXTU_discharges/129015/r_0.936008_OM_top/MTM_limit/kymin_0.1/scanfiles0000/nrg_0007\n",
      "0008 /// filepath:  /pscratch/sd/j/joeschm/NSXTU_discharges/129015/r_0.936008_OM_top/MTM_limit/kymin_0.1/scanfiles0000/nrg_0008\n",
      "0009 /// filepath:  /pscratch/sd/j/joeschm/NSXTU_discharges/129015/r_0.936008_OM_top/MTM_limit/kymin_0.1/scanfiles0000/nrg_0009\n",
      "0010 /// filepath:  /pscratch/sd/j/joeschm/NSXTU_discharges/129015/r_0.936008_OM_top/MTM_limit/kymin_0.1/scanfiles0000/nrg_0010\n",
      "0011 /// filepath:  /pscratch/sd/j/joeschm/NSXTU_discharges/129015/r_0.936008_OM_top/MTM_limit/kymin_0.1/scanfiles0000/nrg_0011\n",
      "0012 /// filepath:  /pscratch/sd/j/joeschm/NSXTU_discharges/129015/r_0.936008_OM_top/MTM_limit/kymin_0.1/scanfiles0000/nrg_0012\n",
      "0013 /// filepath:  /pscratch/sd/j/joeschm/NSXTU_discharges/129015/r_0.936008_OM_top/MTM_limit/kymin_0.1/scanfiles0000/nrg_0013\n",
      "0014 /// filepath:  /pscratch/sd/j/joeschm/NSXTU_discharges/129015/r_0.936008_OM_top/MTM_limit/kymin_0.1/scanfiles0000/nrg_0014\n",
      "0015 /// filepath:  /pscratch/sd/j/joeschm/NSXTU_discharges/129015/r_0.936008_OM_top/MTM_limit/kymin_0.1/scanfiles0000/nrg_0015\n",
      "0016 /// filepath:  /pscratch/sd/j/joeschm/NSXTU_discharges/129015/r_0.936008_OM_top/MTM_limit/kymin_0.1/scanfiles0000/nrg_0016\n",
      "0017 /// filepath:  /pscratch/sd/j/joeschm/NSXTU_discharges/129015/r_0.936008_OM_top/MTM_limit/kymin_0.1/scanfiles0000/nrg_0017\n",
      "0018 /// filepath:  /pscratch/sd/j/joeschm/NSXTU_discharges/129015/r_0.936008_OM_top/MTM_limit/kymin_0.1/scanfiles0000/nrg_0018\n",
      "0019 /// filepath:  /pscratch/sd/j/joeschm/NSXTU_discharges/129015/r_0.936008_OM_top/MTM_limit/kymin_0.1/scanfiles0000/nrg_0019\n",
      "0020 /// filepath:  /pscratch/sd/j/joeschm/NSXTU_discharges/129015/r_0.936008_OM_top/MTM_limit/kymin_0.1/scanfiles0000/nrg_0020\n",
      "0021 /// filepath:  /pscratch/sd/j/joeschm/NSXTU_discharges/129015/r_0.936008_OM_top/MTM_limit/kymin_0.1/scanfiles0000/nrg_0021\n",
      "0022 /// filepath:  /pscratch/sd/j/joeschm/NSXTU_discharges/129015/r_0.936008_OM_top/MTM_limit/kymin_0.1/scanfiles0000/nrg_0022\n",
      "0023 /// filepath:  /pscratch/sd/j/joeschm/NSXTU_discharges/129015/r_0.936008_OM_top/MTM_limit/kymin_0.1/scanfiles0000/nrg_0023\n",
      "0024 /// filepath:  /pscratch/sd/j/joeschm/NSXTU_discharges/129015/r_0.936008_OM_top/MTM_limit/kymin_0.1/scanfiles0000/nrg_0024\n",
      "0025 /// filepath:  /pscratch/sd/j/joeschm/NSXTU_discharges/129015/r_0.936008_OM_top/MTM_limit/kymin_0.1/scanfiles0000/nrg_0025\n",
      "0026 /// filepath:  /pscratch/sd/j/joeschm/NSXTU_discharges/129015/r_0.936008_OM_top/MTM_limit/kymin_0.1/scanfiles0000/nrg_0026\n",
      "0027 /// filepath:  /pscratch/sd/j/joeschm/NSXTU_discharges/129015/r_0.936008_OM_top/MTM_limit/kymin_0.1/scanfiles0000/nrg_0027\n",
      "0001 /// filepath:  /pscratch/sd/j/joeschm/NSXTU_discharges/129015/r_0.936008_OM_top/MTM_limit/kymin_0.1/scanfiles0001/nrg_0001\n",
      "0002 /// filepath:  /pscratch/sd/j/joeschm/NSXTU_discharges/129015/r_0.936008_OM_top/MTM_limit/kymin_0.1/scanfiles0001/nrg_0002\n",
      "0003 /// filepath:  /pscratch/sd/j/joeschm/NSXTU_discharges/129015/r_0.936008_OM_top/MTM_limit/kymin_0.1/scanfiles0001/nrg_0003\n",
      "0004 /// filepath:  /pscratch/sd/j/joeschm/NSXTU_discharges/129015/r_0.936008_OM_top/MTM_limit/kymin_0.1/scanfiles0001/nrg_0004\n",
      "0005 /// filepath:  /pscratch/sd/j/joeschm/NSXTU_discharges/129015/r_0.936008_OM_top/MTM_limit/kymin_0.1/scanfiles0001/nrg_0005\n",
      "0006 /// filepath:  /pscratch/sd/j/joeschm/NSXTU_discharges/129015/r_0.936008_OM_top/MTM_limit/kymin_0.1/scanfiles0001/nrg_0006\n",
      "0007 /// filepath:  /pscratch/sd/j/joeschm/NSXTU_discharges/129015/r_0.936008_OM_top/MTM_limit/kymin_0.1/scanfiles0001/nrg_0007\n",
      "0008 /// filepath:  /pscratch/sd/j/joeschm/NSXTU_discharges/129015/r_0.936008_OM_top/MTM_limit/kymin_0.1/scanfiles0001/nrg_0008\n",
      "0009 /// filepath:  /pscratch/sd/j/joeschm/NSXTU_discharges/129015/r_0.936008_OM_top/MTM_limit/kymin_0.1/scanfiles0001/nrg_0009\n",
      "0010 /// filepath:  /pscratch/sd/j/joeschm/NSXTU_discharges/129015/r_0.936008_OM_top/MTM_limit/kymin_0.1/scanfiles0001/nrg_0010\n",
      "0011 /// filepath:  /pscratch/sd/j/joeschm/NSXTU_discharges/129015/r_0.936008_OM_top/MTM_limit/kymin_0.1/scanfiles0001/nrg_0011\n",
      "0012 /// filepath:  /pscratch/sd/j/joeschm/NSXTU_discharges/129015/r_0.936008_OM_top/MTM_limit/kymin_0.1/scanfiles0001/nrg_0012\n",
      "0013 /// filepath:  /pscratch/sd/j/joeschm/NSXTU_discharges/129015/r_0.936008_OM_top/MTM_limit/kymin_0.1/scanfiles0001/nrg_0013\n",
      "0014 /// filepath:  /pscratch/sd/j/joeschm/NSXTU_discharges/129015/r_0.936008_OM_top/MTM_limit/kymin_0.1/scanfiles0001/nrg_0014\n",
      "0015 /// filepath:  /pscratch/sd/j/joeschm/NSXTU_discharges/129015/r_0.936008_OM_top/MTM_limit/kymin_0.1/scanfiles0001/nrg_0015\n",
      "0016 /// filepath:  /pscratch/sd/j/joeschm/NSXTU_discharges/129015/r_0.936008_OM_top/MTM_limit/kymin_0.1/scanfiles0001/nrg_0016\n",
      "0017 /// filepath:  /pscratch/sd/j/joeschm/NSXTU_discharges/129015/r_0.936008_OM_top/MTM_limit/kymin_0.1/scanfiles0001/nrg_0017\n",
      "0018 /// filepath:  /pscratch/sd/j/joeschm/NSXTU_discharges/129015/r_0.936008_OM_top/MTM_limit/kymin_0.1/scanfiles0001/nrg_0018\n",
      "0019 /// filepath:  /pscratch/sd/j/joeschm/NSXTU_discharges/129015/r_0.936008_OM_top/MTM_limit/kymin_0.1/scanfiles0001/nrg_0019\n",
      "0020 /// filepath:  /pscratch/sd/j/joeschm/NSXTU_discharges/129015/r_0.936008_OM_top/MTM_limit/kymin_0.1/scanfiles0001/nrg_0020\n",
      "0021 /// filepath:  /pscratch/sd/j/joeschm/NSXTU_discharges/129015/r_0.936008_OM_top/MTM_limit/kymin_0.1/scanfiles0001/nrg_0021\n",
      "0022 /// filepath:  /pscratch/sd/j/joeschm/NSXTU_discharges/129015/r_0.936008_OM_top/MTM_limit/kymin_0.1/scanfiles0001/nrg_0022\n",
      "0023 /// filepath:  /pscratch/sd/j/joeschm/NSXTU_discharges/129015/r_0.936008_OM_top/MTM_limit/kymin_0.1/scanfiles0001/nrg_0023\n",
      "0024 /// filepath:  /pscratch/sd/j/joeschm/NSXTU_discharges/129015/r_0.936008_OM_top/MTM_limit/kymin_0.1/scanfiles0001/nrg_0024\n",
      "0025 /// filepath:  /pscratch/sd/j/joeschm/NSXTU_discharges/129015/r_0.936008_OM_top/MTM_limit/kymin_0.1/scanfiles0001/nrg_0025\n",
      "0026 /// filepath:  /pscratch/sd/j/joeschm/NSXTU_discharges/129015/r_0.936008_OM_top/MTM_limit/kymin_0.1/scanfiles0001/nrg_0026\n",
      "0027 /// filepath:  /pscratch/sd/j/joeschm/NSXTU_discharges/129015/r_0.936008_OM_top/MTM_limit/kymin_0.1/scanfiles0001/nrg_0027\n",
      "0001 /// filepath:  /pscratch/sd/j/joeschm/NSXTU_discharges/129015/r_0.936008_OM_top/MTM_limit/kymin_0.1/scanfiles0002/nrg_0001\n",
      "0002 /// filepath:  /pscratch/sd/j/joeschm/NSXTU_discharges/129015/r_0.936008_OM_top/MTM_limit/kymin_0.1/scanfiles0002/nrg_0002\n",
      "0003 /// filepath:  /pscratch/sd/j/joeschm/NSXTU_discharges/129015/r_0.936008_OM_top/MTM_limit/kymin_0.1/scanfiles0002/nrg_0003\n",
      "0004 /// filepath:  /pscratch/sd/j/joeschm/NSXTU_discharges/129015/r_0.936008_OM_top/MTM_limit/kymin_0.1/scanfiles0002/nrg_0004\n",
      "0005 /// filepath:  /pscratch/sd/j/joeschm/NSXTU_discharges/129015/r_0.936008_OM_top/MTM_limit/kymin_0.1/scanfiles0002/nrg_0005\n",
      "0006 /// filepath:  /pscratch/sd/j/joeschm/NSXTU_discharges/129015/r_0.936008_OM_top/MTM_limit/kymin_0.1/scanfiles0002/nrg_0006\n",
      "0007 /// filepath:  /pscratch/sd/j/joeschm/NSXTU_discharges/129015/r_0.936008_OM_top/MTM_limit/kymin_0.1/scanfiles0002/nrg_0007\n",
      "0008 /// filepath:  /pscratch/sd/j/joeschm/NSXTU_discharges/129015/r_0.936008_OM_top/MTM_limit/kymin_0.1/scanfiles0002/nrg_0008\n",
      "0009 /// filepath:  /pscratch/sd/j/joeschm/NSXTU_discharges/129015/r_0.936008_OM_top/MTM_limit/kymin_0.1/scanfiles0002/nrg_0009\n",
      "0010 /// filepath:  /pscratch/sd/j/joeschm/NSXTU_discharges/129015/r_0.936008_OM_top/MTM_limit/kymin_0.1/scanfiles0002/nrg_0010\n",
      "0011 /// filepath:  /pscratch/sd/j/joeschm/NSXTU_discharges/129015/r_0.936008_OM_top/MTM_limit/kymin_0.1/scanfiles0002/nrg_0011\n",
      "0012 /// filepath:  /pscratch/sd/j/joeschm/NSXTU_discharges/129015/r_0.936008_OM_top/MTM_limit/kymin_0.1/scanfiles0002/nrg_0012\n",
      "0013 /// filepath:  /pscratch/sd/j/joeschm/NSXTU_discharges/129015/r_0.936008_OM_top/MTM_limit/kymin_0.1/scanfiles0002/nrg_0013\n",
      "0014 /// filepath:  /pscratch/sd/j/joeschm/NSXTU_discharges/129015/r_0.936008_OM_top/MTM_limit/kymin_0.1/scanfiles0002/nrg_0014\n",
      "0015 /// filepath:  /pscratch/sd/j/joeschm/NSXTU_discharges/129015/r_0.936008_OM_top/MTM_limit/kymin_0.1/scanfiles0002/nrg_0015\n",
      "0016 /// filepath:  /pscratch/sd/j/joeschm/NSXTU_discharges/129015/r_0.936008_OM_top/MTM_limit/kymin_0.1/scanfiles0002/nrg_0016\n",
      "0017 /// filepath:  /pscratch/sd/j/joeschm/NSXTU_discharges/129015/r_0.936008_OM_top/MTM_limit/kymin_0.1/scanfiles0002/nrg_0017\n",
      "0018 /// filepath:  /pscratch/sd/j/joeschm/NSXTU_discharges/129015/r_0.936008_OM_top/MTM_limit/kymin_0.1/scanfiles0002/nrg_0018\n",
      "{'filepath': '/pscratch/sd/j/joeschm/NSXTU_discharges/129015/r_0.936008_OM_top/MTM_limit/kymin_0.1/scanfiles0000/nrg_0001', 'key_list': ['n_mag', 'u_par_mag', 'T_par_mag', 'T_perp_mag', 'Gamma_ES', 'Gamma_EM', 'Q_ES', 'Q_EM', 'Pi_ES', 'Pi_EM'], 'time': array([634.60956]), 'n_mag1': [], 'u_par_mag1': [], 'T_par_mag1': [], 'T_perp_mag1': [], 'Gamma_ES1': [], 'Gamma_EM1': [], 'Q_ES1': [], 'Q_EM1': [], 'Pi_ES1': [], 'Pi_EM1': [], 'n_mag2': [], 'u_par_mag2': [], 'T_par_mag2': [], 'T_perp_mag2': [], 'Gamma_ES2': [], 'Gamma_EM2': [], 'Q_ES2': [2.0636e+26], 'Q_EM2': [4.4123e+25], 'Pi_ES2': [], 'Pi_EM2': [], 'n_mag3': [], 'u_par_mag3': [], 'T_par_mag3': [], 'T_perp_mag3': [], 'Gamma_ES3': [], 'Gamma_EM3': [], 'Q_ES3': [], 'Q_EM3': [], 'Pi_ES3': [], 'Pi_EM3': []}\n"
     ]
    }
   ],
   "source": [
    "filepath = '/pscratch/sd/j/joeschm/NSXTU_discharges/129015/r_0.936008_OM_top/MTM_limit/kymin_0.1'\n",
    "# filepath = '/pscratch/sd/j/joeschm/NSXTU_discharges/X_TEST/scanfiles0002'\n",
    "\n",
    "\n",
    "\n",
    "# crit_list = ['1<time<4']\n",
    "# crit_list = ['time==last']\n",
    "# crit_list = ['time==last', 'Q_ES', 'Q_EM']\n",
    "crit_list = ['time==last', 'Q_ES', 'Q_EM']\n",
    "# crit_list = ['gamma > .3']\n",
    "\n",
    "sim_dict_list = filepath_to_simulation_dict_list(filepath, criteria_list=crit_list, load_files=['nrg'], load_spec=['e'])\n",
    "# sim_dict_list = filepath_to_simulation_dict_list(filepath, criteria_list=crit_list, load_files=['nrg', 'omega'], load_spec='e')\n",
    "\n",
    "print(len(sim_dict_list))\n",
    "# sim_dict_list = filepath_to_simulation_dict_list(filepath, criteria_list=crit_list, load_files=['omega'], load_spec='e')\n",
    "for sim_dict in sim_dict_list:\n",
    "    nrg_dict = sim_dict['nrg_dict']\n",
    "    print(sim_dict['suffix'], '/// filepath: ', nrg_dict['filepath'])\n",
    "    # for nrg_key in nrg_dict.keys():\n",
    "    #     if (len(nrg_dict[nrg_key]) > 0) and (nrg_key not in ['key_list', 'suffix', 'directory']):\n",
    "    #         print(nrg_key, nrg_dict[nrg_key])\n",
    "\n",
    "print(sim_dict_list[0]['nrg_dict'])"
   ]
  },
  {
   "cell_type": "code",
   "execution_count": 7,
   "metadata": {},
   "outputs": [
    {
     "name": "stdout",
     "output_type": "stream",
     "text": [
      "1\n",
      "0007 /// filepath:  /pscratch/sd/j/joeschm/NSXTU_discharges/129015/r_0.936008_OM_top/MTM_limit/kymin_0.1/scanfiles0000/nrg_0007\n",
      "{'filepath': '/pscratch/sd/j/joeschm/NSXTU_discharges/129015/r_0.936008_OM_top/MTM_limit/kymin_0.1/scanfiles0000/nrg_0007', 'key_list': ['n_mag', 'u_par_mag', 'T_par_mag', 'T_perp_mag', 'Gamma_ES', 'Gamma_EM', 'Q_ES', 'Q_EM', 'Pi_ES', 'Pi_EM'], 'time': array([334.86892]), 'n_mag1': [], 'u_par_mag1': [], 'T_par_mag1': [], 'T_perp_mag1': [], 'Gamma_ES1': [], 'Gamma_EM1': [], 'Q_ES1': [359.79], 'Q_EM1': [-13.626], 'Pi_ES1': [], 'Pi_EM1': [], 'n_mag2': [], 'u_par_mag2': [], 'T_par_mag2': [], 'T_perp_mag2': [], 'Gamma_ES2': [], 'Gamma_EM2': [], 'Q_ES2': [185.64], 'Q_EM2': [33.435], 'Pi_ES2': [], 'Pi_EM2': [], 'n_mag3': [], 'u_par_mag3': [], 'T_par_mag3': [], 'T_perp_mag3': [], 'Gamma_ES3': [], 'Gamma_EM3': [], 'Q_ES3': [49.465], 'Q_EM3': [-0.74485], 'Pi_ES3': [], 'Pi_EM3': []}\n"
     ]
    }
   ],
   "source": [
    "filepath = '/pscratch/sd/j/joeschm/NSXTU_discharges/129015/r_0.936008_OM_top/MTM_limit/kymin_0.1/scanfiles0000/parameters_0007'\n",
    "# filepath = '/pscratch/sd/j/joeschm/NSXTU_discharges/X_TEST/scanfiles0002'\n",
    "\n",
    "\n",
    "\n",
    "# crit_list = ['1<time<4']\n",
    "# crit_list = ['time==last']\n",
    "# crit_list = ['time==last', 'Q_ES', 'Q_EM']\n",
    "# crit_list = []\n",
    "crit_list = ['time==last', 'Q_ES', 'Q_EM']\n",
    "# crit_list = ['gamma > .3']\n",
    "\n",
    "sim_dict_list = filepath_to_simulation_dict_list(filepath, criteria_list=crit_list, load_files=['nrg'])\n",
    "# sim_dict_list = filepath_to_simulation_dict_list(filepath, criteria_list=crit_list, load_files=['nrg', 'omega'], load_spec='e')\n",
    "\n",
    "print(len(sim_dict_list))\n",
    "# sim_dict_list = filepath_to_simulation_dict_list(filepath, criteria_list=crit_list, load_files=['omega'], load_spec='e')\n",
    "for sim_dict in sim_dict_list:\n",
    "    nrg_dict = sim_dict['nrg_dict']\n",
    "    print(sim_dict['suffix'], '/// filepath: ', nrg_dict['filepath'])\n",
    "    # for nrg_key in nrg_dict.keys():\n",
    "    #     if (len(nrg_dict[nrg_key]) > 0) and (nrg_key not in ['key_list', 'suffix', 'directory']):\n",
    "    #         print(nrg_key, nrg_dict[nrg_key])\n",
    "\n",
    "print(sim_dict_list[0]['nrg_dict'])"
   ]
  },
  {
   "cell_type": "code",
   "execution_count": null,
   "metadata": {},
   "outputs": [
    {
     "ename": "KeyError",
     "evalue": "'omega_dict'",
     "output_type": "error",
     "traceback": [
      "\u001b[0;31m---------------------------------------------------------------------------\u001b[0m",
      "\u001b[0;31mKeyError\u001b[0m                                  Traceback (most recent call last)",
      "\u001b[1;32m/global/homes/j/joeschm/fusion_research/GENE_code_V4/simulation_data/UNIT_TESTS_simulation_data/UT_simulation_data.ipynb Cell 5\u001b[0m line \u001b[0;36m3\n\u001b[1;32m      <a href='vscode-notebook-cell://ssh-remote%2Bperlmutter-p1.nersc.gov/global/homes/j/joeschm/fusion_research/GENE_code_V4/simulation_data/UNIT_TESTS_simulation_data/UT_simulation_data.ipynb#W4sdnNjb2RlLXJlbW90ZQ%3D%3D?line=0'>1</a>\u001b[0m \u001b[39m# print(sim_dict_list)\u001b[39;00m\n\u001b[1;32m      <a href='vscode-notebook-cell://ssh-remote%2Bperlmutter-p1.nersc.gov/global/homes/j/joeschm/fusion_research/GENE_code_V4/simulation_data/UNIT_TESTS_simulation_data/UT_simulation_data.ipynb#W4sdnNjb2RlLXJlbW90ZQ%3D%3D?line=1'>2</a>\u001b[0m \u001b[39mfor\u001b[39;00m sim_dict \u001b[39min\u001b[39;00m sim_dict_list:\n\u001b[0;32m----> <a href='vscode-notebook-cell://ssh-remote%2Bperlmutter-p1.nersc.gov/global/homes/j/joeschm/fusion_research/GENE_code_V4/simulation_data/UNIT_TESTS_simulation_data/UT_simulation_data.ipynb#W4sdnNjb2RlLXJlbW90ZQ%3D%3D?line=2'>3</a>\u001b[0m     omega_dict \u001b[39m=\u001b[39m sim_dict[\u001b[39m'\u001b[39m\u001b[39momega_dict\u001b[39m\u001b[39m'\u001b[39m]\n\u001b[1;32m      <a href='vscode-notebook-cell://ssh-remote%2Bperlmutter-p1.nersc.gov/global/homes/j/joeschm/fusion_research/GENE_code_V4/simulation_data/UNIT_TESTS_simulation_data/UT_simulation_data.ipynb#W4sdnNjb2RlLXJlbW90ZQ%3D%3D?line=4'>5</a>\u001b[0m     \u001b[39m# print(omega_dict)\u001b[39;00m\n\u001b[1;32m      <a href='vscode-notebook-cell://ssh-remote%2Bperlmutter-p1.nersc.gov/global/homes/j/joeschm/fusion_research/GENE_code_V4/simulation_data/UNIT_TESTS_simulation_data/UT_simulation_data.ipynb#W4sdnNjb2RlLXJlbW90ZQ%3D%3D?line=6'>7</a>\u001b[0m     \u001b[39mfor\u001b[39;00m key \u001b[39min\u001b[39;00m omega_dict\u001b[39m.\u001b[39mkeys():\n",
      "\u001b[0;31mKeyError\u001b[0m: 'omega_dict'"
     ]
    }
   ],
   "source": [
    "\n",
    "# print(sim_dict_list)\n",
    "for sim_dict in sim_dict_list:\n",
    "    omega_dict = sim_dict['omega_dict']\n",
    "\n",
    "    # print(omega_dict)\n",
    "\n",
    "    for key in omega_dict.keys():\n",
    "        if (key == 'kymin') or (key == 'suffix') or (key == 'gamma'):\n",
    "            print(key,':', omega_dict[key])\n",
    "    \n",
    "    print('\\n')\n",
    "\n",
    "\n",
    "print('-----------------------------')\n",
    "\n",
    "for sim_dict in sim_dict_list:\n",
    "    print(sim_dict['suffix'])\n",
    "    \n",
    "    nrg_dict = sim_dict['nrg_dict']\n",
    "    for key in nrg_dict.keys():\n",
    "        # if len(nrg_dict[key]) > 0:\n",
    "        if (key == 'time') or (key == 'Q_ES2') or (key == 'Q_EM2'):\n",
    "            print(key, nrg_dict[key])"
   ]
  },
  {
   "cell_type": "code",
   "execution_count": null,
   "metadata": {},
   "outputs": [
    {
     "name": "stdout",
     "output_type": "stream",
     "text": [
      "/pscratch/sd/j/joeschm/NSXTU_discharges/X_TEST/scanfiles0002/nrg_0001\n",
      "[10.0, inf]\n",
      "['c']\n",
      "all\n"
     ]
    },
    {
     "name": "stdout",
     "output_type": "stream",
     "text": [
      "time odict_keys(['n_procs_s', 'n_procs_v', 'n_procs_w', 'n_procs_x', 'n_procs_y', 'n_procs_z', 'n_procs_sim', 'n_parallel_sims', 'n_spec', 'nx0', 'nky0', 'nz0', 'nv0', 'nw0', 'kymin', 'lv', 'lw', 'adapt_lx', 'x0', 'n0_global', 'ky0_ind', 'diagdir', 'read_checkpoint', 'write_checkpoint', 'istep_field', 'istep_mom', 'istep_nrg', 'istep_omega', 'istep_vsp', 'istep_schpt', 'istep_energy', 'istep_energy3d', 'write_std', 'iterdb_file', 'nonlinear', 'comp_type', 'perf_vec', 'nblocks', 'arakawa_zv', 'timescheme', 'dt_max', 'dt_vlasov', 'ev_coll', 'timelim', 'ntimesteps', 'beta', 'debye2', 'bpar', 'collision_op', 'coll', 'coll_cons_model', 'init_cond', 'hyp_z_with_dz_prefactor', 'hyp_z', 'hyp_v_with_dv_prefactor', 'hyp_v', 'perf_tsteps', 'magn_geometry', 'q0', 'shat', 'geomfile', 'edge_opt', 'minor_r', 'major_R', 'rhostar', 'dpdx_term', 'dpdx_pm', 'norm_flux_projection', 'name1', 'omn1', 'omt1', 'mass1', 'temp1', 'dens1', 'charge1', 'name2', 'omn2', 'omt2', 'mass2', 'temp2', 'dens2', 'charge2', 'name3', 'omn3', 'omt3', 'mass3', 'temp3', 'dens3', 'charge3', 'number of computed time steps', 'time for initial value solver', 'calc_dt', 'nltdt_off', 'ev_coll_est', 'init_time', 'n_fields', 'n_moms', 'nrgcols', 'lx', 'ly', 'PRECISION', 'ENDIANNESS', 'OMP_NUM_THREADS', 'GIT_BRANCH', 'RELEASE', 'nu_ei', 'nustar_i', 'nustar_e', 'Bref', 'Tref', 'nref', 'Lref', 'mref', 'is_bsg', 'filename', 'directory', 'suffix', 'key_list']) False\n",
      "[False]\n",
      "time dict_keys(['filename', 'directory', 'suffix', 'key_list', 'kymin', 'gamma', 'omega', 'status']) False\n",
      "[False]\n",
      "time dict_keys(['time', 'n_mag1', 'u_par_mag1', 'T_par_mag1', 'T_perp_mag1', 'Gamma_ES1', 'Gamma_EM1', 'Q_ES1', 'Q_EM1', 'Pi_ES1', 'Pi_EM1', 'n_mag2', 'u_par_mag2', 'T_par_mag2', 'T_perp_mag2', 'Gamma_ES2', 'Gamma_EM2', 'Q_ES2', 'Q_EM2', 'Pi_ES2', 'Pi_EM2', 'n_mag3', 'u_par_mag3', 'T_par_mag3', 'T_perp_mag3', 'Gamma_ES3', 'Gamma_EM3', 'Q_ES3', 'Q_EM3', 'Pi_ES3', 'Pi_EM3']) True\n",
      "[array([ True,  True,  True, ...,  True,  True,  True])]\n"
     ]
    },
    {
     "ename": "ValueError",
     "evalue": "The truth value of an array with more than one element is ambiguous. Use a.any() or a.all()",
     "output_type": "error",
     "traceback": [
      "\u001b[0;31m---------------------------------------------------------------------------\u001b[0m",
      "\u001b[0;31mValueError\u001b[0m                                Traceback (most recent call last)",
      "\u001b[1;32m/global/homes/j/joeschm/fusion_research/GENE_code_V4/simulation_data/UNIT_TESTS_simulation_data/UT_simulation_data.ipynb Cell 6\u001b[0m line \u001b[0;36m3\n\u001b[1;32m      <a href='vscode-notebook-cell://ssh-remote%2Bperlmutter-p1.nersc.gov/global/homes/j/joeschm/fusion_research/GENE_code_V4/simulation_data/UNIT_TESTS_simulation_data/UT_simulation_data.ipynb#W5sdnNjb2RlLXJlbW90ZQ%3D%3D?line=0'>1</a>\u001b[0m crit_list \u001b[39m=\u001b[39m [\u001b[39m'\u001b[39m\u001b[39mtime > 10\u001b[39m\u001b[39m'\u001b[39m]\n\u001b[0;32m----> <a href='vscode-notebook-cell://ssh-remote%2Bperlmutter-p1.nersc.gov/global/homes/j/joeschm/fusion_research/GENE_code_V4/simulation_data/UNIT_TESTS_simulation_data/UT_simulation_data.ipynb#W5sdnNjb2RlLXJlbW90ZQ%3D%3D?line=2'>3</a>\u001b[0m sim_dict \u001b[39m=\u001b[39m filepath_to_simulation_dict_list(filepath, criteria_list\u001b[39m=\u001b[39mcrit_list, load_files\u001b[39m=\u001b[39m[\u001b[39m'\u001b[39m\u001b[39mnrg\u001b[39m\u001b[39m'\u001b[39m, \u001b[39m'\u001b[39m\u001b[39momega\u001b[39m\u001b[39m'\u001b[39m], load_spec\u001b[39m=\u001b[39m\u001b[39m'\u001b[39m\u001b[39mc\u001b[39m\u001b[39m'\u001b[39m)\n",
      "File \u001b[0;32m/global/u1/j/joeschm/fusion_research/GENE_code_V4/simulation_data/GP_simulation_data_V4.py:86\u001b[0m, in \u001b[0;36mfilepath_to_simulation_dict_list\u001b[0;34m(filepath_list, criteria_list, load_files, load_spec, debug)\u001b[0m\n\u001b[1;32m     81\u001b[0m simulation_dict \u001b[39m=\u001b[39m simulation_filepath_to_dict(simulation_directory, common_path, suffix, \n\u001b[1;32m     82\u001b[0m                                               load_files, load_spec, criteria_dict_list)            \n\u001b[1;32m     85\u001b[0m \u001b[39m# Check if all criteria are satisfied\u001b[39;00m\n\u001b[0;32m---> 86\u001b[0m all_criteria_pass \u001b[39m=\u001b[39m all_criteria_checker(simulation_dict, criteria_dict_list, debug)\n\u001b[1;32m     88\u001b[0m \u001b[39m# Append to results if criteria are met\u001b[39;00m\n\u001b[1;32m     89\u001b[0m \u001b[39mif\u001b[39;00m all_criteria_pass:\n",
      "File \u001b[0;32m/global/u1/j/joeschm/fusion_research/GENE_code_V4/simulation_data/GP_simulation_data_V4.py:244\u001b[0m, in \u001b[0;36mall_criteria_checker\u001b[0;34m(simulation_dict, criteria_dict_list, debug)\u001b[0m\n\u001b[1;32m    241\u001b[0m             \u001b[39mprint\u001b[39m(\u001b[39m'\u001b[39m\u001b[39m--------------------\u001b[39m\u001b[39m'\u001b[39m)\n\u001b[1;32m    243\u001b[0m \u001b[39m# Determine if all criteria were met\u001b[39;00m\n\u001b[0;32m--> 244\u001b[0m \u001b[39mif\u001b[39;00m \u001b[39mFalse\u001b[39;00m \u001b[39min\u001b[39;00m global_crit_check:\n\u001b[1;32m    245\u001b[0m     passed_all_criteria \u001b[39m=\u001b[39m \u001b[39mFalse\u001b[39;00m\n\u001b[1;32m    246\u001b[0m \u001b[39melse\u001b[39;00m: \n",
      "\u001b[0;31mValueError\u001b[0m: The truth value of an array with more than one element is ambiguous. Use a.any() or a.all()"
     ]
    }
   ],
   "source": [
    "crit_list = ['time > 10']\n",
    "\n",
    "sim_dict = filepath_to_simulation_dict_list(filepath, criteria_list=crit_list, load_files=['nrg', 'omega'], load_spec='c')"
   ]
  }
 ],
 "metadata": {
  "kernelspec": {
   "display_name": "jupyter_env",
   "language": "python",
   "name": "python3"
  },
  "language_info": {
   "codemirror_mode": {
    "name": "ipython",
    "version": 3
   },
   "file_extension": ".py",
   "mimetype": "text/x-python",
   "name": "python",
   "nbconvert_exporter": "python",
   "pygments_lexer": "ipython3",
   "version": "3.11.4"
  },
  "orig_nbformat": 4
 },
 "nbformat": 4,
 "nbformat_minor": 2
}
