{
 "cells": [
  {
   "cell_type": "code",
   "execution_count": 1,
   "metadata": {},
   "outputs": [],
   "source": [
    "import os\n",
    "os.chdir(\"..\")\n",
    "from GP_omega_data_V4 import omega_filepath_to_dict"
   ]
  },
  {
   "cell_type": "markdown",
   "metadata": {},
   "source": [
    "# Filepath is directory or does not exist"
   ]
  },
  {
   "cell_type": "code",
   "execution_count": 2,
   "metadata": {},
   "outputs": [
    {
     "name": "stdout",
     "output_type": "stream",
     "text": [
      "The file path does not exist or is not a file: /pscratch/sd/j/joeschm/NSXTU_discharges/X_TEST/TEST_3spec_k1\n",
      "The file path does not exist or is not a file: /pscratch/sd/j/joeschm/NSXTU_discharges/X_TEST/TEST_3spec_k1/omega_1001\n"
     ]
    }
   ],
   "source": [
    "test_dir = '/pscratch/sd/j/joeschm/NSXTU_discharges/X_TEST'\n",
    "\n",
    "filepath = os.path.join(test_dir, 'TEST_3spec_k1')\n",
    "omega_dict = omega_filepath_to_dict(filepath)\n",
    "\n",
    "omega_path = os.path.join(filepath, 'omega_1001')\n",
    "omega_dict = omega_filepath_to_dict(omega_path)\n"
   ]
  },
  {
   "cell_type": "code",
   "execution_count": 3,
   "metadata": {},
   "outputs": [
    {
     "name": "stdout",
     "output_type": "stream",
     "text": [
      "The filename does not start with 'omega': /pscratch/sd/j/joeschm/NSXTU_discharges/X_TEST/TEST_3spec_k1/parameters.dat\n"
     ]
    }
   ],
   "source": [
    "parameters_path = os.path.join(filepath, 'parameters.dat')\n",
    "omega_dict = omega_filepath_to_dict(parameters_path)"
   ]
  },
  {
   "cell_type": "markdown",
   "metadata": {},
   "source": [
    "# Convergence and dict checks"
   ]
  },
  {
   "cell_type": "markdown",
   "metadata": {},
   "source": [
    "### Not converged"
   ]
  },
  {
   "cell_type": "code",
   "execution_count": 4,
   "metadata": {},
   "outputs": [
    {
     "data": {
      "text/plain": [
       "{'filepath': '/pscratch/sd/j/joeschm/NSXTU_discharges/X_TEST/TEST_3spec_k1/omega.dat',\n",
       " 'key_list': ['kymin', 'gamma', 'omega'],\n",
       " 'kymin': None,\n",
       " 'gamma': None,\n",
       " 'omega': None,\n",
       " 'status': 'NOT CONVERGED'}"
      ]
     },
     "execution_count": 4,
     "metadata": {},
     "output_type": "execute_result"
    }
   ],
   "source": [
    "filepath = os.path.join(test_dir, 'TEST_3spec_k1')\n",
    "omega_path = os.path.join(filepath, 'omega.dat')\n",
    "omega_dict = omega_filepath_to_dict(omega_path)\n",
    "\n",
    "assert omega_dict['status'] == 'NOT CONVERGED'\n",
    "\n",
    "omega_dict"
   ]
  },
  {
   "cell_type": "markdown",
   "metadata": {},
   "source": [
    "### Converged and value checks"
   ]
  },
  {
   "cell_type": "code",
   "execution_count": 5,
   "metadata": {},
   "outputs": [
    {
     "data": {
      "text/plain": [
       "{'filepath': '/pscratch/sd/j/joeschm/NSXTU_discharges/X_TEST/TEST_3spec_k100/omega.dat',\n",
       " 'key_list': ['kymin', 'gamma', 'omega'],\n",
       " 'kymin': 100.0,\n",
       " 'gamma': 12.923,\n",
       " 'omega': -31.659,\n",
       " 'status': 'CONVERGED'}"
      ]
     },
     "execution_count": 5,
     "metadata": {},
     "output_type": "execute_result"
    }
   ],
   "source": [
    "filepath = os.path.join(test_dir, 'TEST_3spec_k100')\n",
    "omega_path = os.path.join(filepath, 'omega.dat')\n",
    "omega_dict = omega_filepath_to_dict(omega_path)\n",
    "\n",
    "assert isinstance(omega_dict['kymin'],float)\n",
    "assert isinstance(omega_dict['omega'],float)\n",
    "assert isinstance(omega_dict['gamma'],float)\n",
    "\n",
    "assert omega_dict['status'] == 'CONVERGED'\n",
    "\n",
    "omega_dict"
   ]
  },
  {
   "cell_type": "code",
   "execution_count": 6,
   "metadata": {},
   "outputs": [
    {
     "data": {
      "text/plain": [
       "{'filepath': '/pscratch/sd/j/joeschm/NSXTU_discharges/X_TEST/scanfiles0004/omega_0002',\n",
       " 'key_list': ['kymin', 'gamma', 'omega'],\n",
       " 'kymin': 0.3,\n",
       " 'gamma': 0.154,\n",
       " 'omega': -3.277,\n",
       " 'status': 'CONVERGED'}"
      ]
     },
     "execution_count": 6,
     "metadata": {},
     "output_type": "execute_result"
    }
   ],
   "source": [
    "filepath = os.path.join(test_dir, 'scanfiles0004')\n",
    "omega_path = os.path.join(filepath, 'omega_0002')\n",
    "omega_dict = omega_filepath_to_dict(omega_path)\n",
    "\n",
    "assert isinstance(omega_dict['kymin'],float)\n",
    "assert isinstance(omega_dict['omega'],float)\n",
    "assert isinstance(omega_dict['gamma'],float)\n",
    "\n",
    "assert omega_dict['status'] == 'CONVERGED'\n",
    "\n",
    "omega_dict"
   ]
  },
  {
   "cell_type": "code",
   "execution_count": null,
   "metadata": {},
   "outputs": [],
   "source": []
  }
 ],
 "metadata": {
  "kernelspec": {
   "display_name": "jupyter_env",
   "language": "python",
   "name": "python3"
  },
  "language_info": {
   "codemirror_mode": {
    "name": "ipython",
    "version": 3
   },
   "file_extension": ".py",
   "mimetype": "text/x-python",
   "name": "python",
   "nbconvert_exporter": "python",
   "pygments_lexer": "ipython3",
   "version": "3.11.4"
  },
  "orig_nbformat": 4
 },
 "nbformat": 4,
 "nbformat_minor": 2
}
