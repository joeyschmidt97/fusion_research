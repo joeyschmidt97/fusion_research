{
 "cells": [
  {
   "cell_type": "code",
   "execution_count": 14,
   "metadata": {},
   "outputs": [],
   "source": [
    "import os\n",
    "\n",
    "os.chdir(\"..\")\n",
    "\n",
    "omega_path = './simulation_data/omega_data'\n",
    "os.chdir(omega_path)\n",
    "from GP_omega_data_V4 import omega_filepath_to_dict"
   ]
  },
  {
   "cell_type": "code",
   "execution_count": 15,
   "metadata": {},
   "outputs": [
    {
     "data": {
      "text/plain": [
       "{'filepath': '/pscratch/sd/j/joeschm/NSXTU_discharges/129015/r_0.936008_OM_top/kymin_scan/scanfiles0000/omega_0011',\n",
       " 'key_list': ['kymin', 'gamma', 'omega'],\n",
       " 'kymin': 130.0,\n",
       " 'gamma': 17.061,\n",
       " 'omega': -72.93,\n",
       " 'status': 'CONVERGED'}"
      ]
     },
     "execution_count": 15,
     "metadata": {},
     "output_type": "execute_result"
    }
   ],
   "source": [
    "filepath = '/pscratch/sd/j/joeschm/NSXTU_discharges/129015/r_0.936008_OM_top/kymin_scan/scanfiles0000'\n",
    "\n",
    "omega_filepath_to_dict(filepath + '/omega_0011')"
   ]
  },
  {
   "cell_type": "code",
   "execution_count": null,
   "metadata": {},
   "outputs": [],
   "source": []
  },
  {
   "cell_type": "code",
   "execution_count": 4,
   "metadata": {},
   "outputs": [
    {
     "name": "stdout",
     "output_type": "stream",
     "text": [
      "<class 'tuple'>\n",
      "(('a', 1), ('c', 3))\n",
      "'x' not found in the input tuple.\n"
     ]
    }
   ],
   "source": []
  },
  {
   "cell_type": "code",
   "execution_count": 5,
   "metadata": {},
   "outputs": [
    {
     "name": "stdout",
     "output_type": "stream",
     "text": [
      "[('a', 0), ('b', 1), ('c', 2), ('d', 3)]\n",
      "<class 'list'>\n",
      "(('a', 0), ('b', 1), ('c', 2), ('d', 3))\n",
      "<class 'tuple'>\n"
     ]
    }
   ],
   "source": [
    "nrg_key_list = ['a', 'b', 'c', 'd']\n",
    "\n",
    "nrg_quantity_tuple = [(nrg_key, col) for col, nrg_key in enumerate(nrg_key_list)]\n",
    "\n",
    "print(nrg_quantity_tuple)\n",
    "print(type(nrg_quantity_tuple))\n",
    "\n",
    "nrg_quantity_tuple = tuple((nrg_key, col) for col, nrg_key in enumerate(nrg_key_list))\n",
    "\n",
    "print(nrg_quantity_tuple)\n",
    "print(type(nrg_quantity_tuple))\n"
   ]
  },
  {
   "cell_type": "code",
   "execution_count": null,
   "metadata": {},
   "outputs": [],
   "source": []
  }
 ],
 "metadata": {
  "kernelspec": {
   "display_name": "jupyter_env",
   "language": "python",
   "name": "python3"
  },
  "language_info": {
   "codemirror_mode": {
    "name": "ipython",
    "version": 3
   },
   "file_extension": ".py",
   "mimetype": "text/x-python",
   "name": "python",
   "nbconvert_exporter": "python",
   "pygments_lexer": "ipython3",
   "version": "3.11.4"
  },
  "orig_nbformat": 4
 },
 "nbformat": 4,
 "nbformat_minor": 2
}
