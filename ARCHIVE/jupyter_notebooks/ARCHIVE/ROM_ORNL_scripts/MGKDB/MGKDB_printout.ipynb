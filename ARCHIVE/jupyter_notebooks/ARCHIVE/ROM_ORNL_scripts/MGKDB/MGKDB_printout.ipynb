{
 "cells": [
  {
   "cell_type": "code",
   "execution_count": 1,
   "id": "a20958a8-68fa-45e4-8534-2015aa07ae72",
   "metadata": {},
   "outputs": [
    {
     "name": "stdout",
     "output_type": "stream",
     "text": [
      " \u001b[0m\u001b[01;32mD_chi_ratio_mgkdb.py\u001b[0m*      get_nrg.py                  \u001b[01;32mmgk_post_processing.py\u001b[0m*\n",
      " ParIO.py                   gui_support.py              mgk_py_interface.py\n",
      " README.md                  \u001b[01;32mgui_utils.py\u001b[0m*               mgk_schema.json\n",
      " \u001b[01;34m__pycache__\u001b[0m/               interp.py                   mgk_search_tools.py\n",
      " calc_mode_info_mgkdb.py    mgk_clear_ex.py             mgk_uploader.py\n",
      " calc_omega_from_field.py   \u001b[01;32mmgk_download.py\u001b[0m*            mode_tools_mgkdb.py\n",
      " \u001b[01;34mdata\u001b[0m/                      mgk_file2db.py              mongocompasslogin.png\n",
      " \u001b[01;34mdata_linear_multi\u001b[0m/         \u001b[01;32mmgk_file_handling.py\u001b[0m*       nrgWrapper.py\n",
      " diag_plot.py               \u001b[01;32mmgk_file_handling_gui.py\u001b[0m*   parIOWrapper.py\n",
      " \u001b[01;34mdiagnostics\u001b[0m/               mgk_folder2file.py          \u001b[01;34mputils\u001b[0m/\n",
      " fieldlib.py                mgk_gui.py                  \u001b[01;34mpydiag\u001b[0m/\n",
      " finite_differences.py      mgk_joey.pkl                requirements.txt\n",
      " format_files_mgkdb.py      mgk_login.py               'simple demo.py'\n",
      " get_not_uploaded.py        mgk_login_auth_creator.py   \u001b[01;34mutils\u001b[0m/\n"
     ]
    }
   ],
   "source": [
    "ls /global/u1/j/joeschm/mgk-dev"
   ]
  },
  {
   "cell_type": "code",
   "execution_count": 3,
   "id": "5a5d949d-4c1b-4d5f-bd33-afeb251e72cb",
   "metadata": {},
   "outputs": [
    {
     "ename": "ModuleNotFoundError",
     "evalue": "No module named 'mgk_py_interface'",
     "output_type": "error",
     "traceback": [
      "\u001b[0;31m---------------------------------------------------------------------------\u001b[0m",
      "\u001b[0;31mModuleNotFoundError\u001b[0m                       Traceback (most recent call last)",
      "\u001b[0;32m<ipython-input-3-e14d211249a4>\u001b[0m in \u001b[0;36m<module>\u001b[0;34m\u001b[0m\n\u001b[1;32m      3\u001b[0m \u001b[0;32mimport\u001b[0m \u001b[0mgridfs\u001b[0m\u001b[0;34m\u001b[0m\u001b[0;34m\u001b[0m\u001b[0m\n\u001b[1;32m      4\u001b[0m \u001b[0;32mfrom\u001b[0m \u001b[0mbson\u001b[0m\u001b[0;34m.\u001b[0m\u001b[0mobjectid\u001b[0m \u001b[0;32mimport\u001b[0m \u001b[0mObjectId\u001b[0m\u001b[0;34m\u001b[0m\u001b[0;34m\u001b[0m\u001b[0m\n\u001b[0;32m----> 5\u001b[0;31m \u001b[0;32mfrom\u001b[0m \u001b[0mmgk_py_interface\u001b[0m \u001b[0;32mimport\u001b[0m \u001b[0;34m*\u001b[0m\u001b[0;34m\u001b[0m\u001b[0;34m\u001b[0m\u001b[0m\n\u001b[0m\u001b[1;32m      6\u001b[0m \u001b[0;31m#login with manual specification\u001b[0m\u001b[0;34m\u001b[0m\u001b[0;34m\u001b[0m\u001b[0;34m\u001b[0m\u001b[0m\n\u001b[1;32m      7\u001b[0m \u001b[0;31m#login = mgk_login(server='mongodb03.nersc.gov',  # if not on cori, use localhost after port forwarding\u001b[0m\u001b[0;34m\u001b[0m\u001b[0;34m\u001b[0m\u001b[0;34m\u001b[0m\u001b[0m\n",
      "\u001b[0;31mModuleNotFoundError\u001b[0m: No module named 'mgk_py_interface'"
     ]
    }
   ],
   "source": [
    "import os\n",
    "import pymongo\n",
    "import gridfs\n",
    "from bson.objectid import ObjectId\n",
    "from mgk_py_interface import *\n",
    "#login with manual specification\n",
    "#login = mgk_login(server='mongodb03.nersc.gov',  # if not on cori, use localhost after port forwarding\n",
    "#                  port='27017',                  # if not on cori, use the port number you forwarded\n",
    "#                  dbname='mgk_fusion',\n",
    "#                  user='username',   # relace with actual username\n",
    "#                  pwd = 'password')  # replace with actual pass\n",
    "\n",
    "import pickle\n",
    "auth_path = '/global/u1/j/joeschm/mgk-dev/mgk_joey.pkl'\n",
    "with open(auth_path, 'wb') as f:\n",
    "    pickle.dump(login.login, f)\n",
    "\n",
    "##  or login with the saved .pkl credential with the following two lines.\n",
    "#login = mgk_login()\n",
    "#path = /global/u1/j/joeschm/mgk-dev/mgk_joey.pkl\n",
    "#login.from_saved(os.path.abspath('/global/u1/j/joeschm/mgk-dev/mgk_joey.pkl'))\n",
    "#\n",
    "mgk_fusion = login.connect()"
   ]
  },
  {
   "cell_type": "code",
   "execution_count": null,
   "id": "afa68d1d-e2f9-451b-92b1-627bf1c3cdc7",
   "metadata": {},
   "outputs": [],
   "source": [
    "print(mgk_fusion.list_collection_names())"
   ]
  },
  {
   "cell_type": "code",
   "execution_count": null,
   "id": "c1ff7b8a-d7c2-4cdd-82cc-ead268125762",
   "metadata": {},
   "outputs": [],
   "source": []
  }
 ],
 "metadata": {
  "kernelspec": {
   "display_name": "Python 3",
   "language": "python",
   "name": "python3"
  },
  "language_info": {
   "codemirror_mode": {
    "name": "ipython",
    "version": 3
   },
   "file_extension": ".py",
   "mimetype": "text/x-python",
   "name": "python",
   "nbconvert_exporter": "python",
   "pygments_lexer": "ipython3",
   "version": "3.7.4"
  }
 },
 "nbformat": 4,
 "nbformat_minor": 5
}
