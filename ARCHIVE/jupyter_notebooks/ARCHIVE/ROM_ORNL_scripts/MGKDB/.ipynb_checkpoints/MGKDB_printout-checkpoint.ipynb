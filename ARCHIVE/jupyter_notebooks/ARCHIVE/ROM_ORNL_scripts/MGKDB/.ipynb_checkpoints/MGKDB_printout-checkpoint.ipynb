{
 "cells": [
  {
   "cell_type": "code",
   "execution_count": 17,
   "id": "a20958a8-68fa-45e4-8534-2015aa07ae72",
   "metadata": {},
   "outputs": [
    {
     "data": {
      "text/plain": [
       "'/global/u1/j/joeschm/mgk-dev'"
      ]
     },
     "execution_count": 17,
     "metadata": {},
     "output_type": "execute_result"
    }
   ],
   "source": [
    "pwd"
   ]
  },
  {
   "cell_type": "code",
   "execution_count": null,
   "id": "5a5d949d-4c1b-4d5f-bd33-afeb251e72cb",
   "metadata": {},
   "outputs": [],
   "source": [
    "import os\n",
    "import pymongo\n",
    "import gridfs\n",
    "from bson.objectid import ObjectId\n",
    "from mgk_py_interface import *\n",
    "#login with manual specification\n",
    "#login = mgk_login(server='mongodb03.nersc.gov',  # if not on cori, use localhost after port forwarding\n",
    "#                  port='27017',                  # if not on cori, use the port number you forwarded\n",
    "#                  dbname='mgk_fusion',\n",
    "#                  user='username',   # relace with actual username\n",
    "#                  pwd = 'password')  # replace with actual pass\n",
    "\n",
    "##  or login with the saved .pkl credential with the following two lines.\n",
    "login = mgk_login()\n",
    "#path = global/u1/j/joeschm/mgk-dev/mgk_joey.pkl\n",
    "login.from_saved(os.path.abspath('/global/u1/j/joeschm/mgk-dev/mgk_joey.pkl'))\n",
    "#\n",
    "mgk_fusion = login.connect()"
   ]
  },
  {
   "cell_type": "code",
   "execution_count": 13,
   "id": "4d1297b4-c741-4e6d-8c21-621fefa07ea8",
   "metadata": {},
   "outputs": [
    {
     "ename": "NameError",
     "evalue": "name 'mgk_fusion' is not defined",
     "output_type": "error",
     "traceback": [
      "\u001b[0;31m---------------------------------------------------------------------------\u001b[0m",
      "\u001b[0;31mNameError\u001b[0m                                 Traceback (most recent call last)",
      "\u001b[0;32m<ipython-input-13-63cc2211fc99>\u001b[0m in \u001b[0;36m<module>\u001b[0;34m\u001b[0m\n\u001b[0;32m----> 1\u001b[0;31m \u001b[0mprint\u001b[0m\u001b[0;34m(\u001b[0m\u001b[0mmgk_fusion\u001b[0m\u001b[0;34m.\u001b[0m\u001b[0mlist_collection_names\u001b[0m\u001b[0;34m(\u001b[0m\u001b[0;34m)\u001b[0m\u001b[0;34m)\u001b[0m\u001b[0;34m\u001b[0m\u001b[0;34m\u001b[0m\u001b[0m\n\u001b[0m",
      "\u001b[0;31mNameError\u001b[0m: name 'mgk_fusion' is not defined"
     ]
    }
   ],
   "source": [
    "print(mgk_fusion.list_collection_names())"
   ]
  }
 ],
 "metadata": {
  "kernelspec": {
   "display_name": "Python 3",
   "language": "python",
   "name": "python3"
  },
  "language_info": {
   "codemirror_mode": {
    "name": "ipython",
    "version": 3
   },
   "file_extension": ".py",
   "mimetype": "text/x-python",
   "name": "python",
   "nbconvert_exporter": "python",
   "pygments_lexer": "ipython3",
   "version": "3.7.4"
  }
 },
 "nbformat": 4,
 "nbformat_minor": 5
}
