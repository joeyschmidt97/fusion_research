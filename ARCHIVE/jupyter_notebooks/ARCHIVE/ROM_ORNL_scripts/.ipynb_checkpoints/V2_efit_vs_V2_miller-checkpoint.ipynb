{
 "cells": [
  {
   "cell_type": "code",
   "execution_count": 1,
   "id": "d8ee2b85-9db6-451a-84d8-617cb2e6158b",
   "metadata": {},
   "outputs": [],
   "source": [
    "import sys\n",
    "sys.path.insert(0, '/global/homes/j/joeschm/Notebooks/omega_reading')\n",
    "import om_kHz_DF_V2 as om\n",
    "import matplotlib.pyplot as plt"
   ]
  },
  {
   "cell_type": "code",
   "execution_count": 9,
   "id": "e56bc68c-8435-4d4b-9859-aff40cdcdf60",
   "metadata": {},
   "outputs": [
    {
     "name": "stdout",
     "output_type": "stream",
     "text": [
      "efit\n",
      "        scanfile suffix  ky_min  n0_global  gamma(cs/a)   gamma(kHz)  \\\n",
      "0  scanfiles0000   0002    20.0       2236    31.424764  1322.724652   \n",
      "0  scanfiles0000   0003    40.0       4472    61.568074  2591.510570   \n",
      "0  scanfiles0000   0004    50.0       5590    73.448481  3091.578216   \n",
      "0  scanfiles0000   0005    60.0       6708    81.114359  3414.248749   \n",
      "0  scanfiles0000   0006    80.0       8943   117.550185  4947.897959   \n",
      "0  scanfiles0000   0007   120.0      13415   117.279922  4936.522120   \n",
      "0  scanfiles0000   0008   160.0      17887    53.337000  2245.049926   \n",
      "0  scanfiles0000   0009   240.0      26830    33.953000  1429.142624   \n",
      "\n",
      "   omega(cs/a)    omega(kHz)  nz0  hyp_z  \n",
      "0    -9.338226   -393.062682  256   -2.0  \n",
      "0   -40.900903  -1721.592319  256   -2.0  \n",
      "0    14.796164    622.797079  256   -2.0  \n",
      "0   -53.169933  -2238.017778  256   -2.0  \n",
      "0   -24.944418  -1049.955279  256   -2.0  \n",
      "0   -30.172238  -1270.003586  256   -2.0  \n",
      "0  -298.119000 -12548.363027  256   -2.0  \n",
      "0  -213.569000  -8989.501989  256   -2.0  \n",
      "~~~~~~~~~~~~~~~~~\n",
      "miller\n",
      "        scanfile suffix  ky_min  n0_global  gamma(cs/a)  gamma(kHz)  \\\n",
      "0  scanfiles0001   0001    8.65       3179       12.494  422.929287   \n",
      "0  scanfiles0000   0001    8.65       3179       12.481  422.489229   \n",
      "0  scanfiles0001   0002   21.62       7945       23.711  802.631369   \n",
      "0  scanfiles0000   0002   21.62       7945       23.601  798.907804   \n",
      "0  scanfiles0001   0003   29.94      11003       28.171  953.605006   \n",
      "0  scanfiles0000   0003   29.94      11003       28.143  952.657190   \n",
      "\n",
      "   omega(cs/a)   omega(kHz)  nz0  hyp_z  \n",
      "0      -16.588  -561.513608  256   -2.0  \n",
      "0      -16.595  -561.750562  512   -2.0  \n",
      "0      -39.000 -1320.173059  256   -2.0  \n",
      "0      -38.956 -1318.683633  512   -2.0  \n",
      "0      -33.797 -1144.048432  256   -2.0  \n",
      "0      -33.648 -1139.004694  512   -2.0  \n",
      "~~~~~~~~~~~~~~~~~\n",
      "general miller\n",
      "        scanfile suffix  ky_min  n0_global  gamma(cs/a)   gamma(kHz)  \\\n",
      "0  scanfiles0000   0001    10.0       2299       59.431  1056.603354   \n",
      "0  scanfiles0000   0002    20.0       4598      100.909  1794.026482   \n",
      "0  scanfiles0000   0003    30.0       6898      181.053  3218.879154   \n",
      "0  scanfiles0000   0004    65.0      14945      359.585  6392.938315   \n",
      "0  scanfiles0000   0005    80.0      18394      315.614  5611.192995   \n",
      "0  scanfiles0000   0006    90.0      20693      258.220  4590.804766   \n",
      "\n",
      "   omega(cs/a)    omega(kHz)  nz0  hyp_z  \n",
      "0     -140.154  -2491.749869  256   -2.0  \n",
      "0     -167.436  -2976.787184  256   -2.0  \n",
      "0     -245.125  -4357.993254  256   -2.0  \n",
      "0    -1083.535 -19263.796924  256   -2.0  \n",
      "0    -1161.673 -20652.985611  256   -2.0  \n",
      "0    -1143.418 -20328.436231  256   -2.0  \n"
     ]
    }
   ],
   "source": [
    "path_efit = '/global/cscratch1/sd/joeschm/AUG/C1_efit'\n",
    "path_miller = '/global/cscratch1/sd/joeschm/AUG/C1_miller'\n",
    "path_gen_miller = '/global/cscratch1/sd/joeschm/AUG/C1_gen_miller'\n",
    "\n",
    "output = ['nz0', 'hyp_z']\n",
    "\n",
    "efit_omega_256 = om.omega_df(path_efit, [], output)\n",
    "miller_omega_256 = om.omega_df(path_miller, [], output)\n",
    "gen_miller_omega_256 = om.omega_df(path_gen_miller, [], output)\n",
    "\n",
    "print('efit')\n",
    "print(efit_omega_256)\n",
    "\n",
    "print('~~~~~~~~~~~~~~~~~')\n",
    "print('miller')\n",
    "print(miller_omega_256)\n",
    "\n",
    "print('~~~~~~~~~~~~~~~~~')\n",
    "print('general miller')\n",
    "print(gen_miller_omega_256)"
   ]
  },
  {
   "cell_type": "code",
   "execution_count": 3,
   "id": "84233705-4bad-4773-b4a5-f287bd45285d",
   "metadata": {},
   "outputs": [
    {
     "data": {
      "image/png": "[encoded data removed]",
      "text/plain": [
       "<Figure size 432x288 with 1 Axes>"
      ]
     },
     "metadata": {
      "needs_background": "light"
     },
     "output_type": "display_data"
    },
    {
     "data": {
      "image/png": "[encoded data removed]",
      "text/plain": [
       "<Figure size 432x288 with 1 Axes>"
      ]
     },
     "metadata": {
      "needs_background": "light"
     },
     "output_type": "display_data"
    }
   ],
   "source": [
    "size = 120\n",
    "marker_style = '.'\n",
    "\n",
    "ax = miller_omega_256.plot(x ='n0_global', y='omega(kHz)', kind = 'scatter', color = 'blue', label = 'miller (256)',  alpha = 0.5, marker = marker_style, s= size)\n",
    "gen_miller_omega_256.plot(x ='n0_global', y='omega(kHz)', kind = 'scatter', color = 'red', label = 'general miller (256)',  alpha = 0.5, marker = '+', s = 200, ax = ax)\n",
    "efit_omega_256.plot(x ='n0_global', y='omega(kHz)', kind = 'scatter', color = 'red', label = 'efit (256)', alpha = 0.5, marker = marker_style, s = size, ax = ax)\n",
    "\n",
    "\n",
    "plt.legend()\n",
    "plt.show()\n",
    "\n",
    "\n",
    "ax = miller_omega_256.plot(x ='n0_global', y='gamma(kHz)', kind = 'scatter', color = 'blue', label = 'miller (256)',  alpha = 0.5, marker = marker_style, s=size)\n",
    "gen_miller_omega_256.plot(x ='n0_global', y='gamma(kHz)', kind = 'scatter', color = 'red', label = 'general miller (256)',  alpha = 0.5, marker = '+', s=200, ax = ax)\n",
    "efit_omega_256.plot(x ='n0_global', y='gamma(kHz)', kind = 'scatter', color = 'red', label = 'efit (256)', alpha = 0.5, marker = marker_style, s = size, ax=ax)\n",
    "\n",
    "\n",
    "plt.legend()\n",
    "plt.show()"
   ]
  },
  {
   "cell_type": "code",
   "execution_count": null,
   "id": "58b7834d-054d-4b96-aa3c-bb3561efdcf1",
   "metadata": {},
   "outputs": [],
   "source": []
  }
 ],
 "metadata": {
  "kernelspec": {
   "display_name": "Python 3",
   "language": "python",
   "name": "python3"
  },
  "language_info": {
   "codemirror_mode": {
    "name": "ipython",
    "version": 3
   },
   "file_extension": ".py",
   "mimetype": "text/x-python",
   "name": "python",
   "nbconvert_exporter": "python",
   "pygments_lexer": "ipython3",
   "version": "3.8.8"
  }
 },
 "nbformat": 4,
 "nbformat_minor": 5
}
