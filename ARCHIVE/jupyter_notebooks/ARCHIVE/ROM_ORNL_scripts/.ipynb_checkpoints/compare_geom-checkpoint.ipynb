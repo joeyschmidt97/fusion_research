{
 "cells": [
  {
   "cell_type": "code",
   "execution_count": 1,
   "id": "7194ebd4-8018-457e-b840-1fb65f7654a2",
   "metadata": {},
   "outputs": [],
   "source": [
    "import matplotlib.pyplot as plt\n",
    "import pandas as pd\n",
    "import numpy as np\n",
    "import os\n",
    "import sys\n",
    "sys.path.insert(1, '/global/homes/j/joeschm/IFS_scripts')\n",
    "\n",
    "from ParIO import Parameters \n",
    "from read_write_geometry import read_geometry_local"
   ]
  },
  {
   "cell_type": "code",
   "execution_count": 2,
   "id": "e9a83240-b255-4c7a-bc47-7baeb309a8d8",
   "metadata": {
    "jupyter": {
     "source_hidden": true
    },
    "tags": []
   },
   "outputs": [],
   "source": [
    "def extract_geom(scanfile_path):\n",
    "\n",
    "    os.chdir(scanfile_path)\n",
    "\n",
    "    #for more detail of the geometry file, check the GENE manual 4.11\n",
    "    suffix='_0001'\n",
    "\n",
    "    #Import the parameters from parameter file using ParIO\n",
    "    par = Parameters()\n",
    "    par.Read_Pars('parameters' + suffix)\n",
    "    pars = par.pardict\n",
    "\n",
    "    #getting B field using read_write_geometry.py\n",
    "    gpars,geometry = read_geometry_local(pars['magn_geometry'][1:-1]+suffix)\n",
    "\n",
    "    #available variables:\n",
    "    ggxx     = geometry['ggxx']\n",
    "    ggxy     = geometry['ggxy']\n",
    "    ggxz     = geometry['ggxz']\n",
    "    ggyy     = geometry['ggyy']\n",
    "    ggyz     = geometry['ggyz']\n",
    "    ggzz     = geometry['ggzz']\n",
    "    gBfield  = geometry['gBfield']\n",
    "    gdBdx    = geometry['gdBdx']\n",
    "    gdBdy    = geometry['gdBdy']\n",
    "    gdBdz    = geometry['gdBdz']\n",
    "    gjacobian= geometry['gjacobian']\n",
    "    gl_R     = geometry['gl_R']\n",
    "    gl_phi   = geometry['gl_phi']\n",
    "    gl_z     = geometry['gl_z']\n",
    "    gl_dxdR  = geometry['gl_dxdR']\n",
    "    gl_dxdZ  = geometry['gl_dxdZ']\n",
    "    \n",
    "    data_col = {'ggxx': ggxx, \n",
    "                'ggxy': ggxy, \n",
    "                'ggxz': ggxz,\n",
    "                'ggyy': ggyy, \n",
    "                'ggyz': ggyz, \n",
    "                'ggzz': ggzz, \n",
    "                'gBfield': gBfield, \n",
    "                'gdBdx': gdBdx, \n",
    "                'gdBdy': gdBdy, \n",
    "                'gdBdz': gdBdz,\n",
    "                'gjacobian': gjacobian,\n",
    "                'gl_R': gl_R,\n",
    "                'gl_phi': gl_phi,\n",
    "                'gl_z': gl_z,\n",
    "                'gl_dxdR': gl_dxdR,\n",
    "                'gl_dxdZ': gl_dxdZ\n",
    "               }\n",
    "    \n",
    "    g_df = pd.DataFrame(data = data_col)\n",
    "    \n",
    "    \n",
    "    #go up one directory and print all the scanfiles available\n",
    "    os.chdir('..')\n",
    "    print(sorted(os.listdir()))\n",
    "    \n",
    "    nz0 = pars['nz0']\n",
    "    x0 = pars['x0']\n",
    "    \n",
    "    #print the current directory and the nz0 resolution\n",
    "    print(scanfile_path)\n",
    "    print('nz0 resolution:', nz0)\n",
    "    print('x0:', x0)\n",
    "    print('')\n",
    "    \n",
    "    return g_df"
   ]
  },
  {
   "cell_type": "code",
   "execution_count": 34,
   "id": "c2dc34c9-2b07-4935-aa0f-80a98d01cd10",
   "metadata": {
    "tags": []
   },
   "outputs": [],
   "source": [
    "def plot_g_diff(g1, g2, g1_name, g2_name, scale, plots):\n",
    "    g_diff = g1 - g2\n",
    "    gd_mean = g_diff.mean()\n",
    "    \n",
    "    R_g1 = g1['gl_R']\n",
    "    Z_g1 = g1['gl_z']\n",
    "\n",
    "    R_g2 = g2['gl_R']\n",
    "    Z_g2 = g2['gl_z']\n",
    "    \n",
    "    width = np.max(R_g1)-np.min(R_g1)\n",
    "    height = np.max(Z_g1)-np.min(Z_g1)\n",
    "\n",
    "    if plots == 'all plots':\n",
    "        #All geometry plots\n",
    "        print('\\n Difference in Geometry Parameters')\n",
    "        g_diff.plot(subplots=True, layout=(4,4), figsize=(10,10))\n",
    "        plt.title('Diff')\n",
    "        plt.tight_layout()\n",
    "        plt.show()\n",
    "  \n",
    "        #Flux plots\n",
    "        plt.figure(figsize=(width*scale, height*scale),dpi=80)\n",
    "        plt.plot(R_g1, Z_g1, label = g1_name)\n",
    "        plt.plot(R_g2, Z_g2, label = g2_name)\n",
    "        plt.legend()\n",
    "        \n",
    "    elif plots == 'flux plots':\n",
    "        #Flux plots\n",
    "        plt.figure(figsize=(width*scale, height*scale),dpi=80)\n",
    "        plt.plot(R_g1, Z_g1, label = g1_name)\n",
    "        plt.plot(R_g2, Z_g2, label = g2_name)\n",
    "        plt.legend()\n",
    "    \n",
    "    else:\n",
    "        print('specify plots with \"all plots\" or \"flux plots\".')\n",
    "        "
   ]
  },
  {
   "cell_type": "code",
   "execution_count": null,
   "id": "266467f9-6cbd-44de-8e7d-7f901dd2ceae",
   "metadata": {},
   "outputs": [],
   "source": []
  },
  {
   "cell_type": "code",
   "execution_count": 35,
   "id": "ecbfd008-c9df-40e6-8f5c-ac50300083ab",
   "metadata": {
    "tags": []
   },
   "outputs": [],
   "source": [
    "efit_path = \"/global/cscratch1/sd/joeschm/162940/efit\"\n",
    "miller_path = \"/global/cscratch1/sd/joeschm/162940/miller\"\n",
    "\n",
    "efit2_path = \"/global/cscratch1/sd/joeschm/AUG/efit2\"\n",
    "miller2_path = \"/global/cscratch1/sd/joeschm/AUG/miller2\"\n",
    "\n",
    "C2_efit_path = \"/global/cscratch1/sd/joeschm/162940/COMP_efit\"\n",
    "C2_miller_path = \"/global/cscratch1/sd/joeschm/162940/COMP_miller\"\n",
    "\n",
    "C2_efit2_path = \"/global/cscratch1/sd/joeschm/AUG/COMP2_efit2\"\n",
    "C2_REG_miller2_path = \"/global/cscratch1/sd/joeschm/AUG/COMP2_REG_miller2\""
   ]
  },
  {
   "cell_type": "code",
   "execution_count": null,
   "id": "bc76f0c8-2fed-4c9b-b3b4-3246f7f2e93d",
   "metadata": {},
   "outputs": [],
   "source": []
  },
  {
   "cell_type": "code",
   "execution_count": 36,
   "id": "46f38230-7590-4e03-9463-63b7376fb785",
   "metadata": {
    "tags": []
   },
   "outputs": [],
   "source": [
    "# g_miller2 = extract_geom(miller2_path + '/scanfiles0004')\n",
    "# g_efit2 = extract_geom(efit2_path + '/scanfiles0008')\n",
    "\n",
    "# plot_g_diff(g_miller2,g_efit2)"
   ]
  },
  {
   "cell_type": "code",
   "execution_count": 37,
   "id": "366b285c-1d53-47f4-8608-39661f8687e3",
   "metadata": {
    "tags": []
   },
   "outputs": [],
   "source": [
    "# g_miller = extract_geom(miller_path + '/scanfiles0010')\n",
    "# g_efit = extract_geom(efit_path + '/scanfiles0008')\n",
    "\n",
    "# plot_g_diff(g_miller, g_efit, )"
   ]
  },
  {
   "cell_type": "code",
   "execution_count": 41,
   "id": "eb93cb88-fcd2-4a82-8892-b935f5452ad4",
   "metadata": {},
   "outputs": [
    {
     "name": "stdout",
     "output_type": "stream",
     "text": [
      "['scanfiles0000', 'scanfiles0003']\n",
      "/global/cscratch1/sd/joeschm/AUG/COMP2_REG_miller2/scanfiles0003\n",
      "nz0 resolution: 512\n",
      "x0: 0.98980797\n",
      "\n",
      "['scanfiles0000', 'scanfiles0001']\n",
      "/global/cscratch1/sd/joeschm/AUG/COMP2_efit2/scanfiles0001\n",
      "nz0 resolution: 512\n",
      "x0: 0.98513\n",
      "\n",
      "['scanfiles0000', 'scanfiles0001', 'scanfiles0002', 'scanfiles0003', 'scanfiles0004', 'scanfiles0005', 'scanfiles0006', 'scanfiles0007']\n",
      "/global/cscratch1/sd/joeschm/AUG/miller2/scanfiles0004\n",
      "nz0 resolution: 512\n",
      "x0: 0.31586175\n",
      "\n"
     ]
    },
    {
     "data": {
      "image/png": "[encoded data removed]",
      "text/plain": [
       "<Figure size 325.348x589.915 with 1 Axes>"
      ]
     },
     "metadata": {
      "needs_background": "light"
     },
     "output_type": "display_data"
    }
   ],
   "source": [
    "g_C2_miller = extract_geom(C2_REG_miller2_path + '/scanfiles0003')\n",
    "g_C2_efit = extract_geom(C2_efit2_path + '/scanfiles0001')\n",
    "#g_miller2 = extract_geom(miller2_path + '/scanfiles0004')\n",
    "\n",
    "plot_g_diff(g_C2_miller, g_C2_efit, 'REG miller2', 'efit2', 4, 'flux plots')\n",
    "\n",
    "# R_gen_miller2 = g_miller2['gl_R']\n",
    "# Z_gen_miller2 = g_miller2['gl_z']"
   ]
  },
  {
   "cell_type": "code",
   "execution_count": null,
   "id": "3ec6f06c-6673-4204-aa62-a11d8ad17c14",
   "metadata": {},
   "outputs": [],
   "source": []
  }
 ],
 "metadata": {
  "kernelspec": {
   "display_name": "Python 3",
   "language": "python",
   "name": "python3"
  },
  "language_info": {
   "codemirror_mode": {
    "name": "ipython",
    "version": 3
   },
   "file_extension": ".py",
   "mimetype": "text/x-python",
   "name": "python",
   "nbconvert_exporter": "python",
   "pygments_lexer": "ipython3",
   "version": "3.7.4"
  }
 },
 "nbformat": 4,
 "nbformat_minor": 5
}
