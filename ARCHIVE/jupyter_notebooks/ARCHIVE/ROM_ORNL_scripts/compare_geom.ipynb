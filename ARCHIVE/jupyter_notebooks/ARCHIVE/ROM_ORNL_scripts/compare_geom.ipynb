{
 "cells": [
  {
   "cell_type": "code",
   "execution_count": 1,
   "id": "7194ebd4-8018-457e-b840-1fb65f7654a2",
   "metadata": {},
   "outputs": [],
   "source": [
    "import matplotlib.pyplot as plt\n",
    "import pandas as pd\n",
    "import numpy as np\n",
    "import os\n",
    "import sys\n",
    "sys.path.insert(1, '/global/homes/j/joeschm/IFS_scripts')\n",
    "\n",
    "from ParIO import Parameters \n",
    "from read_write_geometry import read_geometry_local"
   ]
  },
  {
   "cell_type": "code",
   "execution_count": 2,
   "id": "e9a83240-b255-4c7a-bc47-7baeb309a8d8",
   "metadata": {
    "tags": []
   },
   "outputs": [],
   "source": [
    "def extract_geom(scanfile_path):\n",
    "\n",
    "    os.chdir(scanfile_path)\n",
    "\n",
    "    #for more detail of the geometry file, check the GENE manual 4.11\n",
    "    suffix='_0001'\n",
    "\n",
    "    #Import the parameters from parameter file using ParIO\n",
    "    par = Parameters()\n",
    "    par.Read_Pars('parameters' + suffix)\n",
    "    pars = par.pardict\n",
    "\n",
    "    #getting B field using read_write_geometry.py\n",
    "    gpars,geometry = read_geometry_local(pars['magn_geometry'][1:-1]+suffix)\n",
    "\n",
    "    #available variables:\n",
    "    ggxx     = geometry['ggxx']\n",
    "    ggxy     = geometry['ggxy']\n",
    "    ggxz     = geometry['ggxz']\n",
    "    ggyy     = geometry['ggyy']\n",
    "    ggyz     = geometry['ggyz']\n",
    "    ggzz     = geometry['ggzz']\n",
    "    gBfield  = geometry['gBfield']\n",
    "    gdBdx    = geometry['gdBdx']\n",
    "    gdBdy    = geometry['gdBdy']\n",
    "    gdBdz    = geometry['gdBdz']\n",
    "    gjacobian= geometry['gjacobian']\n",
    "    gl_R     = geometry['gl_R']\n",
    "    gl_phi   = geometry['gl_phi']\n",
    "    gl_z     = geometry['gl_z']\n",
    "    gl_dxdR  = geometry['gl_dxdR']\n",
    "    gl_dxdZ  = geometry['gl_dxdZ']\n",
    "    \n",
    "    data_col = {'ggxx': ggxx, \n",
    "                'ggxy': ggxy, \n",
    "                'ggxz': ggxz,\n",
    "                'ggyy': ggyy, \n",
    "                'ggyz': ggyz, \n",
    "                'ggzz': ggzz, \n",
    "                'gBfield': gBfield, \n",
    "                'gdBdx': gdBdx, \n",
    "                'gdBdy': gdBdy, \n",
    "                'gdBdz': gdBdz,\n",
    "                'gjacobian': gjacobian,\n",
    "                'gl_R': gl_R,\n",
    "                'gl_phi': gl_phi,\n",
    "                'gl_z': gl_z,\n",
    "                'gl_dxdR': gl_dxdR,\n",
    "                'gl_dxdZ': gl_dxdZ\n",
    "               }\n",
    "    \n",
    "    g_df = pd.DataFrame(data = data_col)\n",
    "    \n",
    "    \n",
    "    #go up one directory and print all the scanfiles available\n",
    "    os.chdir('..')\n",
    "    print(sorted(os.listdir()))\n",
    "    \n",
    "    nz0 = pars['nz0']\n",
    "    x0 = pars['x0']\n",
    "    magn_geometry = pars['magn_geometry']\n",
    "    \n",
    "    #print the current directory and the nz0 resolution\n",
    "    print(scanfile_path)\n",
    "    print('nz0 resolution:', nz0)\n",
    "    print('x0:', x0)\n",
    "    print('magn_geometry:', magn_geometry)\n",
    "    print('')\n",
    "    \n",
    "    return g_df"
   ]
  },
  {
   "cell_type": "code",
   "execution_count": 3,
   "id": "266467f9-6cbd-44de-8e7d-7f901dd2ceae",
   "metadata": {
    "tags": []
   },
   "outputs": [],
   "source": [
    "def flux_plots(width, height, scale, R_g1, Z_g1, g1_name, R_g2, Z_g2, g2_name):\n",
    "    plt.figure(figsize=(width*scale, height*scale),dpi=80)\n",
    "    plt.plot(R_g1, Z_g1, label = g1_name, marker = '+')\n",
    "    plt.plot(R_g2, Z_g2, label = g2_name)\n",
    "    plt.legend()"
   ]
  },
  {
   "cell_type": "code",
   "execution_count": 4,
   "id": "c2dc34c9-2b07-4935-aa0f-80a98d01cd10",
   "metadata": {
    "tags": []
   },
   "outputs": [],
   "source": [
    "def plot_g_diff(g1, g2, g1_name, g2_name, scale, plots):\n",
    "    g_diff = g1 - g2\n",
    "    gd_mean = g_diff.mean()\n",
    "    \n",
    "    R_g1 = g1['gl_R']\n",
    "    Z_g1 = g1['gl_z']\n",
    "\n",
    "    R_g2 = g2['gl_R']\n",
    "    Z_g2 = g2['gl_z']\n",
    "    \n",
    "    width = np.max(R_g1)-np.min(R_g1)\n",
    "    height = np.max(Z_g1)-np.min(Z_g1)\n",
    "    \n",
    "    #print(width, height)\n",
    "    #width2 = np.max(R_g2)-np.min(R_g2)\n",
    "    #height2 = np.max(Z_g2)-np.min(Z_g2)\n",
    "\n",
    "    #print(width2, height2)\n",
    "    #width = width2\n",
    "    #height = height2\n",
    "    \n",
    "    #print(width, height)\n",
    "    \n",
    "    if plots == 'all plots':\n",
    "        #All geometry plots\n",
    "        print('\\n Difference in Geometry Parameters')\n",
    "        g_diff.plot(subplots=True, layout=(4,4), figsize=(10,10))\n",
    "        plt.title('Diff')\n",
    "        plt.tight_layout()\n",
    "        plt.show()\n",
    "  \n",
    "        #Flux plots\n",
    "        #flux_plots(width, height, scale, R_g1, Z_g1, g1_name, R_g2, Z_g2, g2_name)\n",
    "        plt.figure(figsize=(width*scale, height*scale),dpi=80)\n",
    "        plt.plot(R_g1, Z_g1, label = g1_name, marker = '+')\n",
    "        plt.plot(R_g2, Z_g2, label = g2_name)\n",
    "        plt.legend()\n",
    "        \n",
    "    elif plots == 'flux plots':\n",
    "        #Flux plots\n",
    "        #flux_plots(width, height, scale, R_g1, Z_g1, g1_name, R_g2, Z_g2, g2_name)\n",
    "        plt.figure(figsize=(width*scale, height*scale),dpi=80)\n",
    "        plt.plot(R_g1, Z_g1, label = g1_name, marker = '+')\n",
    "        plt.plot(R_g2, Z_g2, label = g2_name)\n",
    "        plt.legend()\n",
    "        \n",
    "    \n",
    "    else:\n",
    "        print('specify plots with \"all plots\" or \"flux plots\".')\n",
    "        "
   ]
  },
  {
   "cell_type": "code",
   "execution_count": null,
   "id": "10f83519-b68b-4e2d-b6ab-5798242e7104",
   "metadata": {},
   "outputs": [],
   "source": []
  },
  {
   "cell_type": "code",
   "execution_count": 5,
   "id": "ecbfd008-c9df-40e6-8f5c-ac50300083ab",
   "metadata": {
    "tags": []
   },
   "outputs": [],
   "source": [
    "C2_efit_path = \"/global/cscratch1/sd/joeschm/162940/COMP_efit\"\n",
    "C2_miller_path = \"/global/cscratch1/sd/joeschm/162940/COMP_miller\""
   ]
  },
  {
   "cell_type": "code",
   "execution_count": null,
   "id": "bc76f0c8-2fed-4c9b-b3b4-3246f7f2e93d",
   "metadata": {},
   "outputs": [],
   "source": []
  },
  {
   "cell_type": "code",
   "execution_count": 10,
   "id": "3ec6f06c-6673-4204-aa62-a11d8ad17c14",
   "metadata": {},
   "outputs": [
    {
     "name": "stdout",
     "output_type": "stream",
     "text": [
      "['scanfiles0000', 'scanfiles0001', 'scanfiles0002', 'scanfiles0003', 'scanfiles0004', 'scanfiles0005', 'scanfiles0006', 'scanfiles0007', 'scanfiles0008', 'scanfiles0009', 'scanfiles0010', 'scanfiles0011']\n",
      "/global/cscratch1/sd/joeschm/AUG/Comparison_test/efit2_vs_REG_miller2/scanfiles0004\n",
      "nz0 resolution: 512\n",
      "x0: 0.98513\n",
      "magn_geometry: 'tracer_efit'\n",
      "\n",
      "['scanfiles0000', 'scanfiles0001', 'scanfiles0002', 'scanfiles0003', 'scanfiles0004', 'scanfiles0005', 'scanfiles0006', 'scanfiles0007', 'scanfiles0008', 'scanfiles0009', 'scanfiles0010', 'scanfiles0011']\n",
      "/global/cscratch1/sd/joeschm/AUG/Comparison_test/efit2_vs_REG_miller2/scanfiles0010\n",
      "nz0 resolution: 512\n",
      "x0: 0.9899015\n",
      "magn_geometry: 'miller'\n",
      "\n"
     ]
    },
    {
     "data": {
      "image/png": "[encoded data removed]",
      "text/plain": [
       "<Figure size 325.389x589.902 with 1 Axes>"
      ]
     },
     "metadata": {
      "needs_background": "light"
     },
     "output_type": "display_data"
    }
   ],
   "source": [
    "filepath = \"/global/cscratch1/sd/joeschm/AUG/Comparison_test/efit2_vs_REG_miller2\"\n",
    "\n",
    "g_REG_miller2 = extract_geom(filepath + '/scanfiles0004')\n",
    "g_efit2 = extract_geom(filepath + '/scanfiles0010')\n",
    "\n",
    "plot_g_diff(g_REG_miller2, g_efit2, 'regular miller', 'efit', 4, 'flux plots')"
   ]
  },
  {
   "cell_type": "code",
   "execution_count": null,
   "id": "14aac556-ef61-4736-b016-8dd745c60c0f",
   "metadata": {},
   "outputs": [],
   "source": []
  },
  {
   "cell_type": "code",
   "execution_count": null,
   "id": "27cd62d0-0025-491f-9e06-ca3f595885fd",
   "metadata": {},
   "outputs": [],
   "source": []
  },
  {
   "cell_type": "code",
   "execution_count": null,
   "id": "be91d38a-a2ce-460b-8591-d6d4452a036f",
   "metadata": {},
   "outputs": [],
   "source": []
  },
  {
   "cell_type": "code",
   "execution_count": null,
   "id": "8cd21cb7-a473-4f5a-9488-993a05f47ec3",
   "metadata": {},
   "outputs": [],
   "source": []
  }
 ],
 "metadata": {
  "kernelspec": {
   "display_name": "NERSC Python",
   "language": "python",
   "name": "python3"
  },
  "language_info": {
   "codemirror_mode": {
    "name": "ipython",
    "version": 3
   },
   "file_extension": ".py",
   "mimetype": "text/x-python",
   "name": "python",
   "nbconvert_exporter": "python",
   "pygments_lexer": "ipython3",
   "version": "3.9.7"
  }
 },
 "nbformat": 4,
 "nbformat_minor": 5
}
