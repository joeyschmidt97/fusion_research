{
 "cells": [
  {
   "cell_type": "markdown",
   "id": "8d751303-0727-41ef-b7ea-fe626d365781",
   "metadata": {},
   "source": [
    "### Import Necessary Libraries"
   ]
  },
  {
   "cell_type": "code",
   "execution_count": 1,
   "id": "e19c6728-5df1-4751-8c29-6d288e65b4bc",
   "metadata": {},
   "outputs": [],
   "source": [
    "import pandas as pd\n",
    "import numpy as np\n",
    "import matplotlib.pyplot as plt\n",
    "import os\n",
    "from os.path import exists\n",
    "\n",
    "import sys\n",
    "sys.path.insert(1, '/global/homes/j/joeschm/IFS_scripts')\n",
    "from genetools import Parameters"
   ]
  },
  {
   "cell_type": "markdown",
   "id": "fa4f2b5f-86d4-4290-9a80-a0a638c023a9",
   "metadata": {},
   "source": [
    "### Function for Retrieving Non-zero Omega Files"
   ]
  },
  {
   "cell_type": "code",
   "execution_count": 2,
   "id": "bb47e3bf-4d32-423c-bf8b-c96b4b0f7b56",
   "metadata": {
    "tags": []
   },
   "outputs": [],
   "source": [
    "def omega_EV_df(filepath):\n",
    "    omega_col = ['scanfile', 'kymin', 'n0_global','gamma(cs/a)', 'omega(kHz)']\n",
    "    omega_df = pd.DataFrame(columns=omega_col)\n",
    "\n",
    "    scanfile_list = os.listdir(filepath)\n",
    "    for scanfile in scanfile_list:                #run through list of scanfiles\n",
    "\n",
    "        scanfile_path = filepath + \"/\" + scanfile\n",
    "        os.chdir(scanfile_path)                   #enter into scanfile directory\n",
    "        \n",
    "        if exists(scanfile_path + \"/\" + \"EV_log.csv\"):\n",
    "            \n",
    "\n",
    "            omega_CSV = pd.read_csv(\"EV_log.csv\")\n",
    "            omega_CSV['n0_global'] = 0\n",
    "\n",
    "            ky_n0_col = ['kymin', 'n0_global']\n",
    "            ky_n0_df = pd.DataFrame(columns=ky_n0_col)\n",
    "\n",
    "            for filename in os.listdir(os.getcwd()):\n",
    "                if filename.startswith(\"parameters_\"):\n",
    "                    suffix = filename[-4:]     #get 00xx suffix for omega file\n",
    "                    par = Parameters()\n",
    "                    par.Read_Pars('parameters_'+suffix)  #read parameter file\n",
    "\n",
    "                    pars = par.pardict                   #create a dictionary of values\n",
    "                    n0_global = pars['n0_global']   #\n",
    "                    kymin = pars['kymin']         #ion mass\n",
    "\n",
    "                    ky_n0_scan = pd.DataFrame([[kymin, n0_global]], columns = ky_n0_col)\n",
    "                    ky_n0_df = ky_n0_df.append(ky_n0_scan)\n",
    "\n",
    "            #omega_CSV.drop_duplicates(inplace=True)\n",
    "\n",
    "            omega_CSV = ky_n0_df.set_index('kymin').combine_first(omega_CSV.drop_duplicates().set_index('kymin')).reset_index() #fill in n0_global values according to kymin values\n",
    "            omega_CSV['n0_global'] = omega_CSV.n0_global.astype(float) #convert from an object to a float\n",
    "\n",
    "\n",
    "            omega_temp = pd.DataFrame(columns=omega_col)\n",
    "            omega_temp = pd.DataFrame({'scanfile': scanfile , 'kymin': omega_CSV['kymin'], 'n0_global': 0, 'gamma(cs/a)': 0, 'omega(kHz)': 0})\n",
    "            omega_temp['kymin'] = omega_CSV['kymin']\n",
    "            omega_temp['n0_global'] = omega_CSV['n0_global']\n",
    "            omega_temp['gamma(cs/a)'] = omega_CSV['gamma(cs/a)']\n",
    "            omega_temp['omega(kHz)'] = omega_CSV['omega(kHz)']\n",
    "\n",
    "            omega_df = omega_df.append(omega_temp)\n",
    "            #print(omega_temp)\n",
    "\n",
    "    return omega_df"
   ]
  },
  {
   "cell_type": "markdown",
   "id": "35285140-b0e9-4b5b-8c79-41a1c672f067",
   "metadata": {},
   "source": [
    "### Check Data Output and Plot"
   ]
  },
  {
   "cell_type": "code",
   "execution_count": 3,
   "id": "0780b723-e2b2-4722-a1b4-8b53af66ef1a",
   "metadata": {},
   "outputs": [],
   "source": [
    "efit2_path = \"/global/cscratch1/sd/joeschm/AUG/efit2_EVS\"\n",
    "miller2_path = \"/global/cscratch1/sd/joeschm/AUG/miller2_EVS\""
   ]
  },
  {
   "cell_type": "code",
   "execution_count": 4,
   "id": "ab2e20ee-2370-4ea1-9963-48e3e5d0c411",
   "metadata": {},
   "outputs": [
    {
     "name": "stdout",
     "output_type": "stream",
     "text": [
      "     index       scanfile  kymin  n0_global  gamma(cs/a)    omega(kHz)\n",
      "0        0  scanfiles0001    9.0     1031.0     5.384009   -726.418247\n",
      "1        1  scanfiles0001    9.0     1031.0     5.382663   -726.364952\n",
      "2        2  scanfiles0001    9.0     1031.0     5.164436   -899.114546\n",
      "3        3  scanfiles0001    9.0     1031.0     5.164435   -899.269420\n",
      "4        4  scanfiles0001    9.0     1031.0     5.064882  -1018.212235\n",
      "..     ...            ...    ...        ...          ...           ...\n",
      "154     46  scanfiles0000  160.0    18335.0    73.970121 -19811.348930\n",
      "155     47  scanfiles0000  160.0    18335.0    64.825705 -16455.452735\n",
      "156     48  scanfiles0000  160.0    18335.0    61.397127 -11809.617018\n",
      "157     49  scanfiles0000  160.0    18335.0    61.317999 -11811.202838\n",
      "158     50  scanfiles0000  160.0    18335.0    60.552368 -16148.705034\n",
      "\n",
      "[159 rows x 6 columns]\n"
     ]
    }
   ],
   "source": [
    "efit2_omega = omega_EV_df(efit2_path).reset_index()\n",
    "print(efit2_omega)"
   ]
  },
  {
   "cell_type": "code",
   "execution_count": 5,
   "id": "a247399f-d7a7-4af1-96dc-9c20185935cd",
   "metadata": {},
   "outputs": [
    {
     "name": "stdout",
     "output_type": "stream",
     "text": [
      "     index       scanfile   kymin  n0_global  gamma(cs/a)    omega(kHz)\n",
      "0        0  scanfiles0002    4.32      429.0          NaN           NaN\n",
      "1        1  scanfiles0002    8.65      858.0    44.703968  -4704.206472\n",
      "2        2  scanfiles0002    8.65      858.0    44.647185  -4713.907507\n",
      "3        3  scanfiles0002    8.65      858.0    44.624031  -4331.452029\n",
      "4        4  scanfiles0002    8.65      858.0    44.592338  -4322.823963\n",
      "..     ...            ...     ...        ...          ...           ...\n",
      "403     14  scanfiles0000   69.24     6868.0     6.951825 -42916.243713\n",
      "404     15  scanfiles0000   69.24     6868.0     6.943273 -39388.272020\n",
      "405     16  scanfiles0000   69.24     6868.0     6.768822 -43601.866110\n",
      "406     17  scanfiles0000  103.87    10303.0          NaN           NaN\n",
      "407     18  scanfiles0000  138.50    13738.0          NaN           NaN\n",
      "\n",
      "[408 rows x 6 columns]\n"
     ]
    }
   ],
   "source": [
    "miller2_omega = omega_EV_df(miller2_path).reset_index()\n",
    "print(miller2_omega)"
   ]
  },
  {
   "cell_type": "code",
   "execution_count": 6,
   "id": "8fcbb1d1-6c01-4d61-aee0-eff14ee4c09d",
   "metadata": {},
   "outputs": [
    {
     "data": {
      "image/png": "[encoded data removed]",
      "text/plain": [
       "<Figure size 432x288 with 1 Axes>"
      ]
     },
     "metadata": {
      "needs_background": "light"
     },
     "output_type": "display_data"
    }
   ],
   "source": [
    "ax = efit2_omega.plot(x ='n0_global', y='omega(kHz)', kind = 'scatter', color = 'red', label = 'efit2', alpha = 0.2)\n",
    "miller2_omega.plot(x ='n0_global', y='omega(kHz)', kind = 'scatter', ax = ax, label = 'miller2', alpha = 0.2)\n",
    "\n",
    "#plt.ylim(-30000,-3000)\n",
    "plt.legend()\n",
    "plt.show()"
   ]
  },
  {
   "cell_type": "code",
   "execution_count": null,
   "id": "8fb57079-664e-4b3a-91ca-d23d7ed170f3",
   "metadata": {},
   "outputs": [],
   "source": []
  },
  {
   "cell_type": "code",
   "execution_count": null,
   "id": "9849dce5-09a0-4457-bfd6-200fa7aa863e",
   "metadata": {},
   "outputs": [],
   "source": []
  }
 ],
 "metadata": {
  "kernelspec": {
   "display_name": "Python 3",
   "language": "python",
   "name": "python3"
  },
  "language_info": {
   "codemirror_mode": {
    "name": "ipython",
    "version": 3
   },
   "file_extension": ".py",
   "mimetype": "text/x-python",
   "name": "python",
   "nbconvert_exporter": "python",
   "pygments_lexer": "ipython3",
   "version": "3.7.4"
  }
 },
 "nbformat": 4,
 "nbformat_minor": 5
}
