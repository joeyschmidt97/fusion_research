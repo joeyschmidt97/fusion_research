{
 "cells": [
  {
   "cell_type": "code",
   "execution_count": 1,
   "id": "e19c6728-5df1-4751-8c29-6d288e65b4bc",
   "metadata": {},
   "outputs": [],
   "source": [
    "import pandas as pd\n",
    "import numpy as np\n",
    "import os\n",
    "\n",
    "\n",
    "import sys\n",
    "sys.path.insert(1, '/global/homes/j/joeschm/IFS_scripts')\n",
    "from genetools import Parameters"
   ]
  },
  {
   "cell_type": "code",
   "execution_count": 2,
   "id": "0e826276-5135-4d11-88b6-b6ee85e98ed3",
   "metadata": {},
   "outputs": [
    {
     "name": "stdout",
     "output_type": "stream",
     "text": [
      "/global/cscratch1/sd/joeschm/AUG/efit2\n"
     ]
    }
   ],
   "source": [
    "cd /global/cscratch1/sd/joeschm/AUG/efit2"
   ]
  },
  {
   "cell_type": "code",
   "execution_count": 3,
   "id": "973a96d9-75e5-4ad8-a14e-2500a4e5def2",
   "metadata": {
    "tags": []
   },
   "outputs": [
    {
     "name": "stdout",
     "output_type": "stream",
     "text": [
      "/global/cscratch1/sd/joeschm/AUG/efit2/scanfiles0000\n"
     ]
    }
   ],
   "source": [
    "cd scanfiles0000"
   ]
  },
  {
   "cell_type": "markdown",
   "id": "4f28113a-80c2-47ce-9bde-c61ee7b9a11d",
   "metadata": {},
   "source": [
    "## Scan Through Single Omega File"
   ]
  },
  {
   "cell_type": "code",
   "execution_count": 4,
   "id": "edb423f2-f519-48ea-8862-007b1f01bd3b",
   "metadata": {},
   "outputs": [
    {
     "name": "stdout",
     "output_type": "stream",
     "text": [
      "[160.0, 105.32043000902968, 55.44339925796582]\n",
      "[[160.0, 105.32043000902968, 55.44339925796582]]\n"
     ]
    }
   ],
   "source": [
    "file = \"omega_0008\"\n",
    "\n",
    "data = open(file, \"r\")\n",
    "line0 = data.readline()\n",
    "data.close()\n",
    "\n",
    "sline0 = line0.split() #split line into separate strings\n",
    "sline0 = list(map(float, sline0)) #convert string list to float list\n",
    "print(sline0)\n",
    "\n",
    "\n",
    "omega_list = []\n",
    "if sline0[1] != 0: #proceed if growth rate isn't 0 or is considered stable\n",
    "    omega_list.append(sline0)\n",
    "print(omega_list)"
   ]
  },
  {
   "cell_type": "code",
   "execution_count": 5,
   "id": "196529da-6a30-4c8a-82a2-fe197206bee9",
   "metadata": {},
   "outputs": [
    {
     "name": "stdout",
     "output_type": "stream",
     "text": [
      "'IV'\n"
     ]
    }
   ],
   "source": [
    "par = Parameters()\n",
    "#par.Read_Pars('parameters_'+suffix)\n",
    "par.Read_Pars('parameters_0008')\n",
    "\n",
    "pars = par.pardict\n",
    "TJ = pars['Tref']*1000.0*1.602e-19\n",
    "mi = pars['mref']*1.6726e-27\n",
    "cs = np.sqrt(TJ/mi)\n",
    "om_ref = cs/pars['Lref']\n",
    "\n",
    "print(pars['comp_type'])"
   ]
  },
  {
   "cell_type": "markdown",
   "id": "b10b1c73-7c5d-4d68-9f14-b4dd1bc85bab",
   "metadata": {},
   "source": [
    "## Scan through all omegas in scanfile directory"
   ]
  },
  {
   "cell_type": "code",
   "execution_count": 6,
   "id": "9e36e7a2-674c-48a6-9051-ec104241b162",
   "metadata": {},
   "outputs": [
    {
     "name": "stdout",
     "output_type": "stream",
     "text": [
      "[[10.0, -16.49138554064489, 7.138913539354235], [120.0, 129.4515134336319, 16.467061186484028], [60.0, 85.33247031412196, -25.10048388392967], [160.0, 105.32043000902968, 55.44339925796582], [20.0, 10.906244186811671, -4.008793143004874], [80.0, 115.39250480799711, 18.943785055911356], [50.0, 63.317691613127046, -0.2874733707962682], [240.0, 42.40520684794694, -19.860805151976066], [40.0, 46.43410967541413, -12.869200489228442]]\n"
     ]
    }
   ],
   "source": [
    "#Scan through all omegas that are non-zero\n",
    "cwd = os.getcwd()\n",
    "#print(cwd)\n",
    "\n",
    "omega_list = []\n",
    "\n",
    "for filename in os.listdir(cwd):\n",
    "    if filename.startswith(\"omega_\"):\n",
    "        #print(filename)\n",
    "        data = open(filename, \"r\") #read file\n",
    "        line = data.readline() #read first line of data file\n",
    "        data.close() #close data file\n",
    "\n",
    "        sline = line.split() #split line into separate strings\n",
    "        sline = list(map(float, sline)) #convert string list to float list\n",
    "        #print(sline)\n",
    "\n",
    "        if sline[1] != 0: #proceed if growth rate isn't 0 or is considered stable\n",
    "            omega_list.append(sline)\n",
    "\n",
    "print(omega_list)"
   ]
  }
 ],
 "metadata": {
  "kernelspec": {
   "display_name": "Python 3",
   "language": "python",
   "name": "python3"
  },
  "language_info": {
   "codemirror_mode": {
    "name": "ipython",
    "version": 3
   },
   "file_extension": ".py",
   "mimetype": "text/x-python",
   "name": "python",
   "nbconvert_exporter": "python",
   "pygments_lexer": "ipython3",
   "version": "3.7.4"
  }
 },
 "nbformat": 4,
 "nbformat_minor": 5
}
