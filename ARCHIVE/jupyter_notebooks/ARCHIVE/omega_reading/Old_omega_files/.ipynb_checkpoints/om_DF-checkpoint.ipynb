{
 "cells": [
  {
   "cell_type": "markdown",
   "id": "8d751303-0727-41ef-b7ea-fe626d365781",
   "metadata": {},
   "source": [
    "### Import Necessary Libraries"
   ]
  },
  {
   "cell_type": "code",
   "execution_count": 1,
   "id": "e19c6728-5df1-4751-8c29-6d288e65b4bc",
   "metadata": {},
   "outputs": [],
   "source": [
    "import pandas as pd\n",
    "import os\n",
    "import sys\n",
    "sys.path.insert(1, '/global/homes/j/joeschm/IFS_scripts')\n",
    "from genetools import Parameters"
   ]
  },
  {
   "cell_type": "code",
   "execution_count": 2,
   "id": "0780b723-e2b2-4722-a1b4-8b53af66ef1a",
   "metadata": {},
   "outputs": [],
   "source": [
    "path = \"/global/cscratch1/sd/joeschm/AUG/efit2\""
   ]
  },
  {
   "cell_type": "markdown",
   "id": "fa4f2b5f-86d4-4290-9a80-a0a638c023a9",
   "metadata": {},
   "source": [
    "### Function for Retrieving Non-zero Omega Files"
   ]
  },
  {
   "cell_type": "code",
   "execution_count": 7,
   "id": "bb47e3bf-4d32-423c-bf8b-c96b4b0f7b56",
   "metadata": {
    "tags": []
   },
   "outputs": [],
   "source": [
    "def omega_list(filepath):\n",
    "    omega_col = ['scanfile', 'ky_min', 'gamma(cs/a)', 'omega(cs/a)']\n",
    "    omega_list = pd.DataFrame(columns=omega_col)\n",
    "\n",
    "    scanfile_list = os.listdir(filepath)\n",
    "    for scanfile in scanfile_list:                #run through list of scanfiles\n",
    "        scanfile_path = filepath + \"/\" + scanfile\n",
    "        os.chdir(scanfile_path)                   #enter into scanfile directory\n",
    "\n",
    "        for filename in os.listdir(os.getcwd()):\n",
    "            if filename.startswith(\"omega_\"):\n",
    "                data = open(filename, \"r\") #read omega file\n",
    "                line = data.readline()     #read first line of data file\n",
    "                data.close()               #close data file\n",
    "\n",
    "                sline = line.split()             #split line into separate strings\n",
    "                sline = list(map(float, sline))  #convert string list to float list\n",
    "\n",
    "                if sline[1] != 0:    #proceed if growth rate isn't 0 or is considered stable\n",
    "                    omega_scan = pd.DataFrame([[scanfile, sline[0], sline[1], sline[2]]], columns = omega_col)\n",
    "                    omega_list = omega_list.append(omega_scan)\n",
    "    \n",
    "    return omega_list.sort_values(by=['ky_min'])   #sort dataframe by increasing ky_min values"
   ]
  },
  {
   "cell_type": "code",
   "execution_count": 8,
   "id": "ab2e20ee-2370-4ea1-9963-48e3e5d0c411",
   "metadata": {},
   "outputs": [
    {
     "name": "stdout",
     "output_type": "stream",
     "text": [
      "        scanfile  ky_min  gamma(cs/a)  omega(cs/a)\n",
      "0  scanfiles0000    10.0   -16.491386     7.138914\n",
      "0  scanfiles0000    20.0    10.906244    -4.008793\n",
      "0  scanfiles0002    40.0    45.572234   -14.983222\n",
      "0  scanfiles0001    40.0    46.434110   -12.869201\n",
      "0  scanfiles0000    40.0    46.434110   -12.869200\n",
      "0  scanfiles0000    50.0    63.317692    -0.287473\n",
      "0  scanfiles0000    60.0    85.332470   -25.100484\n",
      "0  scanfiles0003    80.0   115.392505  -168.613985\n",
      "0  scanfiles0000    80.0   115.392505    18.943785\n",
      "0  scanfiles0003   120.0   129.451513  -442.159604\n",
      "0  scanfiles0000   120.0   129.451513    16.467061\n",
      "0  scanfiles0003   160.0   105.320430  -487.380385\n",
      "0  scanfiles0000   160.0   105.320430    55.443399\n",
      "0  scanfiles0000   240.0    42.405207   -19.860805\n"
     ]
    }
   ],
   "source": [
    "efit2_omega = omega_list(path)\n",
    "efit2_omega.reset_index(drop=True)\n",
    "print(efit2_omega)"
   ]
  },
  {
   "cell_type": "code",
   "execution_count": null,
   "id": "a247399f-d7a7-4af1-96dc-9c20185935cd",
   "metadata": {},
   "outputs": [],
   "source": []
  }
 ],
 "metadata": {
  "kernelspec": {
   "display_name": "Python 3",
   "language": "python",
   "name": "python3"
  },
  "language_info": {
   "codemirror_mode": {
    "name": "ipython",
    "version": 3
   },
   "file_extension": ".py",
   "mimetype": "text/x-python",
   "name": "python",
   "nbconvert_exporter": "python",
   "pygments_lexer": "ipython3",
   "version": "3.7.4"
  }
 },
 "nbformat": 4,
 "nbformat_minor": 5
}
