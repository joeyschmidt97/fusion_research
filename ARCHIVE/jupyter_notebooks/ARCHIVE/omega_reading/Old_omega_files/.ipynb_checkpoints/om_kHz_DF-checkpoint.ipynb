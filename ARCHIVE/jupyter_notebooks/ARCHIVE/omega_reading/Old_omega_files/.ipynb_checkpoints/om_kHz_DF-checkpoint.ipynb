{
 "cells": [
  {
   "cell_type": "markdown",
   "id": "8d751303-0727-41ef-b7ea-fe626d365781",
   "metadata": {},
   "source": [
    "### Import Necessary Libraries"
   ]
  },
  {
   "cell_type": "code",
   "execution_count": 1,
   "id": "e19c6728-5df1-4751-8c29-6d288e65b4bc",
   "metadata": {},
   "outputs": [],
   "source": [
    "import pandas as pd\n",
    "import numpy as np\n",
    "import os\n",
    "\n",
    "import sys\n",
    "sys.path.insert(1, '/global/homes/j/joeschm/IFS_scripts')\n",
    "from genetools import Parameters"
   ]
  },
  {
   "cell_type": "markdown",
   "id": "fa4f2b5f-86d4-4290-9a80-a0a638c023a9",
   "metadata": {},
   "source": [
    "### Function for Retrieving Non-zero Omega Files"
   ]
  },
  {
   "cell_type": "code",
   "execution_count": 2,
   "id": "c2649b19-df5c-45e3-999f-2f4a4553b5a7",
   "metadata": {
    "jupyter": {
     "source_hidden": true
    },
    "tags": []
   },
   "outputs": [],
   "source": [
    "def get_om_ref(filename):\n",
    "    #This function gets the reference values from the parameters file and outputs the reference omega value, istep_field, and n0_global\n",
    "    \n",
    "    suffix = filename[-4:]     #get 00xx suffix for omega file\n",
    "    par = Parameters()\n",
    "    par.Read_Pars('parameters_'+suffix)  #read parameter file\n",
    "\n",
    "    pars = par.pardict                   #create a dictionary of values\n",
    "    TJ = pars['Tref']*1000.0*1.602e-19   #ion temperature in (J)\n",
    "    mi = pars['mref']*1.6726e-27         #ion mass\n",
    "    cs = np.sqrt(TJ/mi)                  #speed of sound in a plasma \n",
    "    om_ref = cs/pars['Lref']             #reference omega\n",
    "       \n",
    "    return om_ref, pars"
   ]
  },
  {
   "cell_type": "code",
   "execution_count": 3,
   "id": "e73c062a-a78a-45ca-8973-b22c629774a1",
   "metadata": {
    "tags": []
   },
   "outputs": [],
   "source": [
    "def split_omega_data(filename):\n",
    "    #This function splits the omega data and outputs ky_min, gamma, and omega\n",
    "    \n",
    "    data = open(filename, \"r\") #read omega file\n",
    "    line = data.readline()     #read first line of data file\n",
    "    data.close()               #close data file\n",
    "\n",
    "    sline = line.split()             #split line (sline) into separate strings\n",
    "    sline = list(map(float, sline))  #convert string list to float list\n",
    "\n",
    "    ky_min = sline[0]\n",
    "    gamma = sline[1]\n",
    "    omega = sline[2]\n",
    "\n",
    "    return ky_min, gamma, omega"
   ]
  },
  {
   "cell_type": "code",
   "execution_count": 4,
   "id": "bb47e3bf-4d32-423c-bf8b-c96b4b0f7b56",
   "metadata": {
    "tags": []
   },
   "outputs": [],
   "source": [
    "def omega_df(filepath, nz0_low, nz0_high):\n",
    "    omega_col = ['scanfile', 'ky_min', 'n0_global','gamma(cs/a)','gamma(kHz)', 'omega(kHz)', 'nz0', 'hyp_z']\n",
    "    omega_df = pd.DataFrame(columns=omega_col)\n",
    "\n",
    "    scanfile_list = os.listdir(filepath)\n",
    "    for scanfile in scanfile_list:                #run through list of scanfiles\n",
    "        scanfile_path = filepath + \"/\" + scanfile\n",
    "        os.chdir(scanfile_path)                   #enter into scanfile directory\n",
    "\n",
    "        \n",
    "        \n",
    "        for filename in os.listdir(os.getcwd()):\n",
    "            if filename.startswith(\"omega_\") and (os.stat(filename).st_size != 0): #open omega file and extract data if it is non-empty\n",
    "                om_ref, pars = get_om_ref(filename)  #retrieve reference and parameter values         \n",
    "                ky_min, gamma, omega = split_omega_data(filename) #split data from omega file\n",
    "                \n",
    "                omega_kHz = omega*om_ref/1000.0/(2.0*np.pi) #convert omega to kHz\n",
    "                gamma_kHz = gamma*om_ref/1000.0/(2.0*np.pi) #convert omega to kHz\n",
    "                \n",
    "                \n",
    "                n0_global = float(pars['n0_global'])\n",
    "                istep_field = pars['istep_field']    #read istep_field value\n",
    "                nz0 = pars['nz0']\n",
    "                hyp_z = pars['hyp_z']\n",
    "\n",
    "                C1 = (omega and gamma) != 0\n",
    "                C2 = nz0_low < nz0 < nz0_high\n",
    "                C3 = istep_field <= 10\n",
    "                criteria = C1 and C2 and C3\n",
    "                #criteria = ((omega and gamma) != 0) and (istep_field == 10) #proceed if growth rate isn't 0 or is considered stable\n",
    "                \n",
    "                if criteria:\n",
    "                    omega_scan = pd.DataFrame([[scanfile, ky_min, n0_global,gamma, gamma_kHz, omega_kHz, nz0, hyp_z]], columns = omega_col)\n",
    "                    omega_df = omega_df.append(omega_scan)\n",
    "    \n",
    "    omega_df = omega_df.sort_values(by=['ky_min'])   #sort dataframe by increasing ky_min values\n",
    "    \n",
    "    return omega_df"
   ]
  }
 ],
 "metadata": {
  "kernelspec": {
   "display_name": "Python 3",
   "language": "python",
   "name": "python3"
  },
  "language_info": {
   "codemirror_mode": {
    "name": "ipython",
    "version": 3
   },
   "file_extension": ".py",
   "mimetype": "text/x-python",
   "name": "python",
   "nbconvert_exporter": "python",
   "pygments_lexer": "ipython3",
   "version": "3.7.4"
  }
 },
 "nbformat": 4,
 "nbformat_minor": 5
}
