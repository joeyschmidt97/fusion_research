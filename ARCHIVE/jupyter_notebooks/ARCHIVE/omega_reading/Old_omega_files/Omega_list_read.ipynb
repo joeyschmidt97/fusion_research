{
 "cells": [
  {
   "cell_type": "code",
   "execution_count": 1,
   "id": "e19c6728-5df1-4751-8c29-6d288e65b4bc",
   "metadata": {},
   "outputs": [],
   "source": [
    "import pandas as pd\n",
    "import os"
   ]
  },
  {
   "cell_type": "markdown",
   "id": "d3d1d242-e45f-481e-be7a-797df29d0a12",
   "metadata": {},
   "source": [
    "## Scan Through All Omega Files and Print out a List of Lists"
   ]
  },
  {
   "cell_type": "code",
   "execution_count": 2,
   "id": "bb47e3bf-4d32-423c-bf8b-c96b4b0f7b56",
   "metadata": {
    "tags": []
   },
   "outputs": [],
   "source": [
    "cwd = \"/global/cscratch1/sd/joeschm/AUG/efit2\"\n",
    "\n",
    "scanfile_list = os.listdir(cwd)\n",
    "omega_list = []\n",
    "\n",
    "for scanfile in scanfile_list: #run through list of scanfiles\n",
    "    scanfile_path = cwd + \"/\" + scanfile\n",
    "    os.chdir(scanfile_path) #enter into scanfile directory\n",
    "    #print(os.getcwd())\n",
    "\n",
    "    for filename in os.listdir(os.getcwd()):\n",
    "        if filename.startswith(\"omega_\"):\n",
    "            data = open(filename, \"r\") #read omega file\n",
    "            line = data.readline() #read first line of data file\n",
    "            data.close() #close data file\n",
    "\n",
    "            sline = line.split() #split line into separate strings\n",
    "            sline = list(map(float, sline)) #convert string list to float list\n",
    "\n",
    "            if sline[1] != 0: #proceed if growth rate isn't 0 or is considered stable\n",
    "                omega_list.append(sline) #append to the omega_list\n",
    "\n"
   ]
  },
  {
   "cell_type": "code",
   "execution_count": 3,
   "id": "ab2e20ee-2370-4ea1-9963-48e3e5d0c411",
   "metadata": {},
   "outputs": [
    {
     "name": "stdout",
     "output_type": "stream",
     "text": [
      "[[40.0, 45.572234483960166, -14.983221739730883], [80.0, 115.39250480799706, -168.61398530779758], [120.0, 129.45151343363193, -442.15960357097015], [160.0, 105.32043000902966, -487.3803853797201], [40.0, 46.434109716840574, -12.869200585857183], [10.0, -16.49138554064489, 7.138913539354235], [120.0, 129.4515134336319, 16.467061186484028], [60.0, 85.33247031412196, -25.10048388392967], [160.0, 105.32043000902968, 55.44339925796582], [20.0, 10.906244186811671, -4.008793143004874], [80.0, 115.39250480799711, 18.943785055911356], [50.0, 63.317691613127046, -0.2874733707962682], [240.0, 42.40520684794694, -19.860805151976066], [40.0, 46.43410967541413, -12.869200489228442]]\n"
     ]
    }
   ],
   "source": [
    "print(omega_list)\n"
   ]
  }
 ],
 "metadata": {
  "kernelspec": {
   "display_name": "Python 3",
   "language": "python",
   "name": "python3"
  },
  "language_info": {
   "codemirror_mode": {
    "name": "ipython",
    "version": 3
   },
   "file_extension": ".py",
   "mimetype": "text/x-python",
   "name": "python",
   "nbconvert_exporter": "python",
   "pygments_lexer": "ipython3",
   "version": "3.7.4"
  }
 },
 "nbformat": 4,
 "nbformat_minor": 5
}
