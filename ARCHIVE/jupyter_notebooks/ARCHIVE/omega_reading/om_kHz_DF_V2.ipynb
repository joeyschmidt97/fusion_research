{
 "cells": [
  {
   "cell_type": "markdown",
   "id": "8d751303-0727-41ef-b7ea-fe626d365781",
   "metadata": {},
   "source": [
    "### Import Necessary Libraries"
   ]
  },
  {
   "cell_type": "code",
   "execution_count": 1,
   "id": "e19c6728-5df1-4751-8c29-6d288e65b4bc",
   "metadata": {},
   "outputs": [],
   "source": [
    "import sys\n",
    "\n",
    "script_path = '/global/u1/j/joeschm/jojo_github/ST_research/coding_tools'\n",
    "sys.path.insert(1, script_path)\n",
    "from omega_to_df_plotting import omega_df, plot_omega_gamma, mode_structures_of_points\n",
    "# from scanfile_tools import display_scanfile_info, which_scanfiles"
   ]
  },
  {
   "cell_type": "code",
   "execution_count": null,
   "id": "791fe86f-23d9-4b7d-9df7-54c8d90495f1",
   "metadata": {},
   "outputs": [],
   "source": [
    "filepath = \"/global/cscratch1/sd/joeschm/ST_research/NSTXU/129038/Impurities_NE_top\"\n",
    "\n",
    "criteria_list = []\n",
    "displayed_outputs = ['nz0', 'hyp_z', 'x0', 'kymin']\n",
    "Imp_NE_top_129038 = omega_df(filepath, criteria_list, displayed_outputs)\n",
    "\n",
    "df_dict= {'129038 - NE': {'dict': Imp_NE_top_129038, 'marker_style': '+', 'size': 100, 'color': 'red'}}\n",
    "plot_omega_gamma(df_dict)\n",
    "\n",
    "\n",
    "display(Imp_NE_top_129038)\n",
    "\n",
    "mode_structures_of_points(filepath, criteria_list, displayed_outputs, Imp_NE_top_129038, [2,1])"
   ]
  },
  {
   "cell_type": "code",
   "execution_count": null,
   "id": "67a3ba60-f67c-4bc4-94c5-ce7fcaa5b627",
   "metadata": {},
   "outputs": [],
   "source": []
  },
  {
   "cell_type": "code",
   "execution_count": null,
   "id": "99fcd895-0ec9-49fd-a0ff-355027ee5ddd",
   "metadata": {},
   "outputs": [],
   "source": [
    "filepath = '/global/cscratch1/sd/joeschm/ST_research/NSTXU/129038/Impurities_OM_top'\n",
    "\n",
    "criteria_list = []\n",
    "displayed_outputs = ['nz0', 'x0'] \n",
    "Imp_OM_top_129038 = omega_df(filepath, criteria_list, displayed_outputs)\n",
    "\n",
    "df_dict= {'129038 - OM': {'dict': Imp_OM_top_129038, 'marker_style': '+', 'size': 100, 'color': 'red'}}\n",
    "plot_omega_gamma(df_dict)\n",
    "\n",
    "display(Imp_OM_top_129038)\n",
    "\n",
    "# mode_structures_of_points(filepath, criteria_list, displayed_outputs, Imp_OM_top_129038, [2,1])"
   ]
  },
  {
   "cell_type": "code",
   "execution_count": 9,
   "id": "0b7062fa-82f9-41e8-9beb-7c2aea35ed92",
   "metadata": {},
   "outputs": [
    {
     "data": {
      "text/html": [
       "<div>\n",
       "<style scoped>\n",
       "    .dataframe tbody tr th:only-of-type {\n",
       "        vertical-align: middle;\n",
       "    }\n",
       "\n",
       "    .dataframe tbody tr th {\n",
       "        vertical-align: top;\n",
       "    }\n",
       "\n",
       "    .dataframe thead th {\n",
       "        text-align: right;\n",
       "    }\n",
       "</style>\n",
       "<table border=\"1\" class=\"dataframe\">\n",
       "  <thead>\n",
       "    <tr style=\"text-align: right;\">\n",
       "      <th></th>\n",
       "    </tr>\n",
       "  </thead>\n",
       "  <tbody>\n",
       "  </tbody>\n",
       "</table>\n",
       "</div>"
      ],
      "text/plain": [
       "Empty DataFrame\n",
       "Columns: []\n",
       "Index: []"
      ]
     },
     "metadata": {},
     "output_type": "display_data"
    },
    {
     "ename": "AttributeError",
     "evalue": "'DataFrame' object has no attribute 'scanfile'",
     "output_type": "error",
     "traceback": [
      "\u001b[0;31m---------------------------------------------------------------------------\u001b[0m",
      "\u001b[0;31mAttributeError\u001b[0m                            Traceback (most recent call last)",
      "\u001b[0;32m/tmp/ipykernel_37377/873822216.py\u001b[0m in \u001b[0;36m<module>\u001b[0;34m\u001b[0m\n\u001b[1;32m      7\u001b[0m \u001b[0mdisplay\u001b[0m\u001b[0;34m(\u001b[0m\u001b[0mImp_PE_top_129038\u001b[0m\u001b[0;34m)\u001b[0m\u001b[0;34m\u001b[0m\u001b[0;34m\u001b[0m\u001b[0m\n\u001b[1;32m      8\u001b[0m \u001b[0;34m\u001b[0m\u001b[0m\n\u001b[0;32m----> 9\u001b[0;31m \u001b[0mmode_structures_of_points\u001b[0m\u001b[0;34m(\u001b[0m\u001b[0mfilepath\u001b[0m\u001b[0;34m,\u001b[0m \u001b[0mcriteria_list\u001b[0m\u001b[0;34m,\u001b[0m \u001b[0mdisplayed_outputs\u001b[0m\u001b[0;34m,\u001b[0m \u001b[0mImp_PE_top_129038\u001b[0m\u001b[0;34m,\u001b[0m \u001b[0;34m[\u001b[0m\u001b[0;36m2\u001b[0m\u001b[0;34m,\u001b[0m\u001b[0;36m1\u001b[0m\u001b[0;34m]\u001b[0m\u001b[0;34m)\u001b[0m\u001b[0;34m\u001b[0m\u001b[0;34m\u001b[0m\u001b[0m\n\u001b[0m",
      "\u001b[0;32m/global/u1/j/joeschm/jojo_github/ST_research/coding_tools/omega_to_df_plotting.py\u001b[0m in \u001b[0;36mmode_structures_of_points\u001b[0;34m(filepath, criteria_list, displayed_outputs, discharge_df, range_list)\u001b[0m\n\u001b[1;32m    206\u001b[0m \u001b[0;32mdef\u001b[0m \u001b[0mmode_structures_of_points\u001b[0m\u001b[0;34m(\u001b[0m\u001b[0mfilepath\u001b[0m\u001b[0;34m,\u001b[0m \u001b[0mcriteria_list\u001b[0m\u001b[0;34m,\u001b[0m \u001b[0mdisplayed_outputs\u001b[0m\u001b[0;34m,\u001b[0m \u001b[0mdischarge_df\u001b[0m\u001b[0;34m,\u001b[0m \u001b[0mrange_list\u001b[0m\u001b[0;34m)\u001b[0m\u001b[0;34m:\u001b[0m\u001b[0;34m\u001b[0m\u001b[0;34m\u001b[0m\u001b[0m\n\u001b[1;32m    207\u001b[0m \u001b[0;34m\u001b[0m\u001b[0m\n\u001b[0;32m--> 208\u001b[0;31m     \u001b[0mscanfile_suffix_list\u001b[0m \u001b[0;34m=\u001b[0m \u001b[0mlist\u001b[0m\u001b[0;34m(\u001b[0m\u001b[0mzip\u001b[0m\u001b[0;34m(\u001b[0m\u001b[0mdischarge_df\u001b[0m\u001b[0;34m.\u001b[0m\u001b[0mscanfile\u001b[0m\u001b[0;34m,\u001b[0m \u001b[0mdischarge_df\u001b[0m\u001b[0;34m.\u001b[0m\u001b[0msuffix\u001b[0m\u001b[0;34m)\u001b[0m\u001b[0;34m)\u001b[0m\u001b[0;34m\u001b[0m\u001b[0;34m\u001b[0m\u001b[0m\n\u001b[0m\u001b[1;32m    209\u001b[0m \u001b[0;34m\u001b[0m\u001b[0m\n\u001b[1;32m    210\u001b[0m     \u001b[0;32mfor\u001b[0m \u001b[0mentry\u001b[0m \u001b[0;32min\u001b[0m \u001b[0mscanfile_suffix_list\u001b[0m\u001b[0;34m:\u001b[0m\u001b[0;34m\u001b[0m\u001b[0;34m\u001b[0m\u001b[0m\n",
      "\u001b[0;32m/global/common/software/nersc/cori-2022q1/sw/python/3.9-anaconda-2021.11/lib/python3.9/site-packages/pandas/core/generic.py\u001b[0m in \u001b[0;36m__getattr__\u001b[0;34m(self, name)\u001b[0m\n\u001b[1;32m   5581\u001b[0m         ):\n\u001b[1;32m   5582\u001b[0m             \u001b[0;32mreturn\u001b[0m \u001b[0mself\u001b[0m\u001b[0;34m[\u001b[0m\u001b[0mname\u001b[0m\u001b[0;34m]\u001b[0m\u001b[0;34m\u001b[0m\u001b[0;34m\u001b[0m\u001b[0m\n\u001b[0;32m-> 5583\u001b[0;31m         \u001b[0;32mreturn\u001b[0m \u001b[0mobject\u001b[0m\u001b[0;34m.\u001b[0m\u001b[0m__getattribute__\u001b[0m\u001b[0;34m(\u001b[0m\u001b[0mself\u001b[0m\u001b[0;34m,\u001b[0m \u001b[0mname\u001b[0m\u001b[0;34m)\u001b[0m\u001b[0;34m\u001b[0m\u001b[0;34m\u001b[0m\u001b[0m\n\u001b[0m\u001b[1;32m   5584\u001b[0m \u001b[0;34m\u001b[0m\u001b[0m\n\u001b[1;32m   5585\u001b[0m     \u001b[0;32mdef\u001b[0m \u001b[0m__setattr__\u001b[0m\u001b[0;34m(\u001b[0m\u001b[0mself\u001b[0m\u001b[0;34m,\u001b[0m \u001b[0mname\u001b[0m\u001b[0;34m:\u001b[0m \u001b[0mstr\u001b[0m\u001b[0;34m,\u001b[0m \u001b[0mvalue\u001b[0m\u001b[0;34m)\u001b[0m \u001b[0;34m->\u001b[0m \u001b[0;32mNone\u001b[0m\u001b[0;34m:\u001b[0m\u001b[0;34m\u001b[0m\u001b[0;34m\u001b[0m\u001b[0m\n",
      "\u001b[0;31mAttributeError\u001b[0m: 'DataFrame' object has no attribute 'scanfile'"
     ]
    }
   ],
   "source": [
    "filepath = \"/global/cscratch1/sd/joeschm/ST_research/NSTXU/129038/Impurities_PE_top\"\n",
    "\n",
    "Imp_PE_top_129038 = omega_df(filepath, [], [])\n",
    "df_dict= {'129038 - OM': {'dict': Imp_PE_top_129038, 'marker_style': '+', 'size': 100, 'color': 'red'}}\n",
    "# plot_omega_gamma(df_dict)\n",
    "\n",
    "display(Imp_PE_top_129038)\n",
    "\n",
    "mode_structures_of_points(filepath, criteria_list, displayed_outputs, Imp_PE_top_129038, [2,1])"
   ]
  },
  {
   "cell_type": "code",
   "execution_count": 10,
   "id": "1cc3e9b9-298f-46e6-9679-739cbdee871e",
   "metadata": {},
   "outputs": [
    {
     "name": "stdout",
     "output_type": "stream",
     "text": [
      "/global/cscratch1/sd/joeschm/ST_research/NSTXU/129038/Impurities_PE_top\n"
     ]
    }
   ],
   "source": [
    "cd $filepath"
   ]
  },
  {
   "cell_type": "code",
   "execution_count": 11,
   "id": "ac4d7553-e780-4c02-8117-0f7bf815c610",
   "metadata": {},
   "outputs": [
    {
     "name": "stdout",
     "output_type": "stream",
     "text": [
      "total 52\n",
      "drwxrwx--- 3 joeschm 4096 Aug 19 17:01 \u001b[0m\u001b[01;34mX_scanfiles0000\u001b[0m/\n",
      "drwxrwx--- 3 joeschm 4096 Aug 21 02:05 \u001b[01;34mX_scanfiles0001\u001b[0m/\n",
      "drwxrwx--- 3 joeschm 4096 Sep  4 19:55 \u001b[01;34mX_scanfiles0002\u001b[0m/\n",
      "drwxrwx--- 3 joeschm 4096 Sep  3 19:39 \u001b[01;34mX_scanfiles0003\u001b[0m/\n",
      "drwxrwx--- 3 joeschm 4096 Sep  4 20:32 \u001b[01;34mscanfiles0000\u001b[0m/\n",
      "drwxrwx--- 3 joeschm 4096 Sep  4 20:34 \u001b[01;34mscanfiles0001\u001b[0m/\n",
      "drwxrwx--- 3 joeschm 4096 Sep  4 20:43 \u001b[01;34mscanfiles0002\u001b[0m/\n",
      "drwxrwx--- 3 joeschm 4096 Sep  4 20:52 \u001b[01;34mscanfiles0003\u001b[0m/\n",
      "drwxrwx--- 3 joeschm 4096 Sep  4 20:08 \u001b[01;34mscanfiles0004\u001b[0m/\n",
      "drwxrwx--- 3 joeschm 4096 Sep  4 20:56 \u001b[01;34mscanfiles0005\u001b[0m/\n",
      "drwxrwx--- 3 joeschm 4096 Sep  5 21:54 \u001b[01;34mscanfiles0006\u001b[0m/\n",
      "drwxrwx--- 3 joeschm 4096 Sep  6 09:41 \u001b[01;34mscanfiles0007\u001b[0m/\n",
      "drwxrwx--- 3 joeschm 4096 Sep  6 09:52 \u001b[01;34mscanfiles0008\u001b[0m/\n"
     ]
    }
   ],
   "source": [
    "ll"
   ]
  },
  {
   "cell_type": "code",
   "execution_count": null,
   "id": "fe3ef1aa-a9c3-4445-8763-a89ee1ad714b",
   "metadata": {},
   "outputs": [],
   "source": []
  },
  {
   "cell_type": "code",
   "execution_count": null,
   "id": "ef379487-a001-4839-9425-435af07c36ff",
   "metadata": {},
   "outputs": [],
   "source": []
  }
 ],
 "metadata": {
  "kernelspec": {
   "display_name": "NERSC Python",
   "language": "python",
   "name": "python3"
  },
  "language_info": {
   "codemirror_mode": {
    "name": "ipython",
    "version": 3
   },
   "file_extension": ".py",
   "mimetype": "text/x-python",
   "name": "python",
   "nbconvert_exporter": "python",
   "pygments_lexer": "ipython3",
   "version": "3.9.7"
  }
 },
 "nbformat": 4,
 "nbformat_minor": 5
}
