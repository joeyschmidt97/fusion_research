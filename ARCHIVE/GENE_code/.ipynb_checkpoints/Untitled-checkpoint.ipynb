{
 "cells": [
  {
   "cell_type": "code",
   "execution_count": 5,
   "id": "20b9acd2-ca63-49d0-a6d9-9413bb7bc34f",
   "metadata": {},
   "outputs": [],
   "source": [
    "# import os\n",
    "# import sys\n",
    "# sys.path.insert(1, '/global/u1/j/joeschm/fusion_research/GENE_code')\n",
    "\n",
    "# from GP_param_data import param_filepath_to_dict, filepath_to_param_df, print_parameter"
   ]
  },
  {
   "cell_type": "code",
   "execution_count": 1,
   "id": "90ded28c-edc1-4393-82fe-0409b36c059d",
   "metadata": {
    "tags": []
   },
   "outputs": [],
   "source": [
    "# # omn2 (e) > 1\n",
    "# #null: 129015 NE, PE,\n",
    "# #Valid: 129015 OM - omn2 : 12.10412\n",
    "\n",
    "# base_filepath = '/pscratch/sd/j/joeschm/NSXTU_discharges/129015/r_0.936008_OM_top/kymin_scan'\n",
    "\n",
    "# filepath_list = os.listdir(base_filepath)\n",
    "\n",
    "# for dir_filepath in filepath_list:\n",
    "    \n",
    "#     filepath = os.path.join(base_filepath, dir_filepath)\n",
    "\n",
    "#     print_parameter(filepath, ['filepath','kymin','name2','omn2', 'beta', 'coll'])"
   ]
  },
  {
   "cell_type": "code",
   "execution_count": 2,
   "id": "d7b3493b-5558-4e70-8159-eb8a7ffcf688",
   "metadata": {},
   "outputs": [],
   "source": [
    "# scan_filepath = '/pscratch/sd/j/joeschm/NSXTU_discharges/129015/r_0.870001_PE_top/kymin_scan_nz0_256/scanfiles0000/'\n",
    "# filepath = scan_filepath + 'parameters_0001'"
   ]
  },
  {
   "cell_type": "code",
   "execution_count": 3,
   "id": "e62d441d-67f2-4ddd-b32e-2fe5694065f1",
   "metadata": {
    "tags": []
   },
   "outputs": [],
   "source": [
    "# # param_dict = param_filepath_to_dict(filepath)\n",
    "# # path = '/pscratch/sd/j/joeschm/NSXTU_discharges/129015/r_0.870001_PE_top/kymin_scan_nz0_256'\n",
    "\n",
    "# base_filepath1 = '/pscratch/sd/j/joeschm/NSXTU_discharges/129015/r_0.850026_NE_top'\n",
    "# base_filepath2 = '/pscratch/sd/j/joeschm/NSXTU_discharges/129015/r_0.870001_PE_top'\n",
    "# base_filepath3 = '/pscratch/sd/j/joeschm/NSXTU_discharges/129015/r_0.936008_OM_top'\n",
    "\n",
    "# base_filepath4 = '/pscratch/sd/j/joeschm/NSXTU_discharges/129038/r_0.499925_PE_top'\n",
    "# base_filepath5 = '/pscratch/sd/j/joeschm/NSXTU_discharges/129038/r_0.655012_NE_top'\n",
    "# base_filepath6 = '/pscratch/sd/j/joeschm/NSXTU_discharges/129038/r_0.909990_OM_top'\n",
    "\n",
    "# base_list = [base_filepath1, base_filepath2, base_filepath3, base_filepath4, base_filepath5, base_filepath6]\n",
    "\n",
    "\n",
    "# # base_list = [base_filepath1]\n",
    "\n",
    "\n",
    "# for base_filepath in base_list:\n",
    "#     print('#################################################################')\n",
    "#     print(base_filepath)\n",
    "#     print('#################################################################\\n')\n",
    "    \n",
    "#     filelist = os.listdir(base_filepath)\n",
    "#     filelist.sort()\n",
    "#     for path_add in filelist:\n",
    "        \n",
    "#         if 'kymin_scan' in path_add:\n",
    "#             path = os.path.join(base_filepath, path_add) #get the absolute file path\n",
    "            \n",
    "#             # path = base_filepath +  path_add\n",
    "#             print(path)\n",
    "#             df = filepath_to_param_df(path, ['nx0', 'nz0', 'nv0', 'nw0', 'kymin'])\n",
    "#             df_without_filepath = df.drop(['filepath'], axis=1)\n",
    "#             print(df_without_filepath, '\\n\\n')\n",
    "\n",
    "# # path = base_filepath +  '/kymin_scan_nz0_256'\n",
    "# # filepath_to_param_df(path, ['nx0','nz0', 'nv0', 'nw0', 'kymin'])\n",
    "# # path = base_filepath +  '/kymin_scan_nx0_14'\n",
    "# # filepath_to_param_df(path, ['nx0','nz0', 'nv0', 'nw0', 'kymin'])\n",
    "# # path = base_filepath +  '/kymin_scan_nv0_72'\n",
    "# # filepath_to_param_df(path, ['nx0','nz0', 'nv0', 'nw0', 'kymin'])\n",
    "# # path = base_filepath +  '/kymin_scan_nw0_16'\n",
    "# # filepath_to_param_df(path, ['nx0','nz0', 'nv0', 'nw0', 'kymin'])\n",
    "\n",
    "# # filepath_to_param_df(path, ['nx0','nz0', 'nv0', 'nw0', 'kymin'])\n",
    "# # print(df)"
   ]
  },
  {
   "cell_type": "code",
   "execution_count": null,
   "id": "f16802ad-334c-4c12-afb1-66917c2d239f",
   "metadata": {
    "tags": []
   },
   "outputs": [],
   "source": [
    "# Create function to get percent different between two datasets"
   ]
  },
  {
   "cell_type": "code",
   "execution_count": null,
   "id": "3b9ee00a-6a35-4d28-9ffd-10996d4f868e",
   "metadata": {},
   "outputs": [],
   "source": []
  },
  {
   "cell_type": "code",
   "execution_count": null,
   "id": "f4005763-098b-4143-a4b1-81ed54e1b3b5",
   "metadata": {},
   "outputs": [],
   "source": []
  },
  {
   "cell_type": "code",
   "execution_count": 126,
   "id": "2499e316-6d4b-49b9-89da-b599ea6ee156",
   "metadata": {},
   "outputs": [],
   "source": [
    "def plot_points(ref_x_list, ref_y_list, x_list, y_list):\n",
    "    plt.figure(figsize=(10, 6))\n",
    "\n",
    "    # Plot reference points\n",
    "    plt.plot(ref_x_list, ref_y_list, 'bo-', label='Reference Points')\n",
    "\n",
    "    # Plot other points\n",
    "    plt.plot(x_list, y_list, 'ro-', label='Other Points')\n",
    "\n",
    "    # Plot percent difference as a bar plot\n",
    "    # plt.bar(x_list, percent_diff_values, alpha=0.5, width=0.3, align='center', label='Percent Difference')\n",
    "\n",
    "    plt.xlabel('X')\n",
    "    plt.ylabel('Y')\n",
    "    plt.legend()\n",
    "    plt.grid(True)\n",
    "    plt.show()"
   ]
  },
  {
   "cell_type": "code",
   "execution_count": 127,
   "id": "6eb9a5f0-079a-409d-880e-3bd8d95e0653",
   "metadata": {
    "tags": []
   },
   "outputs": [],
   "source": [
    "def mod_plot_points(ref_x_list, ref_y_list, x_list, y_list):\n",
    "    \n",
    "    x_combined = ref_x_list + x_list\n",
    "    x_combined = [*set(x_combined)]\n",
    "    x_combined = sorted(x_combined)\n",
    "    \n",
    "    MOD_ref_y_list = interpolate_points(x_combined, ref_x_list, ref_y_list)\n",
    "    MOD_y_list = interpolate_points(x_combined, x_list, y_list)\n",
    "    \n",
    "    \n",
    "    plt.figure(figsize=(10, 6))\n",
    "    \n",
    "    # Plot reference points\n",
    "    plt.plot(x_combined, MOD_ref_y_list, 'bo-', label='Reference Points')\n",
    "\n",
    "    # Plot other points\n",
    "    plt.plot(x_combined, MOD_y_list, 'ro-', label='Other Points')\n",
    "\n",
    "    # Plot percent difference as a bar plot\n",
    "    # plt.bar(x_list, percent_diff_values, alpha=0.5, width=0.3, align='center', label='Percent Difference')\n",
    "\n",
    "    plt.xlabel('X')\n",
    "    plt.ylabel('Y')\n",
    "    plt.legend()\n",
    "    plt.grid(True)\n",
    "    plt.show()"
   ]
  },
  {
   "cell_type": "code",
   "execution_count": 140,
   "id": "f8c82761-05c2-40ae-b2e0-f6d1740260d3",
   "metadata": {
    "tags": []
   },
   "outputs": [],
   "source": [
    "def interpolate_points(X_MERGE, x_list, y_list):\n",
    "    print(X_MERGE)\n",
    "    print(x_list, y_list)\n",
    "    \n",
    "    Y_MERGE = []\n",
    "    \n",
    "    for i, X in enumerate(X_MERGE):\n",
    "        closest_x = min(x_list, key=lambda x:abs(x - X))\n",
    "        closest_x_i = x_list.index(closest_x)\n",
    "        \n",
    "        delta_x = X - closest_x\n",
    "        \n",
    "        in_between = True\n",
    "        \n",
    "        if (X == closest_x):\n",
    "            in_between = False\n",
    "            Y_int = y_list[closest_x_i]\n",
    "        \n",
    "        elif (X < x_list[0]):\n",
    "            in_between = False\n",
    "            x_back = x_list[0]\n",
    "            y_back = y_list[0]\n",
    "            x_front = x_list[1]\n",
    "            y_front = y_list[1]\n",
    "            \n",
    "            m = (y_front - y_back)/(x_front - x_back)\n",
    "            Y_int = m*delta_x + y_back\n",
    "            \n",
    "        elif (X > x_list[-1]):\n",
    "            in_between = False\n",
    "            x_back = x_list[-2]\n",
    "            y_back = y_list[-2]\n",
    "            x_front = x_list[-1]\n",
    "            y_front = y_list[-1]\n",
    "            \n",
    "            m = (y_front - y_back)/(x_front - x_back)\n",
    "            Y_int = m*delta_x + y_front\n",
    "            \n",
    "        elif (delta_x < 0) and in_between:       \n",
    "            # print('left')\n",
    "            \n",
    "            x_back = x_list[closest_x_i - 1]\n",
    "            y_back = y_list[closest_x_i - 1]\n",
    "            x_front = x_list[closest_x_i]\n",
    "            y_front = y_list[closest_x_i]\n",
    "            \n",
    "            m = (y_front - y_back)/(x_front - x_back)\n",
    "            Y_int = m*delta_x + y_front\n",
    "            \n",
    "        elif (delta_x > 0) and in_between:\n",
    "            # print('right')\n",
    "            \n",
    "            x_back = x_list[closest_x_i]\n",
    "            y_back = y_list[closest_x_i]\n",
    "            x_front = x_list[closest_x_i + 1]\n",
    "            y_front = y_list[closest_x_i + 1]\n",
    "            \n",
    "            m = (y_front - y_back)/(x_front - x_back)\n",
    "            Y_int = m*delta_x + y_back\n",
    "        \n",
    "        Y_MERGE.append(Y_int)\n",
    "    \n",
    "    \n",
    "    return Y_MERGE"
   ]
  },
  {
   "cell_type": "code",
   "execution_count": null,
   "id": "6d145586-8f60-4067-9330-e63784deb9e6",
   "metadata": {
    "tags": []
   },
   "outputs": [],
   "source": []
  },
  {
   "cell_type": "code",
   "execution_count": 145,
   "id": "62423575-f25b-4e1a-acf7-924a78fbc5eb",
   "metadata": {
    "tags": []
   },
   "outputs": [
    {
     "data": {
      "image/png": "[encoded data removed]",
      "text/plain": [
       "<Figure size 720x432 with 1 Axes>"
      ]
     },
     "metadata": {
      "needs_background": "light"
     },
     "output_type": "display_data"
    },
    {
     "name": "stdout",
     "output_type": "stream",
     "text": [
      "[-3, -1.5, -1, 0, 1, 2.5, 3, 3.2, 3.5, 5]\n",
      "[-1.5, 0, 1, 2.5, 3.2, 5] [5, 7, 2, 1, -1, 2]\n",
      "[-3, -1.5, -1, 0, 1, 2.5, 3, 3.2, 3.5, 5]\n",
      "[-3, -1, 0, 3, 3.5] [4, 3, 2, 4, 5.3]\n"
     ]
    },
    {
     "data": {
      "image/png": "[encoded data removed]",
      "text/plain": [
       "<Figure size 720x432 with 1 Axes>"
      ]
     },
     "metadata": {
      "needs_background": "light"
     },
     "output_type": "display_data"
    }
   ],
   "source": [
    "# Example usage\n",
    "ref_x_list = [-1.5, 0, 1, 2.5, 3.2, 5]\n",
    "ref_y_list = [5, 7, 2, 1, -1, 2]\n",
    "x_list = [-3, -1, 0, 3, 3.5]\n",
    "y_list = [4, 3, 2, 4, 5.3]\n",
    "\n",
    "\n",
    "# x_combined = ref_x_list + x_list\n",
    "# x_combined = [*set(x_combined)]\n",
    "# x_combined = sorted(x_combined)\n",
    "\n",
    "\n",
    "plot_points(ref_x_list, ref_y_list, x_list, y_list)\n",
    "\n",
    "mod_plot_points(ref_x_list, ref_y_list, x_list, y_list)\n"
   ]
  },
  {
   "cell_type": "code",
   "execution_count": null,
   "id": "ad4cd5bc-d836-4776-bd97-10a0fde6e1ab",
   "metadata": {},
   "outputs": [],
   "source": []
  },
  {
   "cell_type": "code",
   "execution_count": 40,
   "id": "149fb12b-6d14-4eec-a25f-ab00cd973637",
   "metadata": {
    "tags": []
   },
   "outputs": [
    {
     "name": "stdout",
     "output_type": "stream",
     "text": [
      "steps:\n",
      " [ 30.  60.  90. 120. 150. 180. 210. 240. 270. 300. 330. 360. 390. 420.\n",
      " 450. 480. 510. 540. 570. 600. 630. 660. 690. 720. 750. 780. 810. 840.\n",
      " 870. 900. 930. 960.]\n",
      "size: 32\n"
     ]
    }
   ],
   "source": [
    "kymin = 30\n",
    "nky0 = 32\n",
    "\n",
    "kymax = kymin*nky0\n",
    "\n",
    "ky_range = np.linspace(kymin, kymax, nky0)\n",
    "\n",
    "print('steps:\\n', ky_range)\n",
    "print('size:', len(ky_range))\n",
    "\n",
    "# for i in range(kymax/kymin):\n",
    "#     print(i+1)"
   ]
  },
  {
   "cell_type": "code",
   "execution_count": null,
   "id": "1456f5c7-3b93-41c8-89cc-bb2624e21a40",
   "metadata": {},
   "outputs": [],
   "source": []
  }
 ],
 "metadata": {
  "kernelspec": {
   "display_name": "NERSC Python",
   "language": "python",
   "name": "python3"
  },
  "language_info": {
   "codemirror_mode": {
    "name": "ipython",
    "version": 3
   },
   "file_extension": ".py",
   "mimetype": "text/x-python",
   "name": "python",
   "nbconvert_exporter": "python",
   "pygments_lexer": "ipython3",
   "version": "3.9.7"
  }
 },
 "nbformat": 4,
 "nbformat_minor": 5
}
