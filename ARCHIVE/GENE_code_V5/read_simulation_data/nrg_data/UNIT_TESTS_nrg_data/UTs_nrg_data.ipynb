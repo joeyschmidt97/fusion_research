{
 "cells": [
  {
   "cell_type": "code",
   "execution_count": 1,
   "metadata": {},
   "outputs": [],
   "source": [
    "import os\n",
    "os.chdir(\"..\")\n",
    "from GP_nrg_data_V4 import nrg_filepath_to_dict, create_nrg_coordinate_list, extract_nrg_data"
   ]
  },
  {
   "cell_type": "code",
   "execution_count": 2,
   "metadata": {},
   "outputs": [],
   "source": [
    "test_dir = '/pscratch/sd/j/joeschm/NSXTU_discharges/X_TEST'"
   ]
  },
  {
   "cell_type": "markdown",
   "metadata": {},
   "source": [
    "# Working examples"
   ]
  },
  {
   "cell_type": "code",
   "execution_count": 3,
   "metadata": {},
   "outputs": [
    {
     "name": "stdout",
     "output_type": "stream",
     "text": [
      "filepath /pscratch/sd/j/joeschm/NSXTU_discharges/X_TEST/TEST_3spec_k1/nrg.dat\n",
      "time [0.      0.00646 0.01292 0.01938 0.02584 0.0323 ]\n",
      "Q_ES2 [0.0, 0.0010691, 0.0017031, 0.0020024, 0.002149, 0.0022431]\n",
      "Q_EM2 [0.0, -1.2315e-05, 6.4574e-06, 5.0712e-05, 0.00010048, 0.00014423]\n",
      "Pi_EM2 [0.0, 1.4232e-07, -2.8311e-07, -9.9886e-07, -1.8788e-06, -2.885e-06]\n",
      "Q_ES3 [0.0, 1.7074e-06, 2.5221e-06, 2.4059e-06, 1.6044e-06, 2.575e-07]\n",
      "Q_EM3 [0.0, 4.9471e-08, 9.2081e-08, 1.2576e-07, 1.4796e-07, 1.5592e-07]\n",
      "Pi_EM3 [0.0, -2.4999e-08, -3.9644e-08, -5.4703e-08, -7.5075e-08, -1.0129e-07]\n",
      "~~~~~~~~~~~~~~~~~~~~\n",
      "filepath /pscratch/sd/j/joeschm/NSXTU_discharges/X_TEST/TEST_3spec_k1/nrg.dat\n",
      "time [41.36338]\n",
      "n_mag1 [8.9598e-05]\n",
      "Q_ES1 [1.5588e-06]\n",
      "Q_EM1 [-1.3752e-08]\n",
      "n_mag2 [1.22e-06]\n",
      "Q_ES2 [4.4109e-07]\n",
      "Q_EM2 [-1.9842e-07]\n",
      "n_mag3 [0.0016529]\n",
      "Q_ES3 [-5.9983e-07]\n",
      "Q_EM3 [1.6704e-09]\n",
      "~~~~~~~~~~~~~~~~~~~~\n",
      "filepath /pscratch/sd/j/joeschm/NSXTU_discharges/X_TEST/TEST_3spec_k1/nrg.dat\n",
      "time [0.      0.00646 0.01292 0.01938 0.02584 0.0323  0.03876 0.04522 0.05168\n",
      " 0.05814 0.0646  0.07106 0.07752 0.08398 0.09044 0.0969 ]\n",
      "n_mag1 [0.031353, 0.030231, 0.028001, 0.025692, 0.023713, 0.022132, 0.0209, 0.019945, 0.0192, 0.018611, 0.018138, 0.017751, 0.017426, 0.017145, 0.016896, 0.016668]\n",
      "u_par_mag1 [4.7507e-35, 7.3172e-08, 2.9166e-07, 6.4726e-07, 1.1295e-06, 1.7306e-06, 2.4454e-06, 3.2697e-06, 4.1998e-06, 5.2317e-06, 6.3618e-06, 7.5846e-06, 8.8961e-06, 1.029e-05, 1.1763e-05, 1.3308e-05]\n",
      "T_par_mag1 [1.9468e-09, 2.0196e-05, 5.3556e-05, 8.1768e-05, 0.00010156, 0.00011422, 0.00012168, 0.00012573, 0.0001276, 0.00012813, 0.00012808, 0.00012768, 0.00012714, 0.00012679, 0.00012645, 0.00012624]\n",
      "T_perp_mag1 [0.00064557, 0.00063634, 0.00062213, 0.00060761, 0.00059462, 0.00058383, 0.00057534, 0.000569, 0.00056467, 0.00056226, 0.00056158, 0.00056244, 0.00056465, 0.00056808, 0.00057259, 0.00057801]\n",
      "Gamma_ES1 [0.0, -1.3062e-05, -5.3072e-05, -0.00010864, -0.00016299, -0.00021021, -0.00025236, -0.00029455, -0.00034155, -0.00039525, -0.00045598, -0.0005241, -0.00059958, -0.00068197, -0.00077053, -0.00086434]\n",
      "Gamma_EM1 [0.0, -6.421e-07, -1.3337e-06, -2.1145e-06, -3.0118e-06, -4.0477e-06, -5.2449e-06, -6.6298e-06, -8.2301e-06, -1.0066e-05, -1.2145e-05, -1.446e-05, -1.6998e-05, -1.9745e-05, -2.2681e-05, -2.5778e-05]\n",
      "Q_ES1 [0.0, 3.8436e-05, 3.0897e-05, -3.4671e-06, -3.936e-05, -6.857e-05, -9.3895e-05, -0.00012119, -0.00015546, -0.00019863, -0.00025104, -0.00031292, -0.00038417, -0.00046427, -0.00055233, -0.00064723]\n",
      "Q_EM1 [0.0, -4.614e-07, -1.0325e-06, -1.7804e-06, -2.7544e-06, -4.0002e-06, -5.5657e-06, -7.5034e-06, -9.8659e-06, -1.2691e-05, -1.5992e-05, -1.9759e-05, -2.3971e-05, -2.8602e-05, -3.3619e-05, -3.8973e-05]\n",
      "Pi_ES1 [0.0, 7.3241e-08, 1.2748e-07, 1.4752e-07, 7.1001e-08, -1.0465e-07, -3.3506e-07, -5.7524e-07, -8.0221e-07, -1.0158e-06, -1.2252e-06, -1.4483e-06, -1.699e-06, -2.0142e-06, -2.4121e-06, -2.8957e-06]\n",
      "Pi_EM1 [0.0, -1.2081e-07, -1.9105e-07, -2.5804e-07, -3.611e-07, -5.304e-07, -7.6909e-07, -1.0616e-06, -1.3843e-06, -1.7142e-06, -2.0385e-06, -2.3608e-06, -2.6932e-06, -3.0473e-06, -3.4294e-06, -3.8415e-06]\n",
      "n_mag2 [0.080458, 0.075774, 0.066757, 0.057605, 0.049868, 0.043753, 0.039034, 0.035411, 0.032616, 0.030443, 0.028734, 0.02737, 0.026257, 0.025325, 0.024524, 0.023816]\n",
      "u_par_mag2 [3.8647e-34, 0.00066039, 0.001502, 0.0023647, 0.0030408, 0.0034265, 0.0035196, 0.0033881, 0.0031169, 0.0027822, 0.0024417, 0.0021334, 0.0018767, 0.0016758, 0.0015253, 0.0014154]\n",
      "T_par_mag2 [1.4966e-08, 0.0071768, 0.015116, 0.017838, 0.017394, 0.015798, 0.014078, 0.012598, 0.01141, 0.010468, 0.0097097, 0.0090938, 0.0086029, 0.0082288, 0.0079676, 0.0078064]\n",
      "T_perp_mag2 [0.0030292, 0.0039233, 0.0062641, 0.0085627, 0.010017, 0.010664, 0.010726, 0.010419, 0.0099349, 0.0093904, 0.0088417, 0.008334, 0.0078963, 0.007535, 0.0072513, 0.0070441]\n",
      "Gamma_ES2 [0.0, -1.6902e-05, -6.1422e-05, -0.00012162, -0.00017927, -0.00022825, -0.00027145, -0.00031524, -0.00036545, -0.00042457, -0.0004931, -0.00057132, -0.00065903, -0.00075539, -0.00085923, -0.00096927]\n",
      "Gamma_EM2 [0.0, -5.0727e-07, -1.0741e-06, -1.7466e-06, -2.5616e-06, -3.551e-06, -4.7477e-06, -6.188e-06, -7.9083e-06, -9.9355e-06, -1.2278e-05, -1.4929e-05, -1.7873e-05, -2.109e-05, -2.4555e-05, -2.8234e-05]\n",
      "Q_ES2 [0.0, 0.0010691, 0.0017031, 0.0020024, 0.002149, 0.0022431, 0.0023228, 0.002395, 0.0024562, 0.0025059, 0.0025458, 0.0025738, 0.0025878, 0.0025886, 0.0025781, 0.0025566]\n",
      "Q_EM2 [0.0, -1.2315e-05, 6.4574e-06, 5.0712e-05, 0.00010048, 0.00014423, 0.00017734, 0.00020068, 0.00021673, 0.00022837, 0.00024095, 0.00025634, 0.00027268, 0.00028574, 0.00029499, 0.00029996]\n",
      "Pi_ES2 [0.0, 4.6893e-06, 7.9644e-06, 1.0378e-05, 1.1585e-05, 1.1567e-05, 1.0739e-05, 9.5993e-06, 8.4736e-06, 7.4553e-06, 6.5362e-06, 5.7109e-06, 4.9827e-06, 4.3612e-06, 3.8492e-06, 3.4386e-06]\n",
      "Pi_EM2 [0.0, 1.4232e-07, -2.8311e-07, -9.9886e-07, -1.8788e-06, -2.885e-06, -4.0034e-06, -5.2708e-06, -6.7223e-06, -8.3117e-06, -9.991e-06, -1.1714e-05, -1.3441e-05, -1.5145e-05, -1.6803e-05, -1.8429e-05]\n",
      "n_mag3 [0.5565, 0.51597, 0.43888, 0.3615, 0.29663, 0.2457, 0.20661, 0.17676, 0.15389, 0.13626, 0.12256, 0.11179, 0.10315, 0.096055, 0.090065, 0.084883]\n",
      "u_par_mag3 [9.8509e-35, 2.3374e-07, 9.3145e-07, 2.0869e-06, 3.6928e-06, 5.7424e-06, 8.2278e-06, 1.114e-05, 1.4466e-05, 1.8193e-05, 2.2303e-05, 2.6778e-05, 3.1599e-05, 3.6744e-05, 4.2193e-05, 4.7928e-05]\n",
      "T_par_mag3 [3.0533e-09, 4.8844e-05, 0.0001893, 0.00041077, 0.00070546, 0.0010681, 0.0014947, 0.0019828, 0.0025303, 0.0031355, 0.0037967, 0.0045124, 0.0052806, 0.0060998, 0.0069682, 0.0078839]\n",
      "T_perp_mag3 [0.0052764, 0.0056238, 0.0059331, 0.0062462, 0.006577, 0.0069263, 0.0072941, 0.0076822, 0.0080945, 0.0085342, 0.0090024, 0.0094983, 0.01002, 0.010565, 0.011132, 0.011719]\n",
      "Gamma_ES3 [0.0, -6.4015e-07, -1.3916e-06, -2.1629e-06, -2.714e-06, -3.0056e-06, -3.1819e-06, -3.4492e-06, -3.9841e-06, -4.8882e-06, -6.1869e-06, -7.8715e-06, -9.9087e-06, -1.2236e-05, -1.4783e-05, -1.7488e-05]\n",
      "Gamma_EM3 [0.0, 2.2471e-08, 4.3272e-08, 6.1311e-08, 7.5043e-08, 8.2791e-08, 8.287e-08, 7.3643e-08, 5.3636e-08, 2.1809e-08, -2.2223e-08, -7.8281e-08, -1.4581e-07, -2.241e-07, -3.1233e-07, -4.0941e-07]\n",
      "Q_ES3 [0.0, 1.7074e-06, 2.5221e-06, 2.4059e-06, 1.6044e-06, 2.575e-07, -1.6703e-06, -4.296e-06, -7.7366e-06, -1.2071e-05, -1.7306e-05, -2.3422e-05, -3.0398e-05, -3.8179e-05, -4.6688e-05, -5.5849e-05]\n",
      "Q_EM3 [0.0, 4.9471e-08, 9.2081e-08, 1.2576e-07, 1.4796e-07, 1.5592e-07, 1.4685e-07, 1.1794e-07, 6.6652e-08, -8.8135e-09, -1.0904e-07, -2.336e-07, -3.8134e-07, -5.5092e-07, -7.4068e-07, -9.4853e-07]\n",
      "Pi_ES3 [0.0, -1.5455e-08, -2.088e-08, -2.2631e-08, -2.3864e-08, -2.4125e-08, -1.8893e-08, -3.9256e-09, 2.1677e-08, 5.3489e-08, 8.3667e-08, 1.0505e-07, 1.1166e-07, 9.7437e-08, 5.7607e-08, -9.6091e-09]\n",
      "Pi_EM3 [0.0, -2.4999e-08, -3.9644e-08, -5.4703e-08, -7.5075e-08, -1.0129e-07, -1.3185e-07, -1.6444e-07, -1.961e-07, -2.2475e-07, -2.5034e-07, -2.748e-07, -3.0081e-07, -3.3068e-07, -3.6595e-07, -4.0754e-07]\n"
     ]
    }
   ],
   "source": [
    "filepath = os.path.join(test_dir, 'TEST_3spec_k1')\n",
    "nrg_path = os.path.join(filepath, 'nrg.dat')\n",
    "\n",
    "\n",
    "spec = ['e', 'c']\n",
    "\n",
    "\n",
    "nrg_col = ['Pi_EM','Q_ES','Q_EM']\n",
    "# nrg_col = ['Q_ES','Q_EM']\n",
    "\n",
    "\n",
    "nrg_dict = nrg_filepath_to_dict(nrg_filepath=nrg_path, choose_time=[0, 0.038], named_spec_row=spec, named_nrg_col=nrg_col)\n",
    "\n",
    "for key in nrg_dict.keys():\n",
    "    if len(nrg_dict[key])>0 and key!='key_list':\n",
    "        print(key, nrg_dict[key])\n",
    "\n",
    "print('~~~~~~~~~~~~~~~~~~~~')\n",
    "\n",
    "nrg_col = ['n_mag','Q_ES','Q_EM']\n",
    "\n",
    "nrg_dict = nrg_filepath_to_dict(nrg_filepath=nrg_path, choose_time='last', named_nrg_col=nrg_col)\n",
    "\n",
    "for key in nrg_dict.keys():\n",
    "    if len(nrg_dict[key])>0 and key!='key_list':\n",
    "        print(key, nrg_dict[key])\n",
    "\n",
    "\n",
    "print('~~~~~~~~~~~~~~~~~~~~')\n",
    "\n",
    "\n",
    "nrg_dict = nrg_filepath_to_dict(nrg_filepath=nrg_path, choose_time=[0, 0.1])\n",
    "\n",
    "for key in nrg_dict.keys():\n",
    "    if len(nrg_dict[key])>0 and key!='key_list':\n",
    "        print(key, nrg_dict[key])\n"
   ]
  },
  {
   "cell_type": "code",
   "execution_count": 4,
   "metadata": {},
   "outputs": [
    {
     "name": "stdout",
     "output_type": "stream",
     "text": [
      "filepath /pscratch/sd/j/joeschm/NSXTU_discharges/X_TEST/scanfiles0002/nrg_0002\n",
      "time [2.993188]\n",
      "n_mag2 [3.3087e-05]\n",
      "Q_EM2 [-2.8274e-05]\n"
     ]
    }
   ],
   "source": [
    "filepath = os.path.join(test_dir, 'scanfiles0002')\n",
    "\n",
    "nrg_path = os.path.join(filepath, 'nrg_0002')\n",
    "nrg_dict = nrg_filepath_to_dict(nrg_path, choose_time= [2.993188,2.993188], named_spec_row=['e'], named_nrg_col=['n_mag', 'Q_EM'])\n",
    "\n",
    "for key in nrg_dict.keys():\n",
    "    if len(nrg_dict[key])>0 and key!='key_list':\n",
    "        print(key, nrg_dict[key])"
   ]
  },
  {
   "cell_type": "code",
   "execution_count": 5,
   "metadata": {},
   "outputs": [
    {
     "name": "stdout",
     "output_type": "stream",
     "text": [
      "filepath /pscratch/sd/j/joeschm/NSXTU_discharges/X_TEST/scanfiles0002/nrg_0001\n",
      "time [38.29488]\n",
      "n_mag1 [0.00010324]\n",
      "Q_EM1 [3.0345e-09]\n",
      "n_mag2 [1.3497e-06]\n",
      "Q_EM2 [-1.5816e-07]\n"
     ]
    }
   ],
   "source": [
    "filepath = os.path.join(test_dir, 'scanfiles0002')\n",
    "\n",
    "nrg_path = os.path.join(filepath, 'nrg_0001')\n",
    "nrg_dict = nrg_filepath_to_dict(nrg_path, choose_time= 'last', named_spec_row=['e', 'i'], named_nrg_col=['n_mag', 'Q_EM'])\n",
    "\n",
    "for key in nrg_dict.keys():\n",
    "    if len(nrg_dict[key])>0 and key!='key_list':\n",
    "        print(key, nrg_dict[key])"
   ]
  },
  {
   "cell_type": "markdown",
   "metadata": {},
   "source": [
    "# Filepath is directory or does not exist"
   ]
  },
  {
   "cell_type": "code",
   "execution_count": 6,
   "metadata": {},
   "outputs": [
    {
     "name": "stdout",
     "output_type": "stream",
     "text": [
      "{'filepath': '/pscratch/sd/j/joeschm/NSXTU_discharges/X_TEST/scanfiles0002/nrg_0001', 'key_list': ['time', 'n_mag', 'u_par_mag', 'T_par_mag', 'T_perp_mag', 'Gamma_ES', 'Gamma_EM', 'Q_ES', 'Q_EM', 'Pi_ES', 'Pi_EM'], 'time': array([38.29488]), 'n_mag1': [0.00010324], 'u_par_mag1': [], 'T_par_mag1': [], 'T_perp_mag1': [], 'Gamma_ES1': [], 'Gamma_EM1': [], 'Q_ES1': [], 'Q_EM1': [3.0345e-09], 'Pi_ES1': [], 'Pi_EM1': [], 'n_mag2': [1.3497e-06], 'u_par_mag2': [], 'T_par_mag2': [], 'T_perp_mag2': [], 'Gamma_ES2': [], 'Gamma_EM2': [], 'Q_ES2': [], 'Q_EM2': [-1.5816e-07], 'Pi_ES2': [], 'Pi_EM2': [], 'n_mag3': [], 'u_par_mag3': [], 'T_par_mag3': [], 'T_perp_mag3': [], 'Gamma_ES3': [], 'Gamma_EM3': [], 'Q_ES3': [], 'Q_EM3': [], 'Pi_ES3': [], 'Pi_EM3': []}\n"
     ]
    }
   ],
   "source": [
    "print(nrg_dict)"
   ]
  },
  {
   "cell_type": "code",
   "execution_count": 7,
   "metadata": {},
   "outputs": [
    {
     "name": "stdout",
     "output_type": "stream",
     "text": [
      "The file path does not exist or is not a file: /pscratch/sd/j/joeschm/NSXTU_discharges/X_TEST/TEST_3spec_k1\n",
      "The file path does not exist or is not a file: /pscratch/sd/j/joeschm/NSXTU_discharges/X_TEST/TEST_3spec_k1/nrg_1001\n"
     ]
    }
   ],
   "source": [
    "filepath = os.path.join(test_dir, 'TEST_3spec_k1')\n",
    "\n",
    "nrg_dict = nrg_filepath_to_dict(filepath)\n",
    "\n",
    "nrg_path = os.path.join(filepath, 'nrg_1001')\n",
    "nrg_dict = nrg_filepath_to_dict(nrg_path)"
   ]
  },
  {
   "cell_type": "code",
   "execution_count": 8,
   "metadata": {},
   "outputs": [
    {
     "name": "stdout",
     "output_type": "stream",
     "text": [
      "The filename does not start with 'nrg': /pscratch/sd/j/joeschm/NSXTU_discharges/X_TEST/TEST_3spec_k1/parameters.dat\n"
     ]
    }
   ],
   "source": [
    "parameters_path = os.path.join(filepath, 'parameters.dat')\n",
    "nrg_dict = nrg_filepath_to_dict(parameters_path)"
   ]
  },
  {
   "cell_type": "markdown",
   "metadata": {},
   "source": [
    "# Testing coordinate list function"
   ]
  },
  {
   "cell_type": "markdown",
   "metadata": {},
   "source": [
    "### All species and all nrg values"
   ]
  },
  {
   "cell_type": "code",
   "execution_count": 9,
   "metadata": {},
   "outputs": [
    {
     "name": "stdout",
     "output_type": "stream",
     "text": [
      "(('i', 1), ('e', 2), ('c', 3))\n",
      "(('n_mag', 0), ('u_par_mag', 1), ('T_par_mag', 2), ('T_perp_mag', 3), ('Gamma_ES', 4), ('Gamma_EM', 5), ('Q_ES', 6), ('Q_EM', 7), ('Pi_ES', 8), ('Pi_EM', 9))\n",
      "\n",
      "(('i', 1),)\n",
      "(('n_mag', 0), ('Q_ES', 6))\n",
      "\n",
      "(('i', 1), ('e', 2), ('c', 3))\n",
      "(('n_mag', 0), ('Q_ES', 6), ('Gamma_EM', 5))\n"
     ]
    }
   ],
   "source": [
    "filepath = os.path.join(test_dir, 'TEST_3spec_k1')\n",
    "nrg_path = os.path.join(filepath, 'nrg.dat')\n",
    "\n",
    "spec_row = 'all'\n",
    "nrg_col = 'all'\n",
    "\n",
    "spec_row, nrg_col = create_nrg_coordinate_list(nrg_path, named_spec_row=spec_row, named_nrg_col=nrg_col)\n",
    "print(spec_row)\n",
    "print(nrg_col)\n",
    "print('')\n",
    "\n",
    "spec_row = ['i']\n",
    "nrg_col = ['n_mag', 'Q_ES']\n",
    "\n",
    "spec_row, nrg_col = create_nrg_coordinate_list(nrg_path, named_spec_row=spec_row, named_nrg_col=nrg_col)\n",
    "print(spec_row)\n",
    "print(nrg_col)\n",
    "print('')\n",
    "\n",
    "\n",
    "nrg_col = ['n_mag', 'Q_ES', 'Gamma_EM']\n",
    "\n",
    "spec_row, nrg_col = create_nrg_coordinate_list(nrg_path, named_nrg_col=nrg_col)\n",
    "print(spec_row)\n",
    "print(nrg_col)"
   ]
  },
  {
   "cell_type": "markdown",
   "metadata": {},
   "source": [
    "### Testing incorrect species and nrg names"
   ]
  },
  {
   "cell_type": "code",
   "execution_count": 10,
   "metadata": {},
   "outputs": [
    {
     "ename": "ValueError",
     "evalue": "'d' not found in the list of variables: ['i', 'e', 'c']",
     "output_type": "error",
     "traceback": [
      "\u001b[0;31m---------------------------------------------------------------------------\u001b[0m",
      "\u001b[0;31mValueError\u001b[0m                                Traceback (most recent call last)",
      "\u001b[1;32m/global/homes/j/joeschm/fusion_research/ARCHIVE/GENE_code_V5/read_simulation_data/nrg_data/UNIT_TESTS_nrg_data/UTs_nrg_data.ipynb Cell 15\u001b[0m line \u001b[0;36m3\n\u001b[1;32m      <a href='vscode-notebook-cell://ssh-remote%2Bperlmutter-p1.nersc.gov/global/homes/j/joeschm/fusion_research/ARCHIVE/GENE_code_V5/read_simulation_data/nrg_data/UNIT_TESTS_nrg_data/UTs_nrg_data.ipynb#X20sdnNjb2RlLXJlbW90ZQ%3D%3D?line=0'>1</a>\u001b[0m spec_row \u001b[39m=\u001b[39m [\u001b[39m'\u001b[39m\u001b[39md\u001b[39m\u001b[39m'\u001b[39m, \u001b[39m'\u001b[39m\u001b[39mo\u001b[39m\u001b[39m'\u001b[39m]\n\u001b[1;32m      <a href='vscode-notebook-cell://ssh-remote%2Bperlmutter-p1.nersc.gov/global/homes/j/joeschm/fusion_research/ARCHIVE/GENE_code_V5/read_simulation_data/nrg_data/UNIT_TESTS_nrg_data/UTs_nrg_data.ipynb#X20sdnNjb2RlLXJlbW90ZQ%3D%3D?line=1'>2</a>\u001b[0m nrg_col \u001b[39m=\u001b[39m [\u001b[39m'\u001b[39m\u001b[39mn_mag\u001b[39m\u001b[39m'\u001b[39m, \u001b[39m'\u001b[39m\u001b[39mQ_EM\u001b[39m\u001b[39m'\u001b[39m, \u001b[39m'\u001b[39m\u001b[39mQ_ES\u001b[39m\u001b[39m'\u001b[39m]\n\u001b[0;32m----> <a href='vscode-notebook-cell://ssh-remote%2Bperlmutter-p1.nersc.gov/global/homes/j/joeschm/fusion_research/ARCHIVE/GENE_code_V5/read_simulation_data/nrg_data/UNIT_TESTS_nrg_data/UTs_nrg_data.ipynb#X20sdnNjb2RlLXJlbW90ZQ%3D%3D?line=2'>3</a>\u001b[0m spec_nrg_matrix \u001b[39m=\u001b[39m create_nrg_coordinate_list(nrg_path, named_spec_row\u001b[39m=\u001b[39mspec_row, named_nrg_col\u001b[39m=\u001b[39mnrg_col)\n",
      "File \u001b[0;32m/global/u1/j/joeschm/fusion_research/ARCHIVE/GENE_code_V5/read_simulation_data/nrg_data/GP_nrg_data_V4.py:234\u001b[0m, in \u001b[0;36mcreate_nrg_coordinate_list\u001b[0;34m(nrg_filepath, named_spec_row, named_nrg_col)\u001b[0m\n\u001b[1;32m    232\u001b[0m     spec_row \u001b[39m=\u001b[39m spec_tuple\n\u001b[1;32m    233\u001b[0m \u001b[39melse\u001b[39;00m:\n\u001b[0;32m--> 234\u001b[0m     spec_row \u001b[39m=\u001b[39m find_elements_in_tuple(named_spec_row, spec_tuple)\n\u001b[1;32m    236\u001b[0m \u001b[39mif\u001b[39;00m named_nrg_col \u001b[39m==\u001b[39m \u001b[39m'\u001b[39m\u001b[39mall\u001b[39m\u001b[39m'\u001b[39m:\n\u001b[1;32m    237\u001b[0m     nrg_col \u001b[39m=\u001b[39m nrg_quantity_tuple\n",
      "File \u001b[0;32m/global/u1/j/joeschm/fusion_research/ARCHIVE/GENE_code_V5/read_simulation_data/nrg_data/GP_nrg_data_V4.py:255\u001b[0m, in \u001b[0;36mfind_elements_in_tuple\u001b[0;34m(input_list, input_tuple)\u001b[0m\n\u001b[1;32m    253\u001b[0m     \u001b[39mif\u001b[39;00m \u001b[39mnot\u001b[39;00m found:\n\u001b[1;32m    254\u001b[0m         item_list \u001b[39m=\u001b[39m [item[\u001b[39m0\u001b[39m] \u001b[39mfor\u001b[39;00m item \u001b[39min\u001b[39;00m input_tuple]\n\u001b[0;32m--> 255\u001b[0m         \u001b[39mraise\u001b[39;00m \u001b[39mValueError\u001b[39;00m(\u001b[39mf\u001b[39m\u001b[39m\"\u001b[39m\u001b[39m'\u001b[39m\u001b[39m{\u001b[39;00mitem\u001b[39m}\u001b[39;00m\u001b[39m'\u001b[39m\u001b[39m not found in the list of variables: \u001b[39m\u001b[39m{\u001b[39;00mitem_list\u001b[39m}\u001b[39;00m\u001b[39m\"\u001b[39m)\n\u001b[1;32m    256\u001b[0m \u001b[39mreturn\u001b[39;00m \u001b[39mtuple\u001b[39m(result)\n",
      "\u001b[0;31mValueError\u001b[0m: 'd' not found in the list of variables: ['i', 'e', 'c']"
     ]
    }
   ],
   "source": [
    "spec_row = ['d', 'o']\n",
    "nrg_col = ['n_mag', 'Q_EM', 'Q_ES']\n",
    "spec_nrg_matrix = create_nrg_coordinate_list(nrg_path, named_spec_row=spec_row, named_nrg_col=nrg_col)"
   ]
  },
  {
   "cell_type": "code",
   "execution_count": null,
   "metadata": {},
   "outputs": [
    {
     "ename": "ValueError",
     "evalue": "'Q_EMMM' not found in the list of variables: ['n_mag', 'u_par_mag', 'T_par_mag', 'T_perp_mag', 'Gamma_ES', 'Gamma_EM', 'Q_ES', 'Q_EM', 'Pi_ES', 'Pi_EM']",
     "output_type": "error",
     "traceback": [
      "\u001b[0;31m---------------------------------------------------------------------------\u001b[0m",
      "\u001b[0;31mValueError\u001b[0m                                Traceback (most recent call last)",
      "\u001b[1;32m/global/homes/j/joeschm/fusion_research/GENE_code_V5/read_simulation_data/nrg_data/UNIT_TESTS_nrg_data/UTs_nrg_data.ipynb Cell 16\u001b[0m line \u001b[0;36m3\n\u001b[1;32m      <a href='vscode-notebook-cell://ssh-remote%2Bperlmutter-p1.nersc.gov/global/homes/j/joeschm/fusion_research/GENE_code_V5/read_simulation_data/nrg_data/UNIT_TESTS_nrg_data/UTs_nrg_data.ipynb#X21sdnNjb2RlLXJlbW90ZQ%3D%3D?line=0'>1</a>\u001b[0m spec_row \u001b[39m=\u001b[39m [\u001b[39m'\u001b[39m\u001b[39mc\u001b[39m\u001b[39m'\u001b[39m]\n\u001b[1;32m      <a href='vscode-notebook-cell://ssh-remote%2Bperlmutter-p1.nersc.gov/global/homes/j/joeschm/fusion_research/GENE_code_V5/read_simulation_data/nrg_data/UNIT_TESTS_nrg_data/UTs_nrg_data.ipynb#X21sdnNjb2RlLXJlbW90ZQ%3D%3D?line=1'>2</a>\u001b[0m nrg_col \u001b[39m=\u001b[39m [\u001b[39m'\u001b[39m\u001b[39mn_mag\u001b[39m\u001b[39m'\u001b[39m, \u001b[39m'\u001b[39m\u001b[39mQ_EMMM\u001b[39m\u001b[39m'\u001b[39m, \u001b[39m'\u001b[39m\u001b[39mQ_ES\u001b[39m\u001b[39m'\u001b[39m]\n\u001b[0;32m----> <a href='vscode-notebook-cell://ssh-remote%2Bperlmutter-p1.nersc.gov/global/homes/j/joeschm/fusion_research/GENE_code_V5/read_simulation_data/nrg_data/UNIT_TESTS_nrg_data/UTs_nrg_data.ipynb#X21sdnNjb2RlLXJlbW90ZQ%3D%3D?line=2'>3</a>\u001b[0m spec_nrg_matrix \u001b[39m=\u001b[39m create_nrg_coordinate_list(nrg_path, named_spec_row\u001b[39m=\u001b[39mspec_row, named_nrg_col\u001b[39m=\u001b[39mnrg_col)\n",
      "File \u001b[0;32m/global/u1/j/joeschm/fusion_research/GENE_code_V5/read_simulation_data/nrg_data/GP_nrg_data_V4.py:238\u001b[0m, in \u001b[0;36mcreate_nrg_coordinate_list\u001b[0;34m(nrg_filepath, named_spec_row, named_nrg_col)\u001b[0m\n\u001b[1;32m    236\u001b[0m     nrg_col \u001b[39m=\u001b[39m nrg_quantity_tuple\n\u001b[1;32m    237\u001b[0m \u001b[39melse\u001b[39;00m:\n\u001b[0;32m--> 238\u001b[0m     nrg_col \u001b[39m=\u001b[39m find_elements_in_tuple(named_nrg_col, nrg_quantity_tuple)\n\u001b[1;32m    240\u001b[0m \u001b[39mreturn\u001b[39;00m spec_row, nrg_col\n",
      "File \u001b[0;32m/global/u1/j/joeschm/fusion_research/GENE_code_V5/read_simulation_data/nrg_data/GP_nrg_data_V4.py:254\u001b[0m, in \u001b[0;36mfind_elements_in_tuple\u001b[0;34m(input_list, input_tuple)\u001b[0m\n\u001b[1;32m    252\u001b[0m     \u001b[39mif\u001b[39;00m \u001b[39mnot\u001b[39;00m found:\n\u001b[1;32m    253\u001b[0m         item_list \u001b[39m=\u001b[39m [item[\u001b[39m0\u001b[39m] \u001b[39mfor\u001b[39;00m item \u001b[39min\u001b[39;00m input_tuple]\n\u001b[0;32m--> 254\u001b[0m         \u001b[39mraise\u001b[39;00m \u001b[39mValueError\u001b[39;00m(\u001b[39mf\u001b[39m\u001b[39m\"\u001b[39m\u001b[39m'\u001b[39m\u001b[39m{\u001b[39;00mitem\u001b[39m}\u001b[39;00m\u001b[39m'\u001b[39m\u001b[39m not found in the list of variables: \u001b[39m\u001b[39m{\u001b[39;00mitem_list\u001b[39m}\u001b[39;00m\u001b[39m\"\u001b[39m)\n\u001b[1;32m    255\u001b[0m \u001b[39mreturn\u001b[39;00m \u001b[39mtuple\u001b[39m(result)\n",
      "\u001b[0;31mValueError\u001b[0m: 'Q_EMMM' not found in the list of variables: ['n_mag', 'u_par_mag', 'T_par_mag', 'T_perp_mag', 'Gamma_ES', 'Gamma_EM', 'Q_ES', 'Q_EM', 'Pi_ES', 'Pi_EM']"
     ]
    }
   ],
   "source": [
    "spec_row = ['c']\n",
    "nrg_col = ['n_mag', 'Q_EMMM', 'Q_ES']\n",
    "spec_nrg_matrix = create_nrg_coordinate_list(nrg_path, named_spec_row=spec_row, named_nrg_col=nrg_col)"
   ]
  },
  {
   "cell_type": "code",
   "execution_count": null,
   "metadata": {},
   "outputs": [],
   "source": []
  },
  {
   "cell_type": "code",
   "execution_count": null,
   "metadata": {},
   "outputs": [],
   "source": [
    "test_dir = '/pscratch/sd/j/joeschm/NSXTU_discharges/X_TEST'\n"
   ]
  }
 ],
 "metadata": {
  "kernelspec": {
   "display_name": "jupyter_env",
   "language": "python",
   "name": "python3"
  },
  "language_info": {
   "codemirror_mode": {
    "name": "ipython",
    "version": 3
   },
   "file_extension": ".py",
   "mimetype": "text/x-python",
   "name": "python",
   "nbconvert_exporter": "python",
   "pygments_lexer": "ipython3",
   "version": "3.11.4"
  },
  "orig_nbformat": 4
 },
 "nbformat": 4,
 "nbformat_minor": 2
}
