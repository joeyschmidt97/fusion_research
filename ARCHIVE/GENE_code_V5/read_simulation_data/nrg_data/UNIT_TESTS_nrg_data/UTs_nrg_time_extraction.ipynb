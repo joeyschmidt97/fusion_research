{
 "cells": [
  {
   "cell_type": "code",
   "execution_count": 2,
   "metadata": {},
   "outputs": [],
   "source": [
    "import os\n",
    "os.chdir(\"..\")\n",
    "from GP_nrg_data_V4 import time_from_nrg"
   ]
  },
  {
   "cell_type": "markdown",
   "metadata": {},
   "source": [
    "# Extract time from nrg file tests"
   ]
  },
  {
   "cell_type": "code",
   "execution_count": 3,
   "metadata": {},
   "outputs": [],
   "source": [
    "test_dir = '/pscratch/sd/j/joeschm/NSXTU_discharges/X_TEST'"
   ]
  },
  {
   "cell_type": "markdown",
   "metadata": {},
   "source": [
    "## Speed and unit tests"
   ]
  },
  {
   "cell_type": "code",
   "execution_count": 4,
   "metadata": {},
   "outputs": [
    {
     "name": "stdout",
     "output_type": "stream",
     "text": [
      "[0.000000e+00 6.460000e-03 1.292000e-02 ... 4.135046e+01 4.135692e+01\n",
      " 4.136338e+01]\n",
      "all time values: 0.04878854751586914 s\n",
      "\n",
      "[0.]\n",
      "first time value: 0.00289154052734375 s\n",
      "\n",
      "[41.36338]\n",
      "last time value: 0.0028090476989746094 s\n",
      "\n",
      "[0.00000e+00 6.46000e-03 1.29200e-02 ... 9.98070e+00 9.98716e+00\n",
      " 9.99362e+00]\n",
      "range of time values [0,10]: 0.012192487716674805 s\n",
      "\n",
      "[ 5.00004  5.0065   5.01296 ... 19.98078 19.98724 19.9937 ]\n",
      "range of time values [5,20]: 0.011889934539794922 s\n",
      "\n"
     ]
    }
   ],
   "source": [
    "filepath = os.path.join(test_dir, 'TEST_3spec_k1/nrg.dat')\n",
    "\n",
    "n_spec = 3\n",
    "import time\n",
    "\n",
    "start = time.time()\n",
    "time_values = time_from_nrg(filepath, n_spec)\n",
    "end = time.time()\n",
    "print(time_values)\n",
    "print('all time values:', end - start, 's\\n')\n",
    "\n",
    "\n",
    "start = time.time()\n",
    "time_values = time_from_nrg(filepath, n_spec, choose_time='first')\n",
    "end = time.time()\n",
    "assert time_values == [0]\n",
    "print(time_values)\n",
    "print('first time value:', end - start, 's\\n')\n",
    "\n",
    "\n",
    "start = time.time()\n",
    "time_values = time_from_nrg(filepath , n_spec, choose_time='last')\n",
    "end = time.time()\n",
    "assert time_values == [41.36338]\n",
    "print(time_values)\n",
    "print('last time value:', end - start, 's\\n')\n",
    "\n",
    "\n",
    "start = time.time()\n",
    "time_values = time_from_nrg(filepath , n_spec, choose_time=[0, 10])\n",
    "end = time.time()\n",
    "assert all(0 <= value <= 10 for value in time_values), \"Not all values are between 0 and 10\"\n",
    "print(time_values)\n",
    "print('range of time values [0,10]:', end - start, 's\\n')\n",
    "\n",
    "start = time.time()\n",
    "time_values = time_from_nrg(filepath, n_spec, choose_time=[5, 20])\n",
    "end = time.time()\n",
    "assert all(5 <= value <= 20 for value in time_values), \"Not all values are between 5 and 20\"\n",
    "print(time_values)\n",
    "print('range of time values [5,20]:', end - start, 's\\n')"
   ]
  },
  {
   "cell_type": "code",
   "execution_count": 5,
   "metadata": {},
   "outputs": [
    {
     "name": "stdout",
     "output_type": "stream",
     "text": [
      "[]\n",
      "[0.00000e+00 6.46000e-03 1.29200e-02 ... 9.98070e+00 9.98716e+00\n",
      " 9.99362e+00]\n",
      "[0.]\n",
      "[41.36338]\n",
      "[10.00008 10.00654 10.013   ... 41.35046 41.35692 41.36338]\n",
      "[9.98716]\n"
     ]
    }
   ],
   "source": [
    "n_spec= 3\n",
    "\n",
    "filepath = os.path.join(test_dir, 'TEST_3spec_k1/nrg.dat')\n",
    "\n",
    "time_values = time_from_nrg(filepath, n_spec, choose_time=[10, 10])\n",
    "print(time_values)\n",
    "\n",
    "time_values = time_from_nrg(filepath, n_spec, choose_time=[0, 10])\n",
    "print(time_values)\n",
    "\n",
    "time_values = time_from_nrg(filepath, n_spec, choose_time='first')\n",
    "print(time_values)\n",
    "\n",
    "time_values = time_from_nrg(filepath, n_spec, choose_time='last')\n",
    "print(time_values)\n",
    "\n",
    "time_values = time_from_nrg(filepath, n_spec, choose_time=[10, float('inf')])\n",
    "print(time_values)\n",
    "\n",
    "time_values = time_from_nrg(filepath, n_spec, choose_time=[9.98716, 9.98716])\n",
    "print(time_values)"
   ]
  },
  {
   "cell_type": "markdown",
   "metadata": {},
   "source": [
    "### Error testing"
   ]
  },
  {
   "cell_type": "code",
   "execution_count": 11,
   "metadata": {},
   "outputs": [],
   "source": [
    "n_spec = 3\n",
    "\n",
    "try:\n",
    "    # Call the extract_time function with negative choose_time values\n",
    "    time_values = time_from_nrg(filepath, n_spec, choose_time=[-10, -50])\n",
    "except ValueError as e:\n",
    "    # Check if the exception message matches the expected error message\n",
    "    assert str(e) == 'Error: Values in time range cannot be negative. ([-10, -50])'\n",
    "else:\n",
    "    # If no exception was raised, the assert should fail\n",
    "    assert False, \"Expected a ValueError but no exception was raised\""
   ]
  },
  {
   "cell_type": "code",
   "execution_count": 12,
   "metadata": {},
   "outputs": [],
   "source": [
    "n_spec = 3\n",
    "\n",
    "try:\n",
    "    # Call the extract_time function with negative choose_time values\n",
    "    time_values = time_from_nrg(filepath, n_spec,  choose_time=[10, 5])\n",
    "except ValueError as e:\n",
    "    # Check if the exception message matches the expected error message\n",
    "    assert str(e) == 'Error: Initial time (10) value cannot be greater than final time value (5)'\n",
    "else:\n",
    "    # If no exception was raised, the assert should fail\n",
    "    assert False, \"Expected a ValueError but no exception was raised\""
   ]
  },
  {
   "cell_type": "markdown",
   "metadata": {},
   "source": [
    "### n_spec mismatch with nrg data"
   ]
  },
  {
   "cell_type": "code",
   "execution_count": 16,
   "metadata": {},
   "outputs": [],
   "source": [
    "n_spec= 2\n",
    "\n",
    "filepath = os.path.join(test_dir, 'TEST_3spec_k1/nrg.dat')\n",
    "try:\n",
    "    time_values = time_from_nrg(filepath, n_spec, choose_time=[0, 10])\n",
    "except ValueError as e:\n",
    "    # Check if the exception message matches the expected error message\n",
    "    assert str(e) == 'Error: Current row count (4) in nrg file does not match n_spec = 2'\n",
    "else:\n",
    "    # If no exception was raised, the assert should fail\n",
    "    assert False, \"Expected a ValueError but no exception was raised\""
   ]
  },
  {
   "cell_type": "code",
   "execution_count": null,
   "metadata": {},
   "outputs": [],
   "source": []
  }
 ],
 "metadata": {
  "kernelspec": {
   "display_name": "jupyter_env",
   "language": "python",
   "name": "python3"
  },
  "language_info": {
   "codemirror_mode": {
    "name": "ipython",
    "version": 3
   },
   "file_extension": ".py",
   "mimetype": "text/x-python",
   "name": "python",
   "nbconvert_exporter": "python",
   "pygments_lexer": "ipython3",
   "version": "3.11.4"
  },
  "orig_nbformat": 4
 },
 "nbformat": 4,
 "nbformat_minor": 2
}
