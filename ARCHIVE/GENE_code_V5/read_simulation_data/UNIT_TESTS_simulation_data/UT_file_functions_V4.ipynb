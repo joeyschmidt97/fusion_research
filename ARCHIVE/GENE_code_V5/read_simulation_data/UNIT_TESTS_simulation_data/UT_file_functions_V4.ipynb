{
 "cells": [
  {
   "cell_type": "code",
   "execution_count": 1,
   "metadata": {},
   "outputs": [],
   "source": [
    "import os\n",
    "os.chdir(\"..\")\n",
    "from GP_file_functions_V4 import suffix_from_filename, switch_suffix_file, file_checks, string_to_list, FileError"
   ]
  },
  {
   "cell_type": "markdown",
   "metadata": {},
   "source": [
    "# Suffix from filename checks"
   ]
  },
  {
   "cell_type": "code",
   "execution_count": 2,
   "metadata": {},
   "outputs": [],
   "source": [
    "assert suffix_from_filename('parameters_0001')=='0001'\n",
    "assert suffix_from_filename('parameters.dat')=='.dat'\n",
    "assert suffix_from_filename('nrg.dat')=='.dat'\n",
    "assert suffix_from_filename('omega_0002')=='0002'"
   ]
  },
  {
   "cell_type": "markdown",
   "metadata": {},
   "source": [
    "# Filepath switcher"
   ]
  },
  {
   "cell_type": "markdown",
   "metadata": {},
   "source": [
    "### Switch from 'nrg' to 'omega' file"
   ]
  },
  {
   "cell_type": "code",
   "execution_count": 3,
   "metadata": {},
   "outputs": [
    {
     "name": "stdout",
     "output_type": "stream",
     "text": [
      "old: /pscratch/sd/j/joeschm/NSXTU_discharges/X_TEST/TEST_3spec_k1/nrg.dat\n",
      "new: /pscratch/sd/j/joeschm/NSXTU_discharges/X_TEST/TEST_3spec_k1/omega.dat \n",
      "\n",
      "old: /pscratch/sd/j/joeschm/NSXTU_discharges/X_TEST/scanfiles0004/parameters_0004\n",
      "new: /pscratch/sd/j/joeschm/NSXTU_discharges/X_TEST/scanfiles0004/nrg_0004\n"
     ]
    }
   ],
   "source": [
    "old_nrg_filepath = '/pscratch/sd/j/joeschm/NSXTU_discharges/X_TEST/TEST_3spec_k1/nrg.dat'\n",
    "\n",
    "print('old:', old_nrg_filepath)\n",
    "omega_filepath = switch_suffix_file(old_nrg_filepath, 'omega')\n",
    "assert omega_filepath == os.path.join(os.path.dirname(old_nrg_filepath), 'omega.dat')\n",
    "print('new:', omega_filepath, '\\n')\n",
    "\n",
    "\n",
    "old_param_filepath = '/pscratch/sd/j/joeschm/NSXTU_discharges/X_TEST/scanfiles0004/parameters_0004'\n",
    "\n",
    "print('old:', old_param_filepath)\n",
    "nrg_filepath = switch_suffix_file(old_param_filepath, 'nrg')\n",
    "assert nrg_filepath == os.path.join(os.path.dirname(old_param_filepath), 'nrg_0004')\n",
    "print('new:', nrg_filepath)"
   ]
  },
  {
   "cell_type": "markdown",
   "metadata": {},
   "source": [
    "### Error filepaths"
   ]
  },
  {
   "cell_type": "code",
   "execution_count": 4,
   "metadata": {},
   "outputs": [
    {
     "name": "stdout",
     "output_type": "stream",
     "text": [
      "old: /pscratch/sd/j/joeschm/NSXTU_discharges/X_TEST/scanfiles0004/dsa\n"
     ]
    }
   ],
   "source": [
    "faulty_filepath = '/pscratch/sd/j/joeschm/NSXTU_discharges/X_TEST/scanfiles0004/dsa'\n",
    "\n",
    "print('old:', faulty_filepath)\n",
    "\n",
    "try:\n",
    "    switch_suffix_file(faulty_filepath, 'nrg')\n",
    "    assert False, \"Function did not raise ValueError as expected\"\n",
    "except FileError as e:\n",
    "    assert \"The file path does not exist or is not a file: /pscratch/sd/j/joeschm/NSXTU_discharges/X_TEST/scanfiles0004/dsa\" in str(e)"
   ]
  },
  {
   "cell_type": "markdown",
   "metadata": {},
   "source": [
    "# File checks function"
   ]
  },
  {
   "cell_type": "markdown",
   "metadata": {},
   "source": [
    "### Filepath does not exist"
   ]
  },
  {
   "cell_type": "code",
   "execution_count": 5,
   "metadata": {},
   "outputs": [],
   "source": [
    "does_not_exist_filepath = '/pscratch/sd/j/joeschm/NSXTU_discharges/X_TEST/scanfiles0004/dsa'\n",
    "\n",
    "try:\n",
    "    file_checks(does_not_exist_filepath, 'omega')\n",
    "    assert False, \"Function did not raise ValueError as expected\"\n",
    "except FileError as e:\n",
    "    assert \"The file path does not exist or is not a file: /pscratch/sd/j/joeschm/NSXTU_discharges/X_TEST/scanfiles0004/dsa\" in str(e)"
   ]
  },
  {
   "cell_type": "markdown",
   "metadata": {},
   "source": [
    "### Filepath is not a file (is a directory)"
   ]
  },
  {
   "cell_type": "code",
   "execution_count": 6,
   "metadata": {},
   "outputs": [],
   "source": [
    "not_file_filepath = '/pscratch/sd/j/joeschm/NSXTU_discharges/X_TEST/scanfiles0004'\n",
    "\n",
    "try:\n",
    "    file_checks(not_file_filepath, 'omega')\n",
    "    assert False, \"Function did not raise ValueError as expected\"\n",
    "except FileError as e:\n",
    "    assert \"The file path does not exist or is not a file: /pscratch/sd/j/joeschm/NSXTU_discharges/X_TEST/scanfiles0004\" in str(e)"
   ]
  },
  {
   "cell_type": "markdown",
   "metadata": {},
   "source": [
    "### Filepath is not the right filetype (given is omega, expected is nrg)"
   ]
  },
  {
   "cell_type": "code",
   "execution_count": 7,
   "metadata": {},
   "outputs": [],
   "source": [
    "wrong_filetype_filepath = '/pscratch/sd/j/joeschm/NSXTU_discharges/X_TEST/scanfiles0004/omega_0002'\n",
    "\n",
    "try:\n",
    "    file_checks(wrong_filetype_filepath, 'nrg')\n",
    "    assert False, \"Function did not raise ValueError as expected\"\n",
    "except FileError as e:\n",
    "    assert \"The filename does not start with 'nrg': /pscratch/sd/j/joeschm/NSXTU_discharges/X_TEST/scanfiles0004/omega_0002\" in str(e)"
   ]
  },
  {
   "cell_type": "markdown",
   "metadata": {},
   "source": [
    "### Filepath works out"
   ]
  },
  {
   "cell_type": "code",
   "execution_count": 8,
   "metadata": {},
   "outputs": [],
   "source": [
    "omega_filepath = '/pscratch/sd/j/joeschm/NSXTU_discharges/X_TEST/scanfiles0004/omega_0002'\n",
    "file_checks(omega_filepath, 'omega')\n",
    "\n",
    "nrg_filepath = '/pscratch/sd/j/joeschm/NSXTU_discharges/X_TEST/TEST_3spec_k1/nrg.dat'\n",
    "file_checks(nrg_filepath, 'nrg')"
   ]
  },
  {
   "cell_type": "markdown",
   "metadata": {},
   "source": [
    "# String to list"
   ]
  },
  {
   "cell_type": "markdown",
   "metadata": {},
   "source": [
    "### Error - given input is not list/string"
   ]
  },
  {
   "cell_type": "code",
   "execution_count": 9,
   "metadata": {},
   "outputs": [],
   "source": [
    "try:\n",
    "    string_to_list(1)\n",
    "    assert False, \"Function did not raise ValueError as expected\"\n",
    "except ValueError as e:\n",
    "    assert \"Given input 1 is a <class 'int'> not a string or list type. Please try again.\" in str(e)"
   ]
  },
  {
   "cell_type": "code",
   "execution_count": 10,
   "metadata": {},
   "outputs": [],
   "source": [
    "try:\n",
    "    string_to_list({'a': 2, 'b': 'abc'})\n",
    "    assert False, \"Function did not raise ValueError as expected\"\n",
    "except ValueError as e:\n",
    "    assert \"Given input {'a': 2, 'b': 'abc'} is a <class 'dict'> not a string or list type. Please try again.\" in str(e)"
   ]
  },
  {
   "cell_type": "markdown",
   "metadata": {},
   "source": [
    "### Working cases"
   ]
  },
  {
   "cell_type": "code",
   "execution_count": 12,
   "metadata": {},
   "outputs": [],
   "source": [
    "assert string_to_list('test') == ['test']\n",
    "assert string_to_list(['test']) == ['test']"
   ]
  },
  {
   "cell_type": "code",
   "execution_count": null,
   "metadata": {},
   "outputs": [],
   "source": []
  }
 ],
 "metadata": {
  "kernelspec": {
   "display_name": "jupyter_env",
   "language": "python",
   "name": "python3"
  },
  "language_info": {
   "codemirror_mode": {
    "name": "ipython",
    "version": 3
   },
   "file_extension": ".py",
   "mimetype": "text/x-python",
   "name": "python",
   "nbconvert_exporter": "python",
   "pygments_lexer": "ipython3",
   "version": "3.11.4"
  },
  "orig_nbformat": 4
 },
 "nbformat": 4,
 "nbformat_minor": 2
}
