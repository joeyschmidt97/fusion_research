{
 "cells": [
  {
   "cell_type": "code",
   "execution_count": 2,
   "metadata": {},
   "outputs": [],
   "source": [
    "import os\n",
    "os.chdir(\"..\")\n",
    "from GP_simulation_data_V5 import filepath_to_simulation_dict_list, simulation_filepath_to_dict\n",
    "\n",
    "# os.chdir(\"./criteria_checker\")\n",
    "# from criteria_parser_V4 import criteria_list_to_dict_list"
   ]
  },
  {
   "cell_type": "code",
   "execution_count": 3,
   "metadata": {},
   "outputs": [],
   "source": [
    "test_dir = '/pscratch/sd/j/joeschm/NSXTU_discharges/X_TEST'\n",
    "filepath = os.path.join(test_dir, 'TEST_3spec_k1')\n",
    "\n",
    "filepath = '/pscratch/sd/j/joeschm/NSXTU_discharges/X_TEST/scanfiles0002'\n",
    "\n",
    "# test_dir = '/pscratch/sd/j/joeschm/NSXTU_discharges/X_TEST'\n",
    "# filepath = os.path.join(test_dir, 'scanfiles0002')"
   ]
  },
  {
   "cell_type": "code",
   "execution_count": null,
   "metadata": {},
   "outputs": [
    {
     "name": "stdout",
     "output_type": "stream",
     "text": [
      "{'filepath': '/pscratch/sd/j/joeschm/NSXTU_discharges/X_TEST/scanfiles0002/omega_0001', 'kymin': None, 'gamma': None, 'omega': None}\n",
      "filepath /pscratch/sd/j/joeschm/NSXTU_discharges/X_TEST/scanfiles0002/nrg_0001\n",
      "key_list ['time', 'n_mag', 'u_par_mag', 'T_par_mag', 'T_perp_mag', 'Gamma_ES', 'Gamma_EM', 'Q_ES', 'Q_EM', 'Pi_ES', 'Pi_EM']\n",
      "time [0.      0.00646 0.01292 0.01938 0.02584 0.0323  0.03876 0.04522]\n",
      "Gamma_ES1 [0.0, -6.421e-07, -1.3337e-06, -2.1145e-06, -3.0118e-06, -4.0477e-06, -5.2449e-06, -6.6298e-06]\n",
      "Q_ES1 [0.0, -4.614e-07, -1.0325e-06, -1.7804e-06, -2.7544e-06, -4.0002e-06, -5.5657e-06, -7.5034e-06]\n",
      "Q_EM1 [0.0, 7.3241e-08, 1.2748e-07, 1.4752e-07, 7.1001e-08, -1.0465e-07, -3.3506e-07, -5.7524e-07]\n",
      "Gamma_ES2 [0.0, -5.0727e-07, -1.0741e-06, -1.7466e-06, -2.5616e-06, -3.551e-06, -4.7477e-06, -6.188e-06]\n",
      "Q_ES2 [0.0, -1.2315e-05, 6.4574e-06, 5.0712e-05, 0.00010048, 0.00014423, 0.00017734, 0.00020068]\n",
      "Q_EM2 [0.0, 4.6893e-06, 7.9644e-06, 1.0378e-05, 1.1585e-05, 1.1567e-05, 1.0739e-05, 9.5993e-06]\n"
     ]
    }
   ],
   "source": [
    "\n",
    "crit_list = ['time<0.05', 'gamma', 'Q_ES', 'Q_EM>10', 'Gamma_ES']\n",
    "criteria_dict_list = criteria_list_to_dict_list(crit_list)\n",
    "\n",
    "sim_filepath = filepath\n",
    "suffix = '0001'\n",
    "load_spec = ['i', 'e']\n",
    "\n",
    "sim_dict = simulation_filepath_to_dict(sim_filepath, suffix, load_spec, criteria_dict_list)\n",
    "\n",
    "# print(sim_dict.keys())\n",
    "print(sim_dict['omega_dict'])\n",
    "\n",
    "for key in sim_dict['nrg_dict'].keys():\n",
    "\n",
    "    if len(sim_dict['nrg_dict'][key])>0:\n",
    "        print(key, sim_dict['nrg_dict'][key])\n",
    "        pass"
   ]
  },
  {
   "cell_type": "code",
   "execution_count": 4,
   "metadata": {},
   "outputs": [
    {
     "name": "stdout",
     "output_type": "stream",
     "text": [
      "before [{'variable_key': 'gamma', 'criteria': 'gamma>.5', 'units': None, 'analysis': 'numerical'}]\n",
      "after [{'variable_key': 'gamma', 'criteria': 'gamma>.5', 'units': None, 'analysis': 'numerical'}]\n",
      "before [{'variable_key': 'gamma', 'criteria': 'gamma>.5', 'units': None, 'analysis': 'numerical'}]\n",
      "after [{'variable_key': 'gamma', 'criteria': 'gamma>.5', 'units': None, 'analysis': 'numerical'}]\n"
     ]
    },
    {
     "ename": "KeyError",
     "evalue": "'key_list'",
     "output_type": "error",
     "traceback": [
      "\u001b[0;31m---------------------------------------------------------------------------\u001b[0m",
      "\u001b[0;31mKeyError\u001b[0m                                  Traceback (most recent call last)",
      "\u001b[1;32m/global/homes/j/joeschm/fusion_research/ARCHIVE/GENE_code_V5/read_simulation_data/UNIT_TESTS_simulation_data/UT_simulation_data.ipynb Cell 4\u001b[0m line \u001b[0;36m4\n\u001b[1;32m      <a href='vscode-notebook-cell://ssh-remote%2Bperlmutter-p1.nersc.gov/global/homes/j/joeschm/fusion_research/ARCHIVE/GENE_code_V5/read_simulation_data/UNIT_TESTS_simulation_data/UT_simulation_data.ipynb#W3sdnNjb2RlLXJlbW90ZQ%3D%3D?line=0'>1</a>\u001b[0m filepath \u001b[39m=\u001b[39m \u001b[39m'\u001b[39m\u001b[39m/pscratch/sd/j/joeschm/NSXTU_discharges/129015/r_0.936008_OM_top/MTM_limit/kymin_0.1\u001b[39m\u001b[39m'\u001b[39m\n\u001b[1;32m      <a href='vscode-notebook-cell://ssh-remote%2Bperlmutter-p1.nersc.gov/global/homes/j/joeschm/fusion_research/ARCHIVE/GENE_code_V5/read_simulation_data/UNIT_TESTS_simulation_data/UT_simulation_data.ipynb#W3sdnNjb2RlLXJlbW90ZQ%3D%3D?line=1'>2</a>\u001b[0m crit_list \u001b[39m=\u001b[39m [\u001b[39m'\u001b[39m\u001b[39mgamma>.5\u001b[39m\u001b[39m'\u001b[39m]\n\u001b[0;32m----> <a href='vscode-notebook-cell://ssh-remote%2Bperlmutter-p1.nersc.gov/global/homes/j/joeschm/fusion_research/ARCHIVE/GENE_code_V5/read_simulation_data/UNIT_TESTS_simulation_data/UT_simulation_data.ipynb#W3sdnNjb2RlLXJlbW90ZQ%3D%3D?line=3'>4</a>\u001b[0m sim_dict_list \u001b[39m=\u001b[39m filepath_to_simulation_dict_list(filepath, criteria_list\u001b[39m=\u001b[39mcrit_list)\n\u001b[1;32m      <a href='vscode-notebook-cell://ssh-remote%2Bperlmutter-p1.nersc.gov/global/homes/j/joeschm/fusion_research/ARCHIVE/GENE_code_V5/read_simulation_data/UNIT_TESTS_simulation_data/UT_simulation_data.ipynb#W3sdnNjb2RlLXJlbW90ZQ%3D%3D?line=4'>5</a>\u001b[0m \u001b[39mprint\u001b[39m(\u001b[39mlen\u001b[39m(sim_dict_list))\n\u001b[1;32m      <a href='vscode-notebook-cell://ssh-remote%2Bperlmutter-p1.nersc.gov/global/homes/j/joeschm/fusion_research/ARCHIVE/GENE_code_V5/read_simulation_data/UNIT_TESTS_simulation_data/UT_simulation_data.ipynb#W3sdnNjb2RlLXJlbW90ZQ%3D%3D?line=6'>7</a>\u001b[0m \u001b[39mfor\u001b[39;00m sim_dict \u001b[39min\u001b[39;00m sim_dict_list:\n",
      "File \u001b[0;32m/global/u1/j/joeschm/fusion_research/ARCHIVE/GENE_code_V5/read_simulation_data/GP_simulation_data_V5.py:87\u001b[0m, in \u001b[0;36mfilepath_to_simulation_dict_list\u001b[0;34m(filepath_list, criteria_list, load_spec, debug)\u001b[0m\n\u001b[1;32m     80\u001b[0m simulation_dict \u001b[39m=\u001b[39m simulation_filepath_to_dict(simulation_directory, suffix, load_spec, criteria_dict_list)\n\u001b[1;32m     84\u001b[0m \u001b[39m# simulation_dict_list.append(simulation_dict)            \u001b[39;00m\n\u001b[1;32m     85\u001b[0m \n\u001b[1;32m     86\u001b[0m \u001b[39m# Check if all criteria are satisfied\u001b[39;00m\n\u001b[0;32m---> 87\u001b[0m all_criteria_pass \u001b[39m=\u001b[39m all_criteria_checker(simulation_dict, criteria_dict_list, debug)\n\u001b[1;32m     89\u001b[0m \u001b[39m# Append to results if criteria are met\u001b[39;00m\n\u001b[1;32m     90\u001b[0m \u001b[39mif\u001b[39;00m all_criteria_pass:\n",
      "File \u001b[0;32m/global/u1/j/joeschm/fusion_research/ARCHIVE/GENE_code_V5/read_simulation_data/GP_simulation_data_V5.py:229\u001b[0m, in \u001b[0;36mall_criteria_checker\u001b[0;34m(simulation_dict, criteria_dict_list, debug)\u001b[0m\n\u001b[1;32m    227\u001b[0m \u001b[39m# If the current key points to a dictionary, check its criteria\u001b[39;00m\n\u001b[1;32m    228\u001b[0m \u001b[39mif\u001b[39;00m \u001b[39misinstance\u001b[39m(dict_to_check, \u001b[39mdict\u001b[39m):\n\u001b[0;32m--> 229\u001b[0m     dict_crit_pass_list \u001b[39m=\u001b[39m criteria_dict_checker(criteria_dict_list, global_crit_check, dict_to_check, debug)\n\u001b[1;32m    231\u001b[0m     \u001b[39m# Update the global criteria checklist\u001b[39;00m\n\u001b[1;32m    232\u001b[0m     global_crit_check \u001b[39m=\u001b[39m [x \u001b[39m+\u001b[39m y \u001b[39m>\u001b[39m \u001b[39m0\u001b[39m \u001b[39mfor\u001b[39;00m x, y \u001b[39min\u001b[39;00m \u001b[39mzip\u001b[39m(global_crit_check, dict_crit_pass_list)]\n",
      "File \u001b[0;32m/global/u1/j/joeschm/fusion_research/ARCHIVE/GENE_code_V5/read_simulation_data/criteria_checker/dict_criteria_checker_V4.py:53\u001b[0m, in \u001b[0;36mcriteria_dict_checker\u001b[0;34m(criteria_dict_list, global_crit_check, dict_to_check, debug)\u001b[0m\n\u001b[1;32m     50\u001b[0m units \u001b[39m=\u001b[39m criterion_dict[\u001b[39m'\u001b[39m\u001b[39munits\u001b[39m\u001b[39m'\u001b[39m]\n\u001b[1;32m     51\u001b[0m criteria \u001b[39m=\u001b[39m criterion_dict[\u001b[39m'\u001b[39m\u001b[39mcriteria\u001b[39m\u001b[39m'\u001b[39m]\n\u001b[0;32m---> 53\u001b[0m var_in_dict \u001b[39m=\u001b[39m variable_key \u001b[39min\u001b[39;00m dict_to_check[\u001b[39m'\u001b[39m\u001b[39mkey_list\u001b[39m\u001b[39m'\u001b[39m] \u001b[39m# Check if variable_key is present in dict_to_check\u001b[39;00m\n\u001b[1;32m     54\u001b[0m \u001b[39m# THIS causes an issue for nrg dict as it doesn't have Q_ES but Q_ES1\u001b[39;00m\n\u001b[1;32m     55\u001b[0m \u001b[39m# Add a feature list to each dict to see if the criteria var is in the feature list instead\u001b[39;00m\n\u001b[1;32m     57\u001b[0m unitless \u001b[39m=\u001b[39m (units \u001b[39m==\u001b[39m \u001b[39mNone\u001b[39;00m)  \u001b[39m# Check if criterion doesn't have units\u001b[39;00m\n",
      "\u001b[0;31mKeyError\u001b[0m: 'key_list'"
     ]
    }
   ],
   "source": [
    "filepath = '/pscratch/sd/j/joeschm/NSXTU_discharges/129015/r_0.936008_OM_top/MTM_limit/kymin_0.1'\n",
    "crit_list = ['gamma>.5']\n",
    "\n",
    "sim_dict_list = filepath_to_simulation_dict_list(filepath, criteria_list=crit_list)\n",
    "print(len(sim_dict_list))\n",
    "\n",
    "for sim_dict in sim_dict_list:\n",
    "    print(sim_dict['omega_dict']['gamma'])"
   ]
  },
  {
   "cell_type": "code",
   "execution_count": 6,
   "metadata": {},
   "outputs": [
    {
     "name": "stdout",
     "output_type": "stream",
     "text": [
      "['Q_ES', 'Q_EM']\n",
      "last\n",
      "before [{'variable_key': 'time', 'criteria': 'time==last', 'units': None, 'analysis': 'non-numerical'}, {'variable_key': 'Q_ES', 'criteria': 'Q_ES', 'units': None, 'analysis': None}, {'variable_key': 'Q_EM', 'criteria': 'Q_EM', 'units': None, 'analysis': None}]\n",
      "after [{'variable_key': 'Q_ES', 'criteria': 'Q_ES', 'units': None, 'analysis': None}, {'variable_key': 'Q_EM', 'criteria': 'Q_EM', 'units': None, 'analysis': None}]\n",
      "before [{'variable_key': 'time', 'criteria': 'time==last', 'units': None, 'analysis': 'non-numerical'}, {'variable_key': 'Q_ES', 'criteria': 'Q_ES', 'units': None, 'analysis': None}, {'variable_key': 'Q_EM', 'criteria': 'Q_EM', 'units': None, 'analysis': None}]\n",
      "after [{'variable_key': 'Q_ES', 'criteria': 'Q_ES', 'units': None, 'analysis': None}, {'variable_key': 'Q_EM', 'criteria': 'Q_EM', 'units': None, 'analysis': None}]\n"
     ]
    },
    {
     "ename": "NameError",
     "evalue": "name 'Q_ES' is not defined",
     "output_type": "error",
     "traceback": [
      "\u001b[0;31m---------------------------------------------------------------------------\u001b[0m",
      "\u001b[0;31mNameError\u001b[0m                                 Traceback (most recent call last)",
      "\u001b[1;32m/global/homes/j/joeschm/fusion_research/ARCHIVE/GENE_code_V5/read_simulation_data/UNIT_TESTS_simulation_data/UT_simulation_data.ipynb Cell 5\u001b[0m line \u001b[0;36m1\n\u001b[1;32m      <a href='vscode-notebook-cell://ssh-remote%2Bperlmutter-p1.nersc.gov/global/homes/j/joeschm/fusion_research/ARCHIVE/GENE_code_V5/read_simulation_data/UNIT_TESTS_simulation_data/UT_simulation_data.ipynb#W4sdnNjb2RlLXJlbW90ZQ%3D%3D?line=8'>9</a>\u001b[0m crit_list \u001b[39m=\u001b[39m [\u001b[39m'\u001b[39m\u001b[39mtime==last\u001b[39m\u001b[39m'\u001b[39m, \u001b[39m'\u001b[39m\u001b[39mQ_ES\u001b[39m\u001b[39m'\u001b[39m, \u001b[39m'\u001b[39m\u001b[39mQ_EM\u001b[39m\u001b[39m'\u001b[39m]\n\u001b[1;32m     <a href='vscode-notebook-cell://ssh-remote%2Bperlmutter-p1.nersc.gov/global/homes/j/joeschm/fusion_research/ARCHIVE/GENE_code_V5/read_simulation_data/UNIT_TESTS_simulation_data/UT_simulation_data.ipynb#W4sdnNjb2RlLXJlbW90ZQ%3D%3D?line=9'>10</a>\u001b[0m \u001b[39m# crit_list = ['gamma > .3']\u001b[39;00m\n\u001b[0;32m---> <a href='vscode-notebook-cell://ssh-remote%2Bperlmutter-p1.nersc.gov/global/homes/j/joeschm/fusion_research/ARCHIVE/GENE_code_V5/read_simulation_data/UNIT_TESTS_simulation_data/UT_simulation_data.ipynb#W4sdnNjb2RlLXJlbW90ZQ%3D%3D?line=11'>12</a>\u001b[0m sim_dict_list \u001b[39m=\u001b[39m filepath_to_simulation_dict_list(filepath, criteria_list\u001b[39m=\u001b[39mcrit_list, load_spec\u001b[39m=\u001b[39m[\u001b[39m'\u001b[39m\u001b[39me\u001b[39m\u001b[39m'\u001b[39m])\n\u001b[1;32m     <a href='vscode-notebook-cell://ssh-remote%2Bperlmutter-p1.nersc.gov/global/homes/j/joeschm/fusion_research/ARCHIVE/GENE_code_V5/read_simulation_data/UNIT_TESTS_simulation_data/UT_simulation_data.ipynb#W4sdnNjb2RlLXJlbW90ZQ%3D%3D?line=12'>13</a>\u001b[0m \u001b[39m# sim_dict_list = filepath_to_simulation_dict_list(filepath, criteria_list=crit_list, load_files=['nrg', 'omega'], load_spec='e')\u001b[39;00m\n\u001b[1;32m     <a href='vscode-notebook-cell://ssh-remote%2Bperlmutter-p1.nersc.gov/global/homes/j/joeschm/fusion_research/ARCHIVE/GENE_code_V5/read_simulation_data/UNIT_TESTS_simulation_data/UT_simulation_data.ipynb#W4sdnNjb2RlLXJlbW90ZQ%3D%3D?line=14'>15</a>\u001b[0m \u001b[39mprint\u001b[39m(\u001b[39mlen\u001b[39m(sim_dict_list))\n",
      "File \u001b[0;32m/global/u1/j/joeschm/fusion_research/ARCHIVE/GENE_code_V5/read_simulation_data/GP_simulation_data_V5.py:87\u001b[0m, in \u001b[0;36mfilepath_to_simulation_dict_list\u001b[0;34m(filepath_list, criteria_list, load_spec, debug)\u001b[0m\n\u001b[1;32m     80\u001b[0m simulation_dict \u001b[39m=\u001b[39m simulation_filepath_to_dict(simulation_directory, suffix, load_spec, criteria_dict_list)\n\u001b[1;32m     84\u001b[0m \u001b[39m# simulation_dict_list.append(simulation_dict)            \u001b[39;00m\n\u001b[1;32m     85\u001b[0m \n\u001b[1;32m     86\u001b[0m \u001b[39m# Check if all criteria are satisfied\u001b[39;00m\n\u001b[0;32m---> 87\u001b[0m all_criteria_pass \u001b[39m=\u001b[39m all_criteria_checker(simulation_dict, criteria_dict_list, debug)\n\u001b[1;32m     89\u001b[0m \u001b[39m# Append to results if criteria are met\u001b[39;00m\n\u001b[1;32m     90\u001b[0m \u001b[39mif\u001b[39;00m all_criteria_pass:\n",
      "File \u001b[0;32m/global/u1/j/joeschm/fusion_research/ARCHIVE/GENE_code_V5/read_simulation_data/GP_simulation_data_V5.py:229\u001b[0m, in \u001b[0;36mall_criteria_checker\u001b[0;34m(simulation_dict, criteria_dict_list, debug)\u001b[0m\n\u001b[1;32m    227\u001b[0m \u001b[39m# If the current key points to a dictionary, check its criteria\u001b[39;00m\n\u001b[1;32m    228\u001b[0m \u001b[39mif\u001b[39;00m \u001b[39misinstance\u001b[39m(dict_to_check, \u001b[39mdict\u001b[39m):\n\u001b[0;32m--> 229\u001b[0m     dict_crit_pass_list \u001b[39m=\u001b[39m criteria_dict_checker(criteria_dict_list, global_crit_check, dict_to_check, debug)\n\u001b[1;32m    231\u001b[0m     \u001b[39m# Update the global criteria checklist\u001b[39;00m\n\u001b[1;32m    232\u001b[0m     global_crit_check \u001b[39m=\u001b[39m [x \u001b[39m+\u001b[39m y \u001b[39m>\u001b[39m \u001b[39m0\u001b[39m \u001b[39mfor\u001b[39;00m x, y \u001b[39min\u001b[39;00m \u001b[39mzip\u001b[39m(global_crit_check, dict_crit_pass_list)]\n",
      "File \u001b[0;32m/global/u1/j/joeschm/fusion_research/ARCHIVE/GENE_code_V5/read_simulation_data/criteria_checker/dict_criteria_checker_V4.py:71\u001b[0m, in \u001b[0;36mcriteria_dict_checker\u001b[0;34m(criteria_dict_list, global_crit_check, dict_to_check, debug)\u001b[0m\n\u001b[1;32m     68\u001b[0m         \u001b[39mif\u001b[39;00m debug: \u001b[39mprint\u001b[39m(variable_key, \u001b[39m'\u001b[39m\u001b[39m==\u001b[39m\u001b[39m'\u001b[39m, variable_key, \u001b[39m'\u001b[39m\u001b[39m// units:\u001b[39m\u001b[39m'\u001b[39m, units)\n\u001b[1;32m     69\u001b[0m     \u001b[39m# Evaluate the criterion against the dict_to_check\u001b[39;00m\n\u001b[1;32m     70\u001b[0m     \u001b[39melse\u001b[39;00m:\n\u001b[0;32m---> 71\u001b[0m         ind_crit_pass_list\u001b[39m.\u001b[39mappend(\u001b[39meval\u001b[39m(criteria, dict_to_check))\n\u001b[1;32m     73\u001b[0m         \u001b[39mif\u001b[39;00m debug: \u001b[39mprint\u001b[39m(criteria, \u001b[39m'\u001b[39m\u001b[39m//\u001b[39m\u001b[39m'\u001b[39m, variable_key, \u001b[39m'\u001b[39m\u001b[39m=\u001b[39m\u001b[39m'\u001b[39m, dict_to_check[variable_key], \u001b[39m'\u001b[39m\u001b[39m// units:\u001b[39m\u001b[39m'\u001b[39m, units)\n\u001b[1;32m     74\u001b[0m \u001b[39m# If the criterion has units\u001b[39;00m\n\u001b[1;32m     75\u001b[0m \u001b[39melse\u001b[39;00m:\n",
      "File \u001b[0;32m<string>:1\u001b[0m\n",
      "\u001b[0;31mNameError\u001b[0m: name 'Q_ES' is not defined"
     ]
    }
   ],
   "source": [
    "filepath = '/pscratch/sd/j/joeschm/NSXTU_discharges/129015/r_0.936008_OM_top/MTM_limit/kymin_0.1'\n",
    "# filepath = '/pscratch/sd/j/joeschm/NSXTU_discharges/X_TEST/scanfiles0002'\n",
    "\n",
    "\n",
    "\n",
    "# crit_list = ['1<time<4']\n",
    "# crit_list = ['time==last']\n",
    "# crit_list = ['time==last', 'Q_ES', 'Q_EM']\n",
    "crit_list = ['time==last', 'Q_ES', 'Q_EM']\n",
    "# crit_list = ['gamma > .3']\n",
    "\n",
    "sim_dict_list = filepath_to_simulation_dict_list(filepath, criteria_list=crit_list, load_spec=['e'])\n",
    "# sim_dict_list = filepath_to_simulation_dict_list(filepath, criteria_list=crit_list, load_files=['nrg', 'omega'], load_spec='e')\n",
    "\n",
    "print(len(sim_dict_list))\n",
    "# sim_dict_list = filepath_to_simulation_dict_list(filepath, criteria_list=crit_list, load_files=['omega'], load_spec='e')\n",
    "for sim_dict in sim_dict_list:\n",
    "    nrg_dict = sim_dict['nrg_dict']\n",
    "    print(sim_dict['suffix'], '/// filepath: ', nrg_dict['filepath'])\n",
    "    # for nrg_key in nrg_dict.keys():\n",
    "    #     if (len(nrg_dict[nrg_key]) > 0) and (nrg_key not in ['key_list', 'suffix', 'directory']):\n",
    "    #         print(nrg_key, nrg_dict[nrg_key])\n",
    "\n",
    "print(sim_dict_list[0]['nrg_dict'])"
   ]
  },
  {
   "cell_type": "code",
   "execution_count": null,
   "metadata": {},
   "outputs": [
    {
     "name": "stdout",
     "output_type": "stream",
     "text": [
      "1\n",
      "0007 /// filepath:  /pscratch/sd/j/joeschm/NSXTU_discharges/129015/r_0.936008_OM_top/MTM_limit/kymin_0.1/scanfiles0000/nrg_0007\n",
      "{'filepath': '/pscratch/sd/j/joeschm/NSXTU_discharges/129015/r_0.936008_OM_top/MTM_limit/kymin_0.1/scanfiles0000/nrg_0007', 'key_list': ['n_mag', 'u_par_mag', 'T_par_mag', 'T_perp_mag', 'Gamma_ES', 'Gamma_EM', 'Q_ES', 'Q_EM', 'Pi_ES', 'Pi_EM'], 'time': array([334.86892]), 'n_mag1': [], 'u_par_mag1': [], 'T_par_mag1': [], 'T_perp_mag1': [], 'Gamma_ES1': [], 'Gamma_EM1': [], 'Q_ES1': [359.79], 'Q_EM1': [-13.626], 'Pi_ES1': [], 'Pi_EM1': [], 'n_mag2': [], 'u_par_mag2': [], 'T_par_mag2': [], 'T_perp_mag2': [], 'Gamma_ES2': [], 'Gamma_EM2': [], 'Q_ES2': [185.64], 'Q_EM2': [33.435], 'Pi_ES2': [], 'Pi_EM2': [], 'n_mag3': [], 'u_par_mag3': [], 'T_par_mag3': [], 'T_perp_mag3': [], 'Gamma_ES3': [], 'Gamma_EM3': [], 'Q_ES3': [49.465], 'Q_EM3': [-0.74485], 'Pi_ES3': [], 'Pi_EM3': []}\n"
     ]
    }
   ],
   "source": [
    "filepath = '/pscratch/sd/j/joeschm/NSXTU_discharges/129015/r_0.936008_OM_top/MTM_limit/kymin_0.1/scanfiles0000/parameters_0007'\n",
    "# filepath = '/pscratch/sd/j/joeschm/NSXTU_discharges/X_TEST/scanfiles0002'\n",
    "\n",
    "\n",
    "\n",
    "# crit_list = ['1<time<4']\n",
    "# crit_list = ['time==last']\n",
    "# crit_list = ['time==last', 'Q_ES', 'Q_EM']\n",
    "# crit_list = []\n",
    "crit_list = ['time==last', 'Q_ES', 'Q_EM']\n",
    "# crit_list = ['gamma > .3']\n",
    "\n",
    "sim_dict_list = filepath_to_simulation_dict_list(filepath, criteria_list=crit_list, load_files=['nrg'])\n",
    "# sim_dict_list = filepath_to_simulation_dict_list(filepath, criteria_list=crit_list, load_files=['nrg', 'omega'], load_spec='e')\n",
    "\n",
    "print(len(sim_dict_list))\n",
    "# sim_dict_list = filepath_to_simulation_dict_list(filepath, criteria_list=crit_list, load_files=['omega'], load_spec='e')\n",
    "for sim_dict in sim_dict_list:\n",
    "    nrg_dict = sim_dict['nrg_dict']\n",
    "    print(sim_dict['suffix'], '/// filepath: ', nrg_dict['filepath'])\n",
    "    # for nrg_key in nrg_dict.keys():\n",
    "    #     if (len(nrg_dict[nrg_key]) > 0) and (nrg_key not in ['key_list', 'suffix', 'directory']):\n",
    "    #         print(nrg_key, nrg_dict[nrg_key])\n",
    "\n",
    "print(sim_dict_list[0]['nrg_dict'])"
   ]
  },
  {
   "cell_type": "code",
   "execution_count": null,
   "metadata": {},
   "outputs": [
    {
     "ename": "KeyError",
     "evalue": "'omega_dict'",
     "output_type": "error",
     "traceback": [
      "\u001b[0;31m---------------------------------------------------------------------------\u001b[0m",
      "\u001b[0;31mKeyError\u001b[0m                                  Traceback (most recent call last)",
      "\u001b[1;32m/global/homes/j/joeschm/fusion_research/GENE_code_V4/simulation_data/UNIT_TESTS_simulation_data/UT_simulation_data.ipynb Cell 5\u001b[0m line \u001b[0;36m3\n\u001b[1;32m      <a href='vscode-notebook-cell://ssh-remote%2Bperlmutter-p1.nersc.gov/global/homes/j/joeschm/fusion_research/GENE_code_V4/simulation_data/UNIT_TESTS_simulation_data/UT_simulation_data.ipynb#W4sdnNjb2RlLXJlbW90ZQ%3D%3D?line=0'>1</a>\u001b[0m \u001b[39m# print(sim_dict_list)\u001b[39;00m\n\u001b[1;32m      <a href='vscode-notebook-cell://ssh-remote%2Bperlmutter-p1.nersc.gov/global/homes/j/joeschm/fusion_research/GENE_code_V4/simulation_data/UNIT_TESTS_simulation_data/UT_simulation_data.ipynb#W4sdnNjb2RlLXJlbW90ZQ%3D%3D?line=1'>2</a>\u001b[0m \u001b[39mfor\u001b[39;00m sim_dict \u001b[39min\u001b[39;00m sim_dict_list:\n\u001b[0;32m----> <a href='vscode-notebook-cell://ssh-remote%2Bperlmutter-p1.nersc.gov/global/homes/j/joeschm/fusion_research/GENE_code_V4/simulation_data/UNIT_TESTS_simulation_data/UT_simulation_data.ipynb#W4sdnNjb2RlLXJlbW90ZQ%3D%3D?line=2'>3</a>\u001b[0m     omega_dict \u001b[39m=\u001b[39m sim_dict[\u001b[39m'\u001b[39m\u001b[39momega_dict\u001b[39m\u001b[39m'\u001b[39m]\n\u001b[1;32m      <a href='vscode-notebook-cell://ssh-remote%2Bperlmutter-p1.nersc.gov/global/homes/j/joeschm/fusion_research/GENE_code_V4/simulation_data/UNIT_TESTS_simulation_data/UT_simulation_data.ipynb#W4sdnNjb2RlLXJlbW90ZQ%3D%3D?line=4'>5</a>\u001b[0m     \u001b[39m# print(omega_dict)\u001b[39;00m\n\u001b[1;32m      <a href='vscode-notebook-cell://ssh-remote%2Bperlmutter-p1.nersc.gov/global/homes/j/joeschm/fusion_research/GENE_code_V4/simulation_data/UNIT_TESTS_simulation_data/UT_simulation_data.ipynb#W4sdnNjb2RlLXJlbW90ZQ%3D%3D?line=6'>7</a>\u001b[0m     \u001b[39mfor\u001b[39;00m key \u001b[39min\u001b[39;00m omega_dict\u001b[39m.\u001b[39mkeys():\n",
      "\u001b[0;31mKeyError\u001b[0m: 'omega_dict'"
     ]
    }
   ],
   "source": [
    "\n",
    "# print(sim_dict_list)\n",
    "for sim_dict in sim_dict_list:\n",
    "    omega_dict = sim_dict['omega_dict']\n",
    "\n",
    "    # print(omega_dict)\n",
    "\n",
    "    for key in omega_dict.keys():\n",
    "        if (key == 'kymin') or (key == 'suffix') or (key == 'gamma'):\n",
    "            print(key,':', omega_dict[key])\n",
    "    \n",
    "    print('\\n')\n",
    "\n",
    "\n",
    "print('-----------------------------')\n",
    "\n",
    "for sim_dict in sim_dict_list:\n",
    "    print(sim_dict['suffix'])\n",
    "    \n",
    "    nrg_dict = sim_dict['nrg_dict']\n",
    "    for key in nrg_dict.keys():\n",
    "        # if len(nrg_dict[key]) > 0:\n",
    "        if (key == 'time') or (key == 'Q_ES2') or (key == 'Q_EM2'):\n",
    "            print(key, nrg_dict[key])"
   ]
  },
  {
   "cell_type": "code",
   "execution_count": 7,
   "metadata": {},
   "outputs": [
    {
     "ename": "TypeError",
     "evalue": "filepath_to_simulation_dict_list() got an unexpected keyword argument 'load_files'",
     "output_type": "error",
     "traceback": [
      "\u001b[0;31m---------------------------------------------------------------------------\u001b[0m",
      "\u001b[0;31mTypeError\u001b[0m                                 Traceback (most recent call last)",
      "\u001b[1;32m/global/homes/j/joeschm/fusion_research/ARCHIVE/GENE_code_V5/read_simulation_data/UNIT_TESTS_simulation_data/UT_simulation_data.ipynb Cell 8\u001b[0m line \u001b[0;36m3\n\u001b[1;32m      <a href='vscode-notebook-cell://ssh-remote%2Bperlmutter-p1.nersc.gov/global/homes/j/joeschm/fusion_research/ARCHIVE/GENE_code_V5/read_simulation_data/UNIT_TESTS_simulation_data/UT_simulation_data.ipynb#X10sdnNjb2RlLXJlbW90ZQ%3D%3D?line=0'>1</a>\u001b[0m crit_list \u001b[39m=\u001b[39m [\u001b[39m'\u001b[39m\u001b[39mtime > 10\u001b[39m\u001b[39m'\u001b[39m]\n\u001b[0;32m----> <a href='vscode-notebook-cell://ssh-remote%2Bperlmutter-p1.nersc.gov/global/homes/j/joeschm/fusion_research/ARCHIVE/GENE_code_V5/read_simulation_data/UNIT_TESTS_simulation_data/UT_simulation_data.ipynb#X10sdnNjb2RlLXJlbW90ZQ%3D%3D?line=2'>3</a>\u001b[0m sim_dict \u001b[39m=\u001b[39m filepath_to_simulation_dict_list(filepath, criteria_list\u001b[39m=\u001b[39mcrit_list, load_files\u001b[39m=\u001b[39m[\u001b[39m'\u001b[39m\u001b[39mnrg\u001b[39m\u001b[39m'\u001b[39m, \u001b[39m'\u001b[39m\u001b[39momega\u001b[39m\u001b[39m'\u001b[39m], load_spec\u001b[39m=\u001b[39m\u001b[39m'\u001b[39m\u001b[39mc\u001b[39m\u001b[39m'\u001b[39m)\n",
      "\u001b[0;31mTypeError\u001b[0m: filepath_to_simulation_dict_list() got an unexpected keyword argument 'load_files'"
     ]
    }
   ],
   "source": [
    "crit_list = ['time > 10']\n",
    "\n",
    "sim_dict = filepath_to_simulation_dict_list(filepath, criteria_list=crit_list, load_files=['nrg', 'omega'], load_spec='c')"
   ]
  },
  {
   "cell_type": "code",
   "execution_count": null,
   "metadata": {},
   "outputs": [],
   "source": []
  }
 ],
 "metadata": {
  "kernelspec": {
   "display_name": "jupyter_env",
   "language": "python",
   "name": "python3"
  },
  "language_info": {
   "codemirror_mode": {
    "name": "ipython",
    "version": 3
   },
   "file_extension": ".py",
   "mimetype": "text/x-python",
   "name": "python",
   "nbconvert_exporter": "python",
   "pygments_lexer": "ipython3",
   "version": "3.11.4"
  },
  "orig_nbformat": 4
 },
 "nbformat": 4,
 "nbformat_minor": 2
}
