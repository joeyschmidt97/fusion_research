{
 "cells": [
  {
   "cell_type": "code",
   "execution_count": 11,
   "metadata": {},
   "outputs": [],
   "source": [
    "import os\n",
    "os.chdir(\"..\")\n",
    "from find_buried_filetypes import count_files_in_dir, single_path_find_buried_files, find_buried_filetypes"
   ]
  },
  {
   "cell_type": "markdown",
   "metadata": {},
   "source": [
    "# Count files in directory"
   ]
  },
  {
   "cell_type": "markdown",
   "metadata": {},
   "source": [
    "### Error - not a directory given or does not exist"
   ]
  },
  {
   "cell_type": "code",
   "execution_count": 12,
   "metadata": {},
   "outputs": [],
   "source": [
    "directory_filepath = '/pscratch/sd/j/joeschm/NSXTU_discharges/X_TEST/TEST_3spec_k1/omega.dat'\n",
    "\n",
    "try:\n",
    "    count_files_in_dir(directory_filepath , 'omega')\n",
    "    assert False, \"Function did not raise ValueError as expected\"\n",
    "except NotADirectoryError as e:\n",
    "    assert \"The path given is not a directory: /pscratch/sd/j/joeschm/NSXTU_discharges/X_TEST/TEST_3spec_k1/omega.dat\" in str(e)"
   ]
  },
  {
   "cell_type": "code",
   "execution_count": 13,
   "metadata": {},
   "outputs": [],
   "source": [
    "directory_filepath = '/pscratch/sd/j/joeschm/NSXTU_discharges/X_TEST/blah'\n",
    "\n",
    "try:\n",
    "    count_files_in_dir(directory_filepath , 'omega')\n",
    "    assert False, \"Function did not raise ValueError as expected\"\n",
    "except FileNotFoundError as e:\n",
    "    assert \"The directory does not exist: /pscratch/sd/j/joeschm/NSXTU_discharges/X_TEST/blah\" in str(e)"
   ]
  },
  {
   "cell_type": "markdown",
   "metadata": {},
   "source": [
    "### Working cases"
   ]
  },
  {
   "cell_type": "code",
   "execution_count": 14,
   "metadata": {},
   "outputs": [],
   "source": [
    "directory_filepath = '/pscratch/sd/j/joeschm/NSXTU_discharges/X_TEST/scanfiles0004'\n",
    "\n",
    "assert count_files_in_dir(directory_filepath , 'omega') == 5\n",
    "assert count_files_in_dir(directory_filepath , 'parameters') == 6\n",
    "assert count_files_in_dir(directory_filepath , 'nrg') == 5\n",
    "\n",
    "directory_filepath = '/pscratch/sd/j/joeschm/NSXTU_discharges/X_TEST/TEST_3spec_k1'\n",
    "\n",
    "assert count_files_in_dir(directory_filepath , 'omega') == 1\n",
    "assert count_files_in_dir(directory_filepath , 'parameters') == 1\n",
    "assert count_files_in_dir(directory_filepath , 'nrg') == 1\n",
    "\n",
    "directory_filepath = '/pscratch/sd/j/joeschm/NSXTU_discharges/X_TEST'\n",
    "\n",
    "assert count_files_in_dir(directory_filepath , 'omega') == 0\n",
    "assert count_files_in_dir(directory_filepath , 'parameters') == 0\n",
    "assert count_files_in_dir(directory_filepath , 'nrg') == 0"
   ]
  },
  {
   "cell_type": "markdown",
   "metadata": {},
   "source": [
    "# Find buried filetype files"
   ]
  },
  {
   "cell_type": "markdown",
   "metadata": {},
   "source": [
    "## Single path given"
   ]
  },
  {
   "cell_type": "markdown",
   "metadata": {},
   "source": [
    "### Working examples"
   ]
  },
  {
   "cell_type": "code",
   "execution_count": 15,
   "metadata": {},
   "outputs": [],
   "source": [
    "directory_filepath = '/pscratch/sd/j/joeschm/NSXTU_discharges/X_TEST'\n",
    "param_filepath_list = single_path_find_buried_files(directory_filepath, filetype='field')\n",
    "assert len(param_filepath_list) == 23\n",
    "\n",
    "directory_filepath = '/pscratch/sd/j/joeschm/NSXTU_discharges/X_TEST/scanfiles0004'\n",
    "omega_filepath_list = single_path_find_buried_files(directory_filepath, filetype='omega')\n",
    "assert len(omega_filepath_list) == 5\n",
    "\n",
    "directory_filepath = '/pscratch/sd/j/joeschm/NSXTU_discharges/X_TEST/TEST_3spec_k1'\n",
    "nrg_filepath_list = single_path_find_buried_files(directory_filepath, filetype='nrg')\n",
    "assert len(nrg_filepath_list) == 1\n",
    "\n",
    "directory_filepath = '/pscratch/sd/j/joeschm/NSXTU_discharges/X_TEST/TEST_3spec_k1/field.dat'\n",
    "field_filepath_list = single_path_find_buried_files(directory_filepath, filetype='field')\n",
    "assert len(field_filepath_list) == 1"
   ]
  },
  {
   "cell_type": "markdown",
   "metadata": {},
   "source": [
    "### Error - directory does not exist"
   ]
  },
  {
   "cell_type": "code",
   "execution_count": 16,
   "metadata": {},
   "outputs": [],
   "source": [
    "directory_filepath = '/pscratch/sd/j/joeschm/NSXTU_discharges/X_TEST/BLAH'\n",
    "\n",
    "try:\n",
    "    count_files_in_dir(directory_filepath , 'omega')\n",
    "    assert False, \"Function did not raise ValueError as expected\"\n",
    "except FileNotFoundError as e:\n",
    "    assert \"The directory does not exist: /pscratch/sd/j/joeschm/NSXTU_discharges/X_TEST/BLAH\" in str(e)"
   ]
  },
  {
   "cell_type": "markdown",
   "metadata": {},
   "source": [
    "### Error - No files found at depth 2"
   ]
  },
  {
   "cell_type": "code",
   "execution_count": 17,
   "metadata": {},
   "outputs": [],
   "source": [
    "directory_filepath = '/pscratch/sd/j/joeschm/NSXTU_discharges'\n",
    "\n",
    "try:\n",
    "    single_path_find_buried_files(directory_filepath, filetype='parameters')\n",
    "    assert False, \"Function did not raise ValueError as expected\"\n",
    "except FileNotFoundError as e:\n",
    "    assert \"No files of type 'parameters' were found at a depth of 2 for given filepath.\" in str(e)"
   ]
  },
  {
   "cell_type": "markdown",
   "metadata": {},
   "source": [
    "## Multiple paths given"
   ]
  },
  {
   "cell_type": "code",
   "execution_count": 18,
   "metadata": {},
   "outputs": [],
   "source": [
    "directory_filepath = ['/pscratch/sd/j/joeschm/NSXTU_discharges/X_TEST/scanfiles0003', \n",
    "                      '/pscratch/sd/j/joeschm/NSXTU_discharges/X_TEST/BLAH']\n",
    "\n",
    "try:\n",
    "    find_buried_filetypes(directory_filepath, filetype='omega')\n",
    "    assert False, \"Function did not raise ValueError as expected\"\n",
    "except FileNotFoundError as e:\n",
    "    assert \"The directory does not exist: /pscratch/sd/j/joeschm/NSXTU_discharges/X_TEST/BLAH\" in str(e)"
   ]
  },
  {
   "cell_type": "code",
   "execution_count": 20,
   "metadata": {},
   "outputs": [],
   "source": [
    "directory_filepath = ['/pscratch/sd/j/joeschm/NSXTU_discharges/X_TEST/scanfiles0003', \n",
    "                      '/pscratch/sd/j/joeschm/NSXTU_discharges/X_TEST/scanfiles0002']\n",
    "\n",
    "omega_filepath_list = find_buried_filetypes(directory_filepath, filetype='omega')\n",
    "\n",
    "assert len(omega_filepath_list) == 6"
   ]
  }
 ],
 "metadata": {
  "kernelspec": {
   "display_name": "jupyter_env",
   "language": "python",
   "name": "python3"
  },
  "language_info": {
   "codemirror_mode": {
    "name": "ipython",
    "version": 3
   },
   "file_extension": ".py",
   "mimetype": "text/x-python",
   "name": "python",
   "nbconvert_exporter": "python",
   "pygments_lexer": "ipython3",
   "version": "3.11.4"
  },
  "orig_nbformat": 4
 },
 "nbformat": 4,
 "nbformat_minor": 2
}
