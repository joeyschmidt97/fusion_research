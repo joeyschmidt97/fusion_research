{
 "cells": [
  {
   "cell_type": "code",
   "execution_count": 1,
   "metadata": {},
   "outputs": [],
   "source": [
    "# import os\n",
    "# os.chdir(\"..\")\n",
    "# from criteria_parser_V4 import extract_units_criteria, range_spliter, ind_criteria_parser, criteria_list_parser\n",
    "\n",
    "import os\n",
    "os.chdir(\"..\")\n",
    "from criteria_parser_V4 import extract_criteria_values, criteria_list_to_dict_list"
   ]
  },
  {
   "cell_type": "markdown",
   "metadata": {},
   "source": [
    "# Individual Criteria parser"
   ]
  },
  {
   "cell_type": "code",
   "execution_count": 11,
   "metadata": {},
   "outputs": [],
   "source": [
    "criteria1 = 'time<2'\n",
    "output_tuple1 = [('time', 'time<2', None, 'numerical')]\n",
    "\n",
    "assert extract_criteria_values(criteria1) == output_tuple1"
   ]
  },
  {
   "cell_type": "code",
   "execution_count": 12,
   "metadata": {},
   "outputs": [],
   "source": [
    "criteria2 = 'omega==last'\n",
    "output_tuple2 = [('omega', 'omega==last', None, 'non-numerical')]\n",
    "\n",
    "assert extract_criteria_values(criteria2) == output_tuple2"
   ]
  },
  {
   "cell_type": "code",
   "execution_count": 16,
   "metadata": {},
   "outputs": [],
   "source": [
    "criteria3 = '1<time(s)<4'\n",
    "output_tuple3 = [('time', 'time>1', 's', 'numerical'), ('time', 'time<4', 's', 'numerical')]\n",
    "\n",
    "assert extract_criteria_values(criteria3) == output_tuple3\n"
   ]
  },
  {
   "cell_type": "markdown",
   "metadata": {},
   "source": [
    "# Error handling"
   ]
  },
  {
   "cell_type": "code",
   "execution_count": 20,
   "metadata": {},
   "outputs": [
    {
     "ename": "LogicalOperatorError",
     "evalue": "Please ensure criteria '1<<time(s)<4' is written using proper logical operators. Examples are given below:\n                         - gamma(kHz) <= 1\n                         - 1 < kymin < 10\n                         - time == last",
     "output_type": "error",
     "traceback": [
      "\u001b[0;31m---------------------------------------------------------------------------\u001b[0m",
      "\u001b[0;31mLogicalOperatorError\u001b[0m                      Traceback (most recent call last)",
      "\u001b[1;32m/global/homes/j/joeschm/fusion_research/GENE_code_V5/read_simulation_data/criteria_checker/UNIT_TEST_criteria_checker/UTs_criteria_checker.ipynb Cell 7\u001b[0m line \u001b[0;36m4\n\u001b[1;32m      <a href='vscode-notebook-cell://ssh-remote%2Bperlmutter-p1.nersc.gov/global/homes/j/joeschm/fusion_research/GENE_code_V5/read_simulation_data/criteria_checker/UNIT_TEST_criteria_checker/UTs_criteria_checker.ipynb#X46sdnNjb2RlLXJlbW90ZQ%3D%3D?line=0'>1</a>\u001b[0m criteria4 \u001b[39m=\u001b[39m \u001b[39m'\u001b[39m\u001b[39m1<<time(s)<4\u001b[39m\u001b[39m'\u001b[39m\n\u001b[1;32m      <a href='vscode-notebook-cell://ssh-remote%2Bperlmutter-p1.nersc.gov/global/homes/j/joeschm/fusion_research/GENE_code_V5/read_simulation_data/criteria_checker/UNIT_TEST_criteria_checker/UTs_criteria_checker.ipynb#X46sdnNjb2RlLXJlbW90ZQ%3D%3D?line=1'>2</a>\u001b[0m output_tuple3 \u001b[39m=\u001b[39m [(\u001b[39m'\u001b[39m\u001b[39mtime\u001b[39m\u001b[39m'\u001b[39m, \u001b[39m'\u001b[39m\u001b[39mtime>1\u001b[39m\u001b[39m'\u001b[39m, \u001b[39m'\u001b[39m\u001b[39ms\u001b[39m\u001b[39m'\u001b[39m, \u001b[39m'\u001b[39m\u001b[39mnumerical\u001b[39m\u001b[39m'\u001b[39m), (\u001b[39m'\u001b[39m\u001b[39mtime\u001b[39m\u001b[39m'\u001b[39m, \u001b[39m'\u001b[39m\u001b[39mtime<4\u001b[39m\u001b[39m'\u001b[39m, \u001b[39m'\u001b[39m\u001b[39ms\u001b[39m\u001b[39m'\u001b[39m, \u001b[39m'\u001b[39m\u001b[39mnumerical\u001b[39m\u001b[39m'\u001b[39m)]\n\u001b[0;32m----> <a href='vscode-notebook-cell://ssh-remote%2Bperlmutter-p1.nersc.gov/global/homes/j/joeschm/fusion_research/GENE_code_V5/read_simulation_data/criteria_checker/UNIT_TEST_criteria_checker/UTs_criteria_checker.ipynb#X46sdnNjb2RlLXJlbW90ZQ%3D%3D?line=3'>4</a>\u001b[0m extract_criteria_values(criteria4)\n",
      "File \u001b[0;32m/global/u1/j/joeschm/fusion_research/GENE_code_V5/read_simulation_data/criteria_checker/criteria_parser_V4.py:82\u001b[0m, in \u001b[0;36mextract_criteria_values\u001b[0;34m(raw_criteria)\u001b[0m\n\u001b[1;32m     80\u001b[0m     variable_w_units \u001b[39m=\u001b[39m split_values[\u001b[39m2\u001b[39m]\n\u001b[1;32m     81\u001b[0m \u001b[39melse\u001b[39;00m:\n\u001b[0;32m---> 82\u001b[0m     \u001b[39mraise\u001b[39;00m LogicalOperatorError(raw_criteria) \u001b[39m# raise error if not properly formatted\u001b[39;00m\n\u001b[1;32m     84\u001b[0m \u001b[39m# Extract variable and units from the variable with units\u001b[39;00m\n\u001b[1;32m     85\u001b[0m variable, units \u001b[39m=\u001b[39m units_from_variable(variable_w_units)\n",
      "\u001b[0;31mLogicalOperatorError\u001b[0m: Please ensure criteria '1<<time(s)<4' is written using proper logical operators. Examples are given below:\n                         - gamma(kHz) <= 1\n                         - 1 < kymin < 10\n                         - time == last"
     ]
    }
   ],
   "source": [
    "criteria4 = '1<<time(s)<4'\n",
    "output_tuple3 = [('time', 'time>1', 's', 'numerical'), ('time', 'time<4', 's', 'numerical')]\n",
    "\n",
    "extract_criteria_values(criteria4)"
   ]
  },
  {
   "cell_type": "markdown",
   "metadata": {},
   "source": [
    "# Criteria List evaluator"
   ]
  },
  {
   "cell_type": "code",
   "execution_count": 18,
   "metadata": {},
   "outputs": [],
   "source": [
    "crit_list = ['time(s)==last', 'Q_ES(abc)<4', '1<Q_EM< 4', 'n_mag']\n",
    "\n",
    "output = [{'variable_key': 'time',\n",
    "           'criteria': 'time==last',\n",
    "           'units': 's',\n",
    "           'analysis': 'non-numerical'},\n",
    "          {'variable_key': 'Q_ES',\n",
    "           'criteria': 'Q_ES<4',\n",
    "           'units': 'abc',\n",
    "           'analysis': 'numerical'},\n",
    "          {'variable_key': 'Q_EM',\n",
    "           'criteria': 'Q_EM>1',\n",
    "           'units': None,\n",
    "           'analysis': 'numerical'},\n",
    "          {'variable_key': 'Q_EM',\n",
    "           'criteria': 'Q_EM<4',\n",
    "           'units': None,\n",
    "           'analysis': 'numerical'},\n",
    "          {'variable_key': 'n_mag',\n",
    "           'criteria': 'n_mag',\n",
    "           'units': None,\n",
    "           'analysis': None}]\n",
    "\n",
    "assert criteria_list_to_dict_list(crit_list) == output"
   ]
  }
 ],
 "metadata": {
  "kernelspec": {
   "display_name": "jupyter_env",
   "language": "python",
   "name": "python3"
  },
  "language_info": {
   "codemirror_mode": {
    "name": "ipython",
    "version": 3
   },
   "file_extension": ".py",
   "mimetype": "text/x-python",
   "name": "python",
   "nbconvert_exporter": "python",
   "pygments_lexer": "ipython3",
   "version": "3.11.4"
  },
  "orig_nbformat": 4
 },
 "nbformat": 4,
 "nbformat_minor": 2
}
