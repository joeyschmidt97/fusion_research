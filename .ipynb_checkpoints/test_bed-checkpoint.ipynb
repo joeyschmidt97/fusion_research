{
 "cells": [
  {
   "cell_type": "code",
   "execution_count": 1,
   "id": "20b9acd2-ca63-49d0-a6d9-9413bb7bc34f",
   "metadata": {},
   "outputs": [],
   "source": [
    "import os\n",
    "import sys\n",
    "sys.path.insert(1, '/global/u1/j/joeschm/fusion_research/GENE_code_V3')\n",
    "from GP_simulation_data_V3 import filepath_to_simulation_dict_list, printout_simulation_data\n",
    "from GP_parameter_data_V3 import parameter_filepath_to_dict\n",
    "from GP_omega_data_V3 import omega_filepath_to_dict\n",
    "from GP_nrg_data_V3 import nrg_filepath_to_dict\n",
    "\n",
    "# from GP_criteria_functions_V3 import criteria_parser"
   ]
  },
  {
   "cell_type": "code",
   "execution_count": 6,
   "id": "0e16d49d-3bb2-477c-b3b1-7ac5cb1f095d",
   "metadata": {
    "tags": []
   },
   "outputs": [
    {
     "name": "stdout",
     "output_type": "stream",
     "text": [
      "dict_keys(['filepath', 'suffix', 'parameters_dict', 'omega_dict']) kymin_0.4/scanfiles0000\n",
      "dict_keys(['filepath', 'suffix', 'parameters_dict', 'omega_dict']) kymin_0.4/scanfiles0000\n",
      "dict_keys(['filepath', 'suffix', 'parameters_dict', 'omega_dict']) kymin_0.4/scanfiles0000\n",
      "dict_keys(['filepath', 'suffix', 'parameters_dict', 'omega_dict']) kymin_0.4/scanfiles0000\n",
      "dict_keys(['filepath', 'suffix', 'parameters_dict', 'omega_dict']) kymin_0.4/scanfiles0000\n",
      "dict_keys(['filepath', 'suffix', 'parameters_dict', 'omega_dict']) kymin_0.4/scanfiles0000\n",
      "dict_keys(['filepath', 'suffix', 'parameters_dict', 'omega_dict']) kymin_0.4/scanfiles0000\n",
      "dict_keys(['filepath', 'suffix', 'parameters_dict', 'omega_dict']) kymin_0.4/scanfiles0000\n",
      "dict_keys(['filepath', 'suffix', 'parameters_dict', 'omega_dict']) kymin_0.4/scanfiles0000\n",
      "dict_keys(['filepath', 'suffix', 'parameters_dict', 'omega_dict']) kymin_0.4/scanfiles0000\n",
      "dict_keys(['filepath', 'suffix', 'parameters_dict', 'omega_dict']) kymin_0.4/scanfiles0000\n",
      "dict_keys(['filepath', 'suffix', 'parameters_dict', 'omega_dict']) kymin_0.4/scanfiles0000\n",
      "dict_keys(['filepath', 'suffix', 'parameters_dict', 'omega_dict']) kymin_0.4/scanfiles0000\n",
      "dict_keys(['filepath', 'suffix', 'parameters_dict', 'omega_dict']) kymin_0.4/scanfiles0000\n",
      "dict_keys(['filepath', 'suffix', 'parameters_dict', 'omega_dict']) kymin_0.4/scanfiles0000\n",
      "dict_keys(['filepath', 'suffix', 'parameters_dict', 'omega_dict']) kymin_0.4/scanfiles0000\n",
      "dict_keys(['filepath', 'suffix', 'parameters_dict', 'omega_dict']) kymin_0.4/scanfiles0000\n",
      "dict_keys(['filepath', 'suffix', 'parameters_dict', 'omega_dict']) kymin_0.4/scanfiles0000\n",
      "dict_keys(['filepath', 'suffix', 'parameters_dict', 'omega_dict']) kymin_0.4/scanfiles0000\n",
      "dict_keys(['filepath', 'suffix', 'parameters_dict', 'omega_dict']) kymin_0.4/scanfiles0000\n",
      "dict_keys(['filepath', 'suffix', 'parameters_dict', 'omega_dict']) kymin_0.4/scanfiles0000\n",
      "dict_keys(['filepath', 'suffix', 'parameters_dict', 'omega_dict']) kymin_0.4/scanfiles0000\n",
      "dict_keys(['filepath', 'suffix', 'parameters_dict', 'omega_dict']) kymin_0.4/scanfiles0000\n",
      "dict_keys(['filepath', 'suffix', 'parameters_dict', 'omega_dict']) kymin_0.4/scanfiles0000\n",
      "dict_keys(['filepath', 'suffix', 'parameters_dict', 'omega_dict']) kymin_0.4/scanfiles0000\n",
      "dict_keys(['filepath', 'suffix', 'parameters_dict', 'omega_dict']) kymin_0.4/scanfiles0000\n",
      "dict_keys(['filepath', 'suffix', 'parameters_dict', 'omega_dict']) kymin_0.4/scanfiles0000\n",
      "dict_keys(['filepath', 'suffix', 'parameters_dict', 'omega_dict']) kymin_0.7/scanfiles0000\n",
      "dict_keys(['filepath', 'suffix', 'parameters_dict', 'omega_dict']) kymin_0.7/scanfiles0000\n",
      "dict_keys(['filepath', 'suffix', 'parameters_dict', 'omega_dict']) kymin_0.7/scanfiles0000\n",
      "dict_keys(['filepath', 'suffix', 'parameters_dict', 'omega_dict']) kymin_0.7/scanfiles0000\n",
      "dict_keys(['filepath', 'suffix', 'parameters_dict', 'omega_dict']) kymin_0.7/scanfiles0000\n",
      "dict_keys(['filepath', 'suffix', 'parameters_dict', 'omega_dict']) kymin_0.7/scanfiles0000\n",
      "dict_keys(['filepath', 'suffix', 'parameters_dict', 'omega_dict']) kymin_0.7/scanfiles0000\n",
      "dict_keys(['filepath', 'suffix', 'parameters_dict', 'omega_dict']) kymin_0.7/scanfiles0000\n",
      "dict_keys(['filepath', 'suffix', 'parameters_dict', 'omega_dict']) kymin_0.7/scanfiles0000\n",
      "dict_keys(['filepath', 'suffix', 'parameters_dict', 'omega_dict']) kymin_0.7/scanfiles0000\n",
      "dict_keys(['filepath', 'suffix', 'parameters_dict', 'omega_dict']) kymin_0.7/scanfiles0000\n",
      "dict_keys(['filepath', 'suffix', 'parameters_dict', 'omega_dict']) kymin_0.7/scanfiles0000\n",
      "dict_keys(['filepath', 'suffix', 'parameters_dict', 'omega_dict']) kymin_0.7/scanfiles0000\n",
      "dict_keys(['filepath', 'suffix', 'parameters_dict', 'omega_dict']) kymin_0.7/scanfiles0000\n",
      "dict_keys(['filepath', 'suffix', 'parameters_dict', 'omega_dict']) kymin_0.7/scanfiles0000\n",
      "dict_keys(['filepath', 'suffix', 'parameters_dict', 'omega_dict']) kymin_0.7/scanfiles0000\n",
      "dict_keys(['filepath', 'suffix', 'parameters_dict', 'omega_dict']) kymin_0.7/scanfiles0000\n",
      "dict_keys(['filepath', 'suffix', 'parameters_dict', 'omega_dict']) kymin_0.7/scanfiles0000\n",
      "dict_keys(['filepath', 'suffix', 'parameters_dict', 'omega_dict']) kymin_0.7/scanfiles0000\n",
      "dict_keys(['filepath', 'suffix', 'parameters_dict', 'omega_dict']) kymin_0.7/scanfiles0000\n",
      "dict_keys(['filepath', 'suffix', 'parameters_dict', 'omega_dict']) kymin_0.7/scanfiles0000\n",
      "dict_keys(['filepath', 'suffix', 'parameters_dict', 'omega_dict']) kymin_0.7/scanfiles0000\n",
      "dict_keys(['filepath', 'suffix', 'parameters_dict', 'omega_dict']) kymin_0.7/scanfiles0000\n",
      "dict_keys(['filepath', 'suffix', 'parameters_dict', 'omega_dict']) kymin_0.7/scanfiles0000\n",
      "dict_keys(['filepath', 'suffix', 'parameters_dict', 'omega_dict']) kymin_0.7/scanfiles0000\n",
      "dict_keys(['filepath', 'suffix', 'parameters_dict', 'omega_dict']) kymin_0.7/scanfiles0000\n",
      "dict_keys(['filepath', 'suffix', 'parameters_dict', 'omega_dict']) kymin_0.7/scanfiles0000\n",
      "dict_keys(['filepath', 'suffix', 'parameters_dict', 'omega_dict']) kymin_1/scanfiles0000\n",
      "dict_keys(['filepath', 'suffix', 'parameters_dict', 'omega_dict']) kymin_1/scanfiles0000\n",
      "dict_keys(['filepath', 'suffix', 'parameters_dict', 'omega_dict']) kymin_1/scanfiles0000\n",
      "dict_keys(['filepath', 'suffix', 'parameters_dict', 'omega_dict']) kymin_1/scanfiles0000\n",
      "dict_keys(['filepath', 'suffix', 'parameters_dict', 'omega_dict']) kymin_1/scanfiles0000\n",
      "dict_keys(['filepath', 'suffix', 'parameters_dict', 'omega_dict']) kymin_1/scanfiles0000\n",
      "dict_keys(['filepath', 'suffix', 'parameters_dict', 'omega_dict']) kymin_1/scanfiles0000\n",
      "dict_keys(['filepath', 'suffix', 'parameters_dict', 'omega_dict']) kymin_1/scanfiles0000\n",
      "dict_keys(['filepath', 'suffix', 'parameters_dict', 'omega_dict']) kymin_1/scanfiles0000\n",
      "dict_keys(['filepath', 'suffix', 'parameters_dict', 'omega_dict']) kymin_1/scanfiles0000\n",
      "dict_keys(['filepath', 'suffix', 'parameters_dict', 'omega_dict']) kymin_1/scanfiles0000\n",
      "dict_keys(['filepath', 'suffix', 'parameters_dict', 'omega_dict']) kymin_1/scanfiles0000\n",
      "dict_keys(['filepath', 'suffix', 'parameters_dict', 'omega_dict']) kymin_1/scanfiles0000\n",
      "dict_keys(['filepath', 'suffix', 'parameters_dict', 'omega_dict']) kymin_1/scanfiles0000\n",
      "dict_keys(['filepath', 'suffix', 'parameters_dict', 'omega_dict']) kymin_1/scanfiles0000\n",
      "dict_keys(['filepath', 'suffix', 'parameters_dict', 'omega_dict']) kymin_1/scanfiles0000\n",
      "dict_keys(['filepath', 'suffix', 'parameters_dict', 'omega_dict']) kymin_1/scanfiles0000\n",
      "dict_keys(['filepath', 'suffix', 'parameters_dict', 'omega_dict']) kymin_1/scanfiles0000\n",
      "dict_keys(['filepath', 'suffix', 'parameters_dict', 'omega_dict']) kymin_1/scanfiles0000\n",
      "dict_keys(['filepath', 'suffix', 'parameters_dict', 'omega_dict']) kymin_1/scanfiles0000\n",
      "dict_keys(['filepath', 'suffix', 'parameters_dict', 'omega_dict']) kymin_1/scanfiles0000\n",
      "dict_keys(['filepath', 'suffix', 'parameters_dict', 'omega_dict']) kymin_1/scanfiles0000\n",
      "dict_keys(['filepath', 'suffix', 'parameters_dict', 'omega_dict']) kymin_1/scanfiles0000\n",
      "dict_keys(['filepath', 'suffix', 'parameters_dict', 'omega_dict']) kymin_1/scanfiles0000\n",
      "dict_keys(['filepath', 'suffix', 'parameters_dict', 'omega_dict']) kymin_1/scanfiles0000\n",
      "dict_keys(['filepath', 'suffix', 'parameters_dict', 'omega_dict']) kymin_1/scanfiles0000\n",
      "dict_keys(['filepath', 'suffix', 'parameters_dict', 'omega_dict']) kymin_1/scanfiles0000\n",
      "dict_keys(['filepath', 'suffix', 'parameters_dict', 'omega_dict']) kymin_1.5/scanfiles0000\n",
      "dict_keys(['filepath', 'suffix', 'parameters_dict', 'omega_dict']) kymin_1.5/scanfiles0000\n",
      "dict_keys(['filepath', 'suffix', 'parameters_dict', 'omega_dict']) kymin_1.5/scanfiles0000\n",
      "dict_keys(['filepath', 'suffix', 'parameters_dict', 'omega_dict']) kymin_1.5/scanfiles0000\n",
      "dict_keys(['filepath', 'suffix', 'parameters_dict', 'omega_dict']) kymin_1.5/scanfiles0000\n",
      "dict_keys(['filepath', 'suffix', 'parameters_dict', 'omega_dict']) kymin_1.5/scanfiles0000\n",
      "dict_keys(['filepath', 'suffix', 'parameters_dict', 'omega_dict']) kymin_1.5/scanfiles0000\n",
      "dict_keys(['filepath', 'suffix', 'parameters_dict', 'omega_dict']) kymin_1.5/scanfiles0000\n",
      "dict_keys(['filepath', 'suffix', 'parameters_dict', 'omega_dict']) kymin_1.5/scanfiles0000\n",
      "dict_keys(['filepath', 'suffix', 'parameters_dict', 'omega_dict']) kymin_1.5/scanfiles0000\n",
      "dict_keys(['filepath', 'suffix', 'parameters_dict', 'omega_dict']) kymin_1.5/scanfiles0000\n",
      "dict_keys(['filepath', 'suffix', 'parameters_dict', 'omega_dict']) kymin_1.5/scanfiles0000\n",
      "dict_keys(['filepath', 'suffix', 'parameters_dict', 'omega_dict']) kymin_1.5/scanfiles0000\n",
      "dict_keys(['filepath', 'suffix', 'parameters_dict', 'omega_dict']) kymin_1.5/scanfiles0000\n",
      "dict_keys(['filepath', 'suffix', 'parameters_dict', 'omega_dict']) kymin_1.5/scanfiles0000\n",
      "dict_keys(['filepath', 'suffix', 'parameters_dict', 'omega_dict']) kymin_1.5/scanfiles0000\n",
      "dict_keys(['filepath', 'suffix', 'parameters_dict', 'omega_dict']) kymin_1.5/scanfiles0000\n",
      "dict_keys(['filepath', 'suffix', 'parameters_dict', 'omega_dict']) kymin_1.5/scanfiles0000\n",
      "dict_keys(['filepath', 'suffix', 'parameters_dict', 'omega_dict']) kymin_1.5/scanfiles0000\n",
      "dict_keys(['filepath', 'suffix', 'parameters_dict', 'omega_dict']) kymin_1.5/scanfiles0000\n",
      "dict_keys(['filepath', 'suffix', 'parameters_dict', 'omega_dict']) kymin_1.5/scanfiles0000\n",
      "dict_keys(['filepath', 'suffix', 'parameters_dict', 'omega_dict']) kymin_1.5/scanfiles0000\n",
      "dict_keys(['filepath', 'suffix', 'parameters_dict', 'omega_dict']) kymin_1.5/scanfiles0000\n",
      "dict_keys(['filepath', 'suffix', 'parameters_dict', 'omega_dict']) kymin_1.5/scanfiles0000\n",
      "dict_keys(['filepath', 'suffix', 'parameters_dict', 'omega_dict']) kymin_1.5/scanfiles0000\n",
      "dict_keys(['filepath', 'suffix', 'parameters_dict', 'omega_dict']) kymin_1.5/scanfiles0000\n",
      "dict_keys(['filepath', 'suffix', 'parameters_dict', 'omega_dict']) kymin_1.5/scanfiles0000\n",
      "dict_keys(['filepath', 'suffix', 'parameters_dict', 'omega_dict']) kymin_2/scanfiles0000\n",
      "dict_keys(['filepath', 'suffix', 'parameters_dict', 'omega_dict']) kymin_2/scanfiles0000\n",
      "dict_keys(['filepath', 'suffix', 'parameters_dict', 'omega_dict']) kymin_2/scanfiles0000\n",
      "dict_keys(['filepath', 'suffix', 'parameters_dict', 'omega_dict']) kymin_2/scanfiles0000\n",
      "dict_keys(['filepath', 'suffix', 'parameters_dict', 'omega_dict']) kymin_2/scanfiles0000\n",
      "dict_keys(['filepath', 'suffix', 'parameters_dict', 'omega_dict']) kymin_2/scanfiles0000\n",
      "dict_keys(['filepath', 'suffix', 'parameters_dict', 'omega_dict']) kymin_2/scanfiles0000\n",
      "dict_keys(['filepath', 'suffix', 'parameters_dict', 'omega_dict']) kymin_2/scanfiles0000\n",
      "dict_keys(['filepath', 'suffix', 'parameters_dict', 'omega_dict']) kymin_2/scanfiles0000\n",
      "dict_keys(['filepath', 'suffix', 'parameters_dict', 'omega_dict']) kymin_2/scanfiles0000\n",
      "dict_keys(['filepath', 'suffix', 'parameters_dict', 'omega_dict']) kymin_2/scanfiles0000\n",
      "dict_keys(['filepath', 'suffix', 'parameters_dict', 'omega_dict']) kymin_2/scanfiles0000\n",
      "dict_keys(['filepath', 'suffix', 'parameters_dict', 'omega_dict']) kymin_2/scanfiles0000\n",
      "dict_keys(['filepath', 'suffix', 'parameters_dict', 'omega_dict']) kymin_2/scanfiles0000\n",
      "dict_keys(['filepath', 'suffix', 'parameters_dict', 'omega_dict']) kymin_2/scanfiles0000\n",
      "dict_keys(['filepath', 'suffix', 'parameters_dict', 'omega_dict']) kymin_2/scanfiles0000\n",
      "dict_keys(['filepath', 'suffix', 'parameters_dict', 'omega_dict']) kymin_2/scanfiles0000\n",
      "dict_keys(['filepath', 'suffix', 'parameters_dict', 'omega_dict']) kymin_2/scanfiles0000\n",
      "dict_keys(['filepath', 'suffix', 'parameters_dict', 'omega_dict']) kymin_2/scanfiles0000\n",
      "dict_keys(['filepath', 'suffix', 'parameters_dict', 'omega_dict']) kymin_2/scanfiles0000\n",
      "dict_keys(['filepath', 'suffix', 'parameters_dict', 'omega_dict']) kymin_2/scanfiles0000\n",
      "dict_keys(['filepath', 'suffix', 'parameters_dict', 'omega_dict']) kymin_2/scanfiles0000\n",
      "dict_keys(['filepath', 'suffix', 'parameters_dict', 'omega_dict']) kymin_2/scanfiles0000\n",
      "dict_keys(['filepath', 'suffix', 'parameters_dict', 'omega_dict']) kymin_2/scanfiles0000\n",
      "dict_keys(['filepath', 'suffix', 'parameters_dict', 'omega_dict']) kymin_2/scanfiles0000\n",
      "dict_keys(['filepath', 'suffix', 'parameters_dict', 'omega_dict']) kymin_2/scanfiles0000\n",
      "dict_keys(['filepath', 'suffix', 'parameters_dict', 'omega_dict']) kymin_2/scanfiles0000\n",
      "[{'variable_key': 'kymin', 'criteria': 'kymin>0.1', 'units': 'kHz'}, {'variable_key': 'gamma', 'criteria': None, 'units': None}]\n"
     ]
    }
   ],
   "source": [
    "filepath_list = ['/pscratch/sd/j/joeschm/NSXTU_discharges/129015/r_0.850026_NE_top/MTM_limit/kymin_0.1/scanfiles0000',\n",
    "                 '/pscratch/sd/j/joeschm/NSXTU_discharges/129015/r_0.850026_NE_top/MTM_limit']\n",
    "\n",
    "# filepath_list = '/pscratch/sd/j/joeschm/NSXTU_discharges/X_TEST/TEST_3spec_k1'\n",
    "\n",
    "criteria_list = ['kymin > 0.1', 'gamma']\n",
    "# simulation_dict_list = filepath_to_simulation_dict_list(filepath_list, criteria_list=criteria_list, load_files = ['omega'])\n",
    "\n",
    "printout_simulation_data(filepath_list, criteria_list=criteria_list, load_files = ['omega'])"
   ]
  },
  {
   "cell_type": "code",
   "execution_count": 3,
   "id": "639af8a7-8aaa-4b4e-840a-673aa638ee86",
   "metadata": {
    "tags": []
   },
   "outputs": [
    {
     "name": "stdout",
     "output_type": "stream",
     "text": [
      "/pscratch/sd/j/joeschm/NSXTU_discharges/129015/r_0.850026_NE_top/MTM_limit\n",
      "/pscratch/sd/j/joeschm/NSXTU_discharges/129015/r_0.850026_NE_top/MTM_limit\n",
      "simulation/parameters\n"
     ]
    }
   ],
   "source": [
    "filepath_list = ['/pscratch/sd/j/joeschm/NSXTU_discharges/129015/r_0.850026_NE_top/MTM_limit/kymin_0.1/scanfiles0000',\n",
    "                 '/pscratch/sd/j/joeschm/NSXTU_discharges/129015/r_0.850026_NE_top/MTM_limit']\n",
    "\n",
    "\n",
    "filepath_list = ['/pscratch/sd/j/joeschm/NSXTU_discharges/129015/r_0.850026_NE_top/MTM_limit']\n",
    "common_path = os.path.commonpath(filepath_list)\n",
    "\n",
    "for filepath in filepath_list:\n",
    "    print(common_path)\n",
    "    print(filepath)\n",
    "    \n",
    "    unique_part = os.path.relpath(filepath + '/simulation/parameters', common_path)\n",
    "    \n",
    "    print(unique_part)\n",
    "\n",
    "# print(common_path)\n"
   ]
  },
  {
   "cell_type": "code",
   "execution_count": 4,
   "id": "364978c6-db3a-4d31-baab-9d55de66c2db",
   "metadata": {
    "tags": []
   },
   "outputs": [
    {
     "name": "stdout",
     "output_type": "stream",
     "text": [
      "{'gamma': 0.05, 'filepath': 'home/files', 'suffix': '0004'}\n"
     ]
    },
    {
     "ename": "ValueError",
     "evalue": "If using all scalar values, you must pass an index",
     "output_type": "error",
     "traceback": [
      "\u001b[0;31m---------------------------------------------------------------------------\u001b[0m",
      "\u001b[0;31mValueError\u001b[0m                                Traceback (most recent call last)",
      "\u001b[0;32m/tmp/ipykernel_978183/2212257655.py\u001b[0m in \u001b[0;36m<module>\u001b[0;34m\u001b[0m\n\u001b[1;32m     39\u001b[0m \u001b[0mprint\u001b[0m\u001b[0;34m(\u001b[0m\u001b[0mtemp_simulation_dict\u001b[0m\u001b[0;34m)\u001b[0m\u001b[0;34m\u001b[0m\u001b[0;34m\u001b[0m\u001b[0m\n\u001b[1;32m     40\u001b[0m \u001b[0;34m\u001b[0m\u001b[0m\n\u001b[0;32m---> 41\u001b[0;31m \u001b[0mdf\u001b[0m \u001b[0;34m=\u001b[0m \u001b[0mpd\u001b[0m\u001b[0;34m.\u001b[0m\u001b[0mDataFrame\u001b[0m\u001b[0;34m.\u001b[0m\u001b[0mfrom_dict\u001b[0m\u001b[0;34m(\u001b[0m\u001b[0mtemp_simulation_dict\u001b[0m\u001b[0;34m)\u001b[0m\u001b[0;34m\u001b[0m\u001b[0;34m\u001b[0m\u001b[0m\n\u001b[0m\u001b[1;32m     42\u001b[0m \u001b[0mprint\u001b[0m\u001b[0;34m(\u001b[0m\u001b[0mdf\u001b[0m\u001b[0;34m)\u001b[0m\u001b[0;34m\u001b[0m\u001b[0;34m\u001b[0m\u001b[0m\n",
      "\u001b[0;32m/global/common/software/nersc/pm-2022q3/sw/python/3.9-anaconda-2021.11/lib/python3.9/site-packages/pandas/core/frame.py\u001b[0m in \u001b[0;36mfrom_dict\u001b[0;34m(cls, data, orient, dtype, columns)\u001b[0m\n\u001b[1;32m   1675\u001b[0m \u001b[0;34m\u001b[0m\u001b[0m\n\u001b[1;32m   1676\u001b[0m         \u001b[0;32mif\u001b[0m \u001b[0morient\u001b[0m \u001b[0;34m!=\u001b[0m \u001b[0;34m\"tight\"\u001b[0m\u001b[0;34m:\u001b[0m\u001b[0;34m\u001b[0m\u001b[0;34m\u001b[0m\u001b[0m\n\u001b[0;32m-> 1677\u001b[0;31m             \u001b[0;32mreturn\u001b[0m \u001b[0mcls\u001b[0m\u001b[0;34m(\u001b[0m\u001b[0mdata\u001b[0m\u001b[0;34m,\u001b[0m \u001b[0mindex\u001b[0m\u001b[0;34m=\u001b[0m\u001b[0mindex\u001b[0m\u001b[0;34m,\u001b[0m \u001b[0mcolumns\u001b[0m\u001b[0;34m=\u001b[0m\u001b[0mcolumns\u001b[0m\u001b[0;34m,\u001b[0m \u001b[0mdtype\u001b[0m\u001b[0;34m=\u001b[0m\u001b[0mdtype\u001b[0m\u001b[0;34m)\u001b[0m\u001b[0;34m\u001b[0m\u001b[0;34m\u001b[0m\u001b[0m\n\u001b[0m\u001b[1;32m   1678\u001b[0m         \u001b[0;32melse\u001b[0m\u001b[0;34m:\u001b[0m\u001b[0;34m\u001b[0m\u001b[0;34m\u001b[0m\u001b[0m\n\u001b[1;32m   1679\u001b[0m             \u001b[0mrealdata\u001b[0m \u001b[0;34m=\u001b[0m \u001b[0mdata\u001b[0m\u001b[0;34m[\u001b[0m\u001b[0;34m\"data\"\u001b[0m\u001b[0;34m]\u001b[0m\u001b[0;34m\u001b[0m\u001b[0;34m\u001b[0m\u001b[0m\n",
      "\u001b[0;32m/global/common/software/nersc/pm-2022q3/sw/python/3.9-anaconda-2021.11/lib/python3.9/site-packages/pandas/core/frame.py\u001b[0m in \u001b[0;36m__init__\u001b[0;34m(self, data, index, columns, dtype, copy)\u001b[0m\n\u001b[1;32m    634\u001b[0m         \u001b[0;32melif\u001b[0m \u001b[0misinstance\u001b[0m\u001b[0;34m(\u001b[0m\u001b[0mdata\u001b[0m\u001b[0;34m,\u001b[0m \u001b[0mdict\u001b[0m\u001b[0;34m)\u001b[0m\u001b[0;34m:\u001b[0m\u001b[0;34m\u001b[0m\u001b[0;34m\u001b[0m\u001b[0m\n\u001b[1;32m    635\u001b[0m             \u001b[0;31m# GH#38939 de facto copy defaults to False only in non-dict cases\u001b[0m\u001b[0;34m\u001b[0m\u001b[0;34m\u001b[0m\u001b[0m\n\u001b[0;32m--> 636\u001b[0;31m             \u001b[0mmgr\u001b[0m \u001b[0;34m=\u001b[0m \u001b[0mdict_to_mgr\u001b[0m\u001b[0;34m(\u001b[0m\u001b[0mdata\u001b[0m\u001b[0;34m,\u001b[0m \u001b[0mindex\u001b[0m\u001b[0;34m,\u001b[0m \u001b[0mcolumns\u001b[0m\u001b[0;34m,\u001b[0m \u001b[0mdtype\u001b[0m\u001b[0;34m=\u001b[0m\u001b[0mdtype\u001b[0m\u001b[0;34m,\u001b[0m \u001b[0mcopy\u001b[0m\u001b[0;34m=\u001b[0m\u001b[0mcopy\u001b[0m\u001b[0;34m,\u001b[0m \u001b[0mtyp\u001b[0m\u001b[0;34m=\u001b[0m\u001b[0mmanager\u001b[0m\u001b[0;34m)\u001b[0m\u001b[0;34m\u001b[0m\u001b[0;34m\u001b[0m\u001b[0m\n\u001b[0m\u001b[1;32m    637\u001b[0m         \u001b[0;32melif\u001b[0m \u001b[0misinstance\u001b[0m\u001b[0;34m(\u001b[0m\u001b[0mdata\u001b[0m\u001b[0;34m,\u001b[0m \u001b[0mma\u001b[0m\u001b[0;34m.\u001b[0m\u001b[0mMaskedArray\u001b[0m\u001b[0;34m)\u001b[0m\u001b[0;34m:\u001b[0m\u001b[0;34m\u001b[0m\u001b[0;34m\u001b[0m\u001b[0m\n\u001b[1;32m    638\u001b[0m             \u001b[0;32mimport\u001b[0m \u001b[0mnumpy\u001b[0m\u001b[0;34m.\u001b[0m\u001b[0mma\u001b[0m\u001b[0;34m.\u001b[0m\u001b[0mmrecords\u001b[0m \u001b[0;32mas\u001b[0m \u001b[0mmrecords\u001b[0m\u001b[0;34m\u001b[0m\u001b[0;34m\u001b[0m\u001b[0m\n",
      "\u001b[0;32m/global/common/software/nersc/pm-2022q3/sw/python/3.9-anaconda-2021.11/lib/python3.9/site-packages/pandas/core/internals/construction.py\u001b[0m in \u001b[0;36mdict_to_mgr\u001b[0;34m(data, index, columns, dtype, typ, copy)\u001b[0m\n\u001b[1;32m    500\u001b[0m         \u001b[0;31m# TODO: can we get rid of the dt64tz special case above?\u001b[0m\u001b[0;34m\u001b[0m\u001b[0;34m\u001b[0m\u001b[0m\n\u001b[1;32m    501\u001b[0m \u001b[0;34m\u001b[0m\u001b[0m\n\u001b[0;32m--> 502\u001b[0;31m     \u001b[0;32mreturn\u001b[0m \u001b[0marrays_to_mgr\u001b[0m\u001b[0;34m(\u001b[0m\u001b[0marrays\u001b[0m\u001b[0;34m,\u001b[0m \u001b[0mcolumns\u001b[0m\u001b[0;34m,\u001b[0m \u001b[0mindex\u001b[0m\u001b[0;34m,\u001b[0m \u001b[0mdtype\u001b[0m\u001b[0;34m=\u001b[0m\u001b[0mdtype\u001b[0m\u001b[0;34m,\u001b[0m \u001b[0mtyp\u001b[0m\u001b[0;34m=\u001b[0m\u001b[0mtyp\u001b[0m\u001b[0;34m,\u001b[0m \u001b[0mconsolidate\u001b[0m\u001b[0;34m=\u001b[0m\u001b[0mcopy\u001b[0m\u001b[0;34m)\u001b[0m\u001b[0;34m\u001b[0m\u001b[0;34m\u001b[0m\u001b[0m\n\u001b[0m\u001b[1;32m    503\u001b[0m \u001b[0;34m\u001b[0m\u001b[0m\n\u001b[1;32m    504\u001b[0m \u001b[0;34m\u001b[0m\u001b[0m\n",
      "\u001b[0;32m/global/common/software/nersc/pm-2022q3/sw/python/3.9-anaconda-2021.11/lib/python3.9/site-packages/pandas/core/internals/construction.py\u001b[0m in \u001b[0;36marrays_to_mgr\u001b[0;34m(arrays, columns, index, dtype, verify_integrity, typ, consolidate)\u001b[0m\n\u001b[1;32m    118\u001b[0m         \u001b[0;31m# figure out the index, if necessary\u001b[0m\u001b[0;34m\u001b[0m\u001b[0;34m\u001b[0m\u001b[0m\n\u001b[1;32m    119\u001b[0m         \u001b[0;32mif\u001b[0m \u001b[0mindex\u001b[0m \u001b[0;32mis\u001b[0m \u001b[0;32mNone\u001b[0m\u001b[0;34m:\u001b[0m\u001b[0;34m\u001b[0m\u001b[0;34m\u001b[0m\u001b[0m\n\u001b[0;32m--> 120\u001b[0;31m             \u001b[0mindex\u001b[0m \u001b[0;34m=\u001b[0m \u001b[0m_extract_index\u001b[0m\u001b[0;34m(\u001b[0m\u001b[0marrays\u001b[0m\u001b[0;34m)\u001b[0m\u001b[0;34m\u001b[0m\u001b[0;34m\u001b[0m\u001b[0m\n\u001b[0m\u001b[1;32m    121\u001b[0m         \u001b[0;32melse\u001b[0m\u001b[0;34m:\u001b[0m\u001b[0;34m\u001b[0m\u001b[0;34m\u001b[0m\u001b[0m\n\u001b[1;32m    122\u001b[0m             \u001b[0mindex\u001b[0m \u001b[0;34m=\u001b[0m \u001b[0mensure_index\u001b[0m\u001b[0;34m(\u001b[0m\u001b[0mindex\u001b[0m\u001b[0;34m)\u001b[0m\u001b[0;34m\u001b[0m\u001b[0;34m\u001b[0m\u001b[0m\n",
      "\u001b[0;32m/global/common/software/nersc/pm-2022q3/sw/python/3.9-anaconda-2021.11/lib/python3.9/site-packages/pandas/core/internals/construction.py\u001b[0m in \u001b[0;36m_extract_index\u001b[0;34m(data)\u001b[0m\n\u001b[1;32m    662\u001b[0m \u001b[0;34m\u001b[0m\u001b[0m\n\u001b[1;32m    663\u001b[0m         \u001b[0;32mif\u001b[0m \u001b[0;32mnot\u001b[0m \u001b[0mindexes\u001b[0m \u001b[0;32mand\u001b[0m \u001b[0;32mnot\u001b[0m \u001b[0mraw_lengths\u001b[0m\u001b[0;34m:\u001b[0m\u001b[0;34m\u001b[0m\u001b[0;34m\u001b[0m\u001b[0m\n\u001b[0;32m--> 664\u001b[0;31m             \u001b[0;32mraise\u001b[0m \u001b[0mValueError\u001b[0m\u001b[0;34m(\u001b[0m\u001b[0;34m\"If using all scalar values, you must pass an index\"\u001b[0m\u001b[0;34m)\u001b[0m\u001b[0;34m\u001b[0m\u001b[0;34m\u001b[0m\u001b[0m\n\u001b[0m\u001b[1;32m    665\u001b[0m \u001b[0;34m\u001b[0m\u001b[0m\n\u001b[1;32m    666\u001b[0m         \u001b[0;32melif\u001b[0m \u001b[0mhave_series\u001b[0m\u001b[0;34m:\u001b[0m\u001b[0;34m\u001b[0m\u001b[0;34m\u001b[0m\u001b[0m\n",
      "\u001b[0;31mValueError\u001b[0m: If using all scalar values, you must pass an index"
     ]
    }
   ],
   "source": [
    "import pandas as pd\n",
    "\n",
    "param_dict = {'kymin': 2, 'n_spec': 3, 'nz0': 128, 'filepath': 'home/files', 'filename': 'parameters_0004', 'suffix': '0004'}\n",
    "omega_dict = {'kymin': 2, 'gamma': 0.05, 'filename': 'omega_0004', 'suffix': '0004', \n",
    "              'kymin(kHz)': 12, 'gamma(kHz)': 125.3, 'kymin(MW)': 1200, 'gamma(MW)': 1000000.3}\n",
    "\n",
    "simulation_dict = {'param_dict': param_dict, 'omega_dict': omega_dict,\n",
    "                   'filepath': 'home/files', 'suffix': '0004'}\n",
    "\n",
    "units = 'kHz'\n",
    "variable_key = 'gamma'\n",
    "units = None\n",
    "\n",
    "temp_simulation_dict = {}\n",
    "for sim_key in simulation_dict:\n",
    "    \n",
    "    if isinstance(simulation_dict[sim_key], dict):\n",
    "        current_dict = simulation_dict[sim_key]\n",
    "        \n",
    "        for current_key in current_dict:\n",
    "            \n",
    "            unitless = (units==None)\n",
    "            \n",
    "            if unitless:\n",
    "                if variable_key==current_key:\n",
    "                    temp_simulation_dict[current_key] = current_dict[current_key]\n",
    "            else:\n",
    "                if (variable_key in current_key) and (units in current_key):\n",
    "                    temp_simulation_dict[current_key] = current_dict[current_key]\n",
    "            # print(current_key)\n",
    "\n",
    "        \n",
    "               \n",
    "                \n",
    "        \n",
    "    else:\n",
    "        temp_simulation_dict[sim_key] = simulation_dict[sim_key]\n",
    "\n",
    "print(temp_simulation_dict)\n",
    "\n",
    "df = pd.DataFrame.from_dict(temp_simulation_dict)\n",
    "print(df)"
   ]
  },
  {
   "cell_type": "code",
   "execution_count": null,
   "id": "6e81b252-f68a-404f-bae1-d046abdeb0a1",
   "metadata": {},
   "outputs": [],
   "source": [
    "import os\n",
    "\n",
    "path1 = 'home/user/joe/docs/excel.pdf'\n",
    "path2 = 'home/user/joe'\n",
    "\n",
    "unique_part = os.path.relpath(path1, path2)\n",
    "print(unique_part)"
   ]
  },
  {
   "cell_type": "code",
   "execution_count": null,
   "id": "fcf23992-70d2-42be-87cf-33e07cff5b01",
   "metadata": {},
   "outputs": [],
   "source": [
    "filepath_list = ['/pscratch/sd/j/joeschm/NSXTU_discharges/129015/r_0.850026_NE_top/MTM_limit/kymin_0.1/scanfiles0000',\n",
    "                 '/pscratch/sd/j/joeschm/NSXTU_discharges/129015/r_0.850026_NE_top/MTM_limit']\n",
    "\n",
    "# filepath_list = '/pscratch/sd/j/joeschm/NSXTU_discharges/X_TEST/TEST_3spec_k1'\n",
    "\n",
    "\n",
    "criteria_list = ['kymin == 1', 'gamma']\n",
    "\n",
    "simulation_dict_list = filepath_to_simulation_dict_list(filepath_list, criteria_list=criteria_list, load_files = ['omega'])\n",
    "\n",
    "for simulation_dict in simulation_dict_list:\n",
    "    print(simulation_dict['filepath'], simulation_dict['omega_dict']['kymin'], simulation_dict['omega_dict']['gamma'])\n",
    "    \n",
    "    "
   ]
  },
  {
   "cell_type": "code",
   "execution_count": null,
   "id": "fd00ba9e-746e-4a1f-b46e-c1ea0b647ad1",
   "metadata": {},
   "outputs": [],
   "source": []
  },
  {
   "cell_type": "code",
   "execution_count": null,
   "id": "39d278a4-867b-4143-a362-acc3d9fa67cf",
   "metadata": {
    "tags": []
   },
   "outputs": [],
   "source": [
    "# # filepath_list = ['/pscratch/sd/j/joeschm/NSXTU_discharges/129015/r_0.850026_NE_top/MTM_limit',\n",
    "# #                 '/pscratch/sd/j/joeschm/NSXTU_discharges/129015/r_0.850026_NE_top/MTM_limit/kymin_0.7/scanfiles0000',\n",
    "# #                 '/pscratch/sd/j/joeschm/NSXTU_discharges/129015/r_0.850026_NE_top/MTM_limit/kymin_0.1/scanfiles0000/parameters_0001']\n",
    "\n",
    "# # filepath_list = '/pscratch/sd/j/joeschm/NSXTU_discharges/129015/r_0.870001_PE_top/kymin_scan/scanfiles0001'\n",
    "# # filepath_list = '/pscratch/sd/j/joeschm/NSXTU_discharges/129015/r_0.870001_PE_top/kymin_scan/scanfiles0000'\n",
    "# # filepath_list = '/pscratch/sd/j/joeschm/NSXTU_discharges/129015/r_0.936008_OM_top/Non_linear_scans/ETG_scans_V4_base/parameters.dat'\n",
    "# # filepath_list = '/pscratch/sd/j/joeschm/NSXTU_discharges/129015/r_0.936008_OM_top/Non_linear_scans/ETG_scans_V4_base'\n",
    "\n",
    "# # filepath_list = '/pscratch/sd/j/joeschm/NSXTU_discharges/129015/r_0.850026_NE_top/MTM_limit/kymin_0.1'\n",
    "# filepath_list = '/pscratch/sd/j/joeschm/NSXTU_discharges/X_TEST'\n",
    "# # criteria_list = ['kymin > 5', 'beta', 'coll', 'omt1', 'omt2', 'omt3', 'Bref', 'Tref', 'nref', 'Lref', 'mref']\n",
    "# # criteria_list = 'kymin'\n",
    "\n",
    "                 \n"
   ]
  },
  {
   "cell_type": "code",
   "execution_count": null,
   "id": "44905c82-f30d-4324-b595-07a2f355285b",
   "metadata": {
    "tags": []
   },
   "outputs": [],
   "source": []
  },
  {
   "cell_type": "code",
   "execution_count": null,
   "id": "e716b33e-73fa-4764-8310-a5ebd68fca68",
   "metadata": {
    "tags": []
   },
   "outputs": [],
   "source": []
  },
  {
   "cell_type": "code",
   "execution_count": null,
   "id": "02910536-bb65-4564-ba05-117f4b765970",
   "metadata": {},
   "outputs": [],
   "source": []
  },
  {
   "cell_type": "code",
   "execution_count": null,
   "id": "e48c8a87-42e3-473d-95b5-8750f55de427",
   "metadata": {},
   "outputs": [],
   "source": []
  }
 ],
 "metadata": {
  "kernelspec": {
   "display_name": "NERSC Python",
   "language": "python",
   "name": "python3"
  },
  "language_info": {
   "codemirror_mode": {
    "name": "ipython",
    "version": 3
   },
   "file_extension": ".py",
   "mimetype": "text/x-python",
   "name": "python",
   "nbconvert_exporter": "python",
   "pygments_lexer": "ipython3",
   "version": "3.9.7"
  }
 },
 "nbformat": 4,
 "nbformat_minor": 5
}
