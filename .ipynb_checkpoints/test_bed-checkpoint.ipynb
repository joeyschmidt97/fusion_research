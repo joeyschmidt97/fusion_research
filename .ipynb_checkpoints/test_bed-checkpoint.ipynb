{
 "cells": [
  {
   "cell_type": "code",
   "execution_count": 1,
   "id": "20b9acd2-ca63-49d0-a6d9-9413bb7bc34f",
   "metadata": {},
   "outputs": [],
   "source": [
    "import os\n",
    "import sys\n",
    "sys.path.insert(1, '/global/u1/j/joeschm/fusion_research/GENE_code_V3')\n",
    "from GP_simulation_data_V3 import filepath_to_simulation_dict_list\n",
    "from GP_parameter_data_V3 import filepath_to_parameter_dict_list, parameter_filepath_to_dict\n",
    "from GP_omega_data_V3 import omega_filepath_to_dict\n",
    "from GP_nrg_data_V3 import nrg_filepath_to_dict\n",
    "\n",
    "# from GP_criteria_functions_V3 import criteria_parser"
   ]
  },
  {
   "cell_type": "code",
   "execution_count": null,
   "id": "364978c6-db3a-4d31-baab-9d55de66c2db",
   "metadata": {
    "tags": []
   },
   "outputs": [],
   "source": []
  },
  {
   "cell_type": "code",
   "execution_count": 19,
   "id": "fcf23992-70d2-42be-87cf-33e07cff5b01",
   "metadata": {},
   "outputs": [
    {
     "name": "stdout",
     "output_type": "stream",
     "text": [
      "/pscratch/sd/j/joeschm/NSXTU_discharges/129015/r_0.850026_NE_top/MTM_limit/kymin_0.4/scanfiles0000 0.4 0.069\n",
      "/pscratch/sd/j/joeschm/NSXTU_discharges/129015/r_0.850026_NE_top/MTM_limit/kymin_0.4/scanfiles0000 0.4 0.083\n",
      "/pscratch/sd/j/joeschm/NSXTU_discharges/129015/r_0.850026_NE_top/MTM_limit/kymin_0.4/scanfiles0000 0.4 0.098\n",
      "/pscratch/sd/j/joeschm/NSXTU_discharges/129015/r_0.850026_NE_top/MTM_limit/kymin_0.4/scanfiles0000 0.4 0.068\n",
      "/pscratch/sd/j/joeschm/NSXTU_discharges/129015/r_0.850026_NE_top/MTM_limit/kymin_0.4/scanfiles0000 0.4 0.083\n",
      "/pscratch/sd/j/joeschm/NSXTU_discharges/129015/r_0.850026_NE_top/MTM_limit/kymin_0.4/scanfiles0000 0.4 0.097\n",
      "/pscratch/sd/j/joeschm/NSXTU_discharges/129015/r_0.850026_NE_top/MTM_limit/kymin_0.4/scanfiles0000 0.4 0.067\n",
      "/pscratch/sd/j/joeschm/NSXTU_discharges/129015/r_0.850026_NE_top/MTM_limit/kymin_0.4/scanfiles0000 0.4 0.082\n",
      "/pscratch/sd/j/joeschm/NSXTU_discharges/129015/r_0.850026_NE_top/MTM_limit/kymin_0.4/scanfiles0000 0.4 0.097\n",
      "/pscratch/sd/j/joeschm/NSXTU_discharges/129015/r_0.850026_NE_top/MTM_limit/kymin_0.4/scanfiles0000 0.4 0.072\n",
      "/pscratch/sd/j/joeschm/NSXTU_discharges/129015/r_0.850026_NE_top/MTM_limit/kymin_0.4/scanfiles0000 0.4 0.086\n",
      "/pscratch/sd/j/joeschm/NSXTU_discharges/129015/r_0.850026_NE_top/MTM_limit/kymin_0.4/scanfiles0000 0.4 0.101\n",
      "/pscratch/sd/j/joeschm/NSXTU_discharges/129015/r_0.850026_NE_top/MTM_limit/kymin_0.4/scanfiles0000 0.4 0.071\n",
      "/pscratch/sd/j/joeschm/NSXTU_discharges/129015/r_0.850026_NE_top/MTM_limit/kymin_0.4/scanfiles0000 0.4 0.086\n",
      "/pscratch/sd/j/joeschm/NSXTU_discharges/129015/r_0.850026_NE_top/MTM_limit/kymin_0.4/scanfiles0000 0.4 0.101\n",
      "/pscratch/sd/j/joeschm/NSXTU_discharges/129015/r_0.850026_NE_top/MTM_limit/kymin_0.4/scanfiles0000 0.4 0.071\n",
      "/pscratch/sd/j/joeschm/NSXTU_discharges/129015/r_0.850026_NE_top/MTM_limit/kymin_0.4/scanfiles0000 0.4 0.085\n",
      "/pscratch/sd/j/joeschm/NSXTU_discharges/129015/r_0.850026_NE_top/MTM_limit/kymin_0.4/scanfiles0000 0.4 0.1\n",
      "/pscratch/sd/j/joeschm/NSXTU_discharges/129015/r_0.850026_NE_top/MTM_limit/kymin_0.4/scanfiles0000 0.4 0.075\n",
      "/pscratch/sd/j/joeschm/NSXTU_discharges/129015/r_0.850026_NE_top/MTM_limit/kymin_0.4/scanfiles0000 0.4 0.089\n",
      "/pscratch/sd/j/joeschm/NSXTU_discharges/129015/r_0.850026_NE_top/MTM_limit/kymin_0.4/scanfiles0000 0.4 0.104\n",
      "/pscratch/sd/j/joeschm/NSXTU_discharges/129015/r_0.850026_NE_top/MTM_limit/kymin_0.4/scanfiles0000 0.4 0.074\n",
      "/pscratch/sd/j/joeschm/NSXTU_discharges/129015/r_0.850026_NE_top/MTM_limit/kymin_0.4/scanfiles0000 0.4 0.089\n",
      "/pscratch/sd/j/joeschm/NSXTU_discharges/129015/r_0.850026_NE_top/MTM_limit/kymin_0.4/scanfiles0000 0.4 0.104\n",
      "/pscratch/sd/j/joeschm/NSXTU_discharges/129015/r_0.850026_NE_top/MTM_limit/kymin_0.4/scanfiles0000 0.4 0.074\n",
      "/pscratch/sd/j/joeschm/NSXTU_discharges/129015/r_0.850026_NE_top/MTM_limit/kymin_0.4/scanfiles0000 0.4 0.088\n",
      "/pscratch/sd/j/joeschm/NSXTU_discharges/129015/r_0.850026_NE_top/MTM_limit/kymin_0.4/scanfiles0000 0.4 0.104\n",
      "/pscratch/sd/j/joeschm/NSXTU_discharges/129015/r_0.850026_NE_top/MTM_limit/kymin_0.7/scanfiles0000 0.7 0.215\n",
      "/pscratch/sd/j/joeschm/NSXTU_discharges/129015/r_0.850026_NE_top/MTM_limit/kymin_0.7/scanfiles0000 0.7 0.253\n",
      "/pscratch/sd/j/joeschm/NSXTU_discharges/129015/r_0.850026_NE_top/MTM_limit/kymin_0.7/scanfiles0000 0.7 0.29\n",
      "/pscratch/sd/j/joeschm/NSXTU_discharges/129015/r_0.850026_NE_top/MTM_limit/kymin_0.7/scanfiles0000 0.7 0.216\n",
      "/pscratch/sd/j/joeschm/NSXTU_discharges/129015/r_0.850026_NE_top/MTM_limit/kymin_0.7/scanfiles0000 0.7 0.254\n",
      "/pscratch/sd/j/joeschm/NSXTU_discharges/129015/r_0.850026_NE_top/MTM_limit/kymin_0.7/scanfiles0000 0.7 0.292\n",
      "/pscratch/sd/j/joeschm/NSXTU_discharges/129015/r_0.850026_NE_top/MTM_limit/kymin_0.7/scanfiles0000 0.7 0.218\n",
      "/pscratch/sd/j/joeschm/NSXTU_discharges/129015/r_0.850026_NE_top/MTM_limit/kymin_0.7/scanfiles0000 0.7 0.256\n",
      "/pscratch/sd/j/joeschm/NSXTU_discharges/129015/r_0.850026_NE_top/MTM_limit/kymin_0.7/scanfiles0000 0.7 0.294\n",
      "/pscratch/sd/j/joeschm/NSXTU_discharges/129015/r_0.850026_NE_top/MTM_limit/kymin_0.7/scanfiles0000 0.7 0.223\n",
      "/pscratch/sd/j/joeschm/NSXTU_discharges/129015/r_0.850026_NE_top/MTM_limit/kymin_0.7/scanfiles0000 0.7 0.26\n",
      "/pscratch/sd/j/joeschm/NSXTU_discharges/129015/r_0.850026_NE_top/MTM_limit/kymin_0.7/scanfiles0000 0.7 0.297\n",
      "/pscratch/sd/j/joeschm/NSXTU_discharges/129015/r_0.850026_NE_top/MTM_limit/kymin_0.7/scanfiles0000 0.7 0.224\n",
      "/pscratch/sd/j/joeschm/NSXTU_discharges/129015/r_0.850026_NE_top/MTM_limit/kymin_0.7/scanfiles0000 0.7 0.262\n",
      "/pscratch/sd/j/joeschm/NSXTU_discharges/129015/r_0.850026_NE_top/MTM_limit/kymin_0.7/scanfiles0000 0.7 0.3\n",
      "/pscratch/sd/j/joeschm/NSXTU_discharges/129015/r_0.850026_NE_top/MTM_limit/kymin_0.7/scanfiles0000 0.7 0.226\n",
      "/pscratch/sd/j/joeschm/NSXTU_discharges/129015/r_0.850026_NE_top/MTM_limit/kymin_0.7/scanfiles0000 0.7 0.264\n",
      "/pscratch/sd/j/joeschm/NSXTU_discharges/129015/r_0.850026_NE_top/MTM_limit/kymin_0.7/scanfiles0000 0.7 0.302\n",
      "/pscratch/sd/j/joeschm/NSXTU_discharges/129015/r_0.850026_NE_top/MTM_limit/kymin_0.7/scanfiles0000 0.7 0.23\n",
      "/pscratch/sd/j/joeschm/NSXTU_discharges/129015/r_0.850026_NE_top/MTM_limit/kymin_0.7/scanfiles0000 0.7 0.268\n",
      "/pscratch/sd/j/joeschm/NSXTU_discharges/129015/r_0.850026_NE_top/MTM_limit/kymin_0.7/scanfiles0000 0.7 0.305\n",
      "/pscratch/sd/j/joeschm/NSXTU_discharges/129015/r_0.850026_NE_top/MTM_limit/kymin_0.7/scanfiles0000 0.7 0.232\n",
      "/pscratch/sd/j/joeschm/NSXTU_discharges/129015/r_0.850026_NE_top/MTM_limit/kymin_0.7/scanfiles0000 0.7 0.269\n",
      "/pscratch/sd/j/joeschm/NSXTU_discharges/129015/r_0.850026_NE_top/MTM_limit/kymin_0.7/scanfiles0000 0.7 0.307\n",
      "/pscratch/sd/j/joeschm/NSXTU_discharges/129015/r_0.850026_NE_top/MTM_limit/kymin_0.7/scanfiles0000 0.7 0.233\n",
      "/pscratch/sd/j/joeschm/NSXTU_discharges/129015/r_0.850026_NE_top/MTM_limit/kymin_0.7/scanfiles0000 0.7 0.272\n",
      "/pscratch/sd/j/joeschm/NSXTU_discharges/129015/r_0.850026_NE_top/MTM_limit/kymin_0.7/scanfiles0000 0.7 0.31\n",
      "/pscratch/sd/j/joeschm/NSXTU_discharges/129015/r_0.850026_NE_top/MTM_limit/kymin_1/scanfiles0000 1.0 0.398\n",
      "/pscratch/sd/j/joeschm/NSXTU_discharges/129015/r_0.850026_NE_top/MTM_limit/kymin_1/scanfiles0000 1.0 0.457\n",
      "/pscratch/sd/j/joeschm/NSXTU_discharges/129015/r_0.850026_NE_top/MTM_limit/kymin_1/scanfiles0000 1.0 0.514\n",
      "/pscratch/sd/j/joeschm/NSXTU_discharges/129015/r_0.850026_NE_top/MTM_limit/kymin_1/scanfiles0000 1.0 0.402\n",
      "/pscratch/sd/j/joeschm/NSXTU_discharges/129015/r_0.850026_NE_top/MTM_limit/kymin_1/scanfiles0000 1.0 0.461\n",
      "/pscratch/sd/j/joeschm/NSXTU_discharges/129015/r_0.850026_NE_top/MTM_limit/kymin_1/scanfiles0000 1.0 0.518\n",
      "/pscratch/sd/j/joeschm/NSXTU_discharges/129015/r_0.850026_NE_top/MTM_limit/kymin_1/scanfiles0000 1.0 0.405\n",
      "/pscratch/sd/j/joeschm/NSXTU_discharges/129015/r_0.850026_NE_top/MTM_limit/kymin_1/scanfiles0000 1.0 0.465\n",
      "/pscratch/sd/j/joeschm/NSXTU_discharges/129015/r_0.850026_NE_top/MTM_limit/kymin_1/scanfiles0000 1.0 0.523\n",
      "/pscratch/sd/j/joeschm/NSXTU_discharges/129015/r_0.850026_NE_top/MTM_limit/kymin_1/scanfiles0000 1.0 0.412\n",
      "/pscratch/sd/j/joeschm/NSXTU_discharges/129015/r_0.850026_NE_top/MTM_limit/kymin_1/scanfiles0000 1.0 0.47\n",
      "/pscratch/sd/j/joeschm/NSXTU_discharges/129015/r_0.850026_NE_top/MTM_limit/kymin_1/scanfiles0000 1.0 0.527\n",
      "/pscratch/sd/j/joeschm/NSXTU_discharges/129015/r_0.850026_NE_top/MTM_limit/kymin_1/scanfiles0000 1.0 0.416\n",
      "/pscratch/sd/j/joeschm/NSXTU_discharges/129015/r_0.850026_NE_top/MTM_limit/kymin_1/scanfiles0000 1.0 0.474\n",
      "/pscratch/sd/j/joeschm/NSXTU_discharges/129015/r_0.850026_NE_top/MTM_limit/kymin_1/scanfiles0000 1.0 0.531\n",
      "/pscratch/sd/j/joeschm/NSXTU_discharges/129015/r_0.850026_NE_top/MTM_limit/kymin_1/scanfiles0000 1.0 0.419\n",
      "/pscratch/sd/j/joeschm/NSXTU_discharges/129015/r_0.850026_NE_top/MTM_limit/kymin_1/scanfiles0000 1.0 0.478\n",
      "/pscratch/sd/j/joeschm/NSXTU_discharges/129015/r_0.850026_NE_top/MTM_limit/kymin_1/scanfiles0000 1.0 0.535\n",
      "/pscratch/sd/j/joeschm/NSXTU_discharges/129015/r_0.850026_NE_top/MTM_limit/kymin_1/scanfiles0000 1.0 0.424\n",
      "/pscratch/sd/j/joeschm/NSXTU_discharges/129015/r_0.850026_NE_top/MTM_limit/kymin_1/scanfiles0000 1.0 0.482\n",
      "/pscratch/sd/j/joeschm/NSXTU_discharges/129015/r_0.850026_NE_top/MTM_limit/kymin_1/scanfiles0000 1.0 0.538\n",
      "/pscratch/sd/j/joeschm/NSXTU_discharges/129015/r_0.850026_NE_top/MTM_limit/kymin_1/scanfiles0000 1.0 0.428\n",
      "/pscratch/sd/j/joeschm/NSXTU_discharges/129015/r_0.850026_NE_top/MTM_limit/kymin_1/scanfiles0000 1.0 0.486\n",
      "/pscratch/sd/j/joeschm/NSXTU_discharges/129015/r_0.850026_NE_top/MTM_limit/kymin_1/scanfiles0000 1.0 0.543\n",
      "/pscratch/sd/j/joeschm/NSXTU_discharges/129015/r_0.850026_NE_top/MTM_limit/kymin_1/scanfiles0000 1.0 0.431\n",
      "/pscratch/sd/j/joeschm/NSXTU_discharges/129015/r_0.850026_NE_top/MTM_limit/kymin_1/scanfiles0000 1.0 0.49\n",
      "/pscratch/sd/j/joeschm/NSXTU_discharges/129015/r_0.850026_NE_top/MTM_limit/kymin_1/scanfiles0000 1.0 0.547\n"
     ]
    }
   ],
   "source": [
    "filepath_list = ['/pscratch/sd/j/joeschm/NSXTU_discharges/129015/r_0.850026_NE_top/MTM_limit/kymin_0.1/scanfiles0000',\n",
    "                 '/pscratch/sd/j/joeschm/NSXTU_discharges/129015/r_0.850026_NE_top/MTM_limit']\n",
    "\n",
    "# filepath_list = '/pscratch/sd/j/joeschm/NSXTU_discharges/X_TEST/TEST_3spec_k1'\n",
    "\n",
    "\n",
    "# criteria_list = ['gamma(cs/a)<100', 'omega==2', 'kymin < 20']\n",
    "# criteria_list = ['kymin <= 1', 'gamma > 0.02', 'omega (kHz)']\n",
    "\n",
    "criteria_list = ['0.3 < kymin < 1.1', 'gamma']\n",
    "\n",
    "simulation_dict_list = filepath_to_simulation_dict_list(filepath_list, criteria_list=criteria_list, load_files = ['omega'])\n",
    "\n",
    "for simulation_dict in simulation_dict_list:\n",
    "    print(simulation_dict['filepath'], simulation_dict['omega_dict']['kymin'], simulation_dict['omega_dict']['gamma'])\n",
    "    \n",
    "    "
   ]
  },
  {
   "cell_type": "code",
   "execution_count": null,
   "id": "fd00ba9e-746e-4a1f-b46e-c1ea0b647ad1",
   "metadata": {},
   "outputs": [],
   "source": []
  },
  {
   "cell_type": "code",
   "execution_count": 3,
   "id": "39d278a4-867b-4143-a362-acc3d9fa67cf",
   "metadata": {
    "tags": []
   },
   "outputs": [],
   "source": [
    "# # filepath_list = ['/pscratch/sd/j/joeschm/NSXTU_discharges/129015/r_0.850026_NE_top/MTM_limit',\n",
    "# #                 '/pscratch/sd/j/joeschm/NSXTU_discharges/129015/r_0.850026_NE_top/MTM_limit/kymin_0.7/scanfiles0000',\n",
    "# #                 '/pscratch/sd/j/joeschm/NSXTU_discharges/129015/r_0.850026_NE_top/MTM_limit/kymin_0.1/scanfiles0000/parameters_0001']\n",
    "\n",
    "# # filepath_list = '/pscratch/sd/j/joeschm/NSXTU_discharges/129015/r_0.870001_PE_top/kymin_scan/scanfiles0001'\n",
    "# # filepath_list = '/pscratch/sd/j/joeschm/NSXTU_discharges/129015/r_0.870001_PE_top/kymin_scan/scanfiles0000'\n",
    "# # filepath_list = '/pscratch/sd/j/joeschm/NSXTU_discharges/129015/r_0.936008_OM_top/Non_linear_scans/ETG_scans_V4_base/parameters.dat'\n",
    "# # filepath_list = '/pscratch/sd/j/joeschm/NSXTU_discharges/129015/r_0.936008_OM_top/Non_linear_scans/ETG_scans_V4_base'\n",
    "\n",
    "# # filepath_list = '/pscratch/sd/j/joeschm/NSXTU_discharges/129015/r_0.850026_NE_top/MTM_limit/kymin_0.1'\n",
    "# filepath_list = '/pscratch/sd/j/joeschm/NSXTU_discharges/X_TEST'\n",
    "# # criteria_list = ['kymin > 5', 'beta', 'coll', 'omt1', 'omt2', 'omt3', 'Bref', 'Tref', 'nref', 'Lref', 'mref']\n",
    "# # criteria_list = 'kymin'\n",
    "\n",
    "                 \n"
   ]
  },
  {
   "cell_type": "code",
   "execution_count": null,
   "id": "44905c82-f30d-4324-b595-07a2f355285b",
   "metadata": {
    "tags": []
   },
   "outputs": [],
   "source": []
  },
  {
   "cell_type": "code",
   "execution_count": null,
   "id": "e716b33e-73fa-4764-8310-a5ebd68fca68",
   "metadata": {
    "tags": []
   },
   "outputs": [],
   "source": []
  },
  {
   "cell_type": "code",
   "execution_count": null,
   "id": "02910536-bb65-4564-ba05-117f4b765970",
   "metadata": {},
   "outputs": [],
   "source": []
  },
  {
   "cell_type": "code",
   "execution_count": null,
   "id": "e48c8a87-42e3-473d-95b5-8750f55de427",
   "metadata": {},
   "outputs": [],
   "source": []
  }
 ],
 "metadata": {
  "kernelspec": {
   "display_name": "NERSC Python",
   "language": "python",
   "name": "python3"
  },
  "language_info": {
   "codemirror_mode": {
    "name": "ipython",
    "version": 3
   },
   "file_extension": ".py",
   "mimetype": "text/x-python",
   "name": "python",
   "nbconvert_exporter": "python",
   "pygments_lexer": "ipython3",
   "version": "3.9.7"
  }
 },
 "nbformat": 4,
 "nbformat_minor": 5
}
