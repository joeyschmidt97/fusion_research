{
 "cells": [
  {
   "cell_type": "code",
   "execution_count": null,
   "id": "932e10f6-45be-482d-b041-3c0bb1bf5971",
   "metadata": {},
   "outputs": [],
   "source": [
    "import sys\n",
    "sys.path.append('/global/homes/j/joeschm/fusion_research/GENE_code')\n",
    "\n",
    "from GP_growth_rate import gamma_omega_plot"
   ]
  },
  {
   "cell_type": "code",
   "execution_count": null,
   "id": "6840d345-6804-4cd5-a9f1-8b96ae1aa368",
   "metadata": {},
   "outputs": [],
   "source": [
    "verbose = True"
   ]
  },
  {
   "cell_type": "markdown",
   "id": "af9d3fd9-deb3-4b92-880f-86c617f799f8",
   "metadata": {},
   "source": [
    "# ~~~~~~~~~~~~~~~~~ 129015 ~~~~~~~~~~~~~~~~~~~~~"
   ]
  },
  {
   "cell_type": "markdown",
   "id": "c71c2410-24b4-4c82-bd71-9f69a132c41f",
   "metadata": {},
   "source": [
    "## 129015 - NE"
   ]
  },
  {
   "cell_type": "code",
   "execution_count": null,
   "id": "ca133088-d5b6-473d-bd57-c7bcec115f79",
   "metadata": {},
   "outputs": [],
   "source": [
    "base_filepath = '/pscratch/sd/j/joeschm/NSXTU_discharges/129015/r_0.850026_NE_top'\n",
    "filepath1 = base_filepath + '/kymin_scan'\n",
    "\n",
    "print('\\n\\n~~~~~~~~~~~~~~~~~~~~~~~~~~~~~ 129015 NE - nz0 compare ~~~~~~~~~~~~~~~~~~~~~~~~~~~~~')\n",
    "filepath2 = base_filepath +  '/kymin_scan_nz0_256'\n",
    "filepath3 = base_filepath +  '/kymin_scan_nz0_64'\n",
    "filepath_list = [filepath1, filepath2, filepath3]\n",
    "gamma_omega_plot(filepath_list, label_key='nz0', verbose = verbose)\n",
    "\n",
    "print('\\n\\n~~~~~~~~~~~~~~~~~~~~~~~~~~~~~ 129015 NE - nx0 compare ~~~~~~~~~~~~~~~~~~~~~~~~~~~~~')\n",
    "filepath2 = base_filepath +  '/kymin_scan_nx0_10'\n",
    "filepath_list = [filepath1, filepath2]\n",
    "gamma_omega_plot(filepath_list, label_key='nx0', verbose = verbose)\n",
    "\n",
    "print('\\n\\n~~~~~~~~~~~~~~~~~~~~~~~~~~~~~ 129015 NE - nv0 compare ~~~~~~~~~~~~~~~~~~~~~~~~~~~~~')\n",
    "filepath2 = base_filepath +  '/kymin_scan_nv0_72'\n",
    "filepath_list = [filepath1, filepath2]\n",
    "gamma_omega_plot(filepath_list, label_key='nv0', verbose = verbose)"
   ]
  },
  {
   "cell_type": "markdown",
   "id": "ff0ca9e9-5f2a-41ed-a81e-a8bb7e770ddd",
   "metadata": {},
   "source": [
    "## 129015 - PE"
   ]
  },
  {
   "cell_type": "code",
   "execution_count": null,
   "id": "940dfaa8-e044-41f2-9e2b-bf21212fe8fb",
   "metadata": {},
   "outputs": [],
   "source": [
    "base_filepath = '/pscratch/sd/j/joeschm/NSXTU_discharges/129015/r_0.870001_PE_top'\n",
    "filepath1 = base_filepath + '/kymin_scan'\n",
    "\n",
    "print('\\n\\n~~~~~~~~~~~~~~~~~~~~~~~~~~~~~ 129015 PE - nz0 compare ~~~~~~~~~~~~~~~~~~~~~~~~~~~~~')\n",
    "filepath2 = base_filepath +  '/kymin_scan_nz0_256'\n",
    "filepath3 = base_filepath +  '/kymin_scan_nz0_64'\n",
    "filepath_list = [filepath1, filepath2, filepath3]\n",
    "gamma_omega_plot(filepath_list, label_key='nz0', verbose = verbose)\n",
    "\n",
    "print('\\n\\n~~~~~~~~~~~~~~~~~~~~~~~~~~~~~ 129015 PE - nx0 compare ~~~~~~~~~~~~~~~~~~~~~~~~~~~~~')\n",
    "filepath2 = base_filepath +  '/kymin_scan_nx0_14'\n",
    "filepath_list = [filepath1, filepath2]\n",
    "gamma_omega_plot(filepath_list, label_key='nx0', verbose = verbose)\n",
    "\n",
    "print('\\n\\n~~~~~~~~~~~~~~~~~~~~~~~~~~~~~ 129015 PE - nv0 compare ~~~~~~~~~~~~~~~~~~~~~~~~~~~~~')\n",
    "filepath2 = base_filepath +  '/kymin_scan_nv0_72'\n",
    "filepath_list = [filepath1, filepath2]\n",
    "gamma_omega_plot(filepath_list, label_key='nv0', verbose = verbose)"
   ]
  },
  {
   "cell_type": "markdown",
   "id": "ed447ee3-2905-4f6d-acdc-d7bb0b9e8f9f",
   "metadata": {},
   "source": [
    "## 129015 - OM"
   ]
  },
  {
   "cell_type": "code",
   "execution_count": null,
   "id": "c2e7a7ae-48d0-4604-8a7c-b915d04b6079",
   "metadata": {},
   "outputs": [],
   "source": [
    "base_filepath = '/pscratch/sd/j/joeschm/NSXTU_discharges/129015/r_0.936008_OM_top'\n",
    "filepath1 = base_filepath + '/kymin_scan'\n",
    "\n",
    "print('\\n\\n~~~~~~~~~~~~~~~~~~~~~~~~~~~~~ 129015 OM - nz0 compare ~~~~~~~~~~~~~~~~~~~~~~~~~~~~~')\n",
    "filepath2 = base_filepath +  '/kymin_scan_nz0_256'\n",
    "filepath3 = base_filepath +  '/kymin_scan_nz0_64'\n",
    "filepath_list = [filepath1, filepath2, filepath3]\n",
    "gamma_omega_plot(filepath_list, label_key='nz0', verbose = verbose)\n",
    "\n",
    "print('\\n\\n~~~~~~~~~~~~~~~~~~~~~~~~~~~~~ 129015 OM - nx0 compare ~~~~~~~~~~~~~~~~~~~~~~~~~~~~~')\n",
    "filepath2 = base_filepath +  '/kymin_scan_nx0_14'\n",
    "filepath_list = [filepath1, filepath2]\n",
    "gamma_omega_plot(filepath_list, label_key='nx0', verbose = verbose)\n",
    "\n",
    "print('\\n\\n~~~~~~~~~~~~~~~~~~~~~~~~~~~~~ 129015 OM - nv0 compare ~~~~~~~~~~~~~~~~~~~~~~~~~~~~~')\n",
    "filepath2 = base_filepath +  '/kymin_scan_nv0_72'\n",
    "filepath_list = [filepath1, filepath2]\n",
    "gamma_omega_plot(filepath_list, label_key='nv0', verbose = verbose)"
   ]
  },
  {
   "cell_type": "markdown",
   "id": "23cdf37a-0798-43bc-a33f-cc39781688c5",
   "metadata": {},
   "source": [
    "# ~~~~~~~~~~~~~~~~~ 129038 ~~~~~~~~~~~~~~~~~~~~~"
   ]
  },
  {
   "cell_type": "markdown",
   "id": "122ddc83-8b27-4df0-a335-fc4f775353c7",
   "metadata": {},
   "source": [
    "## 129038 - PE"
   ]
  },
  {
   "cell_type": "code",
   "execution_count": null,
   "id": "8ed77d8e-8316-4009-8da0-0747f71e2634",
   "metadata": {},
   "outputs": [],
   "source": [
    "base_filepath = '/pscratch/sd/j/joeschm/NSXTU_discharges/129038/r_0.499925_PE_top'\n",
    "filepath1 = base_filepath + '/kymin_scan'\n",
    "\n",
    "print('\\n\\n~~~~~~~~~~~~~~~~~~~~~~~~~~~~~ 129038 PE - nz0 compare ~~~~~~~~~~~~~~~~~~~~~~~~~~~~~')\n",
    "filepath2 = base_filepath +  '/kymin_scan_nz0_256'\n",
    "filepath3 = base_filepath +  '/kymin_scan_nz0_64'\n",
    "filepath_list = [filepath1, filepath2, filepath3]\n",
    "gamma_omega_plot(filepath_list, label_key='nz0', verbose = verbose)\n",
    "\n",
    "print('\\n\\n~~~~~~~~~~~~~~~~~~~~~~~~~~~~~ 129038 PE - nx0 compare ~~~~~~~~~~~~~~~~~~~~~~~~~~~~~')\n",
    "filepath2 = base_filepath +  '/kymin_scan_nx0_14'\n",
    "filepath_list = [filepath1, filepath2]\n",
    "gamma_omega_plot(filepath_list, label_key='nx0', verbose = verbose)\n",
    "\n",
    "print('\\n\\n~~~~~~~~~~~~~~~~~~~~~~~~~~~~~ 129038 PE - nv0 compare ~~~~~~~~~~~~~~~~~~~~~~~~~~~~~')\n",
    "filepath2 = base_filepath +  '/kymin_scan_nv0_72'\n",
    "filepath_list = [filepath1, filepath2]\n",
    "gamma_omega_plot(filepath_list, label_key='nv0', verbose = verbose)"
   ]
  },
  {
   "cell_type": "markdown",
   "id": "30c9af47-b84c-4296-8c49-ea0938067e48",
   "metadata": {},
   "source": [
    "## 129038 - NE"
   ]
  },
  {
   "cell_type": "code",
   "execution_count": null,
   "id": "fd99a10a-47cf-4e50-9720-177cc43ecf80",
   "metadata": {},
   "outputs": [],
   "source": [
    "base_filepath = '/pscratch/sd/j/joeschm/NSXTU_discharges/129038/r_0.655012_NE_top'\n",
    "filepath1 = base_filepath + '/kymin_scan'\n",
    "\n",
    "print('\\n\\n~~~~~~~~~~~~~~~~~~~~~~~~~~~~~ 129038 NE - nz0 compare ~~~~~~~~~~~~~~~~~~~~~~~~~~~~~')\n",
    "filepath2 = base_filepath +  '/kymin_scan_nz0_256'\n",
    "filepath3 = base_filepath +  '/kymin_scan_nz0_64'\n",
    "filepath_list = [filepath1, filepath2, filepath3]\n",
    "gamma_omega_plot(filepath_list, label_key='nz0', verbose = verbose)\n",
    "\n",
    "print('\\n\\n~~~~~~~~~~~~~~~~~~~~~~~~~~~~~ 129038 NE - nx0 compare ~~~~~~~~~~~~~~~~~~~~~~~~~~~~~')\n",
    "filepath2 = base_filepath +  '/kymin_scan_nx0_14'\n",
    "filepath_list = [filepath1, filepath2]\n",
    "gamma_omega_plot(filepath_list, label_key='nx0', verbose = verbose)\n",
    "\n",
    "print('\\n\\n~~~~~~~~~~~~~~~~~~~~~~~~~~~~~ 129038 NE - nv0 compare ~~~~~~~~~~~~~~~~~~~~~~~~~~~~~')\n",
    "filepath2 = base_filepath +  '/kymin_scan_nv0_72'\n",
    "filepath_list = [filepath1, filepath2]\n",
    "gamma_omega_plot(filepath_list, label_key='nv0', verbose = verbose)"
   ]
  },
  {
   "cell_type": "markdown",
   "id": "a9bb00fc-e333-4676-83f9-fe98d9ffbed7",
   "metadata": {},
   "source": [
    "## 129038 - OM"
   ]
  },
  {
   "cell_type": "code",
   "execution_count": null,
   "id": "3a307f9d-c19c-446c-ba0d-2744990b8732",
   "metadata": {},
   "outputs": [],
   "source": [
    "base_filepath = '/pscratch/sd/j/joeschm/NSXTU_discharges/129038/r_0.909990_OM_top'\n",
    "filepath1 = base_filepath + '/kymin_scan'\n",
    "\n",
    "print('\\n\\n~~~~~~~~~~~~~~~~~~~~~~~~~~~~~ 129038 OM - nz0 compare ~~~~~~~~~~~~~~~~~~~~~~~~~~~~~')\n",
    "filepath2 = base_filepath +  '/kymin_scan_nz0_256'\n",
    "filepath3 = base_filepath +  '/kymin_scan_nz0_64'\n",
    "filepath_list = [filepath1, filepath2, filepath3]\n",
    "gamma_omega_plot(filepath_list, label_key='nz0', verbose = verbose)\n",
    "\n",
    "print('\\n\\n~~~~~~~~~~~~~~~~~~~~~~~~~~~~~ 129038 OM - nx0 compare ~~~~~~~~~~~~~~~~~~~~~~~~~~~~~')\n",
    "filepath2 = base_filepath +  '/kymin_scan_nx0_14'\n",
    "filepath_list = [filepath1, filepath2]\n",
    "gamma_omega_plot(filepath_list, label_key='nx0', verbose = verbose)\n",
    "\n",
    "print('\\n\\n~~~~~~~~~~~~~~~~~~~~~~~~~~~~~ 129038 OM - nv0 compare ~~~~~~~~~~~~~~~~~~~~~~~~~~~~~')\n",
    "filepath2 = base_filepath +  '/kymin_scan_nv0_72'\n",
    "filepath_list = [filepath1, filepath2]\n",
    "gamma_omega_plot(filepath_list, label_key='nv0', verbose = verbose)"
   ]
  }
 ],
 "metadata": {
  "kernelspec": {
   "display_name": "NERSC Python",
   "language": "python",
   "name": "python3"
  },
  "language_info": {
   "codemirror_mode": {
    "name": "ipython",
    "version": 3
   },
   "file_extension": ".py",
   "mimetype": "text/x-python",
   "name": "python",
   "nbconvert_exporter": "python",
   "pygments_lexer": "ipython3",
   "version": "3.9.7"
  }
 },
 "nbformat": 4,
 "nbformat_minor": 5
}
