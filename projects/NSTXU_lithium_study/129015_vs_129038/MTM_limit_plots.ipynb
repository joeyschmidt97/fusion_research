{
 "cells": [
  {
   "cell_type": "code",
   "execution_count": 1,
   "id": "88b5fbfc-6f6a-4831-87e7-d8cd910cfb51",
   "metadata": {},
   "outputs": [
    {
     "ename": "ModuleNotFoundError",
     "evalue": "No module named 'scipy'",
     "output_type": "error",
     "traceback": [
      "\u001b[0;31m---------------------------------------------------------------------------\u001b[0m",
      "\u001b[0;31mModuleNotFoundError\u001b[0m                       Traceback (most recent call last)",
      "Cell \u001b[0;32mIn[1], line 3\u001b[0m\n\u001b[1;32m      1\u001b[0m \u001b[38;5;28;01mimport\u001b[39;00m \u001b[38;5;21;01msys\u001b[39;00m\n\u001b[1;32m      2\u001b[0m sys\u001b[38;5;241m.\u001b[39mpath\u001b[38;5;241m.\u001b[39minsert(\u001b[38;5;241m1\u001b[39m, \u001b[38;5;124m'\u001b[39m\u001b[38;5;124m/global/homes/j/joeschm/fusion_research/GENE_code_V3/Instability_analysis\u001b[39m\u001b[38;5;124m'\u001b[39m)\n\u001b[0;32m----> 3\u001b[0m \u001b[38;5;28;01mfrom\u001b[39;00m \u001b[38;5;21;01mMTM_analysis\u001b[39;00m \u001b[38;5;28;01mimport\u001b[39;00m MTM_plots\n",
      "File \u001b[0;32m~/fusion_research/GENE_code_V3/Instability_analysis/MTM_analysis.py:8\u001b[0m\n\u001b[1;32m      5\u001b[0m \u001b[38;5;28;01mimport\u001b[39;00m \u001b[38;5;21;01mmatplotlib\u001b[39;00m\u001b[38;5;21;01m.\u001b[39;00m\u001b[38;5;21;01mpyplot\u001b[39;00m \u001b[38;5;28;01mas\u001b[39;00m \u001b[38;5;21;01mplt\u001b[39;00m\n\u001b[1;32m      6\u001b[0m \u001b[38;5;28;01mfrom\u001b[39;00m \u001b[38;5;21;01mmatplotlib\u001b[39;00m\u001b[38;5;21;01m.\u001b[39;00m\u001b[38;5;21;01mcolors\u001b[39;00m \u001b[38;5;28;01mimport\u001b[39;00m Normalize\n\u001b[0;32m----> 8\u001b[0m \u001b[38;5;28;01mfrom\u001b[39;00m \u001b[38;5;21;01mMTM_data\u001b[39;00m \u001b[38;5;28;01mimport\u001b[39;00m extract_data_points, dist_3D_from_reference_point\n\u001b[1;32m      9\u001b[0m sys\u001b[38;5;241m.\u001b[39mpath\u001b[38;5;241m.\u001b[39minsert(\u001b[38;5;241m1\u001b[39m, \u001b[38;5;124m'\u001b[39m\u001b[38;5;124m/global/u1/j/joeschm/fusion_research/GENE_code_V3\u001b[39m\u001b[38;5;124m'\u001b[39m)\n\u001b[1;32m     10\u001b[0m \u001b[38;5;28;01mfrom\u001b[39;00m \u001b[38;5;21;01mGP_simulation_data_V3\u001b[39;00m \u001b[38;5;28;01mimport\u001b[39;00m filepath_to_simulation_dict_list\n",
      "File \u001b[0;32m~/fusion_research/GENE_code_V3/Instability_analysis/MTM_data.py:6\u001b[0m\n\u001b[1;32m      4\u001b[0m \u001b[38;5;28;01mimport\u001b[39;00m \u001b[38;5;21;01msys\u001b[39;00m\n\u001b[1;32m      5\u001b[0m sys\u001b[38;5;241m.\u001b[39mpath\u001b[38;5;241m.\u001b[39minsert(\u001b[38;5;241m1\u001b[39m, \u001b[38;5;124m'\u001b[39m\u001b[38;5;124m/global/u1/j/joeschm/fusion_research/GENE_code_V3\u001b[39m\u001b[38;5;124m'\u001b[39m)\n\u001b[0;32m----> 6\u001b[0m \u001b[38;5;28;01mfrom\u001b[39;00m \u001b[38;5;21;01mGP_simulation_data_V3\u001b[39;00m \u001b[38;5;28;01mimport\u001b[39;00m species_value_from_simulation, load_simulation_filepath\n\u001b[1;32m      7\u001b[0m \u001b[38;5;28;01mfrom\u001b[39;00m \u001b[38;5;21;01mGP_parameter_data_V3\u001b[39;00m \u001b[38;5;28;01mimport\u001b[39;00m parameter_filepath_to_dict\n\u001b[1;32m      8\u001b[0m \u001b[38;5;28;01mfrom\u001b[39;00m \u001b[38;5;21;01mGP_nrg_data_V3\u001b[39;00m \u001b[38;5;28;01mimport\u001b[39;00m nrg_filepath_to_dict\n",
      "File \u001b[0;32m/global/u1/j/joeschm/fusion_research/GENE_code_V3/GP_simulation_data_V3.py:7\u001b[0m\n\u001b[1;32m      4\u001b[0m \u001b[38;5;28;01mfrom\u001b[39;00m \u001b[38;5;21;01mGP_file_functions_V3\u001b[39;00m \u001b[38;5;28;01mimport\u001b[39;00m suffix_from_filename, file_check, string_to_list, find_filetype_files\n\u001b[1;32m      5\u001b[0m \u001b[38;5;28;01mfrom\u001b[39;00m \u001b[38;5;21;01mGP_criteria_functions_V3\u001b[39;00m \u001b[38;5;28;01mimport\u001b[39;00m criteria_parser, criteria_dict_checker\n\u001b[0;32m----> 7\u001b[0m \u001b[38;5;28;01mfrom\u001b[39;00m \u001b[38;5;21;01mGP_parameter_data_V3\u001b[39;00m \u001b[38;5;28;01mimport\u001b[39;00m parameter_filepath_to_dict\n\u001b[1;32m      8\u001b[0m \u001b[38;5;28;01mfrom\u001b[39;00m \u001b[38;5;21;01mGP_omega_data_V3\u001b[39;00m \u001b[38;5;28;01mimport\u001b[39;00m omega_filepath_to_dict\n\u001b[1;32m      9\u001b[0m \u001b[38;5;28;01mfrom\u001b[39;00m \u001b[38;5;21;01mGP_nrg_data_V3\u001b[39;00m \u001b[38;5;28;01mimport\u001b[39;00m nrg_filepath_to_dict\n",
      "File \u001b[0;32m/global/u1/j/joeschm/fusion_research/GENE_code_V3/GP_parameter_data_V3.py:7\u001b[0m\n\u001b[1;32m      5\u001b[0m \u001b[38;5;28;01mfrom\u001b[39;00m \u001b[38;5;21;01mGP_file_functions_V3\u001b[39;00m \u001b[38;5;28;01mimport\u001b[39;00m file_check, suffix_from_filename, string_to_list, find_filetype_files\n\u001b[1;32m      6\u001b[0m sys\u001b[38;5;241m.\u001b[39mpath\u001b[38;5;241m.\u001b[39mappend(\u001b[38;5;124m'\u001b[39m\u001b[38;5;124m/global/homes/j/joeschm/ifs_scripts\u001b[39m\u001b[38;5;124m'\u001b[39m)\n\u001b[0;32m----> 7\u001b[0m \u001b[38;5;28;01mfrom\u001b[39;00m \u001b[38;5;21;01mgenetools\u001b[39;00m \u001b[38;5;28;01mimport\u001b[39;00m Parameters\n\u001b[1;32m      9\u001b[0m \u001b[38;5;66;03m#------------------------------------------------------------------------------------------------\u001b[39;00m\n\u001b[1;32m     10\u001b[0m \u001b[38;5;66;03m# BASE FUNCTION TO CONVERT PARAMETER TO DICT-----------------------------------------------------\u001b[39;00m\n\u001b[1;32m     11\u001b[0m \u001b[38;5;66;03m#------------------------------------------------------------------------------------------------\u001b[39;00m\n\u001b[1;32m     13\u001b[0m \u001b[38;5;28;01mdef\u001b[39;00m \u001b[38;5;21mparameter_filepath_to_dict\u001b[39m(parameter_filepath:\u001b[38;5;28mstr\u001b[39m):\n",
      "File \u001b[0;32m~/ifs_scripts/genetools.py:10\u001b[0m\n\u001b[1;32m      7\u001b[0m \u001b[38;5;28;01mimport\u001b[39;00m \u001b[38;5;21;01mmath\u001b[39;00m\n\u001b[1;32m      8\u001b[0m \u001b[38;5;28;01mimport\u001b[39;00m \u001b[38;5;21;01mnumpy\u001b[39;00m \u001b[38;5;28;01mas\u001b[39;00m \u001b[38;5;21;01mnpy\u001b[39;00m\n\u001b[0;32m---> 10\u001b[0m \u001b[38;5;28;01mimport\u001b[39;00m \u001b[38;5;21;01mefittools\u001b[39;00m\n\u001b[1;32m     11\u001b[0m \u001b[38;5;28;01mimport\u001b[39;00m \u001b[38;5;21;01mread_iterdb\u001b[39;00m\n\u001b[1;32m     13\u001b[0m \u001b[38;5;28;01mfrom\u001b[39;00m \u001b[38;5;21;01mParIO\u001b[39;00m \u001b[38;5;28;01mimport\u001b[39;00m \u001b[38;5;241m*\u001b[39m\n",
      "File \u001b[0;32m~/ifs_scripts/efittools.py:13\u001b[0m\n\u001b[1;32m     10\u001b[0m \u001b[38;5;28;01mimport\u001b[39;00m \u001b[38;5;21;01mmatplotlib\u001b[39;00m\u001b[38;5;21;01m.\u001b[39;00m\u001b[38;5;21;01mpyplot\u001b[39;00m \u001b[38;5;28;01mas\u001b[39;00m \u001b[38;5;21;01mplt\u001b[39;00m\n\u001b[1;32m     11\u001b[0m \u001b[38;5;28;01mimport\u001b[39;00m \u001b[38;5;21;01mmatplotlib\u001b[39;00m\u001b[38;5;21;01m.\u001b[39;00m\u001b[38;5;21;01mbackends\u001b[39;00m\u001b[38;5;21;01m.\u001b[39;00m\u001b[38;5;21;01mbackend_pdf\u001b[39;00m \u001b[38;5;28;01mas\u001b[39;00m \u001b[38;5;21;01mpdfh\u001b[39;00m\n\u001b[0;32m---> 13\u001b[0m \u001b[38;5;28;01mfrom\u001b[39;00m \u001b[38;5;21;01mscipy\u001b[39;00m\u001b[38;5;21;01m.\u001b[39;00m\u001b[38;5;21;01mintegrate\u001b[39;00m \u001b[38;5;28;01mimport\u001b[39;00m simps\n\u001b[1;32m     14\u001b[0m \u001b[38;5;28;01mfrom\u001b[39;00m \u001b[38;5;21;01mscipy\u001b[39;00m\u001b[38;5;21;01m.\u001b[39;00m\u001b[38;5;21;01minterpolate\u001b[39;00m \u001b[38;5;28;01mimport\u001b[39;00m interp1d,interp2d\n\u001b[1;32m     15\u001b[0m \u001b[38;5;28;01mfrom\u001b[39;00m \u001b[38;5;21;01mscipy\u001b[39;00m\u001b[38;5;21;01m.\u001b[39;00m\u001b[38;5;21;01minterpolate\u001b[39;00m \u001b[38;5;28;01mimport\u001b[39;00m CubicSpline,RectBivariateSpline\n",
      "\u001b[0;31mModuleNotFoundError\u001b[0m: No module named 'scipy'"
     ]
    }
   ],
   "source": [
    "import sys\n",
    "sys.path.insert(1, '/global/homes/j/joeschm/fusion_research/GENE_code_V3/Instability_analysis')\n",
    "from MTM_analysis import MTM_plots"
   ]
  },
  {
   "cell_type": "code",
   "execution_count": null,
   "id": "f87e66ea-d4ec-45d2-9b33-b97c96c6a896",
   "metadata": {
    "tags": []
   },
   "outputs": [],
   "source": []
  },
  {
   "cell_type": "markdown",
   "id": "3bc147aa-2a54-4fd8-9a96-aa360295f34e",
   "metadata": {},
   "source": [
    "# 129015 - NE top (r=0.850026)"
   ]
  },
  {
   "cell_type": "code",
   "execution_count": null,
   "id": "50dd7598-a453-4e81-aa52-4bce7023c795",
   "metadata": {},
   "outputs": [],
   "source": [
    "filepath = '/pscratch/sd/j/joeschm/NSXTU_discharges/129015/r_0.850026_NE_top/MTM_limit'\n",
    "\n",
    "# MTM_plots(filepath, plot_type = '3D kymin', cutoff_value=1)\n",
    "# MTM_plots(filepath, plot_type = '3D', cutoff_value=1)\n",
    "\n",
    "\n",
    "# MTM_plots(filepath, plot_type = '3D kymin')\n",
    "# MTM_plots(filepath, plot_type = '3D')"
   ]
  },
  {
   "cell_type": "markdown",
   "id": "398825c4-35a4-4900-b88c-6c9386041efa",
   "metadata": {},
   "source": [
    "# 129015 - PE top (r=0.870001)"
   ]
  },
  {
   "cell_type": "code",
   "execution_count": null,
   "id": "bd51e97c-110f-408e-9406-0bd23825ffce",
   "metadata": {},
   "outputs": [],
   "source": [
    "filepath = '/pscratch/sd/j/joeschm/NSXTU_discharges/129015/r_0.870001_PE_top/MTM_limit'\n",
    "\n",
    "# MTM_plots(filepath, plot_type = '3D kymin', cutoff_value=1)\n",
    "# MTM_plots(filepath, plot_type = '3D', cutoff_value=1)\n",
    "\n",
    "\n",
    "# MTM_plots(filepath, plot_type = '3D kymin')\n",
    "# MTM_plots(filepath, plot_type = '3D')"
   ]
  },
  {
   "cell_type": "markdown",
   "id": "6fca71b9-fefb-4dca-90db-94ceef8ce7bd",
   "metadata": {},
   "source": [
    "# 129015 - OM (r=0.936008)"
   ]
  },
  {
   "cell_type": "code",
   "execution_count": null,
   "id": "8a4c4127-6b6a-4556-aac6-85c70344b1a9",
   "metadata": {},
   "outputs": [],
   "source": [
    "filepath = '/pscratch/sd/j/joeschm/NSXTU_discharges/129015/r_0.936008_OM_top/MTM_limit'\n",
    "\n",
    "MTM_plots(filepath, plot_type = '3D kymin', cutoff_value=1, write_data=False)\n",
    "MTM_plots(filepath, plot_type = '3D', cutoff_value=1)\n",
    "\n",
    "# MTM_plots(filepath, plot_type = '3D kymin', write_data=False)\n",
    "# MTM_plots(filepath, plot_type = '3D')"
   ]
  },
  {
   "cell_type": "markdown",
   "id": "ba3d7207-5736-4bcc-a9aa-5a6ca30d7ea8",
   "metadata": {},
   "source": [
    "# ~~~~~~~~~~~~~~~~~ 129038 ~~~~~~~~~~~~~~~~~~~~"
   ]
  },
  {
   "cell_type": "markdown",
   "id": "3e98a80d-fa7c-43e3-a3e8-6b27a7de9901",
   "metadata": {},
   "source": [
    "# 129038 - PE (r=0.499925)"
   ]
  },
  {
   "cell_type": "code",
   "execution_count": null,
   "id": "6125efca-8f4f-48a7-b7a5-31cec9adf80b",
   "metadata": {
    "tags": []
   },
   "outputs": [],
   "source": [
    "filepath = '/pscratch/sd/j/joeschm/NSXTU_discharges/129038/r_0.499925_PE_top/MTM_limit'\n",
    "\n",
    "MTM_plots(filepath, plot_type = '3D kymin', cutoff_value=1, write_data=False)\n",
    "MTM_plots(filepath, plot_type = '3D', cutoff_value=1)\n",
    "\n",
    "MTM_plots(filepath, plot_type = '3D kymin', write_data=False)\n",
    "MTM_plots(filepath, plot_type = '3D')"
   ]
  },
  {
   "cell_type": "markdown",
   "id": "d1e91106-2980-4e85-9801-796532131ad2",
   "metadata": {},
   "source": [
    "# 129038 - NE (r=0.655012)"
   ]
  },
  {
   "cell_type": "code",
   "execution_count": null,
   "id": "8d3779ec-07c2-4ee3-b77a-aa26c6e6c0b1",
   "metadata": {
    "tags": []
   },
   "outputs": [],
   "source": [
    "filepath = '/pscratch/sd/j/joeschm/NSXTU_discharges/129038/r_0.655012_NE_top/MTM_limit'\n",
    "\n",
    "# MTM_plots(filepath, plot_type = '3D kymin', cutoff_value=1)\n",
    "# MTM_plots(filepath, plot_type = '3D', cutoff_value=1)\n",
    "\n",
    "# MTM_plots(filepath, plot_type = '3D kymin')\n",
    "# MTM_plots(filepath, plot_type = '3D')"
   ]
  },
  {
   "cell_type": "markdown",
   "id": "4d5e53ce-3e3f-4d68-84d2-76070662174d",
   "metadata": {},
   "source": [
    "# 129038 - OM (r=0.909990)"
   ]
  },
  {
   "cell_type": "code",
   "execution_count": null,
   "id": "2264384b-b106-46a4-b768-6c585c02a269",
   "metadata": {
    "tags": []
   },
   "outputs": [],
   "source": [
    "filepath = '/pscratch/sd/j/joeschm/NSXTU_discharges/129038/r_0.909990_OM_top/MTM_limit'\n",
    "\n",
    "MTM_plots(filepath, plot_type = '3D kymin', cutoff_value=1, write_data=False)\n",
    "MTM_plots(filepath, plot_type = '3D', cutoff_value=1)\n",
    "\n",
    "# MTM_plots(filepath, plot_type = '3D kymin', write_data=True)\n",
    "# MTM_plots(filepath, plot_type = '3D')"
   ]
  },
  {
   "cell_type": "code",
   "execution_count": null,
   "id": "1c925ff6-d360-4512-9b79-8d3f996f3062",
   "metadata": {},
   "outputs": [],
   "source": []
  }
 ],
 "metadata": {
  "kernelspec": {
   "display_name": "NERSC Python",
   "language": "python",
   "name": "python3"
  },
  "language_info": {
   "codemirror_mode": {
    "name": "ipython",
    "version": 3
   },
   "file_extension": ".py",
   "mimetype": "text/x-python",
   "name": "python",
   "nbconvert_exporter": "python",
   "pygments_lexer": "ipython3",
   "version": "3.11.6"
  }
 },
 "nbformat": 4,
 "nbformat_minor": 5
}
