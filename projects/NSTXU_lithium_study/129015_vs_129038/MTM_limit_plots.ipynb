{
 "cells": [
  {
   "cell_type": "code",
   "execution_count": 1,
   "id": "88b5fbfc-6f6a-4831-87e7-d8cd910cfb51",
   "metadata": {},
   "outputs": [],
   "source": [
    "import sys\n",
    "sys.path.insert(1, '/global/homes/j/joeschm/fusion_research/GENE_code_V3/Instability_analysis')\n",
    "from MTM_analysis import collect_kymin_list"
   ]
  },
  {
   "cell_type": "code",
   "execution_count": 4,
   "id": "f71e0a09-ed51-4132-8edf-ece3f1b631f7",
   "metadata": {},
   "outputs": [
    {
     "name": "stdout",
     "output_type": "stream",
     "text": [
      "[0.1, 0.4, 0.7, 1.0, 1.5, 2.0]\n"
     ]
    }
   ],
   "source": [
    "filepath_list = '/pscratch/sd/j/joeschm/NSXTU_discharges/129015/r_0.850026_NE_top/MTM_limit'\n",
    "criteria_list = []\n",
    "\n",
    "kymin_list = collect_kymin_list(filepath_list)\n",
    "\n",
    "print(kymin_list)"
   ]
  },
  {
   "cell_type": "code",
   "execution_count": null,
   "id": "8a4c4127-6b6a-4556-aac6-85c70344b1a9",
   "metadata": {},
   "outputs": [],
   "source": []
  },
  {
   "cell_type": "code",
   "execution_count": null,
   "id": "bd51e97c-110f-408e-9406-0bd23825ffce",
   "metadata": {},
   "outputs": [],
   "source": []
  },
  {
   "cell_type": "code",
   "execution_count": null,
   "id": "9d242d7f-bd9d-45b7-9304-f9616f3a2d05",
   "metadata": {},
   "outputs": [],
   "source": []
  },
  {
   "cell_type": "code",
   "execution_count": null,
   "id": "5f3c9d1f-9f90-4dbe-b9a1-22ce2e07ada8",
   "metadata": {},
   "outputs": [],
   "source": []
  },
  {
   "cell_type": "code",
   "execution_count": null,
   "id": "ad27062b-bf81-4a2b-8bd5-a866c9fc312d",
   "metadata": {},
   "outputs": [],
   "source": [
    "# import sys\n",
    "# sys.path.append('/global/homes/j/joeschm/fusion_research/GENE_code')\n",
    "\n",
    "# from GP_MTM_compare import print_data_points, MTM_color_plot, ref_values\n",
    "# from GP_param_data import print_parameter"
   ]
  },
  {
   "cell_type": "code",
   "execution_count": null,
   "id": "ed4785b2-8fc8-47e2-ba28-3f9d0be63194",
   "metadata": {},
   "outputs": [],
   "source": []
  },
  {
   "cell_type": "markdown",
   "id": "ede49406-08e0-4155-8897-94d7f210c5c5",
   "metadata": {},
   "source": [
    "# 129015"
   ]
  },
  {
   "cell_type": "code",
   "execution_count": null,
   "id": "6705d6d5-304e-4b22-98cc-7923a1c73ba2",
   "metadata": {},
   "outputs": [],
   "source": [
    "# filepath = '/pscratch/sd/j/joeschm/NSXTU_discharges/129015/r_0.850026_NE_top/MTM_limit/kymin_0.1'\n",
    "# MTM_color_plot(filepath)"
   ]
  },
  {
   "cell_type": "code",
   "execution_count": null,
   "id": "96af0919-4a21-4c9f-b388-6061f987d9e5",
   "metadata": {},
   "outputs": [],
   "source": [
    "# filepath = '/pscratch/sd/j/joeschm/NSXTU_discharges/129015/r_0.870001_PE_top/KBM_limit'\n",
    "# KBM_color_plot(filepath)"
   ]
  },
  {
   "cell_type": "code",
   "execution_count": null,
   "id": "dfe589f1-a33a-4195-b294-96d0761ebd5c",
   "metadata": {},
   "outputs": [],
   "source": [
    "# filepath = '/pscratch/sd/j/joeschm/NSXTU_discharges/129015/r_0.936008_OM_top/KBM_limit'\n",
    "# KBM_color_plot(filepath)"
   ]
  },
  {
   "cell_type": "markdown",
   "id": "c4e3998d-30f3-4558-941a-064f7a952b88",
   "metadata": {},
   "source": [
    "# 129038"
   ]
  },
  {
   "cell_type": "code",
   "execution_count": null,
   "id": "e67427bd-727a-4b2d-988b-7d5328233276",
   "metadata": {},
   "outputs": [],
   "source": [
    "# filepath = '/pscratch/sd/j/joeschm/NSXTU_discharges/129038/r_0.499925_PE_top/KBM_limit'\n",
    "# KBM_color_plot(filepath)"
   ]
  },
  {
   "cell_type": "code",
   "execution_count": null,
   "id": "50fd7489-bb50-4c50-a1e9-7cea4a457f02",
   "metadata": {},
   "outputs": [],
   "source": [
    "# filepath = '/pscratch/sd/j/joeschm/NSXTU_discharges/129038/r_0.655012_NE_top/KBM_limit'\n",
    "# KBM_color_plot(filepath)"
   ]
  },
  {
   "cell_type": "code",
   "execution_count": null,
   "id": "f7a53ba4-708e-4b3d-9ced-8849875d48dd",
   "metadata": {},
   "outputs": [],
   "source": [
    "# filepath = '/pscratch/sd/j/joeschm/NSXTU_discharges/129038/r_0.909990_OM_top/KBM_limit'\n",
    "# KBM_color_plot(filepath)"
   ]
  },
  {
   "cell_type": "code",
   "execution_count": null,
   "id": "de25cb82-5d0c-4e94-abcb-8eae94a1b2b8",
   "metadata": {},
   "outputs": [],
   "source": []
  }
 ],
 "metadata": {
  "kernelspec": {
   "display_name": "NERSC Python",
   "language": "python",
   "name": "python3"
  },
  "language_info": {
   "codemirror_mode": {
    "name": "ipython",
    "version": 3
   },
   "file_extension": ".py",
   "mimetype": "text/x-python",
   "name": "python",
   "nbconvert_exporter": "python",
   "pygments_lexer": "ipython3",
   "version": "3.9.7"
  }
 },
 "nbformat": 4,
 "nbformat_minor": 5
}
